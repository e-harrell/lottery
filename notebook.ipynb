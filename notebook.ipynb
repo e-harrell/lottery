{
 "cells": [
  {
   "cell_type": "markdown",
   "id": "82bf5471-1867-49a7-9e98-f60bf09cefbc",
   "metadata": {},
   "source": [
    "### Mega Millions Jackpot Project\n",
    "#### by Erika Harrell\n",
    "#### A project exploring data downloaded from data.gov on the winning numbers from the Mega Millions Jackpot in the New York State Lottery drawn between May 2002 and May 2025."
   ]
  },
  {
   "cell_type": "code",
   "execution_count": 1,
   "id": "ab8f1627-f7d1-44c8-9c38-949e80c16f00",
   "metadata": {},
   "outputs": [],
   "source": [
    "#apply packages\n",
    "import pandas as pd\n",
    "import numpy as np\n",
    "import matplotlib.pyplot as plt\n",
    "import statistics\n",
    "import plotly.express as px\n",
    "from IPython.core.interactiveshell import InteractiveShell\n",
    "from mpl_toolkits.mplot3d import Axes3D\n",
    "import plotly.graph_objects as go"
   ]
  },
  {
   "cell_type": "code",
   "execution_count": 2,
   "id": "c6cb1e50",
   "metadata": {},
   "outputs": [],
   "source": [
    "#make cells show all output \n",
    "InteractiveShell.ast_node_interactivity = \"all\""
   ]
  },
  {
   "cell_type": "code",
   "execution_count": 3,
   "id": "d536ec74-8914-4fa9-b28d-35218274faa5",
   "metadata": {},
   "outputs": [],
   "source": [
    "#read in data\n",
    "df = pd.read_csv('nylottery.csv')"
   ]
  },
  {
   "cell_type": "code",
   "execution_count": 4,
   "id": "b41d835c-c851-4451-8ed2-1af1ba2e584d",
   "metadata": {},
   "outputs": [
    {
     "data": {
      "text/html": [
       "<div>\n",
       "<style scoped>\n",
       "    .dataframe tbody tr th:only-of-type {\n",
       "        vertical-align: middle;\n",
       "    }\n",
       "\n",
       "    .dataframe tbody tr th {\n",
       "        vertical-align: top;\n",
       "    }\n",
       "\n",
       "    .dataframe thead th {\n",
       "        text-align: right;\n",
       "    }\n",
       "</style>\n",
       "<table border=\"1\" class=\"dataframe\">\n",
       "  <thead>\n",
       "    <tr style=\"text-align: right;\">\n",
       "      <th></th>\n",
       "      <th>Draw Date</th>\n",
       "      <th>Winning Numbers</th>\n",
       "      <th>Mega Ball</th>\n",
       "      <th>Multiplier</th>\n",
       "    </tr>\n",
       "  </thead>\n",
       "  <tbody>\n",
       "    <tr>\n",
       "      <th>0</th>\n",
       "      <td>09/25/2020</td>\n",
       "      <td>20 36 37 48 67</td>\n",
       "      <td>16</td>\n",
       "      <td>2.0</td>\n",
       "    </tr>\n",
       "    <tr>\n",
       "      <th>1</th>\n",
       "      <td>09/29/2020</td>\n",
       "      <td>14 39 43 44 67</td>\n",
       "      <td>19</td>\n",
       "      <td>3.0</td>\n",
       "    </tr>\n",
       "    <tr>\n",
       "      <th>2</th>\n",
       "      <td>10/02/2020</td>\n",
       "      <td>09 38 47 49 68</td>\n",
       "      <td>25</td>\n",
       "      <td>2.0</td>\n",
       "    </tr>\n",
       "    <tr>\n",
       "      <th>3</th>\n",
       "      <td>10/06/2020</td>\n",
       "      <td>15 16 18 39 59</td>\n",
       "      <td>17</td>\n",
       "      <td>3.0</td>\n",
       "    </tr>\n",
       "    <tr>\n",
       "      <th>4</th>\n",
       "      <td>10/09/2020</td>\n",
       "      <td>05 11 25 27 64</td>\n",
       "      <td>13</td>\n",
       "      <td>2.0</td>\n",
       "    </tr>\n",
       "  </tbody>\n",
       "</table>\n",
       "</div>"
      ],
      "text/plain": [
       "    Draw Date Winning Numbers  Mega Ball  Multiplier\n",
       "0  09/25/2020  20 36 37 48 67         16         2.0\n",
       "1  09/29/2020  14 39 43 44 67         19         3.0\n",
       "2  10/02/2020  09 38 47 49 68         25         2.0\n",
       "3  10/06/2020  15 16 18 39 59         17         3.0\n",
       "4  10/09/2020  05 11 25 27 64         13         2.0"
      ]
     },
     "execution_count": 4,
     "metadata": {},
     "output_type": "execute_result"
    }
   ],
   "source": [
    "#1st 5 rows of data\n",
    "df.head()"
   ]
  },
  {
   "cell_type": "code",
   "execution_count": 5,
   "id": "51a09ed6",
   "metadata": {},
   "outputs": [
    {
     "data": {
      "text/html": [
       "<div>\n",
       "<style scoped>\n",
       "    .dataframe tbody tr th:only-of-type {\n",
       "        vertical-align: middle;\n",
       "    }\n",
       "\n",
       "    .dataframe tbody tr th {\n",
       "        vertical-align: top;\n",
       "    }\n",
       "\n",
       "    .dataframe thead th {\n",
       "        text-align: right;\n",
       "    }\n",
       "</style>\n",
       "<table border=\"1\" class=\"dataframe\">\n",
       "  <thead>\n",
       "    <tr style=\"text-align: right;\">\n",
       "      <th></th>\n",
       "      <th>Draw Date</th>\n",
       "      <th>Winning Numbers</th>\n",
       "      <th>Mega Ball</th>\n",
       "      <th>Multiplier</th>\n",
       "    </tr>\n",
       "  </thead>\n",
       "  <tbody>\n",
       "    <tr>\n",
       "      <th>2397</th>\n",
       "      <td>05/16/2025</td>\n",
       "      <td>02 22 42 62 66</td>\n",
       "      <td>14</td>\n",
       "      <td>NaN</td>\n",
       "    </tr>\n",
       "    <tr>\n",
       "      <th>2398</th>\n",
       "      <td>05/20/2025</td>\n",
       "      <td>18 30 33 55 64</td>\n",
       "      <td>11</td>\n",
       "      <td>NaN</td>\n",
       "    </tr>\n",
       "    <tr>\n",
       "      <th>2399</th>\n",
       "      <td>05/23/2025</td>\n",
       "      <td>07 18 40 55 68</td>\n",
       "      <td>18</td>\n",
       "      <td>NaN</td>\n",
       "    </tr>\n",
       "    <tr>\n",
       "      <th>2400</th>\n",
       "      <td>05/27/2025</td>\n",
       "      <td>06 28 34 48 62</td>\n",
       "      <td>9</td>\n",
       "      <td>NaN</td>\n",
       "    </tr>\n",
       "    <tr>\n",
       "      <th>2401</th>\n",
       "      <td>05/30/2025</td>\n",
       "      <td>02 28 37 38 58</td>\n",
       "      <td>13</td>\n",
       "      <td>NaN</td>\n",
       "    </tr>\n",
       "  </tbody>\n",
       "</table>\n",
       "</div>"
      ],
      "text/plain": [
       "       Draw Date Winning Numbers  Mega Ball  Multiplier\n",
       "2397  05/16/2025  02 22 42 62 66         14         NaN\n",
       "2398  05/20/2025  18 30 33 55 64         11         NaN\n",
       "2399  05/23/2025  07 18 40 55 68         18         NaN\n",
       "2400  05/27/2025  06 28 34 48 62          9         NaN\n",
       "2401  05/30/2025  02 28 37 38 58         13         NaN"
      ]
     },
     "execution_count": 5,
     "metadata": {},
     "output_type": "execute_result"
    }
   ],
   "source": [
    "#last 5 rows of data frame\n",
    "df.tail()"
   ]
  },
  {
   "cell_type": "code",
   "execution_count": 6,
   "id": "34eac859-5cf9-4478-a039-1005a52f0efa",
   "metadata": {},
   "outputs": [
    {
     "name": "stdout",
     "output_type": "stream",
     "text": [
      "<class 'pandas.core.frame.DataFrame'>\n",
      "RangeIndex: 2402 entries, 0 to 2401\n",
      "Data columns (total 4 columns):\n",
      " #   Column           Non-Null Count  Dtype  \n",
      "---  ------           --------------  -----  \n",
      " 0   Draw Date        2402 non-null   object \n",
      " 1   Winning Numbers  2402 non-null   object \n",
      " 2   Mega Ball        2402 non-null   int64  \n",
      " 3   Multiplier       1483 non-null   float64\n",
      "dtypes: float64(1), int64(1), object(2)\n",
      "memory usage: 75.2+ KB\n"
     ]
    }
   ],
   "source": [
    "#information about dataframe\n",
    "df.info()"
   ]
  },
  {
   "cell_type": "code",
   "execution_count": 7,
   "id": "a4343f42-cc12-4945-a2c1-8c80e50b3df8",
   "metadata": {},
   "outputs": [],
   "source": [
    "#turn draw Date column into Date column with datetime format\n",
    "df['Date']=pd.to_datetime(df['Draw Date'])"
   ]
  },
  {
   "cell_type": "code",
   "execution_count": 8,
   "id": "d32856b1-6b00-45d3-a65d-13c95ac28afa",
   "metadata": {},
   "outputs": [],
   "source": [
    "#creating separate variables for each winning number\n",
    "df[['win_num_1', 'win_num_2', 'win_num_3','win_num_4', 'win_num_5']] = df['Winning Numbers'].str.split(expand=True)"
   ]
  },
  {
   "cell_type": "code",
   "execution_count": 9,
   "id": "f3c8573e-62dd-49bc-a44a-54ebb0f01bf3",
   "metadata": {},
   "outputs": [],
   "source": [
    "#get the day of the week, month and year from the Date variable\n",
    "df['Day of the week']=df['Date'].dt.day_name()\n",
    "df['Month']=df['Date'].dt.month_name()\n",
    "df['Year']=df['Date'].dt.year"
   ]
  },
  {
   "cell_type": "code",
   "execution_count": 10,
   "id": "7fef32a2-660c-4d02-9712-d6bacd5aac54",
   "metadata": {},
   "outputs": [],
   "source": [
    "#make the winning number columns numeric\n",
    "df['win_num_1']=pd.to_numeric(df['win_num_1'])\n",
    "df['win_num_2']=pd.to_numeric(df['win_num_2'])\n",
    "df['win_num_3']=pd.to_numeric(df['win_num_3'])\n",
    "df['win_num_4']=pd.to_numeric(df['win_num_4'])\n",
    "df['win_num_5']=pd.to_numeric(df['win_num_5'])"
   ]
  },
  {
   "cell_type": "code",
   "execution_count": 11,
   "id": "a021e52a",
   "metadata": {},
   "outputs": [
    {
     "data": {
      "text/html": [
       "<div>\n",
       "<style scoped>\n",
       "    .dataframe tbody tr th:only-of-type {\n",
       "        vertical-align: middle;\n",
       "    }\n",
       "\n",
       "    .dataframe tbody tr th {\n",
       "        vertical-align: top;\n",
       "    }\n",
       "\n",
       "    .dataframe thead th {\n",
       "        text-align: right;\n",
       "    }\n",
       "</style>\n",
       "<table border=\"1\" class=\"dataframe\">\n",
       "  <thead>\n",
       "    <tr style=\"text-align: right;\">\n",
       "      <th></th>\n",
       "      <th>Draw Date</th>\n",
       "      <th>Winning Numbers</th>\n",
       "      <th>Mega Ball</th>\n",
       "      <th>Multiplier</th>\n",
       "      <th>Date</th>\n",
       "      <th>win_num_1</th>\n",
       "      <th>win_num_2</th>\n",
       "      <th>win_num_3</th>\n",
       "      <th>win_num_4</th>\n",
       "      <th>win_num_5</th>\n",
       "      <th>Day of the week</th>\n",
       "      <th>Month</th>\n",
       "      <th>Year</th>\n",
       "    </tr>\n",
       "  </thead>\n",
       "  <tbody>\n",
       "    <tr>\n",
       "      <th>0</th>\n",
       "      <td>09/25/2020</td>\n",
       "      <td>20 36 37 48 67</td>\n",
       "      <td>16</td>\n",
       "      <td>2.0</td>\n",
       "      <td>2020-09-25</td>\n",
       "      <td>20</td>\n",
       "      <td>36</td>\n",
       "      <td>37</td>\n",
       "      <td>48</td>\n",
       "      <td>67</td>\n",
       "      <td>Friday</td>\n",
       "      <td>September</td>\n",
       "      <td>2020</td>\n",
       "    </tr>\n",
       "    <tr>\n",
       "      <th>1</th>\n",
       "      <td>09/29/2020</td>\n",
       "      <td>14 39 43 44 67</td>\n",
       "      <td>19</td>\n",
       "      <td>3.0</td>\n",
       "      <td>2020-09-29</td>\n",
       "      <td>14</td>\n",
       "      <td>39</td>\n",
       "      <td>43</td>\n",
       "      <td>44</td>\n",
       "      <td>67</td>\n",
       "      <td>Tuesday</td>\n",
       "      <td>September</td>\n",
       "      <td>2020</td>\n",
       "    </tr>\n",
       "    <tr>\n",
       "      <th>2</th>\n",
       "      <td>10/02/2020</td>\n",
       "      <td>09 38 47 49 68</td>\n",
       "      <td>25</td>\n",
       "      <td>2.0</td>\n",
       "      <td>2020-10-02</td>\n",
       "      <td>9</td>\n",
       "      <td>38</td>\n",
       "      <td>47</td>\n",
       "      <td>49</td>\n",
       "      <td>68</td>\n",
       "      <td>Friday</td>\n",
       "      <td>October</td>\n",
       "      <td>2020</td>\n",
       "    </tr>\n",
       "    <tr>\n",
       "      <th>3</th>\n",
       "      <td>10/06/2020</td>\n",
       "      <td>15 16 18 39 59</td>\n",
       "      <td>17</td>\n",
       "      <td>3.0</td>\n",
       "      <td>2020-10-06</td>\n",
       "      <td>15</td>\n",
       "      <td>16</td>\n",
       "      <td>18</td>\n",
       "      <td>39</td>\n",
       "      <td>59</td>\n",
       "      <td>Tuesday</td>\n",
       "      <td>October</td>\n",
       "      <td>2020</td>\n",
       "    </tr>\n",
       "    <tr>\n",
       "      <th>4</th>\n",
       "      <td>10/09/2020</td>\n",
       "      <td>05 11 25 27 64</td>\n",
       "      <td>13</td>\n",
       "      <td>2.0</td>\n",
       "      <td>2020-10-09</td>\n",
       "      <td>5</td>\n",
       "      <td>11</td>\n",
       "      <td>25</td>\n",
       "      <td>27</td>\n",
       "      <td>64</td>\n",
       "      <td>Friday</td>\n",
       "      <td>October</td>\n",
       "      <td>2020</td>\n",
       "    </tr>\n",
       "  </tbody>\n",
       "</table>\n",
       "</div>"
      ],
      "text/plain": [
       "    Draw Date Winning Numbers  Mega Ball  Multiplier       Date  win_num_1  \\\n",
       "0  09/25/2020  20 36 37 48 67         16         2.0 2020-09-25         20   \n",
       "1  09/29/2020  14 39 43 44 67         19         3.0 2020-09-29         14   \n",
       "2  10/02/2020  09 38 47 49 68         25         2.0 2020-10-02          9   \n",
       "3  10/06/2020  15 16 18 39 59         17         3.0 2020-10-06         15   \n",
       "4  10/09/2020  05 11 25 27 64         13         2.0 2020-10-09          5   \n",
       "\n",
       "   win_num_2  win_num_3  win_num_4  win_num_5 Day of the week      Month  Year  \n",
       "0         36         37         48         67          Friday  September  2020  \n",
       "1         39         43         44         67         Tuesday  September  2020  \n",
       "2         38         47         49         68          Friday    October  2020  \n",
       "3         16         18         39         59         Tuesday    October  2020  \n",
       "4         11         25         27         64          Friday    October  2020  "
      ]
     },
     "execution_count": 11,
     "metadata": {},
     "output_type": "execute_result"
    }
   ],
   "source": [
    "#check 1st five rows of dataframe\n",
    "df.head()"
   ]
  },
  {
   "cell_type": "code",
   "execution_count": 12,
   "id": "224c880e",
   "metadata": {},
   "outputs": [
    {
     "data": {
      "text/html": [
       "<div>\n",
       "<style scoped>\n",
       "    .dataframe tbody tr th:only-of-type {\n",
       "        vertical-align: middle;\n",
       "    }\n",
       "\n",
       "    .dataframe tbody tr th {\n",
       "        vertical-align: top;\n",
       "    }\n",
       "\n",
       "    .dataframe thead th {\n",
       "        text-align: right;\n",
       "    }\n",
       "</style>\n",
       "<table border=\"1\" class=\"dataframe\">\n",
       "  <thead>\n",
       "    <tr style=\"text-align: right;\">\n",
       "      <th></th>\n",
       "      <th>Draw Date</th>\n",
       "      <th>Winning Numbers</th>\n",
       "      <th>Mega Ball</th>\n",
       "      <th>Multiplier</th>\n",
       "      <th>Date</th>\n",
       "      <th>win_num_1</th>\n",
       "      <th>win_num_2</th>\n",
       "      <th>win_num_3</th>\n",
       "      <th>win_num_4</th>\n",
       "      <th>win_num_5</th>\n",
       "      <th>Day of the week</th>\n",
       "      <th>Month</th>\n",
       "      <th>Year</th>\n",
       "    </tr>\n",
       "  </thead>\n",
       "  <tbody>\n",
       "    <tr>\n",
       "      <th>2397</th>\n",
       "      <td>05/16/2025</td>\n",
       "      <td>02 22 42 62 66</td>\n",
       "      <td>14</td>\n",
       "      <td>NaN</td>\n",
       "      <td>2025-05-16</td>\n",
       "      <td>2</td>\n",
       "      <td>22</td>\n",
       "      <td>42</td>\n",
       "      <td>62</td>\n",
       "      <td>66</td>\n",
       "      <td>Friday</td>\n",
       "      <td>May</td>\n",
       "      <td>2025</td>\n",
       "    </tr>\n",
       "    <tr>\n",
       "      <th>2398</th>\n",
       "      <td>05/20/2025</td>\n",
       "      <td>18 30 33 55 64</td>\n",
       "      <td>11</td>\n",
       "      <td>NaN</td>\n",
       "      <td>2025-05-20</td>\n",
       "      <td>18</td>\n",
       "      <td>30</td>\n",
       "      <td>33</td>\n",
       "      <td>55</td>\n",
       "      <td>64</td>\n",
       "      <td>Tuesday</td>\n",
       "      <td>May</td>\n",
       "      <td>2025</td>\n",
       "    </tr>\n",
       "    <tr>\n",
       "      <th>2399</th>\n",
       "      <td>05/23/2025</td>\n",
       "      <td>07 18 40 55 68</td>\n",
       "      <td>18</td>\n",
       "      <td>NaN</td>\n",
       "      <td>2025-05-23</td>\n",
       "      <td>7</td>\n",
       "      <td>18</td>\n",
       "      <td>40</td>\n",
       "      <td>55</td>\n",
       "      <td>68</td>\n",
       "      <td>Friday</td>\n",
       "      <td>May</td>\n",
       "      <td>2025</td>\n",
       "    </tr>\n",
       "    <tr>\n",
       "      <th>2400</th>\n",
       "      <td>05/27/2025</td>\n",
       "      <td>06 28 34 48 62</td>\n",
       "      <td>9</td>\n",
       "      <td>NaN</td>\n",
       "      <td>2025-05-27</td>\n",
       "      <td>6</td>\n",
       "      <td>28</td>\n",
       "      <td>34</td>\n",
       "      <td>48</td>\n",
       "      <td>62</td>\n",
       "      <td>Tuesday</td>\n",
       "      <td>May</td>\n",
       "      <td>2025</td>\n",
       "    </tr>\n",
       "    <tr>\n",
       "      <th>2401</th>\n",
       "      <td>05/30/2025</td>\n",
       "      <td>02 28 37 38 58</td>\n",
       "      <td>13</td>\n",
       "      <td>NaN</td>\n",
       "      <td>2025-05-30</td>\n",
       "      <td>2</td>\n",
       "      <td>28</td>\n",
       "      <td>37</td>\n",
       "      <td>38</td>\n",
       "      <td>58</td>\n",
       "      <td>Friday</td>\n",
       "      <td>May</td>\n",
       "      <td>2025</td>\n",
       "    </tr>\n",
       "  </tbody>\n",
       "</table>\n",
       "</div>"
      ],
      "text/plain": [
       "       Draw Date Winning Numbers  Mega Ball  Multiplier       Date  win_num_1  \\\n",
       "2397  05/16/2025  02 22 42 62 66         14         NaN 2025-05-16          2   \n",
       "2398  05/20/2025  18 30 33 55 64         11         NaN 2025-05-20         18   \n",
       "2399  05/23/2025  07 18 40 55 68         18         NaN 2025-05-23          7   \n",
       "2400  05/27/2025  06 28 34 48 62          9         NaN 2025-05-27          6   \n",
       "2401  05/30/2025  02 28 37 38 58         13         NaN 2025-05-30          2   \n",
       "\n",
       "      win_num_2  win_num_3  win_num_4  win_num_5 Day of the week Month  Year  \n",
       "2397         22         42         62         66          Friday   May  2025  \n",
       "2398         30         33         55         64         Tuesday   May  2025  \n",
       "2399         18         40         55         68          Friday   May  2025  \n",
       "2400         28         34         48         62         Tuesday   May  2025  \n",
       "2401         28         37         38         58          Friday   May  2025  "
      ]
     },
     "execution_count": 12,
     "metadata": {},
     "output_type": "execute_result"
    }
   ],
   "source": [
    "#check last 5 rows of dataframe\n",
    "df.tail()"
   ]
  },
  {
   "cell_type": "code",
   "execution_count": 13,
   "id": "4134e0ec",
   "metadata": {},
   "outputs": [
    {
     "data": {
      "text/html": [
       "<div>\n",
       "<style scoped>\n",
       "    .dataframe tbody tr th:only-of-type {\n",
       "        vertical-align: middle;\n",
       "    }\n",
       "\n",
       "    .dataframe tbody tr th {\n",
       "        vertical-align: top;\n",
       "    }\n",
       "\n",
       "    .dataframe thead th {\n",
       "        text-align: right;\n",
       "    }\n",
       "</style>\n",
       "<table border=\"1\" class=\"dataframe\">\n",
       "  <thead>\n",
       "    <tr style=\"text-align: right;\">\n",
       "      <th></th>\n",
       "      <th>Draw Date</th>\n",
       "      <th>Winning Numbers</th>\n",
       "      <th>Mega Ball</th>\n",
       "      <th>Multiplier</th>\n",
       "      <th>Date</th>\n",
       "      <th>win_num_1</th>\n",
       "      <th>win_num_2</th>\n",
       "      <th>win_num_3</th>\n",
       "      <th>win_num_4</th>\n",
       "      <th>win_num_5</th>\n",
       "      <th>Day of the week</th>\n",
       "      <th>Month</th>\n",
       "      <th>Year</th>\n",
       "    </tr>\n",
       "  </thead>\n",
       "  <tbody>\n",
       "    <tr>\n",
       "      <th>0</th>\n",
       "      <td>05/17/2002</td>\n",
       "      <td>15 18 25 33 47</td>\n",
       "      <td>30</td>\n",
       "      <td>NaN</td>\n",
       "      <td>2002-05-17</td>\n",
       "      <td>15</td>\n",
       "      <td>18</td>\n",
       "      <td>25</td>\n",
       "      <td>33</td>\n",
       "      <td>47</td>\n",
       "      <td>Friday</td>\n",
       "      <td>May</td>\n",
       "      <td>2002</td>\n",
       "    </tr>\n",
       "    <tr>\n",
       "      <th>1</th>\n",
       "      <td>05/21/2002</td>\n",
       "      <td>04 28 39 41 44</td>\n",
       "      <td>9</td>\n",
       "      <td>NaN</td>\n",
       "      <td>2002-05-21</td>\n",
       "      <td>4</td>\n",
       "      <td>28</td>\n",
       "      <td>39</td>\n",
       "      <td>41</td>\n",
       "      <td>44</td>\n",
       "      <td>Tuesday</td>\n",
       "      <td>May</td>\n",
       "      <td>2002</td>\n",
       "    </tr>\n",
       "    <tr>\n",
       "      <th>2</th>\n",
       "      <td>05/24/2002</td>\n",
       "      <td>02 04 32 44 52</td>\n",
       "      <td>36</td>\n",
       "      <td>NaN</td>\n",
       "      <td>2002-05-24</td>\n",
       "      <td>2</td>\n",
       "      <td>4</td>\n",
       "      <td>32</td>\n",
       "      <td>44</td>\n",
       "      <td>52</td>\n",
       "      <td>Friday</td>\n",
       "      <td>May</td>\n",
       "      <td>2002</td>\n",
       "    </tr>\n",
       "    <tr>\n",
       "      <th>3</th>\n",
       "      <td>05/28/2002</td>\n",
       "      <td>06 21 22 29 32</td>\n",
       "      <td>24</td>\n",
       "      <td>NaN</td>\n",
       "      <td>2002-05-28</td>\n",
       "      <td>6</td>\n",
       "      <td>21</td>\n",
       "      <td>22</td>\n",
       "      <td>29</td>\n",
       "      <td>32</td>\n",
       "      <td>Tuesday</td>\n",
       "      <td>May</td>\n",
       "      <td>2002</td>\n",
       "    </tr>\n",
       "    <tr>\n",
       "      <th>4</th>\n",
       "      <td>05/31/2002</td>\n",
       "      <td>12 28 45 46 52</td>\n",
       "      <td>47</td>\n",
       "      <td>NaN</td>\n",
       "      <td>2002-05-31</td>\n",
       "      <td>12</td>\n",
       "      <td>28</td>\n",
       "      <td>45</td>\n",
       "      <td>46</td>\n",
       "      <td>52</td>\n",
       "      <td>Friday</td>\n",
       "      <td>May</td>\n",
       "      <td>2002</td>\n",
       "    </tr>\n",
       "  </tbody>\n",
       "</table>\n",
       "</div>"
      ],
      "text/plain": [
       "    Draw Date Winning Numbers  Mega Ball  Multiplier       Date  win_num_1  \\\n",
       "0  05/17/2002  15 18 25 33 47         30         NaN 2002-05-17         15   \n",
       "1  05/21/2002  04 28 39 41 44          9         NaN 2002-05-21          4   \n",
       "2  05/24/2002  02 04 32 44 52         36         NaN 2002-05-24          2   \n",
       "3  05/28/2002  06 21 22 29 32         24         NaN 2002-05-28          6   \n",
       "4  05/31/2002  12 28 45 46 52         47         NaN 2002-05-31         12   \n",
       "\n",
       "   win_num_2  win_num_3  win_num_4  win_num_5 Day of the week Month  Year  \n",
       "0         18         25         33         47          Friday   May  2002  \n",
       "1         28         39         41         44         Tuesday   May  2002  \n",
       "2          4         32         44         52          Friday   May  2002  \n",
       "3         21         22         29         32         Tuesday   May  2002  \n",
       "4         28         45         46         52          Friday   May  2002  "
      ]
     },
     "execution_count": 13,
     "metadata": {},
     "output_type": "execute_result"
    }
   ],
   "source": [
    "#put dataframe in order by date\n",
    "df=df.sort_values(by='Date', ignore_index=True)\n",
    "#look at 1st 5 rows\n",
    "df.head()"
   ]
  },
  {
   "cell_type": "code",
   "execution_count": 14,
   "id": "2710fa05",
   "metadata": {},
   "outputs": [
    {
     "data": {
      "text/html": [
       "<div>\n",
       "<style scoped>\n",
       "    .dataframe tbody tr th:only-of-type {\n",
       "        vertical-align: middle;\n",
       "    }\n",
       "\n",
       "    .dataframe tbody tr th {\n",
       "        vertical-align: top;\n",
       "    }\n",
       "\n",
       "    .dataframe thead th {\n",
       "        text-align: right;\n",
       "    }\n",
       "</style>\n",
       "<table border=\"1\" class=\"dataframe\">\n",
       "  <thead>\n",
       "    <tr style=\"text-align: right;\">\n",
       "      <th></th>\n",
       "      <th>Draw Date</th>\n",
       "      <th>Winning Numbers</th>\n",
       "      <th>Mega Ball</th>\n",
       "      <th>Multiplier</th>\n",
       "      <th>Date</th>\n",
       "      <th>win_num_1</th>\n",
       "      <th>win_num_2</th>\n",
       "      <th>win_num_3</th>\n",
       "      <th>win_num_4</th>\n",
       "      <th>win_num_5</th>\n",
       "      <th>Day of the week</th>\n",
       "      <th>Month</th>\n",
       "      <th>Year</th>\n",
       "    </tr>\n",
       "  </thead>\n",
       "  <tbody>\n",
       "    <tr>\n",
       "      <th>2397</th>\n",
       "      <td>05/16/2025</td>\n",
       "      <td>02 22 42 62 66</td>\n",
       "      <td>14</td>\n",
       "      <td>NaN</td>\n",
       "      <td>2025-05-16</td>\n",
       "      <td>2</td>\n",
       "      <td>22</td>\n",
       "      <td>42</td>\n",
       "      <td>62</td>\n",
       "      <td>66</td>\n",
       "      <td>Friday</td>\n",
       "      <td>May</td>\n",
       "      <td>2025</td>\n",
       "    </tr>\n",
       "    <tr>\n",
       "      <th>2398</th>\n",
       "      <td>05/20/2025</td>\n",
       "      <td>18 30 33 55 64</td>\n",
       "      <td>11</td>\n",
       "      <td>NaN</td>\n",
       "      <td>2025-05-20</td>\n",
       "      <td>18</td>\n",
       "      <td>30</td>\n",
       "      <td>33</td>\n",
       "      <td>55</td>\n",
       "      <td>64</td>\n",
       "      <td>Tuesday</td>\n",
       "      <td>May</td>\n",
       "      <td>2025</td>\n",
       "    </tr>\n",
       "    <tr>\n",
       "      <th>2399</th>\n",
       "      <td>05/23/2025</td>\n",
       "      <td>07 18 40 55 68</td>\n",
       "      <td>18</td>\n",
       "      <td>NaN</td>\n",
       "      <td>2025-05-23</td>\n",
       "      <td>7</td>\n",
       "      <td>18</td>\n",
       "      <td>40</td>\n",
       "      <td>55</td>\n",
       "      <td>68</td>\n",
       "      <td>Friday</td>\n",
       "      <td>May</td>\n",
       "      <td>2025</td>\n",
       "    </tr>\n",
       "    <tr>\n",
       "      <th>2400</th>\n",
       "      <td>05/27/2025</td>\n",
       "      <td>06 28 34 48 62</td>\n",
       "      <td>9</td>\n",
       "      <td>NaN</td>\n",
       "      <td>2025-05-27</td>\n",
       "      <td>6</td>\n",
       "      <td>28</td>\n",
       "      <td>34</td>\n",
       "      <td>48</td>\n",
       "      <td>62</td>\n",
       "      <td>Tuesday</td>\n",
       "      <td>May</td>\n",
       "      <td>2025</td>\n",
       "    </tr>\n",
       "    <tr>\n",
       "      <th>2401</th>\n",
       "      <td>05/30/2025</td>\n",
       "      <td>02 28 37 38 58</td>\n",
       "      <td>13</td>\n",
       "      <td>NaN</td>\n",
       "      <td>2025-05-30</td>\n",
       "      <td>2</td>\n",
       "      <td>28</td>\n",
       "      <td>37</td>\n",
       "      <td>38</td>\n",
       "      <td>58</td>\n",
       "      <td>Friday</td>\n",
       "      <td>May</td>\n",
       "      <td>2025</td>\n",
       "    </tr>\n",
       "  </tbody>\n",
       "</table>\n",
       "</div>"
      ],
      "text/plain": [
       "       Draw Date Winning Numbers  Mega Ball  Multiplier       Date  win_num_1  \\\n",
       "2397  05/16/2025  02 22 42 62 66         14         NaN 2025-05-16          2   \n",
       "2398  05/20/2025  18 30 33 55 64         11         NaN 2025-05-20         18   \n",
       "2399  05/23/2025  07 18 40 55 68         18         NaN 2025-05-23          7   \n",
       "2400  05/27/2025  06 28 34 48 62          9         NaN 2025-05-27          6   \n",
       "2401  05/30/2025  02 28 37 38 58         13         NaN 2025-05-30          2   \n",
       "\n",
       "      win_num_2  win_num_3  win_num_4  win_num_5 Day of the week Month  Year  \n",
       "2397         22         42         62         66          Friday   May  2025  \n",
       "2398         30         33         55         64         Tuesday   May  2025  \n",
       "2399         18         40         55         68          Friday   May  2025  \n",
       "2400         28         34         48         62         Tuesday   May  2025  \n",
       "2401         28         37         38         58          Friday   May  2025  "
      ]
     },
     "execution_count": 14,
     "metadata": {},
     "output_type": "execute_result"
    }
   ],
   "source": [
    "#look at last 5 rows\n",
    "df.tail()"
   ]
  },
  {
   "cell_type": "code",
   "execution_count": 15,
   "id": "a9b657bb",
   "metadata": {},
   "outputs": [
    {
     "name": "stdout",
     "output_type": "stream",
     "text": [
      "<class 'pandas.core.frame.DataFrame'>\n",
      "RangeIndex: 2402 entries, 0 to 2401\n",
      "Data columns (total 13 columns):\n",
      " #   Column           Non-Null Count  Dtype         \n",
      "---  ------           --------------  -----         \n",
      " 0   Draw Date        2402 non-null   object        \n",
      " 1   Winning Numbers  2402 non-null   object        \n",
      " 2   Mega Ball        2402 non-null   int64         \n",
      " 3   Multiplier       1483 non-null   float64       \n",
      " 4   Date             2402 non-null   datetime64[ns]\n",
      " 5   win_num_1        2402 non-null   int64         \n",
      " 6   win_num_2        2402 non-null   int64         \n",
      " 7   win_num_3        2402 non-null   int64         \n",
      " 8   win_num_4        2402 non-null   int64         \n",
      " 9   win_num_5        2402 non-null   int64         \n",
      " 10  Day of the week  2402 non-null   object        \n",
      " 11  Month            2402 non-null   object        \n",
      " 12  Year             2402 non-null   int32         \n",
      "dtypes: datetime64[ns](1), float64(1), int32(1), int64(6), object(4)\n",
      "memory usage: 234.7+ KB\n"
     ]
    }
   ],
   "source": [
    "#look at information about dataframe\n",
    "df.info()"
   ]
  },
  {
   "cell_type": "code",
   "execution_count": 16,
   "id": "3de36d5b",
   "metadata": {},
   "outputs": [
    {
     "data": {
      "text/plain": [
       "Draw Date            0\n",
       "Winning Numbers      0\n",
       "Mega Ball            0\n",
       "Multiplier         919\n",
       "Date                 0\n",
       "win_num_1            0\n",
       "win_num_2            0\n",
       "win_num_3            0\n",
       "win_num_4            0\n",
       "win_num_5            0\n",
       "Day of the week      0\n",
       "Month                0\n",
       "Year                 0\n",
       "dtype: int64"
      ]
     },
     "execution_count": 16,
     "metadata": {},
     "output_type": "execute_result"
    }
   ],
   "source": [
    "#check for missing values\n",
    "df.isnull().sum()"
   ]
  },
  {
   "cell_type": "code",
   "execution_count": 17,
   "id": "96869f0c-a94d-4aa6-af5f-449792e46193",
   "metadata": {},
   "outputs": [
    {
     "data": {
      "text/plain": [
       "array([2002, 2003, 2004, 2005, 2006, 2007, 2008, 2009, 2010, 2011, 2012,\n",
       "       2013, 2014, 2015, 2016, 2017, 2018, 2019, 2020, 2021, 2022, 2023,\n",
       "       2024, 2025], dtype=int32)"
      ]
     },
     "execution_count": 17,
     "metadata": {},
     "output_type": "execute_result"
    }
   ],
   "source": [
    "#get the years covered in the dataset\n",
    "df['Year'].unique()"
   ]
  },
  {
   "cell_type": "code",
   "execution_count": 18,
   "id": "92325df2",
   "metadata": {},
   "outputs": [
    {
     "data": {
      "text/plain": [
       "[105,\n",
       " 105,\n",
       " 105,\n",
       " 105,\n",
       " 105,\n",
       " 105,\n",
       " 105,\n",
       " 104,\n",
       " 104,\n",
       " 104,\n",
       " 104,\n",
       " 104,\n",
       " 104,\n",
       " 104,\n",
       " 104,\n",
       " 104,\n",
       " 104,\n",
       " 104,\n",
       " 104,\n",
       " 104,\n",
       " 103,\n",
       " 103,\n",
       " 66,\n",
       " 43]"
      ]
     },
     "execution_count": 18,
     "metadata": {},
     "output_type": "execute_result"
    },
    {
     "data": {
      "text/plain": [
       "array([2002, 2003, 2004, 2005, 2006, 2007, 2008, 2009, 2010, 2011, 2012,\n",
       "       2013, 2014, 2015, 2016, 2017, 2018, 2019, 2020, 2021, 2022, 2023,\n",
       "       2024, 2025], dtype=int32)"
      ]
     },
     "execution_count": 18,
     "metadata": {},
     "output_type": "execute_result"
    },
    {
     "data": {
      "text/plain": [
       "2002    105\n",
       "2003    105\n",
       "2004    105\n",
       "2005    105\n",
       "2006    105\n",
       "2007    105\n",
       "2008    105\n",
       "2009    104\n",
       "2010    104\n",
       "2011    104\n",
       "2012    104\n",
       "2013    104\n",
       "2014    104\n",
       "2015    104\n",
       "2016    104\n",
       "2017    104\n",
       "2018    104\n",
       "2019    104\n",
       "2020    104\n",
       "2021    104\n",
       "2022    103\n",
       "2023    103\n",
       "2024     66\n",
       "2025     43\n",
       "dtype: int64"
      ]
     },
     "execution_count": 18,
     "metadata": {},
     "output_type": "execute_result"
    },
    {
     "name": "stdout",
     "output_type": "stream",
     "text": [
      "<class 'pandas.core.series.Series'>\n",
      "Index: 24 entries, 2002 to 2025\n",
      "Series name: None\n",
      "Non-Null Count  Dtype\n",
      "--------------  -----\n",
      "24 non-null     int64\n",
      "dtypes: int64(1)\n",
      "memory usage: 288.0 bytes\n"
     ]
    }
   ],
   "source": [
    "#show number of entries per year\n",
    "#create series out of Year frequencies\n",
    "year_freqs=list(df['Year'].value_counts())\n",
    "year_values=df['Year'].unique()\n",
    "year_freqs\n",
    "year_values\n",
    "yr_series = pd.Series(year_freqs,index=year_values)\n",
    "yr_series\n",
    "yr_series.info()"
   ]
  },
  {
   "cell_type": "code",
   "execution_count": 19,
   "id": "cf8afe8e",
   "metadata": {},
   "outputs": [
    {
     "data": {
      "application/vnd.plotly.v1+json": {
       "config": {
        "plotlyServerURL": "https://plot.ly"
       },
       "data": [
        {
         "bingroup": "x",
         "hovertemplate": "Year=%{x}<br>count=%{y}<extra></extra>",
         "legendgroup": "",
         "marker": {
          "color": "gold",
          "pattern": {
           "shape": ""
          }
         },
         "name": "",
         "nbinsx": 50,
         "orientation": "v",
         "showlegend": false,
         "type": "histogram",
         "x": {
          "bdata": "0gcAANIHAADSBwAA0gcAANIHAADSBwAA0gcAANIHAADSBwAA0gcAANIHAADSBwAA0gcAANIHAADSBwAA0gcAANIHAADSBwAA0gcAANIHAADSBwAA0gcAANIHAADSBwAA0gcAANIHAADSBwAA0gcAANIHAADSBwAA0gcAANIHAADSBwAA0gcAANIHAADSBwAA0gcAANIHAADSBwAA0gcAANIHAADSBwAA0gcAANIHAADSBwAA0gcAANIHAADSBwAA0gcAANIHAADSBwAA0gcAANIHAADSBwAA0gcAANIHAADSBwAA0gcAANIHAADSBwAA0gcAANIHAADSBwAA0gcAANIHAADSBwAA0wcAANMHAADTBwAA0wcAANMHAADTBwAA0wcAANMHAADTBwAA0wcAANMHAADTBwAA0wcAANMHAADTBwAA0wcAANMHAADTBwAA0wcAANMHAADTBwAA0wcAANMHAADTBwAA0wcAANMHAADTBwAA0wcAANMHAADTBwAA0wcAANMHAADTBwAA0wcAANMHAADTBwAA0wcAANMHAADTBwAA0wcAANMHAADTBwAA0wcAANMHAADTBwAA0wcAANMHAADTBwAA0wcAANMHAADTBwAA0wcAANMHAADTBwAA0wcAANMHAADTBwAA0wcAANMHAADTBwAA0wcAANMHAADTBwAA0wcAANMHAADTBwAA0wcAANMHAADTBwAA0wcAANMHAADTBwAA0wcAANMHAADTBwAA0wcAANMHAADTBwAA0wcAANMHAADTBwAA0wcAANMHAADTBwAA0wcAANMHAADTBwAA0wcAANMHAADTBwAA0wcAANMHAADTBwAA0wcAANMHAADTBwAA0wcAANMHAADTBwAA0wcAANMHAADTBwAA0wcAANMHAADUBwAA1AcAANQHAADUBwAA1AcAANQHAADUBwAA1AcAANQHAADUBwAA1AcAANQHAADUBwAA1AcAANQHAADUBwAA1AcAANQHAADUBwAA1AcAANQHAADUBwAA1AcAANQHAADUBwAA1AcAANQHAADUBwAA1AcAANQHAADUBwAA1AcAANQHAADUBwAA1AcAANQHAADUBwAA1AcAANQHAADUBwAA1AcAANQHAADUBwAA1AcAANQHAADUBwAA1AcAANQHAADUBwAA1AcAANQHAADUBwAA1AcAANQHAADUBwAA1AcAANQHAADUBwAA1AcAANQHAADUBwAA1AcAANQHAADUBwAA1AcAANQHAADUBwAA1AcAANQHAADUBwAA1AcAANQHAADUBwAA1AcAANQHAADUBwAA1AcAANQHAADUBwAA1AcAANQHAADUBwAA1AcAANQHAADUBwAA1AcAANQHAADUBwAA1AcAANQHAADUBwAA1AcAANQHAADUBwAA1AcAANQHAADUBwAA1AcAANQHAADUBwAA1AcAANQHAADUBwAA1AcAANQHAADVBwAA1QcAANUHAADVBwAA1QcAANUHAADVBwAA1QcAANUHAADVBwAA1QcAANUHAADVBwAA1QcAANUHAADVBwAA1QcAANUHAADVBwAA1QcAANUHAADVBwAA1QcAANUHAADVBwAA1QcAANUHAADVBwAA1QcAANUHAADVBwAA1QcAANUHAADVBwAA1QcAANUHAADVBwAA1QcAANUHAADVBwAA1QcAANUHAADVBwAA1QcAANUHAADVBwAA1QcAANUHAADVBwAA1QcAANUHAADVBwAA1QcAANUHAADVBwAA1QcAANUHAADVBwAA1QcAANUHAADVBwAA1QcAANUHAADVBwAA1QcAANUHAADVBwAA1QcAANUHAADVBwAA1QcAANUHAADVBwAA1QcAANUHAADVBwAA1QcAANUHAADVBwAA1QcAANUHAADVBwAA1QcAANUHAADVBwAA1QcAANUHAADVBwAA1QcAANUHAADVBwAA1QcAANUHAADVBwAA1QcAANUHAADVBwAA1QcAANUHAADVBwAA1QcAANUHAADVBwAA1QcAANYHAADWBwAA1gcAANYHAADWBwAA1gcAANYHAADWBwAA1gcAANYHAADWBwAA1gcAANYHAADWBwAA1gcAANYHAADWBwAA1gcAANYHAADWBwAA1gcAANYHAADWBwAA1gcAANYHAADWBwAA1gcAANYHAADWBwAA1gcAANYHAADWBwAA1gcAANYHAADWBwAA1gcAANYHAADWBwAA1gcAANYHAADWBwAA1gcAANYHAADWBwAA1gcAANYHAADWBwAA1gcAANYHAADWBwAA1gcAANYHAADWBwAA1gcAANYHAADWBwAA1gcAANYHAADWBwAA1gcAANYHAADWBwAA1gcAANYHAADWBwAA1gcAANYHAADWBwAA1gcAANYHAADWBwAA1gcAANYHAADWBwAA1gcAANYHAADWBwAA1gcAANYHAADWBwAA1gcAANYHAADWBwAA1gcAANYHAADWBwAA1gcAANYHAADWBwAA1gcAANYHAADWBwAA1gcAANYHAADWBwAA1gcAANYHAADWBwAA1gcAANYHAADWBwAA1gcAANYHAADWBwAA1wcAANcHAADXBwAA1wcAANcHAADXBwAA1wcAANcHAADXBwAA1wcAANcHAADXBwAA1wcAANcHAADXBwAA1wcAANcHAADXBwAA1wcAANcHAADXBwAA1wcAANcHAADXBwAA1wcAANcHAADXBwAA1wcAANcHAADXBwAA1wcAANcHAADXBwAA1wcAANcHAADXBwAA1wcAANcHAADXBwAA1wcAANcHAADXBwAA1wcAANcHAADXBwAA1wcAANcHAADXBwAA1wcAANcHAADXBwAA1wcAANcHAADXBwAA1wcAANcHAADXBwAA1wcAANcHAADXBwAA1wcAANcHAADXBwAA1wcAANcHAADXBwAA1wcAANcHAADXBwAA1wcAANcHAADXBwAA1wcAANcHAADXBwAA1wcAANcHAADXBwAA1wcAANcHAADXBwAA1wcAANcHAADXBwAA1wcAANcHAADXBwAA1wcAANcHAADXBwAA1wcAANcHAADXBwAA1wcAANcHAADXBwAA1wcAANcHAADXBwAA1wcAANcHAADXBwAA1wcAANgHAADYBwAA2AcAANgHAADYBwAA2AcAANgHAADYBwAA2AcAANgHAADYBwAA2AcAANgHAADYBwAA2AcAANgHAADYBwAA2AcAANgHAADYBwAA2AcAANgHAADYBwAA2AcAANgHAADYBwAA2AcAANgHAADYBwAA2AcAANgHAADYBwAA2AcAANgHAADYBwAA2AcAANgHAADYBwAA2AcAANgHAADYBwAA2AcAANgHAADYBwAA2AcAANgHAADYBwAA2AcAANgHAADYBwAA2AcAANgHAADYBwAA2AcAANgHAADYBwAA2AcAANgHAADYBwAA2AcAANgHAADYBwAA2AcAANgHAADYBwAA2AcAANgHAADYBwAA2AcAANgHAADYBwAA2AcAANgHAADYBwAA2AcAANgHAADYBwAA2AcAANgHAADYBwAA2AcAANgHAADYBwAA2AcAANgHAADYBwAA2AcAANgHAADYBwAA2AcAANgHAADYBwAA2AcAANgHAADYBwAA2AcAANgHAADYBwAA2AcAANgHAADYBwAA2AcAANgHAADYBwAA2AcAANkHAADZBwAA2QcAANkHAADZBwAA2QcAANkHAADZBwAA2QcAANkHAADZBwAA2QcAANkHAADZBwAA2QcAANkHAADZBwAA2QcAANkHAADZBwAA2QcAANkHAADZBwAA2QcAANkHAADZBwAA2QcAANkHAADZBwAA2QcAANkHAADZBwAA2QcAANkHAADZBwAA2QcAANkHAADZBwAA2QcAANkHAADZBwAA2QcAANkHAADZBwAA2QcAANkHAADZBwAA2QcAANkHAADZBwAA2QcAANkHAADZBwAA2QcAANkHAADZBwAA2QcAANkHAADZBwAA2QcAANkHAADZBwAA2QcAANkHAADZBwAA2QcAANkHAADZBwAA2QcAANkHAADZBwAA2QcAANkHAADZBwAA2QcAANkHAADZBwAA2QcAANkHAADZBwAA2QcAANkHAADZBwAA2QcAANkHAADZBwAA2QcAANkHAADZBwAA2QcAANkHAADZBwAA2QcAANkHAADZBwAA2QcAANkHAADZBwAA2QcAANkHAADZBwAA2QcAANkHAADaBwAA2gcAANoHAADaBwAA2gcAANoHAADaBwAA2gcAANoHAADaBwAA2gcAANoHAADaBwAA2gcAANoHAADaBwAA2gcAANoHAADaBwAA2gcAANoHAADaBwAA2gcAANoHAADaBwAA2gcAANoHAADaBwAA2gcAANoHAADaBwAA2gcAANoHAADaBwAA2gcAANoHAADaBwAA2gcAANoHAADaBwAA2gcAANoHAADaBwAA2gcAANoHAADaBwAA2gcAANoHAADaBwAA2gcAANoHAADaBwAA2gcAANoHAADaBwAA2gcAANoHAADaBwAA2gcAANoHAADaBwAA2gcAANoHAADaBwAA2gcAANoHAADaBwAA2gcAANoHAADaBwAA2gcAANoHAADaBwAA2gcAANoHAADaBwAA2gcAANoHAADaBwAA2gcAANoHAADaBwAA2gcAANoHAADaBwAA2gcAANoHAADaBwAA2gcAANoHAADaBwAA2gcAANoHAADaBwAA2gcAANoHAADaBwAA2gcAANoHAADaBwAA2gcAANoHAADaBwAA2gcAANoHAADbBwAA2wcAANsHAADbBwAA2wcAANsHAADbBwAA2wcAANsHAADbBwAA2wcAANsHAADbBwAA2wcAANsHAADbBwAA2wcAANsHAADbBwAA2wcAANsHAADbBwAA2wcAANsHAADbBwAA2wcAANsHAADbBwAA2wcAANsHAADbBwAA2wcAANsHAADbBwAA2wcAANsHAADbBwAA2wcAANsHAADbBwAA2wcAANsHAADbBwAA2wcAANsHAADbBwAA2wcAANsHAADbBwAA2wcAANsHAADbBwAA2wcAANsHAADbBwAA2wcAANsHAADbBwAA2wcAANsHAADbBwAA2wcAANsHAADbBwAA2wcAANsHAADbBwAA2wcAANsHAADbBwAA2wcAANsHAADbBwAA2wcAANsHAADbBwAA2wcAANsHAADbBwAA2wcAANsHAADbBwAA2wcAANsHAADbBwAA2wcAANsHAADbBwAA2wcAANsHAADbBwAA2wcAANsHAADbBwAA2wcAANsHAADbBwAA2wcAANsHAADbBwAA2wcAANsHAADbBwAA2wcAANwHAADcBwAA3AcAANwHAADcBwAA3AcAANwHAADcBwAA3AcAANwHAADcBwAA3AcAANwHAADcBwAA3AcAANwHAADcBwAA3AcAANwHAADcBwAA3AcAANwHAADcBwAA3AcAANwHAADcBwAA3AcAANwHAADcBwAA3AcAANwHAADcBwAA3AcAANwHAADcBwAA3AcAANwHAADcBwAA3AcAANwHAADcBwAA3AcAANwHAADcBwAA3AcAANwHAADcBwAA3AcAANwHAADcBwAA3AcAANwHAADcBwAA3AcAANwHAADcBwAA3AcAANwHAADcBwAA3AcAANwHAADcBwAA3AcAANwHAADcBwAA3AcAANwHAADcBwAA3AcAANwHAADcBwAA3AcAANwHAADcBwAA3AcAANwHAADcBwAA3AcAANwHAADcBwAA3AcAANwHAADcBwAA3AcAANwHAADcBwAA3AcAANwHAADcBwAA3AcAANwHAADcBwAA3AcAANwHAADcBwAA3AcAANwHAADcBwAA3AcAANwHAADcBwAA3AcAANwHAADcBwAA3QcAAN0HAADdBwAA3QcAAN0HAADdBwAA3QcAAN0HAADdBwAA3QcAAN0HAADdBwAA3QcAAN0HAADdBwAA3QcAAN0HAADdBwAA3QcAAN0HAADdBwAA3QcAAN0HAADdBwAA3QcAAN0HAADdBwAA3QcAAN0HAADdBwAA3QcAAN0HAADdBwAA3QcAAN0HAADdBwAA3QcAAN0HAADdBwAA3QcAAN0HAADdBwAA3QcAAN0HAADdBwAA3QcAAN0HAADdBwAA3QcAAN0HAADdBwAA3QcAAN0HAADdBwAA3QcAAN0HAADdBwAA3QcAAN0HAADdBwAA3QcAAN0HAADdBwAA3QcAAN0HAADdBwAA3QcAAN0HAADdBwAA3QcAAN0HAADdBwAA3QcAAN0HAADdBwAA3QcAAN0HAADdBwAA3QcAAN0HAADdBwAA3QcAAN0HAADdBwAA3QcAAN0HAADdBwAA3QcAAN0HAADdBwAA3QcAAN0HAADdBwAA3QcAAN0HAADdBwAA3QcAAN0HAADdBwAA3QcAAN0HAADdBwAA3QcAAN0HAADeBwAA3gcAAN4HAADeBwAA3gcAAN4HAADeBwAA3gcAAN4HAADeBwAA3gcAAN4HAADeBwAA3gcAAN4HAADeBwAA3gcAAN4HAADeBwAA3gcAAN4HAADeBwAA3gcAAN4HAADeBwAA3gcAAN4HAADeBwAA3gcAAN4HAADeBwAA3gcAAN4HAADeBwAA3gcAAN4HAADeBwAA3gcAAN4HAADeBwAA3gcAAN4HAADeBwAA3gcAAN4HAADeBwAA3gcAAN4HAADeBwAA3gcAAN4HAADeBwAA3gcAAN4HAADeBwAA3gcAAN4HAADeBwAA3gcAAN4HAADeBwAA3gcAAN4HAADeBwAA3gcAAN4HAADeBwAA3gcAAN4HAADeBwAA3gcAAN4HAADeBwAA3gcAAN4HAADeBwAA3gcAAN4HAADeBwAA3gcAAN4HAADeBwAA3gcAAN4HAADeBwAA3gcAAN4HAADeBwAA3gcAAN4HAADeBwAA3gcAAN4HAADeBwAA3gcAAN4HAADeBwAA3gcAAN4HAADeBwAA3gcAAN4HAADeBwAA3gcAAN8HAADfBwAA3wcAAN8HAADfBwAA3wcAAN8HAADfBwAA3wcAAN8HAADfBwAA3wcAAN8HAADfBwAA3wcAAN8HAADfBwAA3wcAAN8HAADfBwAA3wcAAN8HAADfBwAA3wcAAN8HAADfBwAA3wcAAN8HAADfBwAA3wcAAN8HAADfBwAA3wcAAN8HAADfBwAA3wcAAN8HAADfBwAA3wcAAN8HAADfBwAA3wcAAN8HAADfBwAA3wcAAN8HAADfBwAA3wcAAN8HAADfBwAA3wcAAN8HAADfBwAA3wcAAN8HAADfBwAA3wcAAN8HAADfBwAA3wcAAN8HAADfBwAA3wcAAN8HAADfBwAA3wcAAN8HAADfBwAA3wcAAN8HAADfBwAA3wcAAN8HAADfBwAA3wcAAN8HAADfBwAA3wcAAN8HAADfBwAA3wcAAN8HAADfBwAA3wcAAN8HAADfBwAA3wcAAN8HAADfBwAA3wcAAN8HAADfBwAA3wcAAN8HAADfBwAA3wcAAN8HAADfBwAA3wcAAN8HAADfBwAA3wcAAN8HAADfBwAA4AcAAOAHAADgBwAA4AcAAOAHAADgBwAA4AcAAOAHAADgBwAA4AcAAOAHAADgBwAA4AcAAOAHAADgBwAA4AcAAOAHAADgBwAA4AcAAOAHAADgBwAA4AcAAOAHAADgBwAA4AcAAOAHAADgBwAA4AcAAOAHAADgBwAA4AcAAOAHAADgBwAA4AcAAOAHAADgBwAA4AcAAOAHAADgBwAA4AcAAOAHAADgBwAA4AcAAOAHAADgBwAA4AcAAOAHAADgBwAA4AcAAOAHAADgBwAA4AcAAOAHAADgBwAA4AcAAOAHAADgBwAA4AcAAOAHAADgBwAA4AcAAOAHAADgBwAA4AcAAOAHAADgBwAA4AcAAOAHAADgBwAA4AcAAOAHAADgBwAA4AcAAOAHAADgBwAA4AcAAOAHAADgBwAA4AcAAOAHAADgBwAA4AcAAOAHAADgBwAA4AcAAOAHAADgBwAA4AcAAOAHAADgBwAA4AcAAOAHAADgBwAA4AcAAOAHAADgBwAA4AcAAOAHAADgBwAA4AcAAOAHAADgBwAA4AcAAOAHAADgBwAA4QcAAOEHAADhBwAA4QcAAOEHAADhBwAA4QcAAOEHAADhBwAA4QcAAOEHAADhBwAA4QcAAOEHAADhBwAA4QcAAOEHAADhBwAA4QcAAOEHAADhBwAA4QcAAOEHAADhBwAA4QcAAOEHAADhBwAA4QcAAOEHAADhBwAA4QcAAOEHAADhBwAA4QcAAOEHAADhBwAA4QcAAOEHAADhBwAA4QcAAOEHAADhBwAA4QcAAOEHAADhBwAA4QcAAOEHAADhBwAA4QcAAOEHAADhBwAA4QcAAOEHAADhBwAA4QcAAOEHAADhBwAA4QcAAOEHAADhBwAA4QcAAOEHAADhBwAA4QcAAOEHAADhBwAA4QcAAOEHAADhBwAA4QcAAOEHAADhBwAA4QcAAOEHAADhBwAA4QcAAOEHAADhBwAA4QcAAOEHAADhBwAA4QcAAOEHAADhBwAA4QcAAOEHAADhBwAA4QcAAOEHAADhBwAA4QcAAOEHAADhBwAA4QcAAOEHAADhBwAA4QcAAOEHAADhBwAA4QcAAOEHAADhBwAA4QcAAOEHAADiBwAA4gcAAOIHAADiBwAA4gcAAOIHAADiBwAA4gcAAOIHAADiBwAA4gcAAOIHAADiBwAA4gcAAOIHAADiBwAA4gcAAOIHAADiBwAA4gcAAOIHAADiBwAA4gcAAOIHAADiBwAA4gcAAOIHAADiBwAA4gcAAOIHAADiBwAA4gcAAOIHAADiBwAA4gcAAOIHAADiBwAA4gcAAOIHAADiBwAA4gcAAOIHAADiBwAA4gcAAOIHAADiBwAA4gcAAOIHAADiBwAA4gcAAOIHAADiBwAA4gcAAOIHAADiBwAA4gcAAOIHAADiBwAA4gcAAOIHAADiBwAA4gcAAOIHAADiBwAA4gcAAOIHAADiBwAA4gcAAOIHAADiBwAA4gcAAOIHAADiBwAA4gcAAOIHAADiBwAA4gcAAOIHAADiBwAA4gcAAOIHAADiBwAA4gcAAOIHAADiBwAA4gcAAOIHAADiBwAA4gcAAOIHAADiBwAA4gcAAOIHAADiBwAA4gcAAOIHAADiBwAA4gcAAOIHAADiBwAA4gcAAOIHAADiBwAA4gcAAOMHAADjBwAA4wcAAOMHAADjBwAA4wcAAOMHAADjBwAA4wcAAOMHAADjBwAA4wcAAOMHAADjBwAA4wcAAOMHAADjBwAA4wcAAOMHAADjBwAA4wcAAOMHAADjBwAA4wcAAOMHAADjBwAA4wcAAOMHAADjBwAA4wcAAOMHAADjBwAA4wcAAOMHAADjBwAA4wcAAOMHAADjBwAA4wcAAOMHAADjBwAA4wcAAOMHAADjBwAA4wcAAOMHAADjBwAA4wcAAOMHAADjBwAA4wcAAOMHAADjBwAA4wcAAOMHAADjBwAA4wcAAOMHAADjBwAA4wcAAOMHAADjBwAA4wcAAOMHAADjBwAA4wcAAOMHAADjBwAA4wcAAOMHAADjBwAA4wcAAOMHAADjBwAA4wcAAOMHAADjBwAA4wcAAOMHAADjBwAA4wcAAOMHAADjBwAA4wcAAOMHAADjBwAA4wcAAOMHAADjBwAA4wcAAOMHAADjBwAA4wcAAOMHAADjBwAA4wcAAOMHAADjBwAA4wcAAOMHAADjBwAA4wcAAOMHAADjBwAA4wcAAOQHAADkBwAA5AcAAOQHAADkBwAA5AcAAOQHAADkBwAA5AcAAOQHAADkBwAA5AcAAOQHAADkBwAA5AcAAOQHAADkBwAA5AcAAOQHAADkBwAA5AcAAOQHAADkBwAA5AcAAOQHAADkBwAA5AcAAOQHAADkBwAA5AcAAOQHAADkBwAA5AcAAOQHAADkBwAA5AcAAOQHAADkBwAA5AcAAOQHAADkBwAA5AcAAOQHAADkBwAA5AcAAOQHAADkBwAA5AcAAOQHAADkBwAA5AcAAOQHAADkBwAA5AcAAOQHAADkBwAA5AcAAOQHAADkBwAA5AcAAOQHAADkBwAA5AcAAOQHAADkBwAA5AcAAOQHAADkBwAA5AcAAOQHAADkBwAA5AcAAOQHAADkBwAA5AcAAOQHAADkBwAA5AcAAOQHAADkBwAA5AcAAOQHAADkBwAA5AcAAOQHAADkBwAA5AcAAOQHAADkBwAA5AcAAOQHAADkBwAA5AcAAOQHAADkBwAA5AcAAOQHAADkBwAA5AcAAOQHAADkBwAA5AcAAOQHAADkBwAA5QcAAOUHAADlBwAA5QcAAOUHAADlBwAA5QcAAOUHAADlBwAA5QcAAOUHAADlBwAA5QcAAOUHAADlBwAA5QcAAOUHAADlBwAA5QcAAOUHAADlBwAA5QcAAOUHAADlBwAA5QcAAOUHAADlBwAA5QcAAOUHAADlBwAA5QcAAOUHAADlBwAA5QcAAOUHAADlBwAA5QcAAOUHAADlBwAA5QcAAOUHAADlBwAA5QcAAOUHAADlBwAA5QcAAOUHAADlBwAA5QcAAOUHAADlBwAA5QcAAOUHAADlBwAA5QcAAOUHAADlBwAA5QcAAOUHAADlBwAA5QcAAOUHAADlBwAA5QcAAOUHAADlBwAA5QcAAOUHAADlBwAA5QcAAOUHAADlBwAA5QcAAOUHAADlBwAA5QcAAOUHAADlBwAA5QcAAOUHAADlBwAA5QcAAOUHAADlBwAA5QcAAOUHAADlBwAA5QcAAOUHAADlBwAA5QcAAOUHAADlBwAA5QcAAOUHAADlBwAA5QcAAOUHAADlBwAA5QcAAOUHAADlBwAA5QcAAOUHAADlBwAA5gcAAOYHAADmBwAA5gcAAOYHAADmBwAA5gcAAOYHAADmBwAA5gcAAOYHAADmBwAA5gcAAOYHAADmBwAA5gcAAOYHAADmBwAA5gcAAOYHAADmBwAA5gcAAOYHAADmBwAA5gcAAOYHAADmBwAA5gcAAOYHAADmBwAA5gcAAOYHAADmBwAA5gcAAOYHAADmBwAA5gcAAOYHAADmBwAA5gcAAOYHAADmBwAA5gcAAOYHAADmBwAA5gcAAOYHAADmBwAA5gcAAOYHAADmBwAA5gcAAOYHAADmBwAA5gcAAOYHAADmBwAA5gcAAOYHAADmBwAA5gcAAOYHAADmBwAA5gcAAOYHAADmBwAA5gcAAOYHAADmBwAA5gcAAOYHAADmBwAA5gcAAOYHAADmBwAA5gcAAOYHAADmBwAA5gcAAOYHAADmBwAA5gcAAOYHAADmBwAA5gcAAOYHAADmBwAA5gcAAOYHAADmBwAA5gcAAOYHAADmBwAA5gcAAOYHAADmBwAA5gcAAOYHAADmBwAA5gcAAOYHAADmBwAA5gcAAOYHAADnBwAA5wcAAOcHAADnBwAA5wcAAOcHAADnBwAA5wcAAOcHAADnBwAA5wcAAOcHAADnBwAA5wcAAOcHAADnBwAA5wcAAOcHAADnBwAA5wcAAOcHAADnBwAA5wcAAOcHAADnBwAA5wcAAOcHAADnBwAA5wcAAOcHAADnBwAA5wcAAOcHAADnBwAA5wcAAOcHAADnBwAA5wcAAOcHAADnBwAA5wcAAOcHAADnBwAA5wcAAOcHAADnBwAA5wcAAOcHAADnBwAA5wcAAOcHAADnBwAA5wcAAOcHAADnBwAA5wcAAOcHAADnBwAA5wcAAOcHAADnBwAA5wcAAOcHAADnBwAA5wcAAOcHAADnBwAA5wcAAOcHAADnBwAA5wcAAOcHAADnBwAA5wcAAOcHAADnBwAA5wcAAOcHAADnBwAA5wcAAOcHAADnBwAA5wcAAOcHAADnBwAA5wcAAOcHAADnBwAA5wcAAOcHAADnBwAA5wcAAOcHAADnBwAA5wcAAOcHAADnBwAA5wcAAOcHAADnBwAA5wcAAOcHAADnBwAA5wcAAOgHAADoBwAA6AcAAOgHAADoBwAA6AcAAOgHAADoBwAA6AcAAOgHAADoBwAA6AcAAOgHAADoBwAA6AcAAOgHAADoBwAA6AcAAOgHAADoBwAA6AcAAOgHAADoBwAA6AcAAOgHAADoBwAA6AcAAOgHAADoBwAA6AcAAOgHAADoBwAA6AcAAOgHAADoBwAA6AcAAOgHAADoBwAA6AcAAOgHAADoBwAA6AcAAOgHAADoBwAA6AcAAOgHAADoBwAA6AcAAOgHAADoBwAA6AcAAOgHAADoBwAA6AcAAOgHAADoBwAA6AcAAOgHAADoBwAA6AcAAOgHAADoBwAA6AcAAOgHAADoBwAA6AcAAOgHAADoBwAA6AcAAOgHAADoBwAA6AcAAOgHAADoBwAA6AcAAOgHAADoBwAA6AcAAOgHAADoBwAA6AcAAOgHAADoBwAA6AcAAOgHAADoBwAA6AcAAOgHAADoBwAA6AcAAOgHAADoBwAA6AcAAOgHAADoBwAA6AcAAOgHAADoBwAA6AcAAOgHAADoBwAA6AcAAOgHAADoBwAA6AcAAOkHAADpBwAA6QcAAOkHAADpBwAA6QcAAOkHAADpBwAA6QcAAOkHAADpBwAA6QcAAOkHAADpBwAA6QcAAOkHAADpBwAA6QcAAOkHAADpBwAA6QcAAOkHAADpBwAA6QcAAOkHAADpBwAA6QcAAOkHAADpBwAA6QcAAOkHAADpBwAA6QcAAOkHAADpBwAA6QcAAOkHAADpBwAA6QcAAOkHAADpBwAA6QcAAOkHAAA=",
          "dtype": "i4"
         },
         "xaxis": "x",
         "yaxis": "y"
        }
       ],
       "layout": {
        "barmode": "relative",
        "legend": {
         "tracegroupgap": 0
        },
        "template": {
         "data": {
          "bar": [
           {
            "error_x": {
             "color": "#2a3f5f"
            },
            "error_y": {
             "color": "#2a3f5f"
            },
            "marker": {
             "line": {
              "color": "#E5ECF6",
              "width": 0.5
             },
             "pattern": {
              "fillmode": "overlay",
              "size": 10,
              "solidity": 0.2
             }
            },
            "type": "bar"
           }
          ],
          "barpolar": [
           {
            "marker": {
             "line": {
              "color": "#E5ECF6",
              "width": 0.5
             },
             "pattern": {
              "fillmode": "overlay",
              "size": 10,
              "solidity": 0.2
             }
            },
            "type": "barpolar"
           }
          ],
          "carpet": [
           {
            "aaxis": {
             "endlinecolor": "#2a3f5f",
             "gridcolor": "white",
             "linecolor": "white",
             "minorgridcolor": "white",
             "startlinecolor": "#2a3f5f"
            },
            "baxis": {
             "endlinecolor": "#2a3f5f",
             "gridcolor": "white",
             "linecolor": "white",
             "minorgridcolor": "white",
             "startlinecolor": "#2a3f5f"
            },
            "type": "carpet"
           }
          ],
          "choropleth": [
           {
            "colorbar": {
             "outlinewidth": 0,
             "ticks": ""
            },
            "type": "choropleth"
           }
          ],
          "contour": [
           {
            "colorbar": {
             "outlinewidth": 0,
             "ticks": ""
            },
            "colorscale": [
             [
              0,
              "#0d0887"
             ],
             [
              0.1111111111111111,
              "#46039f"
             ],
             [
              0.2222222222222222,
              "#7201a8"
             ],
             [
              0.3333333333333333,
              "#9c179e"
             ],
             [
              0.4444444444444444,
              "#bd3786"
             ],
             [
              0.5555555555555556,
              "#d8576b"
             ],
             [
              0.6666666666666666,
              "#ed7953"
             ],
             [
              0.7777777777777778,
              "#fb9f3a"
             ],
             [
              0.8888888888888888,
              "#fdca26"
             ],
             [
              1,
              "#f0f921"
             ]
            ],
            "type": "contour"
           }
          ],
          "contourcarpet": [
           {
            "colorbar": {
             "outlinewidth": 0,
             "ticks": ""
            },
            "type": "contourcarpet"
           }
          ],
          "heatmap": [
           {
            "colorbar": {
             "outlinewidth": 0,
             "ticks": ""
            },
            "colorscale": [
             [
              0,
              "#0d0887"
             ],
             [
              0.1111111111111111,
              "#46039f"
             ],
             [
              0.2222222222222222,
              "#7201a8"
             ],
             [
              0.3333333333333333,
              "#9c179e"
             ],
             [
              0.4444444444444444,
              "#bd3786"
             ],
             [
              0.5555555555555556,
              "#d8576b"
             ],
             [
              0.6666666666666666,
              "#ed7953"
             ],
             [
              0.7777777777777778,
              "#fb9f3a"
             ],
             [
              0.8888888888888888,
              "#fdca26"
             ],
             [
              1,
              "#f0f921"
             ]
            ],
            "type": "heatmap"
           }
          ],
          "histogram": [
           {
            "marker": {
             "pattern": {
              "fillmode": "overlay",
              "size": 10,
              "solidity": 0.2
             }
            },
            "type": "histogram"
           }
          ],
          "histogram2d": [
           {
            "colorbar": {
             "outlinewidth": 0,
             "ticks": ""
            },
            "colorscale": [
             [
              0,
              "#0d0887"
             ],
             [
              0.1111111111111111,
              "#46039f"
             ],
             [
              0.2222222222222222,
              "#7201a8"
             ],
             [
              0.3333333333333333,
              "#9c179e"
             ],
             [
              0.4444444444444444,
              "#bd3786"
             ],
             [
              0.5555555555555556,
              "#d8576b"
             ],
             [
              0.6666666666666666,
              "#ed7953"
             ],
             [
              0.7777777777777778,
              "#fb9f3a"
             ],
             [
              0.8888888888888888,
              "#fdca26"
             ],
             [
              1,
              "#f0f921"
             ]
            ],
            "type": "histogram2d"
           }
          ],
          "histogram2dcontour": [
           {
            "colorbar": {
             "outlinewidth": 0,
             "ticks": ""
            },
            "colorscale": [
             [
              0,
              "#0d0887"
             ],
             [
              0.1111111111111111,
              "#46039f"
             ],
             [
              0.2222222222222222,
              "#7201a8"
             ],
             [
              0.3333333333333333,
              "#9c179e"
             ],
             [
              0.4444444444444444,
              "#bd3786"
             ],
             [
              0.5555555555555556,
              "#d8576b"
             ],
             [
              0.6666666666666666,
              "#ed7953"
             ],
             [
              0.7777777777777778,
              "#fb9f3a"
             ],
             [
              0.8888888888888888,
              "#fdca26"
             ],
             [
              1,
              "#f0f921"
             ]
            ],
            "type": "histogram2dcontour"
           }
          ],
          "mesh3d": [
           {
            "colorbar": {
             "outlinewidth": 0,
             "ticks": ""
            },
            "type": "mesh3d"
           }
          ],
          "parcoords": [
           {
            "line": {
             "colorbar": {
              "outlinewidth": 0,
              "ticks": ""
             }
            },
            "type": "parcoords"
           }
          ],
          "pie": [
           {
            "automargin": true,
            "type": "pie"
           }
          ],
          "scatter": [
           {
            "fillpattern": {
             "fillmode": "overlay",
             "size": 10,
             "solidity": 0.2
            },
            "type": "scatter"
           }
          ],
          "scatter3d": [
           {
            "line": {
             "colorbar": {
              "outlinewidth": 0,
              "ticks": ""
             }
            },
            "marker": {
             "colorbar": {
              "outlinewidth": 0,
              "ticks": ""
             }
            },
            "type": "scatter3d"
           }
          ],
          "scattercarpet": [
           {
            "marker": {
             "colorbar": {
              "outlinewidth": 0,
              "ticks": ""
             }
            },
            "type": "scattercarpet"
           }
          ],
          "scattergeo": [
           {
            "marker": {
             "colorbar": {
              "outlinewidth": 0,
              "ticks": ""
             }
            },
            "type": "scattergeo"
           }
          ],
          "scattergl": [
           {
            "marker": {
             "colorbar": {
              "outlinewidth": 0,
              "ticks": ""
             }
            },
            "type": "scattergl"
           }
          ],
          "scattermap": [
           {
            "marker": {
             "colorbar": {
              "outlinewidth": 0,
              "ticks": ""
             }
            },
            "type": "scattermap"
           }
          ],
          "scattermapbox": [
           {
            "marker": {
             "colorbar": {
              "outlinewidth": 0,
              "ticks": ""
             }
            },
            "type": "scattermapbox"
           }
          ],
          "scatterpolar": [
           {
            "marker": {
             "colorbar": {
              "outlinewidth": 0,
              "ticks": ""
             }
            },
            "type": "scatterpolar"
           }
          ],
          "scatterpolargl": [
           {
            "marker": {
             "colorbar": {
              "outlinewidth": 0,
              "ticks": ""
             }
            },
            "type": "scatterpolargl"
           }
          ],
          "scatterternary": [
           {
            "marker": {
             "colorbar": {
              "outlinewidth": 0,
              "ticks": ""
             }
            },
            "type": "scatterternary"
           }
          ],
          "surface": [
           {
            "colorbar": {
             "outlinewidth": 0,
             "ticks": ""
            },
            "colorscale": [
             [
              0,
              "#0d0887"
             ],
             [
              0.1111111111111111,
              "#46039f"
             ],
             [
              0.2222222222222222,
              "#7201a8"
             ],
             [
              0.3333333333333333,
              "#9c179e"
             ],
             [
              0.4444444444444444,
              "#bd3786"
             ],
             [
              0.5555555555555556,
              "#d8576b"
             ],
             [
              0.6666666666666666,
              "#ed7953"
             ],
             [
              0.7777777777777778,
              "#fb9f3a"
             ],
             [
              0.8888888888888888,
              "#fdca26"
             ],
             [
              1,
              "#f0f921"
             ]
            ],
            "type": "surface"
           }
          ],
          "table": [
           {
            "cells": {
             "fill": {
              "color": "#EBF0F8"
             },
             "line": {
              "color": "white"
             }
            },
            "header": {
             "fill": {
              "color": "#C8D4E3"
             },
             "line": {
              "color": "white"
             }
            },
            "type": "table"
           }
          ]
         },
         "layout": {
          "annotationdefaults": {
           "arrowcolor": "#2a3f5f",
           "arrowhead": 0,
           "arrowwidth": 1
          },
          "autotypenumbers": "strict",
          "coloraxis": {
           "colorbar": {
            "outlinewidth": 0,
            "ticks": ""
           }
          },
          "colorscale": {
           "diverging": [
            [
             0,
             "#8e0152"
            ],
            [
             0.1,
             "#c51b7d"
            ],
            [
             0.2,
             "#de77ae"
            ],
            [
             0.3,
             "#f1b6da"
            ],
            [
             0.4,
             "#fde0ef"
            ],
            [
             0.5,
             "#f7f7f7"
            ],
            [
             0.6,
             "#e6f5d0"
            ],
            [
             0.7,
             "#b8e186"
            ],
            [
             0.8,
             "#7fbc41"
            ],
            [
             0.9,
             "#4d9221"
            ],
            [
             1,
             "#276419"
            ]
           ],
           "sequential": [
            [
             0,
             "#0d0887"
            ],
            [
             0.1111111111111111,
             "#46039f"
            ],
            [
             0.2222222222222222,
             "#7201a8"
            ],
            [
             0.3333333333333333,
             "#9c179e"
            ],
            [
             0.4444444444444444,
             "#bd3786"
            ],
            [
             0.5555555555555556,
             "#d8576b"
            ],
            [
             0.6666666666666666,
             "#ed7953"
            ],
            [
             0.7777777777777778,
             "#fb9f3a"
            ],
            [
             0.8888888888888888,
             "#fdca26"
            ],
            [
             1,
             "#f0f921"
            ]
           ],
           "sequentialminus": [
            [
             0,
             "#0d0887"
            ],
            [
             0.1111111111111111,
             "#46039f"
            ],
            [
             0.2222222222222222,
             "#7201a8"
            ],
            [
             0.3333333333333333,
             "#9c179e"
            ],
            [
             0.4444444444444444,
             "#bd3786"
            ],
            [
             0.5555555555555556,
             "#d8576b"
            ],
            [
             0.6666666666666666,
             "#ed7953"
            ],
            [
             0.7777777777777778,
             "#fb9f3a"
            ],
            [
             0.8888888888888888,
             "#fdca26"
            ],
            [
             1,
             "#f0f921"
            ]
           ]
          },
          "colorway": [
           "#636efa",
           "#EF553B",
           "#00cc96",
           "#ab63fa",
           "#FFA15A",
           "#19d3f3",
           "#FF6692",
           "#B6E880",
           "#FF97FF",
           "#FECB52"
          ],
          "font": {
           "color": "#2a3f5f"
          },
          "geo": {
           "bgcolor": "white",
           "lakecolor": "white",
           "landcolor": "#E5ECF6",
           "showlakes": true,
           "showland": true,
           "subunitcolor": "white"
          },
          "hoverlabel": {
           "align": "left"
          },
          "hovermode": "closest",
          "mapbox": {
           "style": "light"
          },
          "paper_bgcolor": "white",
          "plot_bgcolor": "#E5ECF6",
          "polar": {
           "angularaxis": {
            "gridcolor": "white",
            "linecolor": "white",
            "ticks": ""
           },
           "bgcolor": "#E5ECF6",
           "radialaxis": {
            "gridcolor": "white",
            "linecolor": "white",
            "ticks": ""
           }
          },
          "scene": {
           "xaxis": {
            "backgroundcolor": "#E5ECF6",
            "gridcolor": "white",
            "gridwidth": 2,
            "linecolor": "white",
            "showbackground": true,
            "ticks": "",
            "zerolinecolor": "white"
           },
           "yaxis": {
            "backgroundcolor": "#E5ECF6",
            "gridcolor": "white",
            "gridwidth": 2,
            "linecolor": "white",
            "showbackground": true,
            "ticks": "",
            "zerolinecolor": "white"
           },
           "zaxis": {
            "backgroundcolor": "#E5ECF6",
            "gridcolor": "white",
            "gridwidth": 2,
            "linecolor": "white",
            "showbackground": true,
            "ticks": "",
            "zerolinecolor": "white"
           }
          },
          "shapedefaults": {
           "line": {
            "color": "#2a3f5f"
           }
          },
          "ternary": {
           "aaxis": {
            "gridcolor": "white",
            "linecolor": "white",
            "ticks": ""
           },
           "baxis": {
            "gridcolor": "white",
            "linecolor": "white",
            "ticks": ""
           },
           "bgcolor": "#E5ECF6",
           "caxis": {
            "gridcolor": "white",
            "linecolor": "white",
            "ticks": ""
           }
          },
          "title": {
           "x": 0.05
          },
          "xaxis": {
           "automargin": true,
           "gridcolor": "white",
           "linecolor": "white",
           "ticks": "",
           "title": {
            "standoff": 15
           },
           "zerolinecolor": "white",
           "zerolinewidth": 2
          },
          "yaxis": {
           "automargin": true,
           "gridcolor": "white",
           "linecolor": "white",
           "ticks": "",
           "title": {
            "standoff": 15
           },
           "zerolinecolor": "white",
           "zerolinewidth": 2
          }
         }
        },
        "title": {
         "text": "Number of Mega Millions Drawings by Year"
        },
        "xaxis": {
         "anchor": "y",
         "domain": [
          0,
          1
         ],
         "tickmode": "array",
         "tickvals": [
          2002,
          2003,
          2004,
          2005,
          2006,
          2007,
          2008,
          2009,
          2010,
          2011,
          2012,
          2013,
          2014,
          2015,
          2016,
          2017,
          2018,
          2019,
          2020,
          2021,
          2022,
          2023,
          2024,
          2025
         ],
         "title": {
          "text": "Year"
         }
        },
        "yaxis": {
         "anchor": "x",
         "domain": [
          0,
          1
         ],
         "title": {
          "text": "count"
         }
        }
       }
      }
     },
     "metadata": {},
     "output_type": "display_data"
    }
   ],
   "source": [
    "#create the bar chart for the number of observations per year\n",
    "#get unique x-axis values\n",
    "unique_values = sorted(df[\"Year\"].unique())\n",
    "#create histogram of number of observations by year\n",
    "fig = px.histogram(df, x=\"Year\", nbins=50, title=\"Number of Mega Millions Drawings by Year\",color_discrete_sequence=['gold']).update_layout(\n",
    "    xaxis=dict(\n",
    "        tickmode='array',\n",
    "        tickvals=unique_values\n",
    "    )\n",
    ")\n",
    "fig.show()"
   ]
  },
  {
   "cell_type": "code",
   "execution_count": 20,
   "id": "5428ad78",
   "metadata": {},
   "outputs": [
    {
     "data": {
      "text/plain": [
       "Day of the week\n",
       "Friday     1201\n",
       "Tuesday    1201\n",
       "Name: count, dtype: int64"
      ]
     },
     "execution_count": 20,
     "metadata": {},
     "output_type": "execute_result"
    }
   ],
   "source": [
    "#get number of rows by day of the week\n",
    "df['Day of the week'].value_counts()"
   ]
  },
  {
   "cell_type": "code",
   "execution_count": 21,
   "id": "c44a90b3-20a5-4748-b43a-edfcf0d62955",
   "metadata": {},
   "outputs": [
    {
     "name": "stdout",
     "output_type": "stream",
     "text": [
      "The most frequent 1st winning number is 2 .\n",
      "The most frequent 2nd winning number is 17 .\n",
      "The most frequent 3rd winning number is 31 .\n",
      "The most frequent 4th winning number is 46 .\n",
      "The most frequent 5th winning number is 52 .\n"
     ]
    }
   ],
   "source": [
    "#get mode of each winning number\n",
    "print('The most frequent 1st winning number is', statistics.mode(df['win_num_1']), '.')\n",
    "print('The most frequent 2nd winning number is', statistics.mode(df['win_num_2']), '.')\n",
    "print('The most frequent 3rd winning number is', statistics.mode(df['win_num_3']), '.')\n",
    "print('The most frequent 4th winning number is', statistics.mode(df['win_num_4']), '.')\n",
    "print('The most frequent 5th winning number is', statistics.mode(df['win_num_5']), '.')"
   ]
  },
  {
   "cell_type": "code",
   "execution_count": 22,
   "id": "7721c5ef",
   "metadata": {},
   "outputs": [
    {
     "name": "stdout",
     "output_type": "stream",
     "text": [
      "The median of the 1st winning numbers is 8 .\n",
      "The median of the 2nd winning numbers is 20 .\n",
      "The median of the 3rd winning numbers is 31 .\n",
      "The median of the 4th winning numbers is 42 .\n",
      "The median of the 5th winning numbers is 53 .\n"
     ]
    }
   ],
   "source": [
    "#get the median for each winning number\n",
    "print('The median of the 1st winning numbers is', round(statistics.median(df['win_num_1'])), '.')\n",
    "print('The median of the 2nd winning numbers is', round(statistics.median(df['win_num_2'])), '.')\n",
    "print('The median of the 3rd winning numbers is', round(statistics.median(df['win_num_3'])), '.')\n",
    "print('The median of the 4th winning numbers is', round(statistics.median(df['win_num_4'])), '.')\n",
    "print('The median of the 5th winning numbers is', round(statistics.median(df['win_num_5'])), '.')"
   ]
  },
  {
   "cell_type": "code",
   "execution_count": 23,
   "id": "23bf6d99",
   "metadata": {},
   "outputs": [
    {
     "name": "stdout",
     "output_type": "stream",
     "text": [
      "The mean of the 1st winning numbers is 10 .\n",
      "The mean of the 2nd winning numbers is 21 .\n",
      "The mean of the 3rd winning numbers is 32 .\n",
      "The mean of the 4th winning numbers is 42 .\n",
      "The mean of the 5th winning numbers is 53 .\n"
     ]
    }
   ],
   "source": [
    "#get the mean of each winning number\n",
    "print('The mean of the 1st winning numbers is', round(np.mean(df['win_num_1'])), '.')\n",
    "print('The mean of the 2nd winning numbers is', round(np.mean(df['win_num_2'])), '.')\n",
    "print('The mean of the 3rd winning numbers is', round(np.mean(df['win_num_3'])), '.')\n",
    "print('The mean of the 4th winning numbers is', round(np.mean(df['win_num_4'])), '.')\n",
    "print('The mean of the 5th winning numbers is', round(np.mean(df['win_num_5'])), '.')"
   ]
  },
  {
   "cell_type": "code",
   "execution_count": 24,
   "id": "4528c348",
   "metadata": {},
   "outputs": [
    {
     "name": "stdout",
     "output_type": "stream",
     "text": [
      "The lowest first winning number is 1 and the highest first winning number is 56 .\n",
      "The lowest second winning number is 2 and the highest second winning number is 66 .\n",
      "The lowest third winning number is 3 and the highest third winning number is 68 .\n",
      "The lowest fourth winning number is 5 and the highest fourth winning number is 74 .\n",
      "The lowest fifth winning number is 14 and the highest fifth winning number is 75 .\n"
     ]
    }
   ],
   "source": [
    "#get the lowest and highest integer for each winning number\n",
    "print(\"The lowest first winning number is\", round(min(df['win_num_1'])), \"and the highest first winning number is\", round(max(df['win_num_1'])), \".\")\n",
    "print(\"The lowest second winning number is\", round(min(df['win_num_2'])), \"and the highest second winning number is\", round(max(df['win_num_2'])), \".\")\n",
    "print(\"The lowest third winning number is\", round(min(df['win_num_3'])), \"and the highest third winning number is\", round(max(df['win_num_3'])), \".\")\n",
    "print(\"The lowest fourth winning number is\", round(min(df['win_num_4'])), \"and the highest fourth winning number is\", round(max(df['win_num_4'])), \".\")\n",
    "print(\"The lowest fifth winning number is\", round(min(df['win_num_5'])), \"and the highest fifth winning number is\", round(max(df['win_num_5'])), \".\")"
   ]
  },
  {
   "cell_type": "code",
   "execution_count": 25,
   "id": "cb120c29",
   "metadata": {},
   "outputs": [
    {
     "name": "stdout",
     "output_type": "stream",
     "text": [
      "The mean of the Mega Ball is 18 .\n",
      "The median of the Mega Ball is 15 .\n",
      "The mode of the Mega Ball is 9 .\n",
      "The minimum of the Mega Ball is 1 .\n",
      "The maximum of the Mega Ball is 52 .\n"
     ]
    }
   ],
   "source": [
    "#get the mean, median, mode, minimum and maximum of the Mega Ball\n",
    "print(\"The mean of the Mega Ball is\", round(np.mean(df['Mega Ball'])), \".\")\n",
    "print(\"The median of the Mega Ball is\", round(statistics.median(df['Mega Ball'])), \".\")\n",
    "print(\"The mode of the Mega Ball is\", round(statistics.mode(df['Mega Ball'])), \".\")\n",
    "print(\"The minimum of the Mega Ball is\", round(min(df['Mega Ball'])), \".\")\n",
    "print(\"The maximum of the Mega Ball is\", round(max(df['Mega Ball'])), \".\")"
   ]
  },
  {
   "cell_type": "code",
   "execution_count": 26,
   "id": "601619e6",
   "metadata": {},
   "outputs": [
    {
     "data": {
      "application/vnd.plotly.v1+json": {
       "config": {
        "plotlyServerURL": "https://plot.ly"
       },
       "data": [
        {
         "marker": {
          "color": "cadetblue"
         },
         "name": "1st Winning Number",
         "type": "box",
         "y": {
          "bdata": "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",
          "dtype": "i1"
         }
        },
        {
         "marker": {
          "color": "darkred"
         },
         "name": "2nd Winning Number",
         "type": "box",
         "y": {
          "bdata": "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",
          "dtype": "i1"
         }
        },
        {
         "marker": {
          "color": "gold"
         },
         "name": "3rd Winning Number",
         "type": "box",
         "y": {
          "bdata": "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",
          "dtype": "i1"
         }
        },
        {
         "marker": {
          "color": "dodgerblue"
         },
         "name": "4th Winning Number",
         "type": "box",
         "y": {
          "bdata": "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",
          "dtype": "i1"
         }
        },
        {
         "marker": {
          "color": "blueviolet"
         },
         "name": "5th Winning Number",
         "type": "box",
         "y": {
          "bdata": "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",
          "dtype": "i1"
         }
        }
       ],
       "layout": {
        "template": {
         "data": {
          "bar": [
           {
            "error_x": {
             "color": "#2a3f5f"
            },
            "error_y": {
             "color": "#2a3f5f"
            },
            "marker": {
             "line": {
              "color": "#E5ECF6",
              "width": 0.5
             },
             "pattern": {
              "fillmode": "overlay",
              "size": 10,
              "solidity": 0.2
             }
            },
            "type": "bar"
           }
          ],
          "barpolar": [
           {
            "marker": {
             "line": {
              "color": "#E5ECF6",
              "width": 0.5
             },
             "pattern": {
              "fillmode": "overlay",
              "size": 10,
              "solidity": 0.2
             }
            },
            "type": "barpolar"
           }
          ],
          "carpet": [
           {
            "aaxis": {
             "endlinecolor": "#2a3f5f",
             "gridcolor": "white",
             "linecolor": "white",
             "minorgridcolor": "white",
             "startlinecolor": "#2a3f5f"
            },
            "baxis": {
             "endlinecolor": "#2a3f5f",
             "gridcolor": "white",
             "linecolor": "white",
             "minorgridcolor": "white",
             "startlinecolor": "#2a3f5f"
            },
            "type": "carpet"
           }
          ],
          "choropleth": [
           {
            "colorbar": {
             "outlinewidth": 0,
             "ticks": ""
            },
            "type": "choropleth"
           }
          ],
          "contour": [
           {
            "colorbar": {
             "outlinewidth": 0,
             "ticks": ""
            },
            "colorscale": [
             [
              0,
              "#0d0887"
             ],
             [
              0.1111111111111111,
              "#46039f"
             ],
             [
              0.2222222222222222,
              "#7201a8"
             ],
             [
              0.3333333333333333,
              "#9c179e"
             ],
             [
              0.4444444444444444,
              "#bd3786"
             ],
             [
              0.5555555555555556,
              "#d8576b"
             ],
             [
              0.6666666666666666,
              "#ed7953"
             ],
             [
              0.7777777777777778,
              "#fb9f3a"
             ],
             [
              0.8888888888888888,
              "#fdca26"
             ],
             [
              1,
              "#f0f921"
             ]
            ],
            "type": "contour"
           }
          ],
          "contourcarpet": [
           {
            "colorbar": {
             "outlinewidth": 0,
             "ticks": ""
            },
            "type": "contourcarpet"
           }
          ],
          "heatmap": [
           {
            "colorbar": {
             "outlinewidth": 0,
             "ticks": ""
            },
            "colorscale": [
             [
              0,
              "#0d0887"
             ],
             [
              0.1111111111111111,
              "#46039f"
             ],
             [
              0.2222222222222222,
              "#7201a8"
             ],
             [
              0.3333333333333333,
              "#9c179e"
             ],
             [
              0.4444444444444444,
              "#bd3786"
             ],
             [
              0.5555555555555556,
              "#d8576b"
             ],
             [
              0.6666666666666666,
              "#ed7953"
             ],
             [
              0.7777777777777778,
              "#fb9f3a"
             ],
             [
              0.8888888888888888,
              "#fdca26"
             ],
             [
              1,
              "#f0f921"
             ]
            ],
            "type": "heatmap"
           }
          ],
          "histogram": [
           {
            "marker": {
             "pattern": {
              "fillmode": "overlay",
              "size": 10,
              "solidity": 0.2
             }
            },
            "type": "histogram"
           }
          ],
          "histogram2d": [
           {
            "colorbar": {
             "outlinewidth": 0,
             "ticks": ""
            },
            "colorscale": [
             [
              0,
              "#0d0887"
             ],
             [
              0.1111111111111111,
              "#46039f"
             ],
             [
              0.2222222222222222,
              "#7201a8"
             ],
             [
              0.3333333333333333,
              "#9c179e"
             ],
             [
              0.4444444444444444,
              "#bd3786"
             ],
             [
              0.5555555555555556,
              "#d8576b"
             ],
             [
              0.6666666666666666,
              "#ed7953"
             ],
             [
              0.7777777777777778,
              "#fb9f3a"
             ],
             [
              0.8888888888888888,
              "#fdca26"
             ],
             [
              1,
              "#f0f921"
             ]
            ],
            "type": "histogram2d"
           }
          ],
          "histogram2dcontour": [
           {
            "colorbar": {
             "outlinewidth": 0,
             "ticks": ""
            },
            "colorscale": [
             [
              0,
              "#0d0887"
             ],
             [
              0.1111111111111111,
              "#46039f"
             ],
             [
              0.2222222222222222,
              "#7201a8"
             ],
             [
              0.3333333333333333,
              "#9c179e"
             ],
             [
              0.4444444444444444,
              "#bd3786"
             ],
             [
              0.5555555555555556,
              "#d8576b"
             ],
             [
              0.6666666666666666,
              "#ed7953"
             ],
             [
              0.7777777777777778,
              "#fb9f3a"
             ],
             [
              0.8888888888888888,
              "#fdca26"
             ],
             [
              1,
              "#f0f921"
             ]
            ],
            "type": "histogram2dcontour"
           }
          ],
          "mesh3d": [
           {
            "colorbar": {
             "outlinewidth": 0,
             "ticks": ""
            },
            "type": "mesh3d"
           }
          ],
          "parcoords": [
           {
            "line": {
             "colorbar": {
              "outlinewidth": 0,
              "ticks": ""
             }
            },
            "type": "parcoords"
           }
          ],
          "pie": [
           {
            "automargin": true,
            "type": "pie"
           }
          ],
          "scatter": [
           {
            "fillpattern": {
             "fillmode": "overlay",
             "size": 10,
             "solidity": 0.2
            },
            "type": "scatter"
           }
          ],
          "scatter3d": [
           {
            "line": {
             "colorbar": {
              "outlinewidth": 0,
              "ticks": ""
             }
            },
            "marker": {
             "colorbar": {
              "outlinewidth": 0,
              "ticks": ""
             }
            },
            "type": "scatter3d"
           }
          ],
          "scattercarpet": [
           {
            "marker": {
             "colorbar": {
              "outlinewidth": 0,
              "ticks": ""
             }
            },
            "type": "scattercarpet"
           }
          ],
          "scattergeo": [
           {
            "marker": {
             "colorbar": {
              "outlinewidth": 0,
              "ticks": ""
             }
            },
            "type": "scattergeo"
           }
          ],
          "scattergl": [
           {
            "marker": {
             "colorbar": {
              "outlinewidth": 0,
              "ticks": ""
             }
            },
            "type": "scattergl"
           }
          ],
          "scattermap": [
           {
            "marker": {
             "colorbar": {
              "outlinewidth": 0,
              "ticks": ""
             }
            },
            "type": "scattermap"
           }
          ],
          "scattermapbox": [
           {
            "marker": {
             "colorbar": {
              "outlinewidth": 0,
              "ticks": ""
             }
            },
            "type": "scattermapbox"
           }
          ],
          "scatterpolar": [
           {
            "marker": {
             "colorbar": {
              "outlinewidth": 0,
              "ticks": ""
             }
            },
            "type": "scatterpolar"
           }
          ],
          "scatterpolargl": [
           {
            "marker": {
             "colorbar": {
              "outlinewidth": 0,
              "ticks": ""
             }
            },
            "type": "scatterpolargl"
           }
          ],
          "scatterternary": [
           {
            "marker": {
             "colorbar": {
              "outlinewidth": 0,
              "ticks": ""
             }
            },
            "type": "scatterternary"
           }
          ],
          "surface": [
           {
            "colorbar": {
             "outlinewidth": 0,
             "ticks": ""
            },
            "colorscale": [
             [
              0,
              "#0d0887"
             ],
             [
              0.1111111111111111,
              "#46039f"
             ],
             [
              0.2222222222222222,
              "#7201a8"
             ],
             [
              0.3333333333333333,
              "#9c179e"
             ],
             [
              0.4444444444444444,
              "#bd3786"
             ],
             [
              0.5555555555555556,
              "#d8576b"
             ],
             [
              0.6666666666666666,
              "#ed7953"
             ],
             [
              0.7777777777777778,
              "#fb9f3a"
             ],
             [
              0.8888888888888888,
              "#fdca26"
             ],
             [
              1,
              "#f0f921"
             ]
            ],
            "type": "surface"
           }
          ],
          "table": [
           {
            "cells": {
             "fill": {
              "color": "#EBF0F8"
             },
             "line": {
              "color": "white"
             }
            },
            "header": {
             "fill": {
              "color": "#C8D4E3"
             },
             "line": {
              "color": "white"
             }
            },
            "type": "table"
           }
          ]
         },
         "layout": {
          "annotationdefaults": {
           "arrowcolor": "#2a3f5f",
           "arrowhead": 0,
           "arrowwidth": 1
          },
          "autotypenumbers": "strict",
          "coloraxis": {
           "colorbar": {
            "outlinewidth": 0,
            "ticks": ""
           }
          },
          "colorscale": {
           "diverging": [
            [
             0,
             "#8e0152"
            ],
            [
             0.1,
             "#c51b7d"
            ],
            [
             0.2,
             "#de77ae"
            ],
            [
             0.3,
             "#f1b6da"
            ],
            [
             0.4,
             "#fde0ef"
            ],
            [
             0.5,
             "#f7f7f7"
            ],
            [
             0.6,
             "#e6f5d0"
            ],
            [
             0.7,
             "#b8e186"
            ],
            [
             0.8,
             "#7fbc41"
            ],
            [
             0.9,
             "#4d9221"
            ],
            [
             1,
             "#276419"
            ]
           ],
           "sequential": [
            [
             0,
             "#0d0887"
            ],
            [
             0.1111111111111111,
             "#46039f"
            ],
            [
             0.2222222222222222,
             "#7201a8"
            ],
            [
             0.3333333333333333,
             "#9c179e"
            ],
            [
             0.4444444444444444,
             "#bd3786"
            ],
            [
             0.5555555555555556,
             "#d8576b"
            ],
            [
             0.6666666666666666,
             "#ed7953"
            ],
            [
             0.7777777777777778,
             "#fb9f3a"
            ],
            [
             0.8888888888888888,
             "#fdca26"
            ],
            [
             1,
             "#f0f921"
            ]
           ],
           "sequentialminus": [
            [
             0,
             "#0d0887"
            ],
            [
             0.1111111111111111,
             "#46039f"
            ],
            [
             0.2222222222222222,
             "#7201a8"
            ],
            [
             0.3333333333333333,
             "#9c179e"
            ],
            [
             0.4444444444444444,
             "#bd3786"
            ],
            [
             0.5555555555555556,
             "#d8576b"
            ],
            [
             0.6666666666666666,
             "#ed7953"
            ],
            [
             0.7777777777777778,
             "#fb9f3a"
            ],
            [
             0.8888888888888888,
             "#fdca26"
            ],
            [
             1,
             "#f0f921"
            ]
           ]
          },
          "colorway": [
           "#636efa",
           "#EF553B",
           "#00cc96",
           "#ab63fa",
           "#FFA15A",
           "#19d3f3",
           "#FF6692",
           "#B6E880",
           "#FF97FF",
           "#FECB52"
          ],
          "font": {
           "color": "#2a3f5f"
          },
          "geo": {
           "bgcolor": "white",
           "lakecolor": "white",
           "landcolor": "#E5ECF6",
           "showlakes": true,
           "showland": true,
           "subunitcolor": "white"
          },
          "hoverlabel": {
           "align": "left"
          },
          "hovermode": "closest",
          "mapbox": {
           "style": "light"
          },
          "paper_bgcolor": "white",
          "plot_bgcolor": "#E5ECF6",
          "polar": {
           "angularaxis": {
            "gridcolor": "white",
            "linecolor": "white",
            "ticks": ""
           },
           "bgcolor": "#E5ECF6",
           "radialaxis": {
            "gridcolor": "white",
            "linecolor": "white",
            "ticks": ""
           }
          },
          "scene": {
           "xaxis": {
            "backgroundcolor": "#E5ECF6",
            "gridcolor": "white",
            "gridwidth": 2,
            "linecolor": "white",
            "showbackground": true,
            "ticks": "",
            "zerolinecolor": "white"
           },
           "yaxis": {
            "backgroundcolor": "#E5ECF6",
            "gridcolor": "white",
            "gridwidth": 2,
            "linecolor": "white",
            "showbackground": true,
            "ticks": "",
            "zerolinecolor": "white"
           },
           "zaxis": {
            "backgroundcolor": "#E5ECF6",
            "gridcolor": "white",
            "gridwidth": 2,
            "linecolor": "white",
            "showbackground": true,
            "ticks": "",
            "zerolinecolor": "white"
           }
          },
          "shapedefaults": {
           "line": {
            "color": "#2a3f5f"
           }
          },
          "ternary": {
           "aaxis": {
            "gridcolor": "white",
            "linecolor": "white",
            "ticks": ""
           },
           "baxis": {
            "gridcolor": "white",
            "linecolor": "white",
            "ticks": ""
           },
           "bgcolor": "#E5ECF6",
           "caxis": {
            "gridcolor": "white",
            "linecolor": "white",
            "ticks": ""
           }
          },
          "title": {
           "x": 0.05
          },
          "xaxis": {
           "automargin": true,
           "gridcolor": "white",
           "linecolor": "white",
           "ticks": "",
           "title": {
            "standoff": 15
           },
           "zerolinecolor": "white",
           "zerolinewidth": 2
          },
          "yaxis": {
           "automargin": true,
           "gridcolor": "white",
           "linecolor": "white",
           "ticks": "",
           "title": {
            "standoff": 15
           },
           "zerolinecolor": "white",
           "zerolinewidth": 2
          }
         }
        },
        "title": {
         "text": "Box Plots of the Distributions of the Winning Numbers"
        }
       }
      }
     },
     "metadata": {},
     "output_type": "display_data"
    }
   ],
   "source": [
    "#boxplots for each winning number showing distribution\n",
    "#make variables for each winning number\n",
    "first=df['win_num_1']\n",
    "second=df['win_num_2']\n",
    "third=df['win_num_3']\n",
    "fourth=df['win_num_4']\n",
    "fifth=df['win_num_5']\n",
    "fig = go.Figure()\n",
    "fig.add_trace(go.Box(y=first, name='1st Winning Number', marker_color='cadetblue')).add_trace(go.Box(y=second, name='2nd Winning Number', marker_color='darkred')).add_trace(go.Box(y=third, name='3rd Winning Number', marker_color='gold')).add_trace(go.Box(y=fourth, name='4th Winning Number', marker_color='dodgerblue')).add_trace(go.Box(y=fifth, name='5th Winning Number', marker_color='blueviolet')).update_layout(title_text=\"Box Plots of the Distributions of the Winning Numbers\")\n"
   ]
  },
  {
   "cell_type": "code",
   "execution_count": 27,
   "id": "9bb1a688",
   "metadata": {},
   "outputs": [
    {
     "data": {
      "text/plain": [
       "array([nan,  4.,  2.,  3.,  5.])"
      ]
     },
     "execution_count": 27,
     "metadata": {},
     "output_type": "execute_result"
    }
   ],
   "source": [
    "#all the values of the Multiplier variable\n",
    "df['Multiplier'].unique()"
   ]
  },
  {
   "cell_type": "code",
   "execution_count": 28,
   "id": "8dcfeabd",
   "metadata": {},
   "outputs": [
    {
     "data": {
      "text/plain": [
       "Multiplier\n",
       "3.0    500\n",
       "4.0    409\n",
       "2.0    376\n",
       "5.0    198\n",
       "Name: count, dtype: int64"
      ]
     },
     "execution_count": 28,
     "metadata": {},
     "output_type": "execute_result"
    },
    {
     "data": {
      "text/plain": [
       "919"
      ]
     },
     "execution_count": 28,
     "metadata": {},
     "output_type": "execute_result"
    },
    {
     "name": "stdout",
     "output_type": "stream",
     "text": [
      "[500, 409, 376, 198, 919]\n"
     ]
    }
   ],
   "source": [
    "#ceate a series with multiplier column\n",
    "#look at frequencies of values in Multiplier column\n",
    "df['Multiplier'].value_counts()\n",
    "#make list of frequencies\n",
    "mylist=list(df['Multiplier'].value_counts())\n",
    "#get number of missing values\n",
    "sum((df['Multiplier']).isna())\n",
    "#append missing numbers onto list\n",
    "mylist.append(sum((df['Multiplier']).isna()))\n",
    "#look at list\n",
    "print(mylist)"
   ]
  },
  {
   "cell_type": "code",
   "execution_count": 29,
   "id": "4099dbc5",
   "metadata": {},
   "outputs": [
    {
     "data": {
      "text/plain": [
       "2          376\n",
       "3          500\n",
       "4          409\n",
       "5          198\n",
       "Missing    919\n",
       "dtype: int64"
      ]
     },
     "execution_count": 29,
     "metadata": {},
     "output_type": "execute_result"
    }
   ],
   "source": [
    "#rearrange list so that the value for 2 (376) is first\n",
    "#remove element from list\n",
    "element=mylist.pop(2)\n",
    "#add element to mylist\n",
    "mylist.insert(0,element)\n",
    "#look at list\n",
    "#print(mylist)\n",
    "#create list for index\n",
    "myindex=['2','3','4','5', 'Missing']\n",
    "#create sereis\n",
    "myseries=pd.Series(mylist,index=myindex)\n",
    "#look atseries\n",
    "myseries"
   ]
  },
  {
   "cell_type": "code",
   "execution_count": 30,
   "id": "6e01f9b9",
   "metadata": {},
   "outputs": [
    {
     "data": {
      "application/vnd.plotly.v1+json": {
       "config": {
        "plotlyServerURL": "https://plot.ly"
       },
       "data": [
        {
         "bingroup": "x",
         "hovertemplate": " 1st Winning Number=%{x}<br>count=%{y}<extra></extra>",
         "legendgroup": "",
         "marker": {
          "color": "khaki",
          "pattern": {
           "shape": ""
          }
         },
         "name": "",
         "nbinsx": 100,
         "orientation": "v",
         "showlegend": false,
         "type": "histogram",
         "x": {
          "bdata": "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",
          "dtype": "i1"
         },
         "xaxis": "x",
         "yaxis": "y"
        }
       ],
       "layout": {
        "barmode": "relative",
        "legend": {
         "tracegroupgap": 0
        },
        "template": {
         "data": {
          "bar": [
           {
            "error_x": {
             "color": "#2a3f5f"
            },
            "error_y": {
             "color": "#2a3f5f"
            },
            "marker": {
             "line": {
              "color": "#E5ECF6",
              "width": 0.5
             },
             "pattern": {
              "fillmode": "overlay",
              "size": 10,
              "solidity": 0.2
             }
            },
            "type": "bar"
           }
          ],
          "barpolar": [
           {
            "marker": {
             "line": {
              "color": "#E5ECF6",
              "width": 0.5
             },
             "pattern": {
              "fillmode": "overlay",
              "size": 10,
              "solidity": 0.2
             }
            },
            "type": "barpolar"
           }
          ],
          "carpet": [
           {
            "aaxis": {
             "endlinecolor": "#2a3f5f",
             "gridcolor": "white",
             "linecolor": "white",
             "minorgridcolor": "white",
             "startlinecolor": "#2a3f5f"
            },
            "baxis": {
             "endlinecolor": "#2a3f5f",
             "gridcolor": "white",
             "linecolor": "white",
             "minorgridcolor": "white",
             "startlinecolor": "#2a3f5f"
            },
            "type": "carpet"
           }
          ],
          "choropleth": [
           {
            "colorbar": {
             "outlinewidth": 0,
             "ticks": ""
            },
            "type": "choropleth"
           }
          ],
          "contour": [
           {
            "colorbar": {
             "outlinewidth": 0,
             "ticks": ""
            },
            "colorscale": [
             [
              0,
              "#0d0887"
             ],
             [
              0.1111111111111111,
              "#46039f"
             ],
             [
              0.2222222222222222,
              "#7201a8"
             ],
             [
              0.3333333333333333,
              "#9c179e"
             ],
             [
              0.4444444444444444,
              "#bd3786"
             ],
             [
              0.5555555555555556,
              "#d8576b"
             ],
             [
              0.6666666666666666,
              "#ed7953"
             ],
             [
              0.7777777777777778,
              "#fb9f3a"
             ],
             [
              0.8888888888888888,
              "#fdca26"
             ],
             [
              1,
              "#f0f921"
             ]
            ],
            "type": "contour"
           }
          ],
          "contourcarpet": [
           {
            "colorbar": {
             "outlinewidth": 0,
             "ticks": ""
            },
            "type": "contourcarpet"
           }
          ],
          "heatmap": [
           {
            "colorbar": {
             "outlinewidth": 0,
             "ticks": ""
            },
            "colorscale": [
             [
              0,
              "#0d0887"
             ],
             [
              0.1111111111111111,
              "#46039f"
             ],
             [
              0.2222222222222222,
              "#7201a8"
             ],
             [
              0.3333333333333333,
              "#9c179e"
             ],
             [
              0.4444444444444444,
              "#bd3786"
             ],
             [
              0.5555555555555556,
              "#d8576b"
             ],
             [
              0.6666666666666666,
              "#ed7953"
             ],
             [
              0.7777777777777778,
              "#fb9f3a"
             ],
             [
              0.8888888888888888,
              "#fdca26"
             ],
             [
              1,
              "#f0f921"
             ]
            ],
            "type": "heatmap"
           }
          ],
          "histogram": [
           {
            "marker": {
             "pattern": {
              "fillmode": "overlay",
              "size": 10,
              "solidity": 0.2
             }
            },
            "type": "histogram"
           }
          ],
          "histogram2d": [
           {
            "colorbar": {
             "outlinewidth": 0,
             "ticks": ""
            },
            "colorscale": [
             [
              0,
              "#0d0887"
             ],
             [
              0.1111111111111111,
              "#46039f"
             ],
             [
              0.2222222222222222,
              "#7201a8"
             ],
             [
              0.3333333333333333,
              "#9c179e"
             ],
             [
              0.4444444444444444,
              "#bd3786"
             ],
             [
              0.5555555555555556,
              "#d8576b"
             ],
             [
              0.6666666666666666,
              "#ed7953"
             ],
             [
              0.7777777777777778,
              "#fb9f3a"
             ],
             [
              0.8888888888888888,
              "#fdca26"
             ],
             [
              1,
              "#f0f921"
             ]
            ],
            "type": "histogram2d"
           }
          ],
          "histogram2dcontour": [
           {
            "colorbar": {
             "outlinewidth": 0,
             "ticks": ""
            },
            "colorscale": [
             [
              0,
              "#0d0887"
             ],
             [
              0.1111111111111111,
              "#46039f"
             ],
             [
              0.2222222222222222,
              "#7201a8"
             ],
             [
              0.3333333333333333,
              "#9c179e"
             ],
             [
              0.4444444444444444,
              "#bd3786"
             ],
             [
              0.5555555555555556,
              "#d8576b"
             ],
             [
              0.6666666666666666,
              "#ed7953"
             ],
             [
              0.7777777777777778,
              "#fb9f3a"
             ],
             [
              0.8888888888888888,
              "#fdca26"
             ],
             [
              1,
              "#f0f921"
             ]
            ],
            "type": "histogram2dcontour"
           }
          ],
          "mesh3d": [
           {
            "colorbar": {
             "outlinewidth": 0,
             "ticks": ""
            },
            "type": "mesh3d"
           }
          ],
          "parcoords": [
           {
            "line": {
             "colorbar": {
              "outlinewidth": 0,
              "ticks": ""
             }
            },
            "type": "parcoords"
           }
          ],
          "pie": [
           {
            "automargin": true,
            "type": "pie"
           }
          ],
          "scatter": [
           {
            "fillpattern": {
             "fillmode": "overlay",
             "size": 10,
             "solidity": 0.2
            },
            "type": "scatter"
           }
          ],
          "scatter3d": [
           {
            "line": {
             "colorbar": {
              "outlinewidth": 0,
              "ticks": ""
             }
            },
            "marker": {
             "colorbar": {
              "outlinewidth": 0,
              "ticks": ""
             }
            },
            "type": "scatter3d"
           }
          ],
          "scattercarpet": [
           {
            "marker": {
             "colorbar": {
              "outlinewidth": 0,
              "ticks": ""
             }
            },
            "type": "scattercarpet"
           }
          ],
          "scattergeo": [
           {
            "marker": {
             "colorbar": {
              "outlinewidth": 0,
              "ticks": ""
             }
            },
            "type": "scattergeo"
           }
          ],
          "scattergl": [
           {
            "marker": {
             "colorbar": {
              "outlinewidth": 0,
              "ticks": ""
             }
            },
            "type": "scattergl"
           }
          ],
          "scattermap": [
           {
            "marker": {
             "colorbar": {
              "outlinewidth": 0,
              "ticks": ""
             }
            },
            "type": "scattermap"
           }
          ],
          "scattermapbox": [
           {
            "marker": {
             "colorbar": {
              "outlinewidth": 0,
              "ticks": ""
             }
            },
            "type": "scattermapbox"
           }
          ],
          "scatterpolar": [
           {
            "marker": {
             "colorbar": {
              "outlinewidth": 0,
              "ticks": ""
             }
            },
            "type": "scatterpolar"
           }
          ],
          "scatterpolargl": [
           {
            "marker": {
             "colorbar": {
              "outlinewidth": 0,
              "ticks": ""
             }
            },
            "type": "scatterpolargl"
           }
          ],
          "scatterternary": [
           {
            "marker": {
             "colorbar": {
              "outlinewidth": 0,
              "ticks": ""
             }
            },
            "type": "scatterternary"
           }
          ],
          "surface": [
           {
            "colorbar": {
             "outlinewidth": 0,
             "ticks": ""
            },
            "colorscale": [
             [
              0,
              "#0d0887"
             ],
             [
              0.1111111111111111,
              "#46039f"
             ],
             [
              0.2222222222222222,
              "#7201a8"
             ],
             [
              0.3333333333333333,
              "#9c179e"
             ],
             [
              0.4444444444444444,
              "#bd3786"
             ],
             [
              0.5555555555555556,
              "#d8576b"
             ],
             [
              0.6666666666666666,
              "#ed7953"
             ],
             [
              0.7777777777777778,
              "#fb9f3a"
             ],
             [
              0.8888888888888888,
              "#fdca26"
             ],
             [
              1,
              "#f0f921"
             ]
            ],
            "type": "surface"
           }
          ],
          "table": [
           {
            "cells": {
             "fill": {
              "color": "#EBF0F8"
             },
             "line": {
              "color": "white"
             }
            },
            "header": {
             "fill": {
              "color": "#C8D4E3"
             },
             "line": {
              "color": "white"
             }
            },
            "type": "table"
           }
          ]
         },
         "layout": {
          "annotationdefaults": {
           "arrowcolor": "#2a3f5f",
           "arrowhead": 0,
           "arrowwidth": 1
          },
          "autotypenumbers": "strict",
          "coloraxis": {
           "colorbar": {
            "outlinewidth": 0,
            "ticks": ""
           }
          },
          "colorscale": {
           "diverging": [
            [
             0,
             "#8e0152"
            ],
            [
             0.1,
             "#c51b7d"
            ],
            [
             0.2,
             "#de77ae"
            ],
            [
             0.3,
             "#f1b6da"
            ],
            [
             0.4,
             "#fde0ef"
            ],
            [
             0.5,
             "#f7f7f7"
            ],
            [
             0.6,
             "#e6f5d0"
            ],
            [
             0.7,
             "#b8e186"
            ],
            [
             0.8,
             "#7fbc41"
            ],
            [
             0.9,
             "#4d9221"
            ],
            [
             1,
             "#276419"
            ]
           ],
           "sequential": [
            [
             0,
             "#0d0887"
            ],
            [
             0.1111111111111111,
             "#46039f"
            ],
            [
             0.2222222222222222,
             "#7201a8"
            ],
            [
             0.3333333333333333,
             "#9c179e"
            ],
            [
             0.4444444444444444,
             "#bd3786"
            ],
            [
             0.5555555555555556,
             "#d8576b"
            ],
            [
             0.6666666666666666,
             "#ed7953"
            ],
            [
             0.7777777777777778,
             "#fb9f3a"
            ],
            [
             0.8888888888888888,
             "#fdca26"
            ],
            [
             1,
             "#f0f921"
            ]
           ],
           "sequentialminus": [
            [
             0,
             "#0d0887"
            ],
            [
             0.1111111111111111,
             "#46039f"
            ],
            [
             0.2222222222222222,
             "#7201a8"
            ],
            [
             0.3333333333333333,
             "#9c179e"
            ],
            [
             0.4444444444444444,
             "#bd3786"
            ],
            [
             0.5555555555555556,
             "#d8576b"
            ],
            [
             0.6666666666666666,
             "#ed7953"
            ],
            [
             0.7777777777777778,
             "#fb9f3a"
            ],
            [
             0.8888888888888888,
             "#fdca26"
            ],
            [
             1,
             "#f0f921"
            ]
           ]
          },
          "colorway": [
           "#636efa",
           "#EF553B",
           "#00cc96",
           "#ab63fa",
           "#FFA15A",
           "#19d3f3",
           "#FF6692",
           "#B6E880",
           "#FF97FF",
           "#FECB52"
          ],
          "font": {
           "color": "#2a3f5f"
          },
          "geo": {
           "bgcolor": "white",
           "lakecolor": "white",
           "landcolor": "#E5ECF6",
           "showlakes": true,
           "showland": true,
           "subunitcolor": "white"
          },
          "hoverlabel": {
           "align": "left"
          },
          "hovermode": "closest",
          "mapbox": {
           "style": "light"
          },
          "paper_bgcolor": "white",
          "plot_bgcolor": "#E5ECF6",
          "polar": {
           "angularaxis": {
            "gridcolor": "white",
            "linecolor": "white",
            "ticks": ""
           },
           "bgcolor": "#E5ECF6",
           "radialaxis": {
            "gridcolor": "white",
            "linecolor": "white",
            "ticks": ""
           }
          },
          "scene": {
           "xaxis": {
            "backgroundcolor": "#E5ECF6",
            "gridcolor": "white",
            "gridwidth": 2,
            "linecolor": "white",
            "showbackground": true,
            "ticks": "",
            "zerolinecolor": "white"
           },
           "yaxis": {
            "backgroundcolor": "#E5ECF6",
            "gridcolor": "white",
            "gridwidth": 2,
            "linecolor": "white",
            "showbackground": true,
            "ticks": "",
            "zerolinecolor": "white"
           },
           "zaxis": {
            "backgroundcolor": "#E5ECF6",
            "gridcolor": "white",
            "gridwidth": 2,
            "linecolor": "white",
            "showbackground": true,
            "ticks": "",
            "zerolinecolor": "white"
           }
          },
          "shapedefaults": {
           "line": {
            "color": "#2a3f5f"
           }
          },
          "ternary": {
           "aaxis": {
            "gridcolor": "white",
            "linecolor": "white",
            "ticks": ""
           },
           "baxis": {
            "gridcolor": "white",
            "linecolor": "white",
            "ticks": ""
           },
           "bgcolor": "#E5ECF6",
           "caxis": {
            "gridcolor": "white",
            "linecolor": "white",
            "ticks": ""
           }
          },
          "title": {
           "x": 0.05
          },
          "xaxis": {
           "automargin": true,
           "gridcolor": "white",
           "linecolor": "white",
           "ticks": "",
           "title": {
            "standoff": 15
           },
           "zerolinecolor": "white",
           "zerolinewidth": 2
          },
          "yaxis": {
           "automargin": true,
           "gridcolor": "white",
           "linecolor": "white",
           "ticks": "",
           "title": {
            "standoff": 15
           },
           "zerolinecolor": "white",
           "zerolinewidth": 2
          }
         }
        },
        "title": {
         "text": "Histogram of the Distribution of the 1st Winning Number"
        },
        "xaxis": {
         "anchor": "y",
         "domain": [
          0,
          1
         ],
         "title": {
          "text": " 1st Winning Number"
         }
        },
        "yaxis": {
         "anchor": "x",
         "domain": [
          0,
          1
         ],
         "title": {
          "text": "count"
         }
        }
       }
      }
     },
     "metadata": {},
     "output_type": "display_data"
    }
   ],
   "source": [
    "#histogram of 1st winning number\n",
    "fig = px.histogram(df, x=\"win_num_1\", nbins=100,title=\"Histogram of the Distribution of the 1st Winning Number\",labels={\n",
    "                     \"win_num_1\": \" 1st Winning Number\"},color_discrete_sequence=['khaki'])\n",
    "fig.show()"
   ]
  },
  {
   "cell_type": "code",
   "execution_count": 31,
   "id": "a5ad2c8f",
   "metadata": {},
   "outputs": [
    {
     "data": {
      "application/vnd.plotly.v1+json": {
       "config": {
        "plotlyServerURL": "https://plot.ly"
       },
       "data": [
        {
         "bingroup": "x",
         "hovertemplate": " 2nd Winning Number=%{x}<br>count=%{y}<extra></extra>",
         "legendgroup": "",
         "marker": {
          "color": "darksalmon",
          "pattern": {
           "shape": ""
          }
         },
         "name": "",
         "nbinsx": 100,
         "orientation": "v",
         "showlegend": false,
         "type": "histogram",
         "x": {
          "bdata": "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",
          "dtype": "i1"
         },
         "xaxis": "x",
         "yaxis": "y"
        }
       ],
       "layout": {
        "barmode": "relative",
        "legend": {
         "tracegroupgap": 0
        },
        "template": {
         "data": {
          "bar": [
           {
            "error_x": {
             "color": "#2a3f5f"
            },
            "error_y": {
             "color": "#2a3f5f"
            },
            "marker": {
             "line": {
              "color": "#E5ECF6",
              "width": 0.5
             },
             "pattern": {
              "fillmode": "overlay",
              "size": 10,
              "solidity": 0.2
             }
            },
            "type": "bar"
           }
          ],
          "barpolar": [
           {
            "marker": {
             "line": {
              "color": "#E5ECF6",
              "width": 0.5
             },
             "pattern": {
              "fillmode": "overlay",
              "size": 10,
              "solidity": 0.2
             }
            },
            "type": "barpolar"
           }
          ],
          "carpet": [
           {
            "aaxis": {
             "endlinecolor": "#2a3f5f",
             "gridcolor": "white",
             "linecolor": "white",
             "minorgridcolor": "white",
             "startlinecolor": "#2a3f5f"
            },
            "baxis": {
             "endlinecolor": "#2a3f5f",
             "gridcolor": "white",
             "linecolor": "white",
             "minorgridcolor": "white",
             "startlinecolor": "#2a3f5f"
            },
            "type": "carpet"
           }
          ],
          "choropleth": [
           {
            "colorbar": {
             "outlinewidth": 0,
             "ticks": ""
            },
            "type": "choropleth"
           }
          ],
          "contour": [
           {
            "colorbar": {
             "outlinewidth": 0,
             "ticks": ""
            },
            "colorscale": [
             [
              0,
              "#0d0887"
             ],
             [
              0.1111111111111111,
              "#46039f"
             ],
             [
              0.2222222222222222,
              "#7201a8"
             ],
             [
              0.3333333333333333,
              "#9c179e"
             ],
             [
              0.4444444444444444,
              "#bd3786"
             ],
             [
              0.5555555555555556,
              "#d8576b"
             ],
             [
              0.6666666666666666,
              "#ed7953"
             ],
             [
              0.7777777777777778,
              "#fb9f3a"
             ],
             [
              0.8888888888888888,
              "#fdca26"
             ],
             [
              1,
              "#f0f921"
             ]
            ],
            "type": "contour"
           }
          ],
          "contourcarpet": [
           {
            "colorbar": {
             "outlinewidth": 0,
             "ticks": ""
            },
            "type": "contourcarpet"
           }
          ],
          "heatmap": [
           {
            "colorbar": {
             "outlinewidth": 0,
             "ticks": ""
            },
            "colorscale": [
             [
              0,
              "#0d0887"
             ],
             [
              0.1111111111111111,
              "#46039f"
             ],
             [
              0.2222222222222222,
              "#7201a8"
             ],
             [
              0.3333333333333333,
              "#9c179e"
             ],
             [
              0.4444444444444444,
              "#bd3786"
             ],
             [
              0.5555555555555556,
              "#d8576b"
             ],
             [
              0.6666666666666666,
              "#ed7953"
             ],
             [
              0.7777777777777778,
              "#fb9f3a"
             ],
             [
              0.8888888888888888,
              "#fdca26"
             ],
             [
              1,
              "#f0f921"
             ]
            ],
            "type": "heatmap"
           }
          ],
          "histogram": [
           {
            "marker": {
             "pattern": {
              "fillmode": "overlay",
              "size": 10,
              "solidity": 0.2
             }
            },
            "type": "histogram"
           }
          ],
          "histogram2d": [
           {
            "colorbar": {
             "outlinewidth": 0,
             "ticks": ""
            },
            "colorscale": [
             [
              0,
              "#0d0887"
             ],
             [
              0.1111111111111111,
              "#46039f"
             ],
             [
              0.2222222222222222,
              "#7201a8"
             ],
             [
              0.3333333333333333,
              "#9c179e"
             ],
             [
              0.4444444444444444,
              "#bd3786"
             ],
             [
              0.5555555555555556,
              "#d8576b"
             ],
             [
              0.6666666666666666,
              "#ed7953"
             ],
             [
              0.7777777777777778,
              "#fb9f3a"
             ],
             [
              0.8888888888888888,
              "#fdca26"
             ],
             [
              1,
              "#f0f921"
             ]
            ],
            "type": "histogram2d"
           }
          ],
          "histogram2dcontour": [
           {
            "colorbar": {
             "outlinewidth": 0,
             "ticks": ""
            },
            "colorscale": [
             [
              0,
              "#0d0887"
             ],
             [
              0.1111111111111111,
              "#46039f"
             ],
             [
              0.2222222222222222,
              "#7201a8"
             ],
             [
              0.3333333333333333,
              "#9c179e"
             ],
             [
              0.4444444444444444,
              "#bd3786"
             ],
             [
              0.5555555555555556,
              "#d8576b"
             ],
             [
              0.6666666666666666,
              "#ed7953"
             ],
             [
              0.7777777777777778,
              "#fb9f3a"
             ],
             [
              0.8888888888888888,
              "#fdca26"
             ],
             [
              1,
              "#f0f921"
             ]
            ],
            "type": "histogram2dcontour"
           }
          ],
          "mesh3d": [
           {
            "colorbar": {
             "outlinewidth": 0,
             "ticks": ""
            },
            "type": "mesh3d"
           }
          ],
          "parcoords": [
           {
            "line": {
             "colorbar": {
              "outlinewidth": 0,
              "ticks": ""
             }
            },
            "type": "parcoords"
           }
          ],
          "pie": [
           {
            "automargin": true,
            "type": "pie"
           }
          ],
          "scatter": [
           {
            "fillpattern": {
             "fillmode": "overlay",
             "size": 10,
             "solidity": 0.2
            },
            "type": "scatter"
           }
          ],
          "scatter3d": [
           {
            "line": {
             "colorbar": {
              "outlinewidth": 0,
              "ticks": ""
             }
            },
            "marker": {
             "colorbar": {
              "outlinewidth": 0,
              "ticks": ""
             }
            },
            "type": "scatter3d"
           }
          ],
          "scattercarpet": [
           {
            "marker": {
             "colorbar": {
              "outlinewidth": 0,
              "ticks": ""
             }
            },
            "type": "scattercarpet"
           }
          ],
          "scattergeo": [
           {
            "marker": {
             "colorbar": {
              "outlinewidth": 0,
              "ticks": ""
             }
            },
            "type": "scattergeo"
           }
          ],
          "scattergl": [
           {
            "marker": {
             "colorbar": {
              "outlinewidth": 0,
              "ticks": ""
             }
            },
            "type": "scattergl"
           }
          ],
          "scattermap": [
           {
            "marker": {
             "colorbar": {
              "outlinewidth": 0,
              "ticks": ""
             }
            },
            "type": "scattermap"
           }
          ],
          "scattermapbox": [
           {
            "marker": {
             "colorbar": {
              "outlinewidth": 0,
              "ticks": ""
             }
            },
            "type": "scattermapbox"
           }
          ],
          "scatterpolar": [
           {
            "marker": {
             "colorbar": {
              "outlinewidth": 0,
              "ticks": ""
             }
            },
            "type": "scatterpolar"
           }
          ],
          "scatterpolargl": [
           {
            "marker": {
             "colorbar": {
              "outlinewidth": 0,
              "ticks": ""
             }
            },
            "type": "scatterpolargl"
           }
          ],
          "scatterternary": [
           {
            "marker": {
             "colorbar": {
              "outlinewidth": 0,
              "ticks": ""
             }
            },
            "type": "scatterternary"
           }
          ],
          "surface": [
           {
            "colorbar": {
             "outlinewidth": 0,
             "ticks": ""
            },
            "colorscale": [
             [
              0,
              "#0d0887"
             ],
             [
              0.1111111111111111,
              "#46039f"
             ],
             [
              0.2222222222222222,
              "#7201a8"
             ],
             [
              0.3333333333333333,
              "#9c179e"
             ],
             [
              0.4444444444444444,
              "#bd3786"
             ],
             [
              0.5555555555555556,
              "#d8576b"
             ],
             [
              0.6666666666666666,
              "#ed7953"
             ],
             [
              0.7777777777777778,
              "#fb9f3a"
             ],
             [
              0.8888888888888888,
              "#fdca26"
             ],
             [
              1,
              "#f0f921"
             ]
            ],
            "type": "surface"
           }
          ],
          "table": [
           {
            "cells": {
             "fill": {
              "color": "#EBF0F8"
             },
             "line": {
              "color": "white"
             }
            },
            "header": {
             "fill": {
              "color": "#C8D4E3"
             },
             "line": {
              "color": "white"
             }
            },
            "type": "table"
           }
          ]
         },
         "layout": {
          "annotationdefaults": {
           "arrowcolor": "#2a3f5f",
           "arrowhead": 0,
           "arrowwidth": 1
          },
          "autotypenumbers": "strict",
          "coloraxis": {
           "colorbar": {
            "outlinewidth": 0,
            "ticks": ""
           }
          },
          "colorscale": {
           "diverging": [
            [
             0,
             "#8e0152"
            ],
            [
             0.1,
             "#c51b7d"
            ],
            [
             0.2,
             "#de77ae"
            ],
            [
             0.3,
             "#f1b6da"
            ],
            [
             0.4,
             "#fde0ef"
            ],
            [
             0.5,
             "#f7f7f7"
            ],
            [
             0.6,
             "#e6f5d0"
            ],
            [
             0.7,
             "#b8e186"
            ],
            [
             0.8,
             "#7fbc41"
            ],
            [
             0.9,
             "#4d9221"
            ],
            [
             1,
             "#276419"
            ]
           ],
           "sequential": [
            [
             0,
             "#0d0887"
            ],
            [
             0.1111111111111111,
             "#46039f"
            ],
            [
             0.2222222222222222,
             "#7201a8"
            ],
            [
             0.3333333333333333,
             "#9c179e"
            ],
            [
             0.4444444444444444,
             "#bd3786"
            ],
            [
             0.5555555555555556,
             "#d8576b"
            ],
            [
             0.6666666666666666,
             "#ed7953"
            ],
            [
             0.7777777777777778,
             "#fb9f3a"
            ],
            [
             0.8888888888888888,
             "#fdca26"
            ],
            [
             1,
             "#f0f921"
            ]
           ],
           "sequentialminus": [
            [
             0,
             "#0d0887"
            ],
            [
             0.1111111111111111,
             "#46039f"
            ],
            [
             0.2222222222222222,
             "#7201a8"
            ],
            [
             0.3333333333333333,
             "#9c179e"
            ],
            [
             0.4444444444444444,
             "#bd3786"
            ],
            [
             0.5555555555555556,
             "#d8576b"
            ],
            [
             0.6666666666666666,
             "#ed7953"
            ],
            [
             0.7777777777777778,
             "#fb9f3a"
            ],
            [
             0.8888888888888888,
             "#fdca26"
            ],
            [
             1,
             "#f0f921"
            ]
           ]
          },
          "colorway": [
           "#636efa",
           "#EF553B",
           "#00cc96",
           "#ab63fa",
           "#FFA15A",
           "#19d3f3",
           "#FF6692",
           "#B6E880",
           "#FF97FF",
           "#FECB52"
          ],
          "font": {
           "color": "#2a3f5f"
          },
          "geo": {
           "bgcolor": "white",
           "lakecolor": "white",
           "landcolor": "#E5ECF6",
           "showlakes": true,
           "showland": true,
           "subunitcolor": "white"
          },
          "hoverlabel": {
           "align": "left"
          },
          "hovermode": "closest",
          "mapbox": {
           "style": "light"
          },
          "paper_bgcolor": "white",
          "plot_bgcolor": "#E5ECF6",
          "polar": {
           "angularaxis": {
            "gridcolor": "white",
            "linecolor": "white",
            "ticks": ""
           },
           "bgcolor": "#E5ECF6",
           "radialaxis": {
            "gridcolor": "white",
            "linecolor": "white",
            "ticks": ""
           }
          },
          "scene": {
           "xaxis": {
            "backgroundcolor": "#E5ECF6",
            "gridcolor": "white",
            "gridwidth": 2,
            "linecolor": "white",
            "showbackground": true,
            "ticks": "",
            "zerolinecolor": "white"
           },
           "yaxis": {
            "backgroundcolor": "#E5ECF6",
            "gridcolor": "white",
            "gridwidth": 2,
            "linecolor": "white",
            "showbackground": true,
            "ticks": "",
            "zerolinecolor": "white"
           },
           "zaxis": {
            "backgroundcolor": "#E5ECF6",
            "gridcolor": "white",
            "gridwidth": 2,
            "linecolor": "white",
            "showbackground": true,
            "ticks": "",
            "zerolinecolor": "white"
           }
          },
          "shapedefaults": {
           "line": {
            "color": "#2a3f5f"
           }
          },
          "ternary": {
           "aaxis": {
            "gridcolor": "white",
            "linecolor": "white",
            "ticks": ""
           },
           "baxis": {
            "gridcolor": "white",
            "linecolor": "white",
            "ticks": ""
           },
           "bgcolor": "#E5ECF6",
           "caxis": {
            "gridcolor": "white",
            "linecolor": "white",
            "ticks": ""
           }
          },
          "title": {
           "x": 0.05
          },
          "xaxis": {
           "automargin": true,
           "gridcolor": "white",
           "linecolor": "white",
           "ticks": "",
           "title": {
            "standoff": 15
           },
           "zerolinecolor": "white",
           "zerolinewidth": 2
          },
          "yaxis": {
           "automargin": true,
           "gridcolor": "white",
           "linecolor": "white",
           "ticks": "",
           "title": {
            "standoff": 15
           },
           "zerolinecolor": "white",
           "zerolinewidth": 2
          }
         }
        },
        "title": {
         "text": "Histogram of the Distribution of the 2nd Winning Number"
        },
        "xaxis": {
         "anchor": "y",
         "domain": [
          0,
          1
         ],
         "title": {
          "text": " 2nd Winning Number"
         }
        },
        "yaxis": {
         "anchor": "x",
         "domain": [
          0,
          1
         ],
         "title": {
          "text": "count"
         }
        }
       }
      }
     },
     "metadata": {},
     "output_type": "display_data"
    }
   ],
   "source": [
    "#histogram of 2nd winning number\n",
    "fig = px.histogram(df, x=\"win_num_2\", nbins=100,title=\"Histogram of the Distribution of the 2nd Winning Number\",labels={\n",
    "                     \"win_num_2\": \" 2nd Winning Number\"},color_discrete_sequence=['darksalmon'])\n",
    "fig.show()"
   ]
  },
  {
   "cell_type": "code",
   "execution_count": 32,
   "id": "2b6a064f",
   "metadata": {},
   "outputs": [
    {
     "data": {
      "application/vnd.plotly.v1+json": {
       "config": {
        "plotlyServerURL": "https://plot.ly"
       },
       "data": [
        {
         "bingroup": "x",
         "hovertemplate": " 3rd Winning Number=%{x}<br>count=%{y}<extra></extra>",
         "legendgroup": "",
         "marker": {
          "color": "navy",
          "pattern": {
           "shape": ""
          }
         },
         "name": "",
         "nbinsx": 100,
         "orientation": "v",
         "showlegend": false,
         "type": "histogram",
         "x": {
          "bdata": "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",
          "dtype": "i1"
         },
         "xaxis": "x",
         "yaxis": "y"
        }
       ],
       "layout": {
        "barmode": "relative",
        "legend": {
         "tracegroupgap": 0
        },
        "template": {
         "data": {
          "bar": [
           {
            "error_x": {
             "color": "#2a3f5f"
            },
            "error_y": {
             "color": "#2a3f5f"
            },
            "marker": {
             "line": {
              "color": "#E5ECF6",
              "width": 0.5
             },
             "pattern": {
              "fillmode": "overlay",
              "size": 10,
              "solidity": 0.2
             }
            },
            "type": "bar"
           }
          ],
          "barpolar": [
           {
            "marker": {
             "line": {
              "color": "#E5ECF6",
              "width": 0.5
             },
             "pattern": {
              "fillmode": "overlay",
              "size": 10,
              "solidity": 0.2
             }
            },
            "type": "barpolar"
           }
          ],
          "carpet": [
           {
            "aaxis": {
             "endlinecolor": "#2a3f5f",
             "gridcolor": "white",
             "linecolor": "white",
             "minorgridcolor": "white",
             "startlinecolor": "#2a3f5f"
            },
            "baxis": {
             "endlinecolor": "#2a3f5f",
             "gridcolor": "white",
             "linecolor": "white",
             "minorgridcolor": "white",
             "startlinecolor": "#2a3f5f"
            },
            "type": "carpet"
           }
          ],
          "choropleth": [
           {
            "colorbar": {
             "outlinewidth": 0,
             "ticks": ""
            },
            "type": "choropleth"
           }
          ],
          "contour": [
           {
            "colorbar": {
             "outlinewidth": 0,
             "ticks": ""
            },
            "colorscale": [
             [
              0,
              "#0d0887"
             ],
             [
              0.1111111111111111,
              "#46039f"
             ],
             [
              0.2222222222222222,
              "#7201a8"
             ],
             [
              0.3333333333333333,
              "#9c179e"
             ],
             [
              0.4444444444444444,
              "#bd3786"
             ],
             [
              0.5555555555555556,
              "#d8576b"
             ],
             [
              0.6666666666666666,
              "#ed7953"
             ],
             [
              0.7777777777777778,
              "#fb9f3a"
             ],
             [
              0.8888888888888888,
              "#fdca26"
             ],
             [
              1,
              "#f0f921"
             ]
            ],
            "type": "contour"
           }
          ],
          "contourcarpet": [
           {
            "colorbar": {
             "outlinewidth": 0,
             "ticks": ""
            },
            "type": "contourcarpet"
           }
          ],
          "heatmap": [
           {
            "colorbar": {
             "outlinewidth": 0,
             "ticks": ""
            },
            "colorscale": [
             [
              0,
              "#0d0887"
             ],
             [
              0.1111111111111111,
              "#46039f"
             ],
             [
              0.2222222222222222,
              "#7201a8"
             ],
             [
              0.3333333333333333,
              "#9c179e"
             ],
             [
              0.4444444444444444,
              "#bd3786"
             ],
             [
              0.5555555555555556,
              "#d8576b"
             ],
             [
              0.6666666666666666,
              "#ed7953"
             ],
             [
              0.7777777777777778,
              "#fb9f3a"
             ],
             [
              0.8888888888888888,
              "#fdca26"
             ],
             [
              1,
              "#f0f921"
             ]
            ],
            "type": "heatmap"
           }
          ],
          "histogram": [
           {
            "marker": {
             "pattern": {
              "fillmode": "overlay",
              "size": 10,
              "solidity": 0.2
             }
            },
            "type": "histogram"
           }
          ],
          "histogram2d": [
           {
            "colorbar": {
             "outlinewidth": 0,
             "ticks": ""
            },
            "colorscale": [
             [
              0,
              "#0d0887"
             ],
             [
              0.1111111111111111,
              "#46039f"
             ],
             [
              0.2222222222222222,
              "#7201a8"
             ],
             [
              0.3333333333333333,
              "#9c179e"
             ],
             [
              0.4444444444444444,
              "#bd3786"
             ],
             [
              0.5555555555555556,
              "#d8576b"
             ],
             [
              0.6666666666666666,
              "#ed7953"
             ],
             [
              0.7777777777777778,
              "#fb9f3a"
             ],
             [
              0.8888888888888888,
              "#fdca26"
             ],
             [
              1,
              "#f0f921"
             ]
            ],
            "type": "histogram2d"
           }
          ],
          "histogram2dcontour": [
           {
            "colorbar": {
             "outlinewidth": 0,
             "ticks": ""
            },
            "colorscale": [
             [
              0,
              "#0d0887"
             ],
             [
              0.1111111111111111,
              "#46039f"
             ],
             [
              0.2222222222222222,
              "#7201a8"
             ],
             [
              0.3333333333333333,
              "#9c179e"
             ],
             [
              0.4444444444444444,
              "#bd3786"
             ],
             [
              0.5555555555555556,
              "#d8576b"
             ],
             [
              0.6666666666666666,
              "#ed7953"
             ],
             [
              0.7777777777777778,
              "#fb9f3a"
             ],
             [
              0.8888888888888888,
              "#fdca26"
             ],
             [
              1,
              "#f0f921"
             ]
            ],
            "type": "histogram2dcontour"
           }
          ],
          "mesh3d": [
           {
            "colorbar": {
             "outlinewidth": 0,
             "ticks": ""
            },
            "type": "mesh3d"
           }
          ],
          "parcoords": [
           {
            "line": {
             "colorbar": {
              "outlinewidth": 0,
              "ticks": ""
             }
            },
            "type": "parcoords"
           }
          ],
          "pie": [
           {
            "automargin": true,
            "type": "pie"
           }
          ],
          "scatter": [
           {
            "fillpattern": {
             "fillmode": "overlay",
             "size": 10,
             "solidity": 0.2
            },
            "type": "scatter"
           }
          ],
          "scatter3d": [
           {
            "line": {
             "colorbar": {
              "outlinewidth": 0,
              "ticks": ""
             }
            },
            "marker": {
             "colorbar": {
              "outlinewidth": 0,
              "ticks": ""
             }
            },
            "type": "scatter3d"
           }
          ],
          "scattercarpet": [
           {
            "marker": {
             "colorbar": {
              "outlinewidth": 0,
              "ticks": ""
             }
            },
            "type": "scattercarpet"
           }
          ],
          "scattergeo": [
           {
            "marker": {
             "colorbar": {
              "outlinewidth": 0,
              "ticks": ""
             }
            },
            "type": "scattergeo"
           }
          ],
          "scattergl": [
           {
            "marker": {
             "colorbar": {
              "outlinewidth": 0,
              "ticks": ""
             }
            },
            "type": "scattergl"
           }
          ],
          "scattermap": [
           {
            "marker": {
             "colorbar": {
              "outlinewidth": 0,
              "ticks": ""
             }
            },
            "type": "scattermap"
           }
          ],
          "scattermapbox": [
           {
            "marker": {
             "colorbar": {
              "outlinewidth": 0,
              "ticks": ""
             }
            },
            "type": "scattermapbox"
           }
          ],
          "scatterpolar": [
           {
            "marker": {
             "colorbar": {
              "outlinewidth": 0,
              "ticks": ""
             }
            },
            "type": "scatterpolar"
           }
          ],
          "scatterpolargl": [
           {
            "marker": {
             "colorbar": {
              "outlinewidth": 0,
              "ticks": ""
             }
            },
            "type": "scatterpolargl"
           }
          ],
          "scatterternary": [
           {
            "marker": {
             "colorbar": {
              "outlinewidth": 0,
              "ticks": ""
             }
            },
            "type": "scatterternary"
           }
          ],
          "surface": [
           {
            "colorbar": {
             "outlinewidth": 0,
             "ticks": ""
            },
            "colorscale": [
             [
              0,
              "#0d0887"
             ],
             [
              0.1111111111111111,
              "#46039f"
             ],
             [
              0.2222222222222222,
              "#7201a8"
             ],
             [
              0.3333333333333333,
              "#9c179e"
             ],
             [
              0.4444444444444444,
              "#bd3786"
             ],
             [
              0.5555555555555556,
              "#d8576b"
             ],
             [
              0.6666666666666666,
              "#ed7953"
             ],
             [
              0.7777777777777778,
              "#fb9f3a"
             ],
             [
              0.8888888888888888,
              "#fdca26"
             ],
             [
              1,
              "#f0f921"
             ]
            ],
            "type": "surface"
           }
          ],
          "table": [
           {
            "cells": {
             "fill": {
              "color": "#EBF0F8"
             },
             "line": {
              "color": "white"
             }
            },
            "header": {
             "fill": {
              "color": "#C8D4E3"
             },
             "line": {
              "color": "white"
             }
            },
            "type": "table"
           }
          ]
         },
         "layout": {
          "annotationdefaults": {
           "arrowcolor": "#2a3f5f",
           "arrowhead": 0,
           "arrowwidth": 1
          },
          "autotypenumbers": "strict",
          "coloraxis": {
           "colorbar": {
            "outlinewidth": 0,
            "ticks": ""
           }
          },
          "colorscale": {
           "diverging": [
            [
             0,
             "#8e0152"
            ],
            [
             0.1,
             "#c51b7d"
            ],
            [
             0.2,
             "#de77ae"
            ],
            [
             0.3,
             "#f1b6da"
            ],
            [
             0.4,
             "#fde0ef"
            ],
            [
             0.5,
             "#f7f7f7"
            ],
            [
             0.6,
             "#e6f5d0"
            ],
            [
             0.7,
             "#b8e186"
            ],
            [
             0.8,
             "#7fbc41"
            ],
            [
             0.9,
             "#4d9221"
            ],
            [
             1,
             "#276419"
            ]
           ],
           "sequential": [
            [
             0,
             "#0d0887"
            ],
            [
             0.1111111111111111,
             "#46039f"
            ],
            [
             0.2222222222222222,
             "#7201a8"
            ],
            [
             0.3333333333333333,
             "#9c179e"
            ],
            [
             0.4444444444444444,
             "#bd3786"
            ],
            [
             0.5555555555555556,
             "#d8576b"
            ],
            [
             0.6666666666666666,
             "#ed7953"
            ],
            [
             0.7777777777777778,
             "#fb9f3a"
            ],
            [
             0.8888888888888888,
             "#fdca26"
            ],
            [
             1,
             "#f0f921"
            ]
           ],
           "sequentialminus": [
            [
             0,
             "#0d0887"
            ],
            [
             0.1111111111111111,
             "#46039f"
            ],
            [
             0.2222222222222222,
             "#7201a8"
            ],
            [
             0.3333333333333333,
             "#9c179e"
            ],
            [
             0.4444444444444444,
             "#bd3786"
            ],
            [
             0.5555555555555556,
             "#d8576b"
            ],
            [
             0.6666666666666666,
             "#ed7953"
            ],
            [
             0.7777777777777778,
             "#fb9f3a"
            ],
            [
             0.8888888888888888,
             "#fdca26"
            ],
            [
             1,
             "#f0f921"
            ]
           ]
          },
          "colorway": [
           "#636efa",
           "#EF553B",
           "#00cc96",
           "#ab63fa",
           "#FFA15A",
           "#19d3f3",
           "#FF6692",
           "#B6E880",
           "#FF97FF",
           "#FECB52"
          ],
          "font": {
           "color": "#2a3f5f"
          },
          "geo": {
           "bgcolor": "white",
           "lakecolor": "white",
           "landcolor": "#E5ECF6",
           "showlakes": true,
           "showland": true,
           "subunitcolor": "white"
          },
          "hoverlabel": {
           "align": "left"
          },
          "hovermode": "closest",
          "mapbox": {
           "style": "light"
          },
          "paper_bgcolor": "white",
          "plot_bgcolor": "#E5ECF6",
          "polar": {
           "angularaxis": {
            "gridcolor": "white",
            "linecolor": "white",
            "ticks": ""
           },
           "bgcolor": "#E5ECF6",
           "radialaxis": {
            "gridcolor": "white",
            "linecolor": "white",
            "ticks": ""
           }
          },
          "scene": {
           "xaxis": {
            "backgroundcolor": "#E5ECF6",
            "gridcolor": "white",
            "gridwidth": 2,
            "linecolor": "white",
            "showbackground": true,
            "ticks": "",
            "zerolinecolor": "white"
           },
           "yaxis": {
            "backgroundcolor": "#E5ECF6",
            "gridcolor": "white",
            "gridwidth": 2,
            "linecolor": "white",
            "showbackground": true,
            "ticks": "",
            "zerolinecolor": "white"
           },
           "zaxis": {
            "backgroundcolor": "#E5ECF6",
            "gridcolor": "white",
            "gridwidth": 2,
            "linecolor": "white",
            "showbackground": true,
            "ticks": "",
            "zerolinecolor": "white"
           }
          },
          "shapedefaults": {
           "line": {
            "color": "#2a3f5f"
           }
          },
          "ternary": {
           "aaxis": {
            "gridcolor": "white",
            "linecolor": "white",
            "ticks": ""
           },
           "baxis": {
            "gridcolor": "white",
            "linecolor": "white",
            "ticks": ""
           },
           "bgcolor": "#E5ECF6",
           "caxis": {
            "gridcolor": "white",
            "linecolor": "white",
            "ticks": ""
           }
          },
          "title": {
           "x": 0.05
          },
          "xaxis": {
           "automargin": true,
           "gridcolor": "white",
           "linecolor": "white",
           "ticks": "",
           "title": {
            "standoff": 15
           },
           "zerolinecolor": "white",
           "zerolinewidth": 2
          },
          "yaxis": {
           "automargin": true,
           "gridcolor": "white",
           "linecolor": "white",
           "ticks": "",
           "title": {
            "standoff": 15
           },
           "zerolinecolor": "white",
           "zerolinewidth": 2
          }
         }
        },
        "title": {
         "text": "Histogram of the Distribution of the 3rd Winning Number"
        },
        "xaxis": {
         "anchor": "y",
         "domain": [
          0,
          1
         ],
         "title": {
          "text": " 3rd Winning Number"
         }
        },
        "yaxis": {
         "anchor": "x",
         "domain": [
          0,
          1
         ],
         "title": {
          "text": "count"
         }
        }
       }
      }
     },
     "metadata": {},
     "output_type": "display_data"
    }
   ],
   "source": [
    "#histogram of 3rd winning number\n",
    "fig = px.histogram(df, x=\"win_num_3\", nbins=100,title=\"Histogram of the Distribution of the 3rd Winning Number\",labels={\n",
    "                     \"win_num_3\": \" 3rd Winning Number\"},color_discrete_sequence=['navy'])\n",
    "fig.show()"
   ]
  },
  {
   "cell_type": "code",
   "execution_count": 33,
   "id": "534cf176",
   "metadata": {},
   "outputs": [
    {
     "data": {
      "application/vnd.plotly.v1+json": {
       "config": {
        "plotlyServerURL": "https://plot.ly"
       },
       "data": [
        {
         "bingroup": "x",
         "hovertemplate": " 4th Winning Number=%{x}<br>count=%{y}<extra></extra>",
         "legendgroup": "",
         "marker": {
          "color": "mediumturquoise",
          "pattern": {
           "shape": ""
          }
         },
         "name": "",
         "nbinsx": 100,
         "orientation": "v",
         "showlegend": false,
         "type": "histogram",
         "x": {
          "bdata": "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",
          "dtype": "i1"
         },
         "xaxis": "x",
         "yaxis": "y"
        }
       ],
       "layout": {
        "barmode": "relative",
        "legend": {
         "tracegroupgap": 0
        },
        "template": {
         "data": {
          "bar": [
           {
            "error_x": {
             "color": "#2a3f5f"
            },
            "error_y": {
             "color": "#2a3f5f"
            },
            "marker": {
             "line": {
              "color": "#E5ECF6",
              "width": 0.5
             },
             "pattern": {
              "fillmode": "overlay",
              "size": 10,
              "solidity": 0.2
             }
            },
            "type": "bar"
           }
          ],
          "barpolar": [
           {
            "marker": {
             "line": {
              "color": "#E5ECF6",
              "width": 0.5
             },
             "pattern": {
              "fillmode": "overlay",
              "size": 10,
              "solidity": 0.2
             }
            },
            "type": "barpolar"
           }
          ],
          "carpet": [
           {
            "aaxis": {
             "endlinecolor": "#2a3f5f",
             "gridcolor": "white",
             "linecolor": "white",
             "minorgridcolor": "white",
             "startlinecolor": "#2a3f5f"
            },
            "baxis": {
             "endlinecolor": "#2a3f5f",
             "gridcolor": "white",
             "linecolor": "white",
             "minorgridcolor": "white",
             "startlinecolor": "#2a3f5f"
            },
            "type": "carpet"
           }
          ],
          "choropleth": [
           {
            "colorbar": {
             "outlinewidth": 0,
             "ticks": ""
            },
            "type": "choropleth"
           }
          ],
          "contour": [
           {
            "colorbar": {
             "outlinewidth": 0,
             "ticks": ""
            },
            "colorscale": [
             [
              0,
              "#0d0887"
             ],
             [
              0.1111111111111111,
              "#46039f"
             ],
             [
              0.2222222222222222,
              "#7201a8"
             ],
             [
              0.3333333333333333,
              "#9c179e"
             ],
             [
              0.4444444444444444,
              "#bd3786"
             ],
             [
              0.5555555555555556,
              "#d8576b"
             ],
             [
              0.6666666666666666,
              "#ed7953"
             ],
             [
              0.7777777777777778,
              "#fb9f3a"
             ],
             [
              0.8888888888888888,
              "#fdca26"
             ],
             [
              1,
              "#f0f921"
             ]
            ],
            "type": "contour"
           }
          ],
          "contourcarpet": [
           {
            "colorbar": {
             "outlinewidth": 0,
             "ticks": ""
            },
            "type": "contourcarpet"
           }
          ],
          "heatmap": [
           {
            "colorbar": {
             "outlinewidth": 0,
             "ticks": ""
            },
            "colorscale": [
             [
              0,
              "#0d0887"
             ],
             [
              0.1111111111111111,
              "#46039f"
             ],
             [
              0.2222222222222222,
              "#7201a8"
             ],
             [
              0.3333333333333333,
              "#9c179e"
             ],
             [
              0.4444444444444444,
              "#bd3786"
             ],
             [
              0.5555555555555556,
              "#d8576b"
             ],
             [
              0.6666666666666666,
              "#ed7953"
             ],
             [
              0.7777777777777778,
              "#fb9f3a"
             ],
             [
              0.8888888888888888,
              "#fdca26"
             ],
             [
              1,
              "#f0f921"
             ]
            ],
            "type": "heatmap"
           }
          ],
          "histogram": [
           {
            "marker": {
             "pattern": {
              "fillmode": "overlay",
              "size": 10,
              "solidity": 0.2
             }
            },
            "type": "histogram"
           }
          ],
          "histogram2d": [
           {
            "colorbar": {
             "outlinewidth": 0,
             "ticks": ""
            },
            "colorscale": [
             [
              0,
              "#0d0887"
             ],
             [
              0.1111111111111111,
              "#46039f"
             ],
             [
              0.2222222222222222,
              "#7201a8"
             ],
             [
              0.3333333333333333,
              "#9c179e"
             ],
             [
              0.4444444444444444,
              "#bd3786"
             ],
             [
              0.5555555555555556,
              "#d8576b"
             ],
             [
              0.6666666666666666,
              "#ed7953"
             ],
             [
              0.7777777777777778,
              "#fb9f3a"
             ],
             [
              0.8888888888888888,
              "#fdca26"
             ],
             [
              1,
              "#f0f921"
             ]
            ],
            "type": "histogram2d"
           }
          ],
          "histogram2dcontour": [
           {
            "colorbar": {
             "outlinewidth": 0,
             "ticks": ""
            },
            "colorscale": [
             [
              0,
              "#0d0887"
             ],
             [
              0.1111111111111111,
              "#46039f"
             ],
             [
              0.2222222222222222,
              "#7201a8"
             ],
             [
              0.3333333333333333,
              "#9c179e"
             ],
             [
              0.4444444444444444,
              "#bd3786"
             ],
             [
              0.5555555555555556,
              "#d8576b"
             ],
             [
              0.6666666666666666,
              "#ed7953"
             ],
             [
              0.7777777777777778,
              "#fb9f3a"
             ],
             [
              0.8888888888888888,
              "#fdca26"
             ],
             [
              1,
              "#f0f921"
             ]
            ],
            "type": "histogram2dcontour"
           }
          ],
          "mesh3d": [
           {
            "colorbar": {
             "outlinewidth": 0,
             "ticks": ""
            },
            "type": "mesh3d"
           }
          ],
          "parcoords": [
           {
            "line": {
             "colorbar": {
              "outlinewidth": 0,
              "ticks": ""
             }
            },
            "type": "parcoords"
           }
          ],
          "pie": [
           {
            "automargin": true,
            "type": "pie"
           }
          ],
          "scatter": [
           {
            "fillpattern": {
             "fillmode": "overlay",
             "size": 10,
             "solidity": 0.2
            },
            "type": "scatter"
           }
          ],
          "scatter3d": [
           {
            "line": {
             "colorbar": {
              "outlinewidth": 0,
              "ticks": ""
             }
            },
            "marker": {
             "colorbar": {
              "outlinewidth": 0,
              "ticks": ""
             }
            },
            "type": "scatter3d"
           }
          ],
          "scattercarpet": [
           {
            "marker": {
             "colorbar": {
              "outlinewidth": 0,
              "ticks": ""
             }
            },
            "type": "scattercarpet"
           }
          ],
          "scattergeo": [
           {
            "marker": {
             "colorbar": {
              "outlinewidth": 0,
              "ticks": ""
             }
            },
            "type": "scattergeo"
           }
          ],
          "scattergl": [
           {
            "marker": {
             "colorbar": {
              "outlinewidth": 0,
              "ticks": ""
             }
            },
            "type": "scattergl"
           }
          ],
          "scattermap": [
           {
            "marker": {
             "colorbar": {
              "outlinewidth": 0,
              "ticks": ""
             }
            },
            "type": "scattermap"
           }
          ],
          "scattermapbox": [
           {
            "marker": {
             "colorbar": {
              "outlinewidth": 0,
              "ticks": ""
             }
            },
            "type": "scattermapbox"
           }
          ],
          "scatterpolar": [
           {
            "marker": {
             "colorbar": {
              "outlinewidth": 0,
              "ticks": ""
             }
            },
            "type": "scatterpolar"
           }
          ],
          "scatterpolargl": [
           {
            "marker": {
             "colorbar": {
              "outlinewidth": 0,
              "ticks": ""
             }
            },
            "type": "scatterpolargl"
           }
          ],
          "scatterternary": [
           {
            "marker": {
             "colorbar": {
              "outlinewidth": 0,
              "ticks": ""
             }
            },
            "type": "scatterternary"
           }
          ],
          "surface": [
           {
            "colorbar": {
             "outlinewidth": 0,
             "ticks": ""
            },
            "colorscale": [
             [
              0,
              "#0d0887"
             ],
             [
              0.1111111111111111,
              "#46039f"
             ],
             [
              0.2222222222222222,
              "#7201a8"
             ],
             [
              0.3333333333333333,
              "#9c179e"
             ],
             [
              0.4444444444444444,
              "#bd3786"
             ],
             [
              0.5555555555555556,
              "#d8576b"
             ],
             [
              0.6666666666666666,
              "#ed7953"
             ],
             [
              0.7777777777777778,
              "#fb9f3a"
             ],
             [
              0.8888888888888888,
              "#fdca26"
             ],
             [
              1,
              "#f0f921"
             ]
            ],
            "type": "surface"
           }
          ],
          "table": [
           {
            "cells": {
             "fill": {
              "color": "#EBF0F8"
             },
             "line": {
              "color": "white"
             }
            },
            "header": {
             "fill": {
              "color": "#C8D4E3"
             },
             "line": {
              "color": "white"
             }
            },
            "type": "table"
           }
          ]
         },
         "layout": {
          "annotationdefaults": {
           "arrowcolor": "#2a3f5f",
           "arrowhead": 0,
           "arrowwidth": 1
          },
          "autotypenumbers": "strict",
          "coloraxis": {
           "colorbar": {
            "outlinewidth": 0,
            "ticks": ""
           }
          },
          "colorscale": {
           "diverging": [
            [
             0,
             "#8e0152"
            ],
            [
             0.1,
             "#c51b7d"
            ],
            [
             0.2,
             "#de77ae"
            ],
            [
             0.3,
             "#f1b6da"
            ],
            [
             0.4,
             "#fde0ef"
            ],
            [
             0.5,
             "#f7f7f7"
            ],
            [
             0.6,
             "#e6f5d0"
            ],
            [
             0.7,
             "#b8e186"
            ],
            [
             0.8,
             "#7fbc41"
            ],
            [
             0.9,
             "#4d9221"
            ],
            [
             1,
             "#276419"
            ]
           ],
           "sequential": [
            [
             0,
             "#0d0887"
            ],
            [
             0.1111111111111111,
             "#46039f"
            ],
            [
             0.2222222222222222,
             "#7201a8"
            ],
            [
             0.3333333333333333,
             "#9c179e"
            ],
            [
             0.4444444444444444,
             "#bd3786"
            ],
            [
             0.5555555555555556,
             "#d8576b"
            ],
            [
             0.6666666666666666,
             "#ed7953"
            ],
            [
             0.7777777777777778,
             "#fb9f3a"
            ],
            [
             0.8888888888888888,
             "#fdca26"
            ],
            [
             1,
             "#f0f921"
            ]
           ],
           "sequentialminus": [
            [
             0,
             "#0d0887"
            ],
            [
             0.1111111111111111,
             "#46039f"
            ],
            [
             0.2222222222222222,
             "#7201a8"
            ],
            [
             0.3333333333333333,
             "#9c179e"
            ],
            [
             0.4444444444444444,
             "#bd3786"
            ],
            [
             0.5555555555555556,
             "#d8576b"
            ],
            [
             0.6666666666666666,
             "#ed7953"
            ],
            [
             0.7777777777777778,
             "#fb9f3a"
            ],
            [
             0.8888888888888888,
             "#fdca26"
            ],
            [
             1,
             "#f0f921"
            ]
           ]
          },
          "colorway": [
           "#636efa",
           "#EF553B",
           "#00cc96",
           "#ab63fa",
           "#FFA15A",
           "#19d3f3",
           "#FF6692",
           "#B6E880",
           "#FF97FF",
           "#FECB52"
          ],
          "font": {
           "color": "#2a3f5f"
          },
          "geo": {
           "bgcolor": "white",
           "lakecolor": "white",
           "landcolor": "#E5ECF6",
           "showlakes": true,
           "showland": true,
           "subunitcolor": "white"
          },
          "hoverlabel": {
           "align": "left"
          },
          "hovermode": "closest",
          "mapbox": {
           "style": "light"
          },
          "paper_bgcolor": "white",
          "plot_bgcolor": "#E5ECF6",
          "polar": {
           "angularaxis": {
            "gridcolor": "white",
            "linecolor": "white",
            "ticks": ""
           },
           "bgcolor": "#E5ECF6",
           "radialaxis": {
            "gridcolor": "white",
            "linecolor": "white",
            "ticks": ""
           }
          },
          "scene": {
           "xaxis": {
            "backgroundcolor": "#E5ECF6",
            "gridcolor": "white",
            "gridwidth": 2,
            "linecolor": "white",
            "showbackground": true,
            "ticks": "",
            "zerolinecolor": "white"
           },
           "yaxis": {
            "backgroundcolor": "#E5ECF6",
            "gridcolor": "white",
            "gridwidth": 2,
            "linecolor": "white",
            "showbackground": true,
            "ticks": "",
            "zerolinecolor": "white"
           },
           "zaxis": {
            "backgroundcolor": "#E5ECF6",
            "gridcolor": "white",
            "gridwidth": 2,
            "linecolor": "white",
            "showbackground": true,
            "ticks": "",
            "zerolinecolor": "white"
           }
          },
          "shapedefaults": {
           "line": {
            "color": "#2a3f5f"
           }
          },
          "ternary": {
           "aaxis": {
            "gridcolor": "white",
            "linecolor": "white",
            "ticks": ""
           },
           "baxis": {
            "gridcolor": "white",
            "linecolor": "white",
            "ticks": ""
           },
           "bgcolor": "#E5ECF6",
           "caxis": {
            "gridcolor": "white",
            "linecolor": "white",
            "ticks": ""
           }
          },
          "title": {
           "x": 0.05
          },
          "xaxis": {
           "automargin": true,
           "gridcolor": "white",
           "linecolor": "white",
           "ticks": "",
           "title": {
            "standoff": 15
           },
           "zerolinecolor": "white",
           "zerolinewidth": 2
          },
          "yaxis": {
           "automargin": true,
           "gridcolor": "white",
           "linecolor": "white",
           "ticks": "",
           "title": {
            "standoff": 15
           },
           "zerolinecolor": "white",
           "zerolinewidth": 2
          }
         }
        },
        "title": {
         "text": "Histogram of the Distribution of the 4th Winning Number"
        },
        "xaxis": {
         "anchor": "y",
         "domain": [
          0,
          1
         ],
         "title": {
          "text": " 4th Winning Number"
         }
        },
        "yaxis": {
         "anchor": "x",
         "domain": [
          0,
          1
         ],
         "title": {
          "text": "count"
         }
        }
       }
      }
     },
     "metadata": {},
     "output_type": "display_data"
    }
   ],
   "source": [
    "#histogram of 4th winning number\n",
    "fig = px.histogram(df, x=\"win_num_4\", nbins=100,title=\"Histogram of the Distribution of the 4th Winning Number\",labels={\n",
    "                     \"win_num_4\": \" 4th Winning Number\"},color_discrete_sequence=['mediumturquoise'])\n",
    "fig.show()"
   ]
  },
  {
   "cell_type": "code",
   "execution_count": 34,
   "id": "099fdedc",
   "metadata": {},
   "outputs": [
    {
     "data": {
      "application/vnd.plotly.v1+json": {
       "config": {
        "plotlyServerURL": "https://plot.ly"
       },
       "data": [
        {
         "bingroup": "x",
         "hovertemplate": " 5th Winning Number=%{x}<br>count=%{y}<extra></extra>",
         "legendgroup": "",
         "marker": {
          "color": "steelblue",
          "pattern": {
           "shape": ""
          }
         },
         "name": "",
         "nbinsx": 100,
         "orientation": "v",
         "showlegend": false,
         "type": "histogram",
         "x": {
          "bdata": "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",
          "dtype": "i1"
         },
         "xaxis": "x",
         "yaxis": "y"
        }
       ],
       "layout": {
        "barmode": "relative",
        "legend": {
         "tracegroupgap": 0
        },
        "template": {
         "data": {
          "bar": [
           {
            "error_x": {
             "color": "#2a3f5f"
            },
            "error_y": {
             "color": "#2a3f5f"
            },
            "marker": {
             "line": {
              "color": "#E5ECF6",
              "width": 0.5
             },
             "pattern": {
              "fillmode": "overlay",
              "size": 10,
              "solidity": 0.2
             }
            },
            "type": "bar"
           }
          ],
          "barpolar": [
           {
            "marker": {
             "line": {
              "color": "#E5ECF6",
              "width": 0.5
             },
             "pattern": {
              "fillmode": "overlay",
              "size": 10,
              "solidity": 0.2
             }
            },
            "type": "barpolar"
           }
          ],
          "carpet": [
           {
            "aaxis": {
             "endlinecolor": "#2a3f5f",
             "gridcolor": "white",
             "linecolor": "white",
             "minorgridcolor": "white",
             "startlinecolor": "#2a3f5f"
            },
            "baxis": {
             "endlinecolor": "#2a3f5f",
             "gridcolor": "white",
             "linecolor": "white",
             "minorgridcolor": "white",
             "startlinecolor": "#2a3f5f"
            },
            "type": "carpet"
           }
          ],
          "choropleth": [
           {
            "colorbar": {
             "outlinewidth": 0,
             "ticks": ""
            },
            "type": "choropleth"
           }
          ],
          "contour": [
           {
            "colorbar": {
             "outlinewidth": 0,
             "ticks": ""
            },
            "colorscale": [
             [
              0,
              "#0d0887"
             ],
             [
              0.1111111111111111,
              "#46039f"
             ],
             [
              0.2222222222222222,
              "#7201a8"
             ],
             [
              0.3333333333333333,
              "#9c179e"
             ],
             [
              0.4444444444444444,
              "#bd3786"
             ],
             [
              0.5555555555555556,
              "#d8576b"
             ],
             [
              0.6666666666666666,
              "#ed7953"
             ],
             [
              0.7777777777777778,
              "#fb9f3a"
             ],
             [
              0.8888888888888888,
              "#fdca26"
             ],
             [
              1,
              "#f0f921"
             ]
            ],
            "type": "contour"
           }
          ],
          "contourcarpet": [
           {
            "colorbar": {
             "outlinewidth": 0,
             "ticks": ""
            },
            "type": "contourcarpet"
           }
          ],
          "heatmap": [
           {
            "colorbar": {
             "outlinewidth": 0,
             "ticks": ""
            },
            "colorscale": [
             [
              0,
              "#0d0887"
             ],
             [
              0.1111111111111111,
              "#46039f"
             ],
             [
              0.2222222222222222,
              "#7201a8"
             ],
             [
              0.3333333333333333,
              "#9c179e"
             ],
             [
              0.4444444444444444,
              "#bd3786"
             ],
             [
              0.5555555555555556,
              "#d8576b"
             ],
             [
              0.6666666666666666,
              "#ed7953"
             ],
             [
              0.7777777777777778,
              "#fb9f3a"
             ],
             [
              0.8888888888888888,
              "#fdca26"
             ],
             [
              1,
              "#f0f921"
             ]
            ],
            "type": "heatmap"
           }
          ],
          "histogram": [
           {
            "marker": {
             "pattern": {
              "fillmode": "overlay",
              "size": 10,
              "solidity": 0.2
             }
            },
            "type": "histogram"
           }
          ],
          "histogram2d": [
           {
            "colorbar": {
             "outlinewidth": 0,
             "ticks": ""
            },
            "colorscale": [
             [
              0,
              "#0d0887"
             ],
             [
              0.1111111111111111,
              "#46039f"
             ],
             [
              0.2222222222222222,
              "#7201a8"
             ],
             [
              0.3333333333333333,
              "#9c179e"
             ],
             [
              0.4444444444444444,
              "#bd3786"
             ],
             [
              0.5555555555555556,
              "#d8576b"
             ],
             [
              0.6666666666666666,
              "#ed7953"
             ],
             [
              0.7777777777777778,
              "#fb9f3a"
             ],
             [
              0.8888888888888888,
              "#fdca26"
             ],
             [
              1,
              "#f0f921"
             ]
            ],
            "type": "histogram2d"
           }
          ],
          "histogram2dcontour": [
           {
            "colorbar": {
             "outlinewidth": 0,
             "ticks": ""
            },
            "colorscale": [
             [
              0,
              "#0d0887"
             ],
             [
              0.1111111111111111,
              "#46039f"
             ],
             [
              0.2222222222222222,
              "#7201a8"
             ],
             [
              0.3333333333333333,
              "#9c179e"
             ],
             [
              0.4444444444444444,
              "#bd3786"
             ],
             [
              0.5555555555555556,
              "#d8576b"
             ],
             [
              0.6666666666666666,
              "#ed7953"
             ],
             [
              0.7777777777777778,
              "#fb9f3a"
             ],
             [
              0.8888888888888888,
              "#fdca26"
             ],
             [
              1,
              "#f0f921"
             ]
            ],
            "type": "histogram2dcontour"
           }
          ],
          "mesh3d": [
           {
            "colorbar": {
             "outlinewidth": 0,
             "ticks": ""
            },
            "type": "mesh3d"
           }
          ],
          "parcoords": [
           {
            "line": {
             "colorbar": {
              "outlinewidth": 0,
              "ticks": ""
             }
            },
            "type": "parcoords"
           }
          ],
          "pie": [
           {
            "automargin": true,
            "type": "pie"
           }
          ],
          "scatter": [
           {
            "fillpattern": {
             "fillmode": "overlay",
             "size": 10,
             "solidity": 0.2
            },
            "type": "scatter"
           }
          ],
          "scatter3d": [
           {
            "line": {
             "colorbar": {
              "outlinewidth": 0,
              "ticks": ""
             }
            },
            "marker": {
             "colorbar": {
              "outlinewidth": 0,
              "ticks": ""
             }
            },
            "type": "scatter3d"
           }
          ],
          "scattercarpet": [
           {
            "marker": {
             "colorbar": {
              "outlinewidth": 0,
              "ticks": ""
             }
            },
            "type": "scattercarpet"
           }
          ],
          "scattergeo": [
           {
            "marker": {
             "colorbar": {
              "outlinewidth": 0,
              "ticks": ""
             }
            },
            "type": "scattergeo"
           }
          ],
          "scattergl": [
           {
            "marker": {
             "colorbar": {
              "outlinewidth": 0,
              "ticks": ""
             }
            },
            "type": "scattergl"
           }
          ],
          "scattermap": [
           {
            "marker": {
             "colorbar": {
              "outlinewidth": 0,
              "ticks": ""
             }
            },
            "type": "scattermap"
           }
          ],
          "scattermapbox": [
           {
            "marker": {
             "colorbar": {
              "outlinewidth": 0,
              "ticks": ""
             }
            },
            "type": "scattermapbox"
           }
          ],
          "scatterpolar": [
           {
            "marker": {
             "colorbar": {
              "outlinewidth": 0,
              "ticks": ""
             }
            },
            "type": "scatterpolar"
           }
          ],
          "scatterpolargl": [
           {
            "marker": {
             "colorbar": {
              "outlinewidth": 0,
              "ticks": ""
             }
            },
            "type": "scatterpolargl"
           }
          ],
          "scatterternary": [
           {
            "marker": {
             "colorbar": {
              "outlinewidth": 0,
              "ticks": ""
             }
            },
            "type": "scatterternary"
           }
          ],
          "surface": [
           {
            "colorbar": {
             "outlinewidth": 0,
             "ticks": ""
            },
            "colorscale": [
             [
              0,
              "#0d0887"
             ],
             [
              0.1111111111111111,
              "#46039f"
             ],
             [
              0.2222222222222222,
              "#7201a8"
             ],
             [
              0.3333333333333333,
              "#9c179e"
             ],
             [
              0.4444444444444444,
              "#bd3786"
             ],
             [
              0.5555555555555556,
              "#d8576b"
             ],
             [
              0.6666666666666666,
              "#ed7953"
             ],
             [
              0.7777777777777778,
              "#fb9f3a"
             ],
             [
              0.8888888888888888,
              "#fdca26"
             ],
             [
              1,
              "#f0f921"
             ]
            ],
            "type": "surface"
           }
          ],
          "table": [
           {
            "cells": {
             "fill": {
              "color": "#EBF0F8"
             },
             "line": {
              "color": "white"
             }
            },
            "header": {
             "fill": {
              "color": "#C8D4E3"
             },
             "line": {
              "color": "white"
             }
            },
            "type": "table"
           }
          ]
         },
         "layout": {
          "annotationdefaults": {
           "arrowcolor": "#2a3f5f",
           "arrowhead": 0,
           "arrowwidth": 1
          },
          "autotypenumbers": "strict",
          "coloraxis": {
           "colorbar": {
            "outlinewidth": 0,
            "ticks": ""
           }
          },
          "colorscale": {
           "diverging": [
            [
             0,
             "#8e0152"
            ],
            [
             0.1,
             "#c51b7d"
            ],
            [
             0.2,
             "#de77ae"
            ],
            [
             0.3,
             "#f1b6da"
            ],
            [
             0.4,
             "#fde0ef"
            ],
            [
             0.5,
             "#f7f7f7"
            ],
            [
             0.6,
             "#e6f5d0"
            ],
            [
             0.7,
             "#b8e186"
            ],
            [
             0.8,
             "#7fbc41"
            ],
            [
             0.9,
             "#4d9221"
            ],
            [
             1,
             "#276419"
            ]
           ],
           "sequential": [
            [
             0,
             "#0d0887"
            ],
            [
             0.1111111111111111,
             "#46039f"
            ],
            [
             0.2222222222222222,
             "#7201a8"
            ],
            [
             0.3333333333333333,
             "#9c179e"
            ],
            [
             0.4444444444444444,
             "#bd3786"
            ],
            [
             0.5555555555555556,
             "#d8576b"
            ],
            [
             0.6666666666666666,
             "#ed7953"
            ],
            [
             0.7777777777777778,
             "#fb9f3a"
            ],
            [
             0.8888888888888888,
             "#fdca26"
            ],
            [
             1,
             "#f0f921"
            ]
           ],
           "sequentialminus": [
            [
             0,
             "#0d0887"
            ],
            [
             0.1111111111111111,
             "#46039f"
            ],
            [
             0.2222222222222222,
             "#7201a8"
            ],
            [
             0.3333333333333333,
             "#9c179e"
            ],
            [
             0.4444444444444444,
             "#bd3786"
            ],
            [
             0.5555555555555556,
             "#d8576b"
            ],
            [
             0.6666666666666666,
             "#ed7953"
            ],
            [
             0.7777777777777778,
             "#fb9f3a"
            ],
            [
             0.8888888888888888,
             "#fdca26"
            ],
            [
             1,
             "#f0f921"
            ]
           ]
          },
          "colorway": [
           "#636efa",
           "#EF553B",
           "#00cc96",
           "#ab63fa",
           "#FFA15A",
           "#19d3f3",
           "#FF6692",
           "#B6E880",
           "#FF97FF",
           "#FECB52"
          ],
          "font": {
           "color": "#2a3f5f"
          },
          "geo": {
           "bgcolor": "white",
           "lakecolor": "white",
           "landcolor": "#E5ECF6",
           "showlakes": true,
           "showland": true,
           "subunitcolor": "white"
          },
          "hoverlabel": {
           "align": "left"
          },
          "hovermode": "closest",
          "mapbox": {
           "style": "light"
          },
          "paper_bgcolor": "white",
          "plot_bgcolor": "#E5ECF6",
          "polar": {
           "angularaxis": {
            "gridcolor": "white",
            "linecolor": "white",
            "ticks": ""
           },
           "bgcolor": "#E5ECF6",
           "radialaxis": {
            "gridcolor": "white",
            "linecolor": "white",
            "ticks": ""
           }
          },
          "scene": {
           "xaxis": {
            "backgroundcolor": "#E5ECF6",
            "gridcolor": "white",
            "gridwidth": 2,
            "linecolor": "white",
            "showbackground": true,
            "ticks": "",
            "zerolinecolor": "white"
           },
           "yaxis": {
            "backgroundcolor": "#E5ECF6",
            "gridcolor": "white",
            "gridwidth": 2,
            "linecolor": "white",
            "showbackground": true,
            "ticks": "",
            "zerolinecolor": "white"
           },
           "zaxis": {
            "backgroundcolor": "#E5ECF6",
            "gridcolor": "white",
            "gridwidth": 2,
            "linecolor": "white",
            "showbackground": true,
            "ticks": "",
            "zerolinecolor": "white"
           }
          },
          "shapedefaults": {
           "line": {
            "color": "#2a3f5f"
           }
          },
          "ternary": {
           "aaxis": {
            "gridcolor": "white",
            "linecolor": "white",
            "ticks": ""
           },
           "baxis": {
            "gridcolor": "white",
            "linecolor": "white",
            "ticks": ""
           },
           "bgcolor": "#E5ECF6",
           "caxis": {
            "gridcolor": "white",
            "linecolor": "white",
            "ticks": ""
           }
          },
          "title": {
           "x": 0.05
          },
          "xaxis": {
           "automargin": true,
           "gridcolor": "white",
           "linecolor": "white",
           "ticks": "",
           "title": {
            "standoff": 15
           },
           "zerolinecolor": "white",
           "zerolinewidth": 2
          },
          "yaxis": {
           "automargin": true,
           "gridcolor": "white",
           "linecolor": "white",
           "ticks": "",
           "title": {
            "standoff": 15
           },
           "zerolinecolor": "white",
           "zerolinewidth": 2
          }
         }
        },
        "title": {
         "text": "Histogram of the Distribution of the 5th Winning Number"
        },
        "xaxis": {
         "anchor": "y",
         "domain": [
          0,
          1
         ],
         "title": {
          "text": " 5th Winning Number"
         }
        },
        "yaxis": {
         "anchor": "x",
         "domain": [
          0,
          1
         ],
         "title": {
          "text": "count"
         }
        }
       }
      }
     },
     "metadata": {},
     "output_type": "display_data"
    }
   ],
   "source": [
    "#histogram of 5th winning number\n",
    "fig = px.histogram(df, x=\"win_num_5\", nbins=100,title=\"Histogram of the Distribution of the 5th Winning Number\",labels={\n",
    "                     \"win_num_5\": \" 5th Winning Number\"},color_discrete_sequence=['steelblue'])\n",
    "fig.show()"
   ]
  },
  {
   "cell_type": "code",
   "execution_count": null,
   "id": "7e2dc082",
   "metadata": {},
   "outputs": [
    {
     "data": {
      "application/vnd.plotly.v1+json": {
       "config": {
        "plotlyServerURL": "https://plot.ly"
       },
       "data": [
        {
         "hoverinfo": "text",
         "hovertext": [
          "15 18 25 33 47",
          "04 28 39 41 44",
          "02 04 32 44 52",
          "06 21 22 29 32",
          "12 28 45 46 52",
          "03 25 29 30 48",
          "14 22 27 28 42",
          "05 06 09 33 44",
          "04 08 32 37 43",
          "06 13 18 27 45",
          "13 18 32 39 49",
          "04 18 21 27 41",
          "18 31 49 50 51",
          "14 22 32 35 44",
          "11 20 26 29 41",
          "26 29 31 44 48",
          "13 19 23 38 47",
          "10 24 35 49 52",
          "07 15 24 37 46",
          "10 12 29 32 38",
          "20 27 28 37 49",
          "02 06 22 27 44",
          "10 16 23 28 31",
          "02 06 38 40 50",
          "07 17 23 43 44",
          "03 10 15 18 25",
          "22 31 33 44 52",
          "02 13 20 23 43",
          "05 19 20 45 48",
          "02 05 11 18 45",
          "06 31 32 42 51",
          "08 23 36 49 51",
          "31 39 42 49 51",
          "04 06 10 21 25",
          "24 32 37 40 51",
          "07 10 19 26 44",
          "01 02 04 05 46",
          "08 32 34 42 50",
          "23 27 30 33 36",
          "07 21 30 32 37",
          "10 42 43 45 51",
          "18 34 43 47 50",
          "09 11 17 26 41",
          "06 20 27 34 51",
          "10 31 40 48 51",
          "16 20 26 36 48",
          "08 15 34 39 47",
          "09 10 14 41 49",
          "05 10 22 23 43",
          "02 07 16 28 36",
          "17 19 37 47 48",
          "03 28 45 48 50",
          "06 17 44 49 51",
          "07 16 20 40 52",
          "11 16 19 22 46",
          "03 21 27 31 43",
          "08 25 33 42 49",
          "01 15 19 40 51",
          "04 08 30 36 52",
          "03 05 09 16 31",
          "02 13 14 24 46",
          "03 07 21 29 49",
          "10 14 41 46 49",
          "08 24 39 43 52",
          "11 14 26 30 39",
          "08 21 29 42 51",
          "06 14 28 37 46",
          "15 16 28 34 51",
          "07 17 18 34 50",
          "30 39 41 47 52",
          "25 26 38 42 46",
          "04 41 48 50 51",
          "16 31 37 40 41",
          "13 24 26 32 47",
          "01 08 09 19 22",
          "05 12 16 22 24",
          "03 09 20 26 27",
          "18 20 23 48 49",
          "11 13 19 32 47",
          "12 22 29 42 50",
          "21 28 29 40 51",
          "02 04 06 37 47",
          "11 16 26 48 49",
          "02 26 36 37 41",
          "07 10 32 36 41",
          "10 15 26 28 39",
          "03 06 14 31 33",
          "13 14 16 29 49",
          "06 17 18 40 50",
          "15 21 37 40 42",
          "08 12 21 27 29",
          "07 12 26 45 47",
          "06 22 28 31 40",
          "08 10 24 38 45",
          "15 26 27 38 39",
          "16 29 31 39 52",
          "05 15 24 50 52",
          "03 09 15 28 52",
          "01 12 32 48 51",
          "06 08 09 33 35",
          "02 05 19 32 34",
          "05 14 32 44 52",
          "01 10 20 22 28",
          "17 20 47 49 50",
          "05 10 16 26 39",
          "02 16 36 44 49",
          "12 20 31 33 50",
          "10 11 17 20 26",
          "01 21 28 33 51",
          "04 20 25 29 32",
          "10 14 28 39 40",
          "14 15 23 32 52",
          "12 15 16 20 51",
          "27 31 34 40 52",
          "01 02 03 12 37",
          "02 26 43 44 47",
          "01 14 20 31 40",
          "28 32 39 45 48",
          "06 07 22 37 46",
          "02 09 27 29 35",
          "01 04 10 16 18",
          "01 26 33 43 48",
          "29 30 34 38 44",
          "01 05 31 38 47",
          "33 46 47 50 51",
          "01 17 19 32 42",
          "02 11 27 30 33",
          "07 32 34 38 44",
          "06 09 35 40 43",
          "08 11 18 35 51",
          "01 16 20 41 52",
          "07 11 24 28 52",
          "04 19 31 32 51",
          "09 28 42 44 49",
          "08 11 17 42 52",
          "22 26 27 32 39",
          "07 09 28 41 42",
          "14 15 30 39 46",
          "16 22 23 38 46",
          "15 20 24 30 46",
          "13 14 24 34 47",
          "05 16 24 49 51",
          "05 29 32 45 52",
          "02 26 37 40 46",
          "19 21 30 31 52",
          "01 02 22 40 41",
          "04 19 36 42 48",
          "18 19 21 33 40",
          "14 20 31 46 48",
          "18 34 46 51 52",
          "08 09 16 30 31",
          "06 09 20 40 47",
          "06 12 13 36 46",
          "16 24 43 44 45",
          "06 18 23 26 30",
          "02 05 17 21 22",
          "03 13 31 41 42",
          "04 11 25 30 52",
          "14 26 28 36 42",
          "22 32 37 40 41",
          "19 26 31 44 50",
          "10 13 24 34 49",
          "01 12 15 18 44",
          "04 14 15 24 48",
          "09 16 32 45 46",
          "16 24 31 46 47",
          "05 10 17 35 39",
          "02 13 21 22 49",
          "01 10 17 20 29",
          "12 18 21 32 46",
          "07 08 36 44 48",
          "07 13 15 25 32",
          "24 32 38 47 49",
          "03 17 18 21 45",
          "12 26 41 44 49",
          "05 07 14 21 45",
          "10 18 33 46 51",
          "06 10 20 38 50",
          "17 28 30 40 51",
          "09 21 26 35 41",
          "01 06 16 30 49",
          "03 07 10 22 32",
          "14 30 42 43 45",
          "02 08 34 36 52",
          "01 13 20 21 30",
          "06 11 43 49 52",
          "02 09 24 36 52",
          "25 30 35 40 50",
          "30 40 47 49 52",
          "16 23 29 36 51",
          "04 29 32 35 36",
          "03 28 45 49 51",
          "06 09 14 32 50",
          "12 22 35 39 46",
          "08 10 17 37 49",
          "03 27 31 41 45",
          "08 17 25 46 47",
          "08 17 29 32 39",
          "02 08 10 11 23",
          "13 36 39 50 51",
          "06 24 29 42 51",
          "12 22 37 46 48",
          "08 22 25 47 48",
          "01 10 17 23 35",
          "15 21 32 39 50",
          "03 15 29 37 39",
          "14 17 19 44 50",
          "09 25 30 34 37",
          "10 19 32 36 46",
          "02 36 44 46 51",
          "04 20 27 38 49",
          "05 18 34 36 39",
          "13 27 36 39 51",
          "07 16 17 26 48",
          "04 16 18 41 47",
          "17 24 29 37 45",
          "12 28 36 39 52",
          "18 23 27 29 44",
          "07 10 11 15 51",
          "09 10 17 41 52",
          "18 19 29 32 42",
          "10 13 19 28 38",
          "10 25 38 39 50",
          "06 07 08 31 48",
          "11 23 25 29 45",
          "13 31 37 39 52",
          "03 21 22 35 44",
          "06 15 21 32 44",
          "05 12 25 35 37",
          "08 10 11 13 24",
          "16 19 21 34 35",
          "01 02 13 16 22",
          "04 23 33 38 49",
          "18 25 29 31 44",
          "14 31 41 45 48",
          "22 23 26 28 36",
          "12 17 34 37 39",
          "02 05 21 47 50",
          "05 25 38 46 47",
          "14 15 25 42 44",
          "04 14 34 38 44",
          "13 30 36 38 51",
          "11 17 27 45 52",
          "12 35 37 38 50",
          "03 16 25 38 49",
          "01 03 15 19 29",
          "11 26 30 49 50",
          "01 18 39 42 50",
          "08 10 17 24 39",
          "08 34 39 48 49",
          "16 17 21 33 41",
          "04 18 19 39 51",
          "04 08 24 30 36",
          "06 13 19 34 50",
          "03 07 20 24 43",
          "14 25 39 43 49",
          "10 18 26 31 41",
          "24 32 42 49 50",
          "03 29 30 41 43",
          "11 20 26 28 52",
          "05 31 33 35 51",
          "09 10 27 28 30",
          "01 12 24 36 51",
          "08 30 32 35 51",
          "07 09 18 37 43",
          "10 20 22 28 52",
          "12 32 37 41 52",
          "01 19 22 32 49",
          "22 23 37 42 47",
          "14 27 32 34 40",
          "16 34 38 42 47",
          "07 22 27 31 38",
          "09 20 22 41 42",
          "18 29 32 38 43",
          "10 14 45 47 51",
          "03 06 07 12 32",
          "02 08 14 15 51",
          "02 23 24 35 45",
          "15 19 24 40 47",
          "10 23 28 39 51",
          "17 27 39 40 41",
          "02 10 21 25 45",
          "25 31 39 47 52",
          "03 17 21 42 44",
          "03 12 14 30 52",
          "08 11 14 23 25",
          "06 14 21 24 50",
          "03 16 20 21 38",
          "01 19 31 35 42",
          "15 18 28 41 45",
          "04 13 37 38 50",
          "01 08 18 39 48",
          "07 10 13 35 39",
          "08 14 15 22 31",
          "18 19 31 35 36",
          "14 26 27 34 44",
          "02 09 28 29 48",
          "06 11 27 37 43",
          "11 18 19 45 49",
          "07 17 18 30 42",
          "11 19 28 32 45",
          "04 19 45 51 52",
          "05 13 17 33 35",
          "15 20 43 47 50",
          "25 26 37 39 49",
          "05 06 14 42 47",
          "23 25 43 46 49",
          "18 22 33 34 42",
          "02 05 07 28 46",
          "07 17 42 46 52",
          "07 12 25 50 51",
          "11 25 38 40 42",
          "21 23 27 33 39",
          "07 09 10 29 44",
          "03 06 27 40 44",
          "09 28 39 40 45",
          "07 17 22 34 50",
          "05 13 22 37 38",
          "04 06 14 28 47",
          "07 14 28 46 47",
          "14 29 31 37 50",
          "01 10 29 48 49",
          "16 35 40 49 50",
          "09 13 40 46 50",
          "14 43 44 50 56",
          "02 20 37 43 46",
          "14 25 41 42 50",
          "22 38 48 50 55",
          "09 23 45 48 50",
          "05 17 32 39 53",
          "09 13 25 36 48",
          "07 13 48 51 54",
          "07 18 27 35 54",
          "01 10 18 29 55",
          "04 16 23 25 40",
          "17 22 39 50 52",
          "03 05 48 50 53",
          "13 35 36 43 52",
          "08 37 38 45 54",
          "09 15 20 24 55",
          "02 13 18 36 46",
          "06 07 08 13 40",
          "05 20 38 47 54",
          "19 32 42 49 56",
          "01 04 14 45 53",
          "01 08 27 31 50",
          "15 28 43 51 52",
          "13 24 44 48 52",
          "05 16 41 46 50",
          "35 36 40 42 52",
          "06 07 20 41 51",
          "14 17 26 27 28",
          "01 03 14 30 52",
          "12 24 28 29 36",
          "02 04 23 27 36",
          "24 30 42 53 54",
          "06 20 24 25 34",
          "03 12 16 32 33",
          "11 17 28 29 36",
          "07 12 18 31 55",
          "08 17 25 28 53",
          "05 18 21 28 36",
          "07 09 41 53 54",
          "08 16 21 25 27",
          "09 14 34 50 51",
          "02 04 05 40 48",
          "08 18 21 42 46",
          "09 22 37 41 43",
          "05 25 31 33 34",
          "07 08 47 51 52",
          "03 12 21 38 44",
          "06 10 26 30 33",
          "14 15 31 32 43",
          "09 10 12 22 41",
          "14 25 26 31 56",
          "06 20 23 40 56",
          "10 37 39 49 54",
          "11 24 27 49 55",
          "14 20 25 40 44",
          "15 19 20 32 38",
          "08 11 28 37 53",
          "07 27 32 37 38",
          "05 21 27 44 53",
          "24 32 37 39 40",
          "18 22 28 44 53",
          "31 34 36 51 55",
          "02 07 08 18 29",
          "01 35 53 54 56",
          "29 31 32 41 52",
          "02 16 25 30 48",
          "24 39 40 43 46",
          "27 36 43 49 54",
          "16 25 31 43 46",
          "14 23 27 36 45",
          "03 05 12 16 34",
          "02 04 35 36 48",
          "25 29 38 39 46",
          "15 27 36 38 42",
          "04 17 18 51 54",
          "27 28 30 42 50",
          "08 11 23 48 52",
          "04 16 17 28 31",
          "01 02 17 47 49",
          "14 18 35 39 49",
          "04 07 19 50 52",
          "09 25 48 51 56",
          "01 18 31 46 52",
          "02 12 45 46 56",
          "08 10 18 29 33",
          "13 14 25 34 50",
          "02 04 07 27 41",
          "01 20 32 37 39",
          "16 29 32 36 55",
          "07 11 22 27 31",
          "08 20 39 53 55",
          "07 15 24 43 44",
          "06 36 39 45 52",
          "07 24 40 48 50",
          "05 12 31 51 56",
          "17 21 28 48 54",
          "12 14 20 47 48",
          "02 13 28 34 45",
          "03 10 18 36 38",
          "05 29 35 52 53",
          "08 17 18 26 47",
          "01 20 23 24 33",
          "27 30 36 38 45",
          "11 21 37 53 54",
          "13 17 24 34 56",
          "02 14 20 29 44",
          "20 40 46 48 54",
          "09 15 31 42 45",
          "07 15 27 46 56",
          "05 14 34 36 52",
          "13 25 26 28 56",
          "12 13 29 49 52",
          "18 26 35 36 43",
          "07 21 24 41 51",
          "02 13 23 32 35",
          "14 29 32 43 49",
          "02 24 31 50 55",
          "01 05 13 18 33",
          "14 16 38 40 49",
          "10 12 22 44 48",
          "05 12 13 46 50",
          "03 04 05 07 36",
          "17 24 35 46 54",
          "15 25 37 38 52",
          "05 06 51 53 55",
          "01 32 36 42 53",
          "09 17 34 52 53",
          "03 16 25 30 44",
          "06 26 33 39 55",
          "02 19 44 45 56",
          "07 12 17 22 43",
          "03 06 38 42 45",
          "03 25 43 45 55",
          "06 19 32 33 40",
          "01 11 20 21 46",
          "14 30 35 40 43",
          "24 27 42 47 50",
          "06 18 20 28 38",
          "09 13 23 29 54",
          "05 25 41 48 51",
          "15 22 26 30 32",
          "05 34 40 45 46",
          "08 10 22 25 55",
          "13 22 33 51 52",
          "11 42 52 53 55",
          "09 20 24 25 36",
          "05 19 25 30 50",
          "07 13 20 42 47",
          "14 35 40 47 48",
          "07 14 24 41 56",
          "16 22 23 37 53",
          "06 09 13 43 46",
          "01 15 29 32 45",
          "20 30 31 35 49",
          "06 07 17 28 40",
          "09 32 37 42 48",
          "05 12 15 25 34",
          "07 12 25 44 53",
          "03 04 10 39 50",
          "09 10 38 51 53",
          "02 12 44 46 51",
          "07 11 26 38 54",
          "12 14 26 40 42",
          "04 08 15 33 52",
          "04 28 30 31 35",
          "03 05 15 26 53",
          "16 17 36 49 54",
          "14 18 44 52 56",
          "22 33 35 40 53",
          "16 21 35 36 46",
          "32 39 46 48 49",
          "03 09 24 29 41",
          "17 35 40 46 48",
          "01 09 26 46 51",
          "03 18 21 38 50",
          "18 31 44 45 48",
          "14 21 33 35 51",
          "16 22 29 39 42",
          "10 13 25 42 43",
          "07 11 16 38 49",
          "17 25 36 40 43",
          "07 21 46 49 55",
          "18 21 35 51 53",
          "18 25 34 35 42",
          "15 23 37 48 53",
          "16 26 33 34 46",
          "24 32 34 36 39",
          "07 15 16 19 28",
          "11 14 21 25 26",
          "01 04 11 31 47",
          "01 09 10 23 53",
          "08 10 35 36 43",
          "05 07 26 38 56",
          "11 16 31 52 53",
          "04 09 20 45 55",
          "16 24 41 43 54",
          "28 30 33 48 54",
          "06 13 42 46 56",
          "13 23 24 30 44",
          "02 07 11 22 36",
          "10 14 22 42 43",
          "02 24 44 51 54",
          "12 19 29 32 48",
          "27 35 38 49 56",
          "06 26 29 31 39",
          "03 13 19 31 50",
          "01 05 16 26 30",
          "05 16 31 49 54",
          "11 14 21 24 31",
          "04 10 20 29 45",
          "01 17 40 51 52",
          "21 35 37 39 40",
          "03 09 12 25 47",
          "19 24 30 34 56",
          "07 39 41 48 53",
          "16 30 38 46 51",
          "06 13 30 41 52",
          "08 17 20 23 50",
          "07 12 35 54 55",
          "05 18 37 39 43",
          "16 29 42 46 51",
          "36 41 50 55 56",
          "10 20 32 33 54",
          "05 08 09 24 34",
          "02 08 33 38 53",
          "08 38 54 55 56",
          "04 21 46 51 53",
          "37 40 48 53 56",
          "08 18 22 40 44",
          "03 06 11 42 46",
          "14 19 27 34 48",
          "09 10 17 21 35",
          "05 09 12 33 40",
          "20 24 31 34 49",
          "05 21 23 33 45",
          "02 19 23 47 54",
          "04 13 20 25 33",
          "28 37 40 43 44",
          "10 19 37 40 48",
          "01 10 17 32 51",
          "21 26 34 44 54",
          "01 02 05 41 44",
          "05 15 18 23 46",
          "02 07 45 52 53",
          "12 20 24 38 51",
          "02 08 44 46 51",
          "01 03 34 49 52",
          "03 17 43 46 47",
          "11 33 41 42 46",
          "15 26 36 39 40",
          "12 13 30 31 39",
          "14 20 23 42 43",
          "18 21 33 42 56",
          "09 10 26 29 39",
          "05 06 12 26 51",
          "16 27 30 45 53",
          "12 18 26 28 51",
          "06 25 27 30 45",
          "04 07 12 17 30",
          "03 23 46 48 49",
          "14 19 20 43 53",
          "02 19 22 28 54",
          "13 16 25 30 54",
          "24 31 39 40 56",
          "10 29 45 52 54",
          "22 36 42 45 55",
          "21 30 42 44 50",
          "12 22 33 43 44",
          "12 15 22 25 33",
          "05 12 22 38 56",
          "08 23 39 40 42",
          "03 14 30 44 56",
          "04 05 17 40 51",
          "21 30 43 46 50",
          "14 27 39 47 50",
          "07 11 26 30 53",
          "01 38 42 55 56",
          "07 12 13 19 22",
          "09 12 30 36 55",
          "05 17 22 26 55",
          "07 15 30 33 56",
          "19 32 33 41 48",
          "04 13 35 41 47",
          "03 12 18 25 52",
          "13 15 20 25 44",
          "05 08 17 19 41",
          "38 42 43 48 53",
          "07 26 27 40 43",
          "04 17 26 46 56",
          "03 05 40 45 49",
          "08 09 31 37 44",
          "14 18 27 31 42",
          "12 13 27 48 50",
          "24 28 36 50 53",
          "03 22 31 48 54",
          "19 32 37 45 52",
          "19 24 35 44 51",
          "08 28 37 53 55",
          "04 21 46 53 54",
          "16 31 43 46 56",
          "20 24 27 31 47",
          "06 11 39 46 47",
          "02 14 26 32 41",
          "04 08 11 22 30",
          "14 24 32 45 49",
          "39 40 47 53 55",
          "04 19 24 32 54",
          "08 09 43 44 54",
          "03 05 15 43 51",
          "08 09 14 38 44",
          "05 14 25 47 49",
          "11 17 25 36 42",
          "10 22 36 50 53",
          "08 14 22 39 50",
          "01 22 33 43 52",
          "01 03 12 19 20",
          "01 20 22 29 41",
          "05 14 16 39 51",
          "19 24 34 45 51",
          "17 29 36 53 55",
          "02 16 23 29 32",
          "02 16 19 35 52",
          "11 13 20 30 42",
          "09 13 17 18 56",
          "09 21 36 38 55",
          "11 17 28 32 50",
          "02 07 23 38 40",
          "08 23 29 30 53",
          "09 18 19 26 40",
          "12 13 15 41 42",
          "06 16 24 34 36",
          "21 25 26 50 51",
          "14 23 43 44 54",
          "01 06 15 27 46",
          "22 23 28 49 52",
          "01 12 14 25 35",
          "13 24 39 51 52",
          "02 09 41 48 51",
          "09 32 34 43 52",
          "06 13 14 31 36",
          "09 30 35 39 49",
          "13 28 32 41 52",
          "02 25 35 38 42",
          "14 15 43 46 48",
          "14 35 41 42 51",
          "07 15 27 28 31",
          "16 19 39 42 44",
          "05 33 34 47 52",
          "06 39 45 46 48",
          "02 07 17 29 47",
          "10 21 23 41 55",
          "14 24 32 43 44",
          "05 27 38 42 55",
          "03 18 19 30 34",
          "10 15 22 52 53",
          "01 22 52 53 56",
          "02 11 22 51 52",
          "10 30 44 46 48",
          "02 17 22 32 51",
          "21 27 46 52 55",
          "11 12 26 31 33",
          "10 16 19 27 48",
          "10 14 16 29 40",
          "03 13 16 39 54",
          "01 08 13 27 41",
          "06 19 29 33 37",
          "01 22 29 44 52",
          "02 11 19 21 34",
          "03 11 12 19 33",
          "23 25 30 45 50",
          "22 25 33 36 48",
          "02 04 21 39 51",
          "01 09 10 35 46",
          "02 17 20 27 28",
          "03 11 12 14 21",
          "13 16 19 53 55",
          "04 15 29 43 56",
          "02 12 18 28 31",
          "18 29 38 43 47",
          "25 36 37 40 51",
          "01 09 23 27 33",
          "21 28 41 45 55",
          "01 27 28 35 40",
          "24 37 44 50 56",
          "26 32 35 43 52",
          "11 18 37 46 55",
          "02 27 31 39 40",
          "10 12 26 46 50",
          "09 15 24 28 31",
          "15 16 20 39 40",
          "04 25 34 43 44",
          "10 15 24 38 50",
          "14 39 47 48 53",
          "16 22 38 39 48",
          "02 04 13 17 36",
          "18 25 36 42 51",
          "04 11 22 48 50",
          "05 13 26 35 45",
          "05 24 37 47 52",
          "09 20 21 48 49",
          "15 20 24 36 44",
          "09 16 24 40 43",
          "05 23 38 39 54",
          "12 27 29 32 34",
          "04 08 10 14 51",
          "07 12 24 36 48",
          "02 04 09 15 42",
          "03 29 34 42 49",
          "09 18 21 37 55",
          "23 30 36 39 48",
          "09 13 26 30 35",
          "05 20 38 41 52",
          "05 17 31 36 56",
          "06 11 20 32 44",
          "09 15 21 26 45",
          "04 09 12 16 46",
          "12 14 16 31 50",
          "11 15 17 29 46",
          "07 34 49 54 55",
          "05 06 07 11 25",
          "25 27 35 38 39",
          "05 10 26 27 28",
          "20 29 35 45 53",
          "08 17 40 47 50",
          "03 08 21 50 52",
          "03 06 43 51 52",
          "04 17 24 25 48",
          "17 35 44 52 56",
          "01 28 34 42 50",
          "07 18 35 45 56",
          "06 12 15 32 42",
          "08 22 25 33 35",
          "04 05 26 37 56",
          "09 38 44 48 49",
          "03 12 19 22 40",
          "01 17 31 37 54",
          "02 09 28 51 53",
          "02 04 06 21 44",
          "04 10 18 28 50",
          "16 27 48 49 54",
          "29 30 32 35 41",
          "18 27 31 36 52",
          "26 29 33 39 46",
          "07 27 42 49 52",
          "02 21 25 45 50",
          "15 24 51 53 55",
          "09 33 51 53 56",
          "03 14 21 24 51",
          "17 31 34 45 51",
          "10 13 18 33 51",
          "13 17 25 45 55",
          "27 45 48 54 56",
          "07 13 37 46 51",
          "04 15 17 29 38",
          "05 18 23 31 38",
          "07 11 27 40 46",
          "08 21 29 34 37",
          "27 43 45 49 54",
          "08 22 27 49 50",
          "03 04 07 16 56",
          "10 11 35 37 50",
          "12 25 37 39 45",
          "17 30 39 52 53",
          "04 33 41 51 56",
          "20 23 28 30 46",
          "02 21 27 34 44",
          "27 31 32 36 47",
          "10 20 30 44 49",
          "03 33 35 39 45",
          "02 05 29 35 51",
          "06 08 27 40 41",
          "13 28 39 50 55",
          "18 20 31 36 43",
          "05 09 31 37 56",
          "04 07 19 21 38",
          "04 05 34 38 41",
          "08 13 27 28 52",
          "07 08 38 39 48",
          "01 10 22 23 38",
          "06 07 26 27 49",
          "10 20 45 51 53",
          "02 17 20 26 48",
          "14 16 17 33 47",
          "11 12 21 29 45",
          "01 22 39 42 46",
          "04 16 36 40 53",
          "04 14 29 54 56",
          "09 12 47 48 56",
          "11 31 34 44 52",
          "14 16 18 19 29",
          "02 15 25 48 53",
          "03 22 48 52 56",
          "10 31 45 50 54",
          "03 25 28 29 40",
          "23 41 46 47 52",
          "01 11 24 38 44",
          "02 17 22 30 31",
          "16 43 44 52 56",
          "15 18 39 48 53",
          "03 12 27 39 47",
          "10 16 31 48 50",
          "05 08 10 34 42",
          "19 26 28 37 52",
          "23 37 41 50 55",
          "14 20 41 47 53",
          "09 21 31 36 43",
          "02 07 20 34 50",
          "26 33 43 46 54",
          "20 21 40 47 56",
          "11 13 19 37 40",
          "15 20 23 26 30",
          "05 14 17 19 24",
          "03 11 20 29 39",
          "12 27 44 45 51",
          "12 13 15 17 50",
          "12 18 28 48 54",
          "06 13 33 34 42",
          "04 12 13 21 27",
          "11 36 37 41 55",
          "12 17 21 23 30",
          "01 02 13 19 27",
          "03 04 15 27 37",
          "01 10 12 32 36",
          "08 18 45 47 50",
          "01 31 33 34 50",
          "07 11 14 15 34",
          "02 15 18 20 39",
          "12 18 28 36 43",
          "16 19 39 44 49",
          "02 07 10 16 29",
          "11 30 40 48 52",
          "04 13 20 22 56",
          "07 13 30 33 54",
          "02 14 26 50 56",
          "06 17 24 43 55",
          "11 19 40 43 44",
          "04 13 20 29 48",
          "04 23 24 28 32",
          "04 10 26 32 41",
          "10 20 29 47 48",
          "10 13 20 28 36",
          "08 18 22 24 38",
          "11 12 17 21 23",
          "06 14 50 55 56",
          "03 04 14 18 27",
          "03 20 43 47 52",
          "02 28 38 42 55",
          "02 10 13 36 38",
          "03 08 21 28 52",
          "10 19 24 37 44",
          "24 29 37 48 50",
          "10 31 36 37 43",
          "09 10 13 31 50",
          "02 09 14 37 42",
          "02 07 18 32 53",
          "15 21 30 31 32",
          "04 19 26 28 39",
          "01 03 12 16 54",
          "19 25 34 46 53",
          "08 26 28 33 53",
          "09 26 28 35 38",
          "01 26 27 39 46",
          "07 14 31 51 54",
          "02 06 12 34 35",
          "05 09 34 43 47",
          "11 16 19 47 53",
          "06 11 12 18 56",
          "04 38 45 53 54",
          "23 27 33 44 46",
          "18 22 25 31 38",
          "11 20 26 46 53",
          "08 11 12 31 32",
          "15 16 27 40 52",
          "06 18 36 40 49",
          "10 12 13 35 56",
          "04 08 15 25 47",
          "04 22 42 46 53",
          "01 04 11 16 45",
          "02 15 17 33 35",
          "04 27 29 38 45",
          "05 09 21 35 38",
          "05 08 31 46 50",
          "14 33 48 49 50",
          "16 22 23 26 35",
          "06 20 29 48 55",
          "25 35 36 47 48",
          "08 09 17 32 34",
          "17 18 24 35 39",
          "05 06 07 30 45",
          "15 22 23 48 55",
          "04 05 17 19 50",
          "01 12 19 20 47",
          "08 10 15 23 41",
          "03 17 19 41 55",
          "14 19 21 42 45",
          "10 11 12 28 43",
          "14 33 34 54 56",
          "01 14 35 50 53",
          "22 24 31 52 54",
          "06 15 23 34 38",
          "13 14 35 36 53",
          "01 19 20 31 36",
          "06 40 45 50 56",
          "10 23 39 41 45",
          "22 23 33 39 48",
          "20 24 32 45 51",
          "03 18 46 51 53",
          "19 29 32 38 55",
          "09 10 11 33 51",
          "01 16 29 36 50",
          "06 18 26 37 41",
          "11 16 34 40 51",
          "03 33 39 47 53",
          "01 02 17 25 48",
          "10 17 19 45 48",
          "09 12 21 42 43",
          "05 07 14 28 56",
          "28 30 31 37 55",
          "20 23 41 49 53",
          "29 32 35 47 52",
          "18 21 27 37 38",
          "09 10 20 51 53",
          "12 29 46 47 51",
          "11 24 25 31 46",
          "10 14 40 49 51",
          "12 17 27 47 48",
          "12 17 30 35 47",
          "01 10 13 18 46",
          "01 02 22 37 50",
          "03 09 11 44 49",
          "16 29 30 46 56",
          "02 09 10 16 35",
          "23 31 32 39 56",
          "20 25 35 52 55",
          "08 10 22 47 48",
          "14 17 19 20 32",
          "06 24 28 33 42",
          "11 19 39 45 54",
          "09 43 51 54 55",
          "04 38 41 42 43",
          "05 15 53 54 56",
          "11 21 44 48 49",
          "02 03 27 30 47",
          "02 22 25 28 50",
          "25 44 48 49 55",
          "01 36 38 42 49",
          "07 12 19 23 31",
          "22 31 43 48 56",
          "06 23 41 45 56",
          "06 29 38 50 51",
          "27 31 32 40 52",
          "02 20 28 36 45",
          "03 19 21 44 45",
          "03 26 40 45 52",
          "05 15 19 23 38",
          "25 34 38 44 56",
          "13 35 42 45 54",
          "24 25 45 47 53",
          "06 21 35 37 38",
          "13 33 40 44 46",
          "13 31 49 52 56",
          "27 31 39 40 46",
          "26 30 32 33 44",
          "05 31 45 47 54",
          "02 16 22 29 50",
          "03 06 24 30 33",
          "04 13 33 39 55",
          "04 16 23 33 48",
          "22 28 42 49 54",
          "17 29 43 48 52",
          "24 30 48 51 56",
          "07 21 29 35 49",
          "04 12 29 49 51",
          "05 06 22 26 41",
          "02 04 26 36 39",
          "20 24 27 45 51",
          "03 05 08 18 29",
          "23 32 33 39 43",
          "04 24 45 46 52",
          "02 03 15 22 36",
          "09 17 28 34 48",
          "04 10 16 38 48",
          "10 27 28 37 51",
          "03 15 31 36 53",
          "01 09 28 38 47",
          "10 22 24 36 49",
          "03 05 30 36 48",
          "09 17 18 28 43",
          "07 19 21 49 53",
          "17 23 30 37 45",
          "03 04 18 29 50",
          "03 05 10 26 27",
          "16 25 28 32 40",
          "09 30 39 42 47",
          "01 16 18 25 27",
          "06 15 29 39 51",
          "16 29 48 52 54",
          "20 24 31 33 36",
          "09 10 27 36 42",
          "02 08 30 36 48",
          "28 29 43 51 53",
          "01 04 06 11 14",
          "06 17 19 20 21",
          "09 19 34 44 51",
          "02 04 23 38 46",
          "11 35 38 41 52",
          "02 19 20 24 33",
          "02 06 12 31 48",
          "09 14 17 36 42",
          "01 16 24 32 48",
          "14 23 26 33 35",
          "03 09 15 37 38",
          "02 05 45 46 47",
          "24 27 31 45 52",
          "04 11 21 42 53",
          "02 06 08 18 51",
          "03 15 29 35 54",
          "10 11 12 14 24",
          "03 11 22 34 49",
          "10 14 35 43 52",
          "09 15 21 40 54",
          "02 14 29 53 55",
          "02 27 38 46 52",
          "37 39 42 53 55",
          "04 09 34 40 48",
          "02 09 17 34 50",
          "08 12 18 30 40",
          "11 21 27 30 53",
          "10 16 19 32 36",
          "03 16 23 35 36",
          "28 34 39 45 53",
          "03 04 24 36 52",
          "20 23 28 35 39",
          "03 11 19 23 36",
          "06 07 13 24 46",
          "01 13 21 49 55",
          "02 44 48 50 52",
          "05 09 38 46 51",
          "02 03 04 08 43",
          "05 18 21 29 41",
          "02 10 13 38 46",
          "30 32 33 42 48",
          "10 18 36 38 44",
          "15 23 34 39 55",
          "08 20 24 35 56",
          "05 13 20 23 33",
          "25 34 45 46 49",
          "04 09 40 45 50",
          "31 40 41 47 48",
          "16 32 39 41 53",
          "15 32 38 42 46",
          "05 11 20 33 36",
          "16 17 21 40 51",
          "05 09 22 36 49",
          "03 13 14 46 55",
          "07 08 23 50 51",
          "06 08 14 43 56",
          "10 11 20 42 55",
          "08 09 16 32 39",
          "06 15 16 22 37",
          "06 10 24 26 42",
          "13 37 40 46 52",
          "14 34 36 48 53",
          "01 17 42 46 55",
          "04 15 24 36 40",
          "05 12 18 29 56",
          "04 18 22 38 44",
          "03 05 13 32 35",
          "18 22 33 35 40",
          "06 12 31 46 56",
          "05 24 26 29 53",
          "09 13 22 38 52",
          "08 37 44 47 48",
          "05 12 26 42 49",
          "11 22 24 28 31",
          "03 19 24 32 43",
          "07 43 44 51 56",
          "39 44 51 52 54",
          "11 28 33 41 43",
          "01 06 07 18 29",
          "03 18 32 41 56",
          "02 03 18 34 48",
          "10 13 32 40 41",
          "04 11 21 25 44",
          "01 02 23 25 55",
          "03 20 21 38 42",
          "24 29 30 34 56",
          "01 06 12 19 41",
          "08 18 25 42 49",
          "07 11 16 39 54",
          "11 12 17 31 48",
          "08 12 27 46 47",
          "01 30 32 40 41",
          "02 05 10 26 44",
          "06 15 20 39 50",
          "09 22 32 38 55",
          "11 35 41 42 44",
          "01 15 19 30 56",
          "09 13 24 38 49",
          "06 07 13 15 43",
          "17 30 38 43 51",
          "06 20 39 41 46",
          "04 11 25 34 35",
          "09 12 19 20 30",
          "04 08 17 22 32",
          "03 06 14 21 37",
          "14 27 34 37 41",
          "20 33 46 49 51",
          "25 31 36 46 53",
          "07 10 14 40 47",
          "08 15 23 36 41",
          "17 30 41 48 54",
          "01 10 13 19 21",
          "02 05 15 18 39",
          "06 08 12 22 43",
          "09 21 22 32 50",
          "17 42 49 54 55",
          "21 30 34 39 49",
          "02 20 34 42 54",
          "01 06 13 20 51",
          "01 19 20 39 49",
          "06 10 12 28 32",
          "11 15 35 43 49",
          "02 15 17 48 55",
          "04 05 16 18 53",
          "04 12 25 32 54",
          "02 20 26 44 46",
          "10 11 12 20 55",
          "01 10 37 48 55",
          "15 40 45 50 53",
          "02 05 31 33 34",
          "06 17 34 40 48",
          "03 14 17 40 50",
          "03 05 28 33 51",
          "08 15 35 46 52",
          "36 42 51 52 53",
          "02 23 41 47 54",
          "03 21 43 45 48",
          "04 05 25 27 51",
          "10 14 21 40 53",
          "16 20 24 39 42",
          "25 32 35 50 51",
          "04 22 23 27 38",
          "25 27 36 42 44",
          "08 21 23 25 39",
          "01 11 16 51 55",
          "11 20 30 34 38",
          "02 31 32 37 41",
          "07 13 26 36 46",
          "13 28 35 38 41",
          "01 09 17 20 53",
          "04 07 30 36 38",
          "06 19 24 43 44",
          "04 13 14 28 41",
          "02 16 17 22 41",
          "02 12 18 54 56",
          "09 22 28 48 54",
          "06 15 27 31 39",
          "01 15 20 21 47",
          "04 11 32 39 40",
          "09 23 27 49 51",
          "07 10 30 37 53",
          "04 16 24 25 44",
          "06 15 19 23 40",
          "03 27 37 45 48",
          "04 23 30 43 50",
          "02 03 19 52 71",
          "06 16 45 54 60",
          "20 33 50 53 54",
          "32 35 49 62 67",
          "02 11 42 64 74",
          "41 42 51 57 65",
          "20 30 32 42 71",
          "25 44 49 54 63",
          "14 15 29 49 63",
          "17 23 35 36 44",
          "27 44 59 74 75",
          "09 41 43 47 57",
          "07 12 41 44 59",
          "11 29 44 63 64",
          "05 12 22 41 65",
          "19 24 26 27 70",
          "08 14 17 20 39",
          "03 04 31 49 57",
          "23 34 53 58 73",
          "04 15 35 48 49",
          "08 12 34 52 58",
          "22 24 25 40 70",
          "13 34 56 62 64",
          "08 28 36 37 57",
          "04 23 26 62 69",
          "01 10 26 31 51",
          "08 23 33 45 52",
          "22 45 46 47 65",
          "07 16 28 53 60",
          "03 09 13 47 52",
          "25 44 49 60 73",
          "11 21 23 35 64",
          "43 64 67 71 73",
          "20 28 35 71 72",
          "23 29 31 37 70",
          "23 29 32 45 46",
          "12 18 25 35 66",
          "03 31 50 58 59",
          "10 29 31 35 45",
          "11 13 51 57 69",
          "09 14 56 57 69",
          "07 20 40 54 69",
          "11 19 24 33 51",
          "02 23 30 35 53",
          "19 26 51 57 73",
          "02 03 09 50 73",
          "10 23 68 74 75",
          "01 10 15 41 54",
          "35 36 41 60 71",
          "03 42 44 47 57",
          "04 39 46 47 70",
          "18 25 38 45 63",
          "02 18 19 49 50",
          "03 11 18 20 66",
          "07 43 59 61 66",
          "01 18 26 35 40",
          "18 20 27 48 51",
          "10 28 39 51 59",
          "37 46 48 70 74",
          "13 14 16 50 56",
          "10 40 63 64 69",
          "12 14 21 38 70",
          "01 06 10 46 58",
          "10 13 42 43 62",
          "19 28 62 66 74",
          "12 29 37 49 72",
          "02 10 24 26 74",
          "07 38 46 49 56",
          "10 14 24 47 60",
          "01 22 25 29 56",
          "13 17 24 47 65",
          "15 29 31 46 64",
          "09 22 38 47 49",
          "16 33 39 58 69",
          "14 25 27 48 49",
          "09 13 30 35 69",
          "02 04 17 36 40",
          "05 08 59 65 72",
          "14 18 22 31 47",
          "22 29 33 41 68",
          "02 08 16 43 74",
          "13 29 34 37 72",
          "25 28 36 45 53",
          "09 16 61 70 75",
          "32 53 60 63 68",
          "16 19 28 29 68",
          "22 39 56 67 71",
          "05 31 34 41 74",
          "29 31 51 60 64",
          "03 26 45 58 73",
          "01 08 54 69 72",
          "07 12 20 24 59",
          "25 34 55 70 71",
          "18 28 33 36 42",
          "25 45 51 53 73",
          "16 25 27 29 34",
          "21 24 25 40 43",
          "17 26 35 46 62",
          "03 16 52 54 61",
          "03 20 34 58 67",
          "16 29 46 48 55",
          "02 32 35 50 59",
          "11 37 46 64 68",
          "21 31 43 56 60",
          "05 35 37 41 66",
          "02 14 21 28 55",
          "03 50 57 58 60",
          "11 29 36 58 67",
          "09 15 24 39 41",
          "31 35 41 65 66",
          "23 25 28 30 75",
          "03 49 61 62 68",
          "37 39 53 68 75",
          "03 12 35 37 63",
          "10 11 29 47 56",
          "08 26 29 36 47",
          "13 18 22 49 62",
          "04 05 11 51 59",
          "27 45 49 51 52",
          "02 31 46 58 65",
          "41 58 68 72 73",
          "14 18 58 59 68",
          "04 10 31 56 66",
          "02 05 10 20 38",
          "03 07 44 63 67",
          "13 15 35 62 74",
          "12 20 27 38 75",
          "37 49 50 56 57",
          "12 20 25 50 51",
          "26 32 44 45 58",
          "31 35 56 59 63",
          "14 15 32 68 72",
          "05 26 27 44 57",
          "18 31 39 45 55",
          "11 22 25 58 69",
          "05 06 17 33 68",
          "07 42 53 58 71",
          "04 20 44 65 74",
          "06 45 50 65 66",
          "02 06 08 52 66",
          "15 23 26 45 66",
          "07 49 53 60 64",
          "09 11 42 44 50",
          "30 48 55 68 73",
          "10 14 19 30 73",
          "08 22 30 42 45",
          "11 27 44 45 58",
          "07 50 54 61 75",
          "02 23 32 45 55",
          "17 21 36 58 70",
          "08 26 41 61 73",
          "10 36 47 63 74",
          "05 15 22 26 64",
          "06 11 32 46 68",
          "03 07 25 68 71",
          "15 18 29 41 50",
          "31 33 35 41 69",
          "24 25 29 47 67",
          "22 27 55 58 63",
          "17 18 61 66 74",
          "11 21 42 62 71",
          "09 21 25 66 72",
          "14 30 33 36 44",
          "11 17 21 36 74",
          "10 12 21 29 65",
          "03 14 15 25 48",
          "01 39 52 69 72",
          "20 27 38 49 66",
          "02 09 11 22 23",
          "07 22 27 41 49",
          "06 16 17 25 36",
          "01 40 42 56 62",
          "08 19 26 56 67",
          "04 35 36 52 68",
          "06 13 38 56 70",
          "12 23 33 47 50",
          "11 17 34 43 50",
          "33 50 64 71 72",
          "06 15 16 28 49",
          "24 27 45 51 54",
          "19 24 30 35 72",
          "06 17 30 31 41",
          "20 30 62 65 74",
          "10 12 26 60 62",
          "08 35 61 68 75",
          "28 32 33 40 46",
          "02 19 44 51 57",
          "01 38 53 63 66",
          "03 08 29 57 68",
          "12 15 20 52 71",
          "02 07 33 39 53",
          "13 15 21 41 72",
          "05 44 54 59 63",
          "13 35 40 60 68",
          "02 05 35 40 54",
          "17 21 39 52 57",
          "19 20 36 41 46",
          "05 11 31 50 67",
          "07 20 35 49 56",
          "17 34 35 51 65",
          "28 30 38 45 51",
          "03 08 38 51 64",
          "08 21 30 61 62",
          "04 14 29 31 47",
          "17 58 63 64 66",
          "08 09 21 63 75",
          "07 09 24 38 52",
          "02 38 48 61 68",
          "06 25 35 38 52",
          "25 32 37 45 70",
          "09 26 27 29 74",
          "17 41 51 53 56",
          "16 29 44 69 74",
          "10 31 35 50 72",
          "08 17 20 45 71",
          "17 18 31 35 59",
          "12 14 18 24 61",
          "09 12 29 37 67",
          "02 19 30 38 70",
          "16 20 39 56 59",
          "05 07 25 50 59",
          "26 42 47 61 73",
          "07 17 37 49 73",
          "14 20 43 54 69",
          "18 25 47 51 61",
          "06 23 24 28 62",
          "11 21 40 50 70",
          "15 25 29 44 51",
          "20 25 55 62 74",
          "07 18 37 38 39",
          "01 04 36 48 57",
          "11 39 51 57 75",
          "15 27 29 31 48",
          "29 41 53 54 70",
          "02 17 31 39 47",
          "21 25 40 46 56",
          "14 27 39 50 69",
          "20 28 49 51 52",
          "07 13 25 51 70",
          "04 06 23 55 75",
          "03 42 46 56 71",
          "01 07 44 68 73",
          "09 31 33 46 64",
          "02 27 41 50 75",
          "16 32 39 53 57",
          "03 15 19 62 74",
          "01 29 33 34 55",
          "21 26 33 48 73",
          "27 37 54 66 69",
          "14 18 48 54 71",
          "18 26 30 44 68",
          "05 08 57 59 73",
          "06 19 34 38 70",
          "04 11 12 35 46",
          "33 38 40 46 49",
          "25 28 33 41 69",
          "13 45 52 53 57",
          "31 38 52 65 71",
          "07 11 59 62 63",
          "09 10 34 37 73",
          "09 28 40 57 65",
          "02 19 21 42 60",
          "14 16 17 28 48",
          "05 06 37 55 74",
          "28 29 33 36 45",
          "14 26 27 32 36",
          "12 22 46 56 74",
          "20 21 38 54 66",
          "17 24 27 48 75",
          "19 24 26 40 68",
          "11 50 51 70 75",
          "18 41 50 68 70",
          "09 31 34 41 49",
          "32 54 65 66 71",
          "25 48 51 65 72",
          "34 61 66 67 68",
          "36 37 38 52 62",
          "20 23 30 44 59",
          "06 13 21 49 50",
          "11 14 54 57 63",
          "15 17 20 35 55",
          "20 41 42 45 49",
          "29 46 53 64 73",
          "08 19 20 55 73",
          "06 08 22 46 68",
          "16 51 52 56 58",
          "03 34 54 65 66",
          "08 24 25 26 30",
          "01 04 31 36 54",
          "11 16 19 31 48",
          "03 12 36 54 70",
          "05 18 28 54 74",
          "12 19 20 44 66",
          "04 41 44 56 69",
          "02 43 52 62 63",
          "22 37 45 65 73",
          "02 07 46 61 66",
          "10 11 31 41 44",
          "28 32 41 51 71",
          "22 28 41 46 60",
          "25 37 58 69 75",
          "01 34 43 44 63",
          "06 15 17 39 56",
          "13 21 28 34 40",
          "02 22 34 62 72",
          "01 05 08 25 62",
          "14 16 26 53 72",
          "21 30 47 50 57",
          "18 29 30 54 66",
          "24 37 42 50 65",
          "36 39 42 45 48",
          "07 27 60 64 74",
          "07 24 28 65 74",
          "12 43 44 48 66",
          "08 09 24 49 67",
          "07 38 46 57 66",
          "19 24 31 39 45",
          "10 29 32 44 46",
          "46 48 53 61 74",
          "16 40 47 53 59",
          "09 17 23 57 71",
          "31 32 49 55 58",
          "01 43 45 66 69",
          "44 47 49 69 75",
          "22 33 49 51 59",
          "03 33 35 49 51",
          "13 34 48 53 63",
          "19 27 47 67 68",
          "02 15 26 34 41",
          "01 08 15 36 43",
          "01 12 14 48 65",
          "21 30 39 60 69",
          "02 28 30 38 39",
          "06 21 33 39 43",
          "14 16 23 49 53",
          "06 10 44 47 54",
          "11 20 40 41 59",
          "10 44 58 74 75",
          "20 31 54 56 59",
          "07 09 24 41 53",
          "08 42 54 63 67",
          "17 37 53 54 61",
          "03 14 27 62 72",
          "03 06 29 30 64",
          "23 28 37 56 71",
          "32 39 51 62 75",
          "07 11 33 60 68",
          "04 56 58 67 75",
          "09 21 30 32 75",
          "12 29 33 42 68",
          "20 33 45 58 69",
          "14 26 39 48 51",
          "03 30 45 53 68",
          "26 38 42 58 70",
          "16 23 28 33 59",
          "11 27 31 58 60",
          "04 45 53 73 75",
          "05 28 37 61 69",
          "30 33 35 37 46",
          "17 24 27 32 58",
          "13 24 34 35 55",
          "30 33 43 47 69",
          "19 34 35 38 49",
          "05 10 55 60 73",
          "08 29 30 43 64",
          "01 12 13 32 34",
          "03 13 33 40 50",
          "06 13 18 20 31",
          "05 14 42 43 58",
          "04 23 33 47 53",
          "06 29 45 69 73",
          "28 34 41 42 47",
          "04 35 39 56 72",
          "01 04 05 24 30",
          "06 13 17 33 60",
          "25 26 28 37 56",
          "05 20 32 37 67",
          "07 42 57 69 72",
          "03 05 16 49 75",
          "03 16 28 33 37",
          "27 51 62 68 75",
          "18 22 26 30 44",
          "02 15 41 49 63",
          "12 20 53 66 74",
          "04 21 45 52 57",
          "10 38 51 55 64",
          "16 39 47 53 71",
          "02 09 11 28 60",
          "07 18 24 55 74",
          "11 12 24 32 73",
          "08 12 23 51 73",
          "18 31 36 50 74",
          "02 05 26 58 60",
          "04 06 31 49 52",
          "20 22 52 57 73",
          "09 17 25 63 71",
          "11 17 50 52 74",
          "23 33 53 56 58",
          "07 16 20 66 73",
          "01 31 34 40 75",
          "24 35 46 50 51",
          "17 38 42 51 65",
          "02 13 17 35 73",
          "04 13 31 50 64",
          "11 17 59 70 72",
          "04 05 14 26 73",
          "26 37 41 54 65",
          "18 24 34 38 58",
          "09 28 31 50 61",
          "05 39 54 63 66",
          "01 10 57 66 75",
          "25 51 62 73 74",
          "12 18 19 25 67",
          "21 33 36 45 56",
          "07 16 24 61 62",
          "02 07 18 26 31",
          "31 45 49 56 70",
          "06 23 63 66 73",
          "20 24 34 56 64",
          "17 27 41 51 52",
          "06 28 31 52 53",
          "10 22 42 61 69",
          "01 54 60 68 69",
          "06 23 38 42 58",
          "01 14 21 22 28",
          "03 26 55 58 70",
          "03 07 22 27 50",
          "16 36 54 61 64",
          "10 17 47 51 61",
          "16 22 40 41 59",
          "14 15 37 42 67",
          "06 37 46 60 70",
          "08 23 24 25 27",
          "04 12 36 44 57",
          "28 37 39 42 58",
          "01 20 30 33 42",
          "10 12 20 38 41",
          "04 10 18 28 62",
          "01 42 47 64 70",
          "28 30 39 59 70",
          "16 29 31 65 67",
          "17 18 33 46 60",
          "03 11 23 29 59",
          "03 17 23 49 66",
          "02 06 30 31 55",
          "10 16 27 38 43",
          "29 41 42 49 57",
          "01 04 14 17 40",
          "14 17 25 48 58",
          "28 34 41 46 47",
          "05 12 15 46 49",
          "14 38 48 53 58",
          "17 19 23 24 43",
          "07 11 13 19 58",
          "10 17 21 38 43",
          "24 28 42 60 64",
          "01 04 26 35 39",
          "07 17 18 46 66",
          "06 30 58 60 61",
          "01 13 26 33 52",
          "14 38 51 64 70",
          "04 08 23 53 59",
          "07 25 43 56 59",
          "11 28 31 46 59",
          "04 29 39 42 62",
          "16 33 51 54 67",
          "05 13 31 43 53",
          "08 09 32 42 59",
          "12 34 44 47 65",
          "01 15 18 32 45",
          "03 19 31 32 48",
          "02 29 38 63 66",
          "02 07 20 55 70",
          "04 05 10 12 18",
          "08 15 39 64 67",
          "14 38 40 53 70",
          "21 34 44 49 61",
          "09 26 53 64 66",
          "16 17 21 36 48",
          "11 14 51 64 68",
          "02 11 55 58 67",
          "05 24 52 62 66",
          "22 33 41 48 52",
          "14 30 33 44 56",
          "01 03 05 08 70",
          "01 11 37 47 51",
          "11 13 28 65 70",
          "02 06 11 27 44",
          "17 25 29 39 60",
          "02 32 47 49 68",
          "13 35 45 49 68",
          "02 10 46 50 56",
          "01 17 28 56 70",
          "21 22 39 59 68",
          "40 41 61 66 67",
          "01 14 30 44 62",
          "01 02 04 19 29",
          "01 32 40 49 63",
          "12 15 35 64 69",
          "09 28 30 54 60",
          "02 13 15 21 62",
          "01 03 12 22 42",
          "11 26 44 45 46",
          "01 31 32 47 56",
          "14 16 19 38 57",
          "01 06 13 18 49",
          "03 20 33 34 41",
          "07 18 29 32 45",
          "02 07 25 35 44",
          "08 10 41 54 68",
          "15 30 51 62 67",
          "23 30 40 43 66",
          "31 32 43 63 68",
          "01 02 11 52 64",
          "08 16 32 48 61",
          "39 45 52 56 59",
          "02 22 29 31 34",
          "27 28 32 41 69",
          "20 22 39 54 60",
          "04 24 46 61 70",
          "03 45 49 61 69",
          "15 23 53 65 70",
          "05 28 62 65 70",
          "01 28 61 62 63",
          "20 31 39 46 49",
          "03 23 28 46 62",
          "28 34 37 56 69",
          "08 14 27 57 67",
          "34 46 57 65 69",
          "33 36 63 68 69",
          "10 16 31 42 66",
          "07 10 30 33 59",
          "12 24 37 42 57",
          "25 28 40 43 63",
          "28 31 41 42 50",
          "04 10 20 33 57",
          "04 38 39 54 59",
          "05 22 26 43 49",
          "13 22 32 60 69",
          "10 13 61 62 70",
          "02 08 42 43 50",
          "09 10 25 37 38",
          "34 44 57 62 70",
          "21 29 35 54 60",
          "13 26 29 38 64",
          "04 05 31 62 69",
          "29 52 58 60 62",
          "02 43 48 62 64",
          "04 15 37 59 64",
          "08 16 30 38 61",
          "10 33 53 54 62",
          "02 37 48 66 68",
          "03 34 36 59 66",
          "14 24 31 42 48",
          "15 32 39 50 65",
          "10 38 40 43 65",
          "17 24 34 56 65",
          "18 24 31 34 55",
          "10 12 14 24 60",
          "29 33 39 60 66",
          "15 20 32 37 52",
          "04 09 42 62 68",
          "10 12 16 49 57",
          "03 29 56 62 64",
          "10 42 53 67 68",
          "07 36 58 60 62",
          "04 14 22 43 58",
          "05 14 15 62 66",
          "33 47 58 59 64",
          "08 22 24 38 64",
          "11 22 34 44 58",
          "01 24 25 40 70",
          "11 29 34 48 54",
          "18 25 43 44 57",
          "07 24 30 48 67",
          "09 17 23 30 46",
          "24 37 41 61 70",
          "08 16 22 66 68",
          "03 06 34 54 63",
          "03 16 21 61 62",
          "11 59 66 67 68",
          "05 17 28 32 63",
          "10 50 55 56 58",
          "14 41 44 56 62",
          "09 21 34 42 50",
          "07 08 26 65 67",
          "25 37 46 48 68",
          "17 19 27 40 68",
          "20 34 39 43 57",
          "19 40 47 57 65",
          "12 14 22 24 48",
          "13 30 36 48 62",
          "24 33 45 47 61",
          "02 35 49 53 63",
          "03 25 37 40 55",
          "06 38 47 57 63",
          "12 26 40 48 64",
          "08 25 38 56 59",
          "08 16 31 48 52",
          "16 18 28 33 67",
          "01 04 23 40 45",
          "04 06 11 43 48",
          "10 24 28 33 38",
          "11 20 26 48 70",
          "11 17 31 43 55",
          "15 53 56 59 63",
          "07 27 31 34 51",
          "04 14 24 26 46",
          "08 14 25 51 63",
          "11 15 37 54 68",
          "08 12 23 39 43",
          "03 09 11 34 39",
          "13 20 27 61 62",
          "04 11 13 19 31",
          "34 47 48 50 55",
          "06 16 37 59 62",
          "12 15 30 50 65",
          "23 24 42 48 53",
          "06 14 24 42 46",
          "12 20 31 43 45",
          "10 17 39 42 59",
          "11 38 44 48 70",
          "05 08 10 17 48",
          "14 22 30 37 60",
          "04 12 14 35 70",
          "18 58 60 65 67",
          "05 11 14 23 25",
          "16 24 25 52 60",
          "04 09 17 27 39",
          "09 20 36 41 54",
          "02 09 24 49 54",
          "03 04 10 39 58",
          "19 30 44 56 65",
          "12 19 34 35 68",
          "22 43 44 47 66",
          "07 12 17 49 53",
          "08 27 29 38 43",
          "06 08 31 50 65",
          "23 43 60 63 69",
          "20 31 40 46 61",
          "18 31 46 54 61",
          "17 21 29 39 56",
          "22 30 53 55 56",
          "03 20 23 35 60",
          "27 37 48 63 66",
          "17 34 40 63 64",
          "30 44 49 53 56",
          "37 41 42 53 63",
          "25 40 41 52 56",
          "17 27 49 51 66",
          "09 11 13 31 47",
          "03 25 30 54 70",
          "16 18 29 31 37",
          "03 04 18 23 38",
          "17 36 47 51 62",
          "28 31 33 57 62",
          "32 48 50 51 64",
          "09 14 27 36 52",
          "04 06 32 52 64",
          "10 32 48 54 55",
          "06 12 39 61 70",
          "04 07 13 16 60",
          "02 09 43 49 63",
          "02 03 14 41 64",
          "08 12 33 56 64",
          "15 48 56 58 70",
          "06 17 48 54 69",
          "07 22 37 43 44",
          "20 27 28 58 59",
          "34 35 41 45 54",
          "02 08 16 18 31",
          "03 25 28 50 60",
          "08 17 51 57 70",
          "24 38 44 57 58",
          "25 33 43 51 68",
          "02 11 21 57 60",
          "29 47 65 69 70",
          "13 35 39 46 55",
          "13 15 24 67 70",
          "01 27 32 60 67",
          "13 19 53 54 63",
          "28 30 31 35 66",
          "07 13 17 21 45",
          "05 20 22 61 70",
          "07 16 27 44 52",
          "11 17 32 33 46",
          "08 19 25 36 66",
          "08 10 20 44 46",
          "34 52 58 59 62",
          "10 13 32 41 51",
          "09 20 23 26 29",
          "32 35 37 47 55",
          "01 05 09 10 23",
          "09 14 57 67 70",
          "21 23 33 35 42",
          "11 34 36 52 66",
          "06 20 37 40 48",
          "19 33 37 56 57",
          "09 16 29 37 53",
          "20 40 44 45 50",
          "16 20 25 30 43",
          "10 15 20 49 53",
          "06 26 55 56 64",
          "12 13 21 46 57",
          "14 25 26 41 43",
          "08 33 39 54 58",
          "17 20 27 31 34",
          "12 35 46 48 69",
          "02 22 30 42 62",
          "04 44 53 64 70",
          "08 22 29 43 56",
          "03 24 29 42 47",
          "04 18 26 27 58",
          "11 15 31 42 63",
          "08 10 15 17 57",
          "03 09 50 53 64",
          "15 25 26 38 47",
          "19 22 24 28 53",
          "07 10 15 31 57",
          "03 15 42 48 56",
          "25 28 38 59 62",
          "26 29 41 52 64",
          "36 43 44 55 68",
          "20 36 37 48 67",
          "14 39 43 44 67",
          "09 38 47 49 68",
          "15 16 18 39 59",
          "05 11 25 27 64",
          "11 44 45 46 70",
          "27 32 50 52 57",
          "46 54 57 58 66",
          "18 34 44 60 69",
          "06 13 34 46 62",
          "14 19 34 39 59",
          "07 31 44 45 55",
          "18 24 27 34 60",
          "23 45 53 58 62",
          "06 07 14 28 59",
          "08 13 35 46 68",
          "26 33 45 61 68",
          "09 15 34 61 64",
          "04 10 27 35 58",
          "07 33 53 61 65",
          "03 19 24 44 50",
          "15 19 33 39 68",
          "19 31 37 55 67",
          "01 10 18 20 46",
          "07 15 25 51 60",
          "29 53 56 59 67",
          "17 23 36 69 70",
          "01 31 35 48 62",
          "08 24 53 68 69",
          "20 43 51 55 57",
          "03 06 16 18 58",
          "12 14 26 28 33",
          "03 11 12 38 43",
          "10 19 26 28 50",
          "04 26 42 50 60",
          "29 49 56 66 67",
          "04 44 58 59 70",
          "13 37 38 40 67",
          "14 17 28 29 44",
          "07 18 21 31 40",
          "05 14 24 25 27",
          "01 36 44 54 66",
          "27 32 47 50 53",
          "05 07 09 20 57",
          "11 15 37 62 64",
          "04 08 13 34 64",
          "10 11 17 27 54",
          "04 33 46 58 65",
          "02 24 25 31 65",
          "10 41 46 52 69",
          "09 14 40 58 69",
          "12 23 35 38 55",
          "04 25 37 46 67",
          "11 37 47 53 56",
          "10 42 48 53 62",
          "01 19 20 32 42",
          "22 26 27 58 66",
          "10 15 19 45 68",
          "17 27 28 50 55",
          "06 23 43 49 52",
          "04 28 29 30 60",
          "15 22 30 41 42",
          "08 19 26 48 49",
          "04 27 32 57 63",
          "05 10 19 21 50",
          "07 08 20 36 39",
          "03 18 41 44 68",
          "03 05 56 61 66",
          "06 09 17 18 48",
          "14 21 31 34 54",
          "10 14 20 47 70",
          "07 11 33 58 63",
          "04 30 34 41 64",
          "09 22 39 41 54",
          "04 43 56 63 68",
          "18 22 27 38 52",
          "14 36 44 46 53",
          "01 26 48 51 59",
          "17 20 42 45 65",
          "07 38 50 52 69",
          "08 31 32 34 45",
          "18 47 63 68 69",
          "06 37 39 41 46",
          "03 10 17 26 55",
          "24 25 47 52 57",
          "10 26 30 52 57",
          "13 17 19 40 69",
          "02 35 36 54 64",
          "19 26 31 52 68",
          "01 09 17 27 34",
          "09 18 40 46 69",
          "29 45 50 59 62",
          "17 21 35 40 53",
          "03 06 16 38 56",
          "41 43 51 57 70",
          "17 18 26 52 67",
          "01 10 44 47 56",
          "08 14 31 58 68",
          "07 10 12 61 65",
          "15 17 25 32 53",
          "20 32 35 47 64",
          "04 13 19 63 64",
          "17 32 40 59 61",
          "36 41 45 51 56",
          "17 21 27 43 56",
          "18 30 43 68 69",
          "21 25 36 62 63",
          "07 11 18 30 36",
          "21 24 36 40 70",
          "21 26 56 61 65",
          "03 20 31 34 65",
          "03 12 13 19 52",
          "09 14 26 29 66",
          "06 14 19 56 62",
          "15 26 28 35 45",
          "05 10 26 58 65",
          "10 15 20 66 68",
          "09 14 16 26 49",
          "30 32 42 46 48",
          "06 22 44 53 65",
          "05 23 52 53 59",
          "07 24 54 57 58",
          "07 27 37 42 59",
          "07 08 26 30 39",
          "22 45 48 58 61",
          "01 07 40 43 68",
          "23 25 40 42 60",
          "33 35 44 55 69",
          "21 32 38 48 62",
          "25 31 58 64 67",
          "16 17 25 36 37",
          "03 05 08 31 38",
          "02 05 30 46 61",
          "04 06 16 21 22",
          "07 29 43 56 57",
          "02 03 19 52 58",
          "05 08 13 22 48",
          "04 19 39 42 52",
          "38 45 46 55 67",
          "03 12 38 53 58",
          "03 16 25 44 55",
          "11 24 38 62 66",
          "07 16 34 44 61",
          "01 17 20 52 54",
          "11 16 23 24 30",
          "02 04 15 21 63",
          "06 11 50 63 68",
          "06 17 22 57 62",
          "15 31 40 56 66",
          "18 22 38 39 50",
          "11 19 28 46 47",
          "07 18 38 58 64",
          "24 28 39 44 66",
          "09 14 28 59 60",
          "02 06 25 40 45",
          "08 15 21 27 61",
          "03 13 42 51 58",
          "07 22 36 45 47",
          "26 42 47 48 63",
          "22 43 60 63 64",
          "08 11 29 32 40",
          "02 08 14 20 31",
          "04 17 20 46 64",
          "02 09 33 47 53",
          "07 28 29 58 59",
          "05 07 19 46 69",
          "09 11 34 49 66",
          "15 19 27 35 57",
          "16 21 33 52 70",
          "15 19 20 61 70",
          "11 41 43 44 65",
          "07 21 24 41 65",
          "33 40 59 60 69",
          "03 05 06 63 68",
          "03 14 40 53 54",
          "06 15 41 63 64",
          "11 16 22 48 59",
          "04 34 40 41 53",
          "03 12 14 18 32",
          "30 37 38 42 58",
          "20 36 53 56 69",
          "08 13 18 32 42",
          "01 07 11 25 56",
          "07 12 21 43 55",
          "01 27 29 38 62",
          "27 31 50 51 61",
          "20 36 61 62 69",
          "04 07 10 45 64",
          "08 20 26 53 64",
          "02 31 32 37 70",
          "14 40 60 64 66",
          "07 29 60 63 66",
          "13 36 45 57 67",
          "10 14 25 37 63",
          "02 05 29 64 69",
          "01 08 10 25 32",
          "23 24 50 54 64",
          "33 35 41 45 51",
          "12 18 24 46 65",
          "03 05 47 48 67",
          "06 27 30 38 64",
          "02 38 55 57 65",
          "39 40 52 60 67",
          "06 17 46 59 68",
          "16 21 54 55 69",
          "14 25 38 59 64",
          "15 30 35 38 66",
          "09 21 28 30 52",
          "05 50 53 58 64",
          "08 14 24 43 51",
          "16 26 37 40 51",
          "15 18 25 33 38",
          "06 11 29 36 55",
          "03 07 11 13 38",
          "09 22 26 41 44",
          "01 15 20 44 67",
          "34 36 43 45 68",
          "21 30 35 45 66",
          "04 18 31 53 69",
          "05 09 15 16 17",
          "02 20 47 55 59",
          "05 13 29 38 59",
          "01 05 17 37 70",
          "06 19 28 46 61",
          "02 14 16 38 66",
          "13 23 24 25 43",
          "29 31 46 54 67",
          "20 23 37 46 52",
          "01 21 36 46 52",
          "15 16 19 28 47",
          "08 19 53 61 69",
          "14 22 48 58 68",
          "08 35 40 53 56",
          "03 04 33 36 52",
          "15 21 32 38 62",
          "09 13 36 59 61",
          "01 03 06 44 51",
          "25 29 33 41 44",
          "03 20 46 59 63",
          "07 13 14 15 18",
          "30 43 45 46 61",
          "02 12 18 24 39",
          "20 29 31 64 66",
          "33 41 47 50 62",
          "04 43 46 47 61",
          "07 09 18 29 39",
          "01 04 50 54 59",
          "09 15 46 55 57",
          "20 29 30 52 58",
          "23 24 35 40 43",
          "02 33 38 57 70",
          "02 15 30 36 63",
          "02 22 49 65 67",
          "14 16 40 52 59",
          "08 25 36 39 67",
          "15 22 25 28 69",
          "09 20 59 60 63",
          "01 07 23 38 55",
          "26 28 29 39 49",
          "01 21 25 27 40",
          "14 17 33 42 66",
          "02 03 18 32 68",
          "16 26 27 42 61",
          "01 37 45 62 64",
          "12 32 49 51 66",
          "31 35 53 54 55",
          "23 27 41 48 51",
          "07 09 15 19 25",
          "03 21 29 46 63",
          "08 29 46 47 48",
          "18 38 53 62 64",
          "03 15 16 32 41",
          "16 18 28 42 43",
          "04 37 46 48 51",
          "01 02 23 40 45",
          "15 34 36 69 70",
          "05 11 41 44 55",
          "03 10 22 65 66",
          "12 20 37 41 64",
          "13 16 40 64 68",
          "03 16 19 36 60",
          "06 12 23 29 57",
          "03 19 53 60 68",
          "08 10 19 44 47",
          "04 24 34 45 57",
          "06 37 39 45 46",
          "13 62 65 67 69",
          "08 34 35 41 52",
          "13 22 47 51 55",
          "21 33 54 61 67",
          "08 10 17 55 66",
          "10 17 33 51 64",
          "10 24 48 51 66",
          "19 22 31 37 54",
          "29 40 47 50 57",
          "03 05 06 44 61",
          "05 10 28 52 63",
          "08 24 30 45 61",
          "11 30 45 52 56",
          "13 19 20 32 33",
          "08 09 18 35 41",
          "18 39 42 57 63",
          "10 20 29 44 66",
          "01 12 26 36 50",
          "12 23 26 31 38",
          "09 39 52 61 63",
          "10 31 42 43 55",
          "03 43 50 51 65",
          "03 12 17 51 62",
          "02 14 21 42 67",
          "05 13 29 50 53",
          "06 09 13 29 66",
          "10 13 14 57 66",
          "15 30 35 42 60",
          "18 40 47 55 64",
          "03 19 32 39 59",
          "12 24 46 57 66",
          "03 08 17 46 63",
          "06 18 44 46 68",
          "05 06 29 32 61",
          "07 29 36 49 61",
          "16 20 30 54 59",
          "11 32 43 57 70",
          "14 35 37 55 70",
          "15 32 38 47 65",
          "03 11 33 42 52",
          "13 33 59 68 70",
          "29 35 59 61 69",
          "06 12 31 33 69",
          "17 22 25 30 38",
          "06 15 45 59 68",
          "27 37 42 59 61",
          "12 47 49 52 65",
          "18 35 40 64 67",
          "21 26 53 66 70",
          "08 23 44 45 53",
          "10 20 28 40 54",
          "17 26 50 58 61",
          "10 26 36 54 69",
          "08 10 22 58 64",
          "11 27 30 62 70",
          "03 18 27 29 64",
          "05 23 26 38 44",
          "12 15 32 33 53",
          "19 34 35 45 67",
          "02 10 42 49 54",
          "01 09 16 17 30",
          "21 28 58 69 70",
          "14 31 34 50 61",
          "03 05 16 58 59",
          "11 22 42 64 69",
          "02 10 31 44 57",
          "17 22 29 46 69",
          "01 03 19 25 58",
          "19 23 39 42 67",
          "05 45 55 58 68",
          "04 06 40 41 60",
          "06 18 26 27 49",
          "15 33 37 55 61",
          "02 49 50 61 70",
          "19 20 22 47 58",
          "02 16 31 57 64",
          "13 25 50 51 66",
          "24 46 49 62 66",
          "03 08 31 35 44",
          "07 11 22 29 38",
          "11 30 33 38 60",
          "10 50 56 60 66",
          "20 30 54 63 65",
          "34 43 51 52 69",
          "01 12 14 18 66",
          "21 26 36 44 59",
          "19 30 34 46 58",
          "11 17 33 39 43",
          "15 23 53 57 61",
          "10 18 27 37 61",
          "06 13 15 53 56",
          "26 28 36 63 66",
          "13 22 26 32 65",
          "13 19 43 62 64",
          "08 17 40 60 70",
          "02 05 08 28 69",
          "46 54 56 67 70",
          "12 18 48 57 62",
          "04 11 23 33 49",
          "19 37 40 63 69",
          "03 05 12 22 66",
          "01 05 07 22 24",
          "01 25 26 31 65",
          "21 22 50 55 67",
          "03 18 27 40 44",
          "03 16 27 47 62",
          "28 31 33 42 66",
          "04 08 19 31 45",
          "06 15 32 54 67",
          "21 26 54 60 64",
          "15 35 48 53 68",
          "05 35 42 58 66",
          "10 17 23 50 67",
          "03 09 14 26 51",
          "02 14 33 58 65",
          "19 23 30 33 50",
          "06 07 24 44 54",
          "23 29 36 61 70",
          "12 32 38 40 57",
          "34 55 59 65 70",
          "22 38 48 51 61",
          "05 20 26 49 51",
          "28 30 44 66 69",
          "16 18 21 54 65",
          "10 17 20 24 54",
          "12 41 43 52 55",
          "06 23 41 59 63",
          "01 02 16 24 66",
          "21 55 56 57 66",
          "14 31 48 57 64",
          "20 21 40 49 55",
          "01 06 10 23 27",
          "29 46 53 69 70",
          "27 35 47 50 66",
          "21 39 42 43 45",
          "03 19 20 22 66",
          "03 10 29 52 57",
          "22 34 44 54 62",
          "04 09 26 39 58",
          "08 43 48 58 60",
          "23 26 35 41 43",
          "16 22 26 36 56",
          "11 22 42 46 51",
          "02 24 25 52 58",
          "25 28 42 64 69",
          "18 31 33 64 68",
          "05 17 35 55 69",
          "05 35 50 51 59",
          "13 20 26 32 65",
          "05 22 24 39 42",
          "03 29 34 37 38",
          "52 60 61 66 67",
          "16 21 33 39 45",
          "12 14 26 48 52",
          "36 43 52 58 65",
          "56 66 67 68 69",
          "02 20 51 56 67",
          "11 14 38 45 46",
          "03 07 37 49 55",
          "13 22 27 29 35",
          "20 42 46 59 69",
          "20 24 33 39 48",
          "09 23 39 65 66",
          "04 14 35 49 62",
          "08 10 37 54 69",
          "27 30 56 64 65",
          "08 12 43 52 62",
          "10 19 31 47 56",
          "09 28 48 56 63",
          "14 24 31 53 54",
          "04 24 32 41 55",
          "07 30 39 41 70",
          "11 19 31 49 56",
          "01 20 25 58 61",
          "01 13 28 37 46",
          "04 08 11 32 52",
          "09 19 30 35 66",
          "14 19 47 52 70",
          "08 20 48 58 60",
          "01 19 26 38 69",
          "03 17 39 42 70",
          "27 28 31 32 33",
          "15 22 31 52 57",
          "01 05 17 39 62",
          "02 09 31 60 63",
          "11 12 21 29 49",
          "11 28 35 37 69",
          "10 16 50 60 61",
          "15 37 38 56 58",
          "06 10 13 24 63",
          "05 13 15 17 28",
          "25 39 49 52 65",
          "38 40 60 62 70",
          "16 33 40 51 57",
          "14 37 40 41 68",
          "16 17 43 46 58",
          "09 10 12 48 60",
          "06 29 33 47 68",
          "02 22 42 62 66",
          "18 30 33 55 64",
          "07 18 40 55 68",
          "06 28 34 48 62",
          "02 28 37 38 58"
         ],
         "marker": {
          "color": {
           "bdata": "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",
           "dtype": "i1"
          },
          "colorscale": [
           [
            0,
            "#440154"
           ],
           [
            0.1111111111111111,
            "#482878"
           ],
           [
            0.2222222222222222,
            "#3e4989"
           ],
           [
            0.3333333333333333,
            "#31688e"
           ],
           [
            0.4444444444444444,
            "#26828e"
           ],
           [
            0.5555555555555556,
            "#1f9e89"
           ],
           [
            0.6666666666666666,
            "#35b779"
           ],
           [
            0.7777777777777778,
            "#6ece58"
           ],
           [
            0.8888888888888888,
            "#b5de2b"
           ],
           [
            1,
            "#fde725"
           ]
          ],
          "opacity": 0.8,
          "size": 5
         },
         "mode": "markers+text",
         "type": "scatter3d",
         "x": {
          "bdata": "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",
          "dtype": "i1"
         },
         "y": {
          "bdata": "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",
          "dtype": "i1"
         },
         "z": {
          "bdata": "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",
          "dtype": "i1"
         }
        }
       ],
       "layout": {
        "margin": {
         "b": 0,
         "l": 0,
         "r": 0,
         "t": 30
        },
        "scene": {
         "xaxis": {
          "title": {
           "text": "1st Winning Number"
          }
         },
         "yaxis": {
          "title": {
           "text": "2nd Winning Number"
          }
         },
         "zaxis": {
          "title": {
           "text": "3rd Winning Number"
          }
         }
        },
        "template": {
         "data": {
          "bar": [
           {
            "error_x": {
             "color": "#2a3f5f"
            },
            "error_y": {
             "color": "#2a3f5f"
            },
            "marker": {
             "line": {
              "color": "#E5ECF6",
              "width": 0.5
             },
             "pattern": {
              "fillmode": "overlay",
              "size": 10,
              "solidity": 0.2
             }
            },
            "type": "bar"
           }
          ],
          "barpolar": [
           {
            "marker": {
             "line": {
              "color": "#E5ECF6",
              "width": 0.5
             },
             "pattern": {
              "fillmode": "overlay",
              "size": 10,
              "solidity": 0.2
             }
            },
            "type": "barpolar"
           }
          ],
          "carpet": [
           {
            "aaxis": {
             "endlinecolor": "#2a3f5f",
             "gridcolor": "white",
             "linecolor": "white",
             "minorgridcolor": "white",
             "startlinecolor": "#2a3f5f"
            },
            "baxis": {
             "endlinecolor": "#2a3f5f",
             "gridcolor": "white",
             "linecolor": "white",
             "minorgridcolor": "white",
             "startlinecolor": "#2a3f5f"
            },
            "type": "carpet"
           }
          ],
          "choropleth": [
           {
            "colorbar": {
             "outlinewidth": 0,
             "ticks": ""
            },
            "type": "choropleth"
           }
          ],
          "contour": [
           {
            "colorbar": {
             "outlinewidth": 0,
             "ticks": ""
            },
            "colorscale": [
             [
              0,
              "#0d0887"
             ],
             [
              0.1111111111111111,
              "#46039f"
             ],
             [
              0.2222222222222222,
              "#7201a8"
             ],
             [
              0.3333333333333333,
              "#9c179e"
             ],
             [
              0.4444444444444444,
              "#bd3786"
             ],
             [
              0.5555555555555556,
              "#d8576b"
             ],
             [
              0.6666666666666666,
              "#ed7953"
             ],
             [
              0.7777777777777778,
              "#fb9f3a"
             ],
             [
              0.8888888888888888,
              "#fdca26"
             ],
             [
              1,
              "#f0f921"
             ]
            ],
            "type": "contour"
           }
          ],
          "contourcarpet": [
           {
            "colorbar": {
             "outlinewidth": 0,
             "ticks": ""
            },
            "type": "contourcarpet"
           }
          ],
          "heatmap": [
           {
            "colorbar": {
             "outlinewidth": 0,
             "ticks": ""
            },
            "colorscale": [
             [
              0,
              "#0d0887"
             ],
             [
              0.1111111111111111,
              "#46039f"
             ],
             [
              0.2222222222222222,
              "#7201a8"
             ],
             [
              0.3333333333333333,
              "#9c179e"
             ],
             [
              0.4444444444444444,
              "#bd3786"
             ],
             [
              0.5555555555555556,
              "#d8576b"
             ],
             [
              0.6666666666666666,
              "#ed7953"
             ],
             [
              0.7777777777777778,
              "#fb9f3a"
             ],
             [
              0.8888888888888888,
              "#fdca26"
             ],
             [
              1,
              "#f0f921"
             ]
            ],
            "type": "heatmap"
           }
          ],
          "histogram": [
           {
            "marker": {
             "pattern": {
              "fillmode": "overlay",
              "size": 10,
              "solidity": 0.2
             }
            },
            "type": "histogram"
           }
          ],
          "histogram2d": [
           {
            "colorbar": {
             "outlinewidth": 0,
             "ticks": ""
            },
            "colorscale": [
             [
              0,
              "#0d0887"
             ],
             [
              0.1111111111111111,
              "#46039f"
             ],
             [
              0.2222222222222222,
              "#7201a8"
             ],
             [
              0.3333333333333333,
              "#9c179e"
             ],
             [
              0.4444444444444444,
              "#bd3786"
             ],
             [
              0.5555555555555556,
              "#d8576b"
             ],
             [
              0.6666666666666666,
              "#ed7953"
             ],
             [
              0.7777777777777778,
              "#fb9f3a"
             ],
             [
              0.8888888888888888,
              "#fdca26"
             ],
             [
              1,
              "#f0f921"
             ]
            ],
            "type": "histogram2d"
           }
          ],
          "histogram2dcontour": [
           {
            "colorbar": {
             "outlinewidth": 0,
             "ticks": ""
            },
            "colorscale": [
             [
              0,
              "#0d0887"
             ],
             [
              0.1111111111111111,
              "#46039f"
             ],
             [
              0.2222222222222222,
              "#7201a8"
             ],
             [
              0.3333333333333333,
              "#9c179e"
             ],
             [
              0.4444444444444444,
              "#bd3786"
             ],
             [
              0.5555555555555556,
              "#d8576b"
             ],
             [
              0.6666666666666666,
              "#ed7953"
             ],
             [
              0.7777777777777778,
              "#fb9f3a"
             ],
             [
              0.8888888888888888,
              "#fdca26"
             ],
             [
              1,
              "#f0f921"
             ]
            ],
            "type": "histogram2dcontour"
           }
          ],
          "mesh3d": [
           {
            "colorbar": {
             "outlinewidth": 0,
             "ticks": ""
            },
            "type": "mesh3d"
           }
          ],
          "parcoords": [
           {
            "line": {
             "colorbar": {
              "outlinewidth": 0,
              "ticks": ""
             }
            },
            "type": "parcoords"
           }
          ],
          "pie": [
           {
            "automargin": true,
            "type": "pie"
           }
          ],
          "scatter": [
           {
            "fillpattern": {
             "fillmode": "overlay",
             "size": 10,
             "solidity": 0.2
            },
            "type": "scatter"
           }
          ],
          "scatter3d": [
           {
            "line": {
             "colorbar": {
              "outlinewidth": 0,
              "ticks": ""
             }
            },
            "marker": {
             "colorbar": {
              "outlinewidth": 0,
              "ticks": ""
             }
            },
            "type": "scatter3d"
           }
          ],
          "scattercarpet": [
           {
            "marker": {
             "colorbar": {
              "outlinewidth": 0,
              "ticks": ""
             }
            },
            "type": "scattercarpet"
           }
          ],
          "scattergeo": [
           {
            "marker": {
             "colorbar": {
              "outlinewidth": 0,
              "ticks": ""
             }
            },
            "type": "scattergeo"
           }
          ],
          "scattergl": [
           {
            "marker": {
             "colorbar": {
              "outlinewidth": 0,
              "ticks": ""
             }
            },
            "type": "scattergl"
           }
          ],
          "scattermap": [
           {
            "marker": {
             "colorbar": {
              "outlinewidth": 0,
              "ticks": ""
             }
            },
            "type": "scattermap"
           }
          ],
          "scattermapbox": [
           {
            "marker": {
             "colorbar": {
              "outlinewidth": 0,
              "ticks": ""
             }
            },
            "type": "scattermapbox"
           }
          ],
          "scatterpolar": [
           {
            "marker": {
             "colorbar": {
              "outlinewidth": 0,
              "ticks": ""
             }
            },
            "type": "scatterpolar"
           }
          ],
          "scatterpolargl": [
           {
            "marker": {
             "colorbar": {
              "outlinewidth": 0,
              "ticks": ""
             }
            },
            "type": "scatterpolargl"
           }
          ],
          "scatterternary": [
           {
            "marker": {
             "colorbar": {
              "outlinewidth": 0,
              "ticks": ""
             }
            },
            "type": "scatterternary"
           }
          ],
          "surface": [
           {
            "colorbar": {
             "outlinewidth": 0,
             "ticks": ""
            },
            "colorscale": [
             [
              0,
              "#0d0887"
             ],
             [
              0.1111111111111111,
              "#46039f"
             ],
             [
              0.2222222222222222,
              "#7201a8"
             ],
             [
              0.3333333333333333,
              "#9c179e"
             ],
             [
              0.4444444444444444,
              "#bd3786"
             ],
             [
              0.5555555555555556,
              "#d8576b"
             ],
             [
              0.6666666666666666,
              "#ed7953"
             ],
             [
              0.7777777777777778,
              "#fb9f3a"
             ],
             [
              0.8888888888888888,
              "#fdca26"
             ],
             [
              1,
              "#f0f921"
             ]
            ],
            "type": "surface"
           }
          ],
          "table": [
           {
            "cells": {
             "fill": {
              "color": "#EBF0F8"
             },
             "line": {
              "color": "white"
             }
            },
            "header": {
             "fill": {
              "color": "#C8D4E3"
             },
             "line": {
              "color": "white"
             }
            },
            "type": "table"
           }
          ]
         },
         "layout": {
          "annotationdefaults": {
           "arrowcolor": "#2a3f5f",
           "arrowhead": 0,
           "arrowwidth": 1
          },
          "autotypenumbers": "strict",
          "coloraxis": {
           "colorbar": {
            "outlinewidth": 0,
            "ticks": ""
           }
          },
          "colorscale": {
           "diverging": [
            [
             0,
             "#8e0152"
            ],
            [
             0.1,
             "#c51b7d"
            ],
            [
             0.2,
             "#de77ae"
            ],
            [
             0.3,
             "#f1b6da"
            ],
            [
             0.4,
             "#fde0ef"
            ],
            [
             0.5,
             "#f7f7f7"
            ],
            [
             0.6,
             "#e6f5d0"
            ],
            [
             0.7,
             "#b8e186"
            ],
            [
             0.8,
             "#7fbc41"
            ],
            [
             0.9,
             "#4d9221"
            ],
            [
             1,
             "#276419"
            ]
           ],
           "sequential": [
            [
             0,
             "#0d0887"
            ],
            [
             0.1111111111111111,
             "#46039f"
            ],
            [
             0.2222222222222222,
             "#7201a8"
            ],
            [
             0.3333333333333333,
             "#9c179e"
            ],
            [
             0.4444444444444444,
             "#bd3786"
            ],
            [
             0.5555555555555556,
             "#d8576b"
            ],
            [
             0.6666666666666666,
             "#ed7953"
            ],
            [
             0.7777777777777778,
             "#fb9f3a"
            ],
            [
             0.8888888888888888,
             "#fdca26"
            ],
            [
             1,
             "#f0f921"
            ]
           ],
           "sequentialminus": [
            [
             0,
             "#0d0887"
            ],
            [
             0.1111111111111111,
             "#46039f"
            ],
            [
             0.2222222222222222,
             "#7201a8"
            ],
            [
             0.3333333333333333,
             "#9c179e"
            ],
            [
             0.4444444444444444,
             "#bd3786"
            ],
            [
             0.5555555555555556,
             "#d8576b"
            ],
            [
             0.6666666666666666,
             "#ed7953"
            ],
            [
             0.7777777777777778,
             "#fb9f3a"
            ],
            [
             0.8888888888888888,
             "#fdca26"
            ],
            [
             1,
             "#f0f921"
            ]
           ]
          },
          "colorway": [
           "#636efa",
           "#EF553B",
           "#00cc96",
           "#ab63fa",
           "#FFA15A",
           "#19d3f3",
           "#FF6692",
           "#B6E880",
           "#FF97FF",
           "#FECB52"
          ],
          "font": {
           "color": "#2a3f5f"
          },
          "geo": {
           "bgcolor": "white",
           "lakecolor": "white",
           "landcolor": "#E5ECF6",
           "showlakes": true,
           "showland": true,
           "subunitcolor": "white"
          },
          "hoverlabel": {
           "align": "left"
          },
          "hovermode": "closest",
          "mapbox": {
           "style": "light"
          },
          "paper_bgcolor": "white",
          "plot_bgcolor": "#E5ECF6",
          "polar": {
           "angularaxis": {
            "gridcolor": "white",
            "linecolor": "white",
            "ticks": ""
           },
           "bgcolor": "#E5ECF6",
           "radialaxis": {
            "gridcolor": "white",
            "linecolor": "white",
            "ticks": ""
           }
          },
          "scene": {
           "xaxis": {
            "backgroundcolor": "#E5ECF6",
            "gridcolor": "white",
            "gridwidth": 2,
            "linecolor": "white",
            "showbackground": true,
            "ticks": "",
            "zerolinecolor": "white"
           },
           "yaxis": {
            "backgroundcolor": "#E5ECF6",
            "gridcolor": "white",
            "gridwidth": 2,
            "linecolor": "white",
            "showbackground": true,
            "ticks": "",
            "zerolinecolor": "white"
           },
           "zaxis": {
            "backgroundcolor": "#E5ECF6",
            "gridcolor": "white",
            "gridwidth": 2,
            "linecolor": "white",
            "showbackground": true,
            "ticks": "",
            "zerolinecolor": "white"
           }
          },
          "shapedefaults": {
           "line": {
            "color": "#2a3f5f"
           }
          },
          "ternary": {
           "aaxis": {
            "gridcolor": "white",
            "linecolor": "white",
            "ticks": ""
           },
           "baxis": {
            "gridcolor": "white",
            "linecolor": "white",
            "ticks": ""
           },
           "bgcolor": "#E5ECF6",
           "caxis": {
            "gridcolor": "white",
            "linecolor": "white",
            "ticks": ""
           }
          },
          "title": {
           "x": 0.05
          },
          "xaxis": {
           "automargin": true,
           "gridcolor": "white",
           "linecolor": "white",
           "ticks": "",
           "title": {
            "standoff": 15
           },
           "zerolinecolor": "white",
           "zerolinewidth": 2
          },
          "yaxis": {
           "automargin": true,
           "gridcolor": "white",
           "linecolor": "white",
           "ticks": "",
           "title": {
            "standoff": 15
           },
           "zerolinecolor": "white",
           "zerolinewidth": 2
          }
         }
        },
        "title": {
         "text": "3D Scatter Plot of the 1st 3 Winning Numbers"
        }
       }
      }
     },
     "metadata": {},
     "output_type": "display_data"
    }
   ],
   "source": [
    "#create 3d plot with first 3 winning numbers\n",
    "x=df['win_num_1']\n",
    "y=df['win_num_2']\n",
    "z=df['win_num_3']\n",
    "fig = go.Figure(data=[go.Scatter3d(\n",
    "    x=x,\n",
    "    y=y,\n",
    "    z=z,\n",
    "    mode='markers+text',\n",
    "    hoverinfo='text', \n",
    "    hovertext=df['Winning Numbers'],\n",
    "    marker=dict(\n",
    "        size=5,\n",
    "        color=y,\n",
    "        colorscale='Viridis', \n",
    "        opacity=0.8\n",
    "    )\n",
    ")]).update_layout(title=dict(text=\"3D Scatter Plot of the 1st 3 Winning Numbers\"),\n",
    "                    margin=dict(l=0, r=0, t=30, b=0),\n",
    "                    scene = dict(\n",
    "                    xaxis = dict(title='1st Winning Number'),\n",
    "                    yaxis = dict(title='2nd Winning Number'),\n",
    "                    zaxis = dict(title='3rd Winning Number')\n",
    "                    ))\n",
    "fig.show()"
   ]
  },
  {
   "cell_type": "code",
   "execution_count": 109,
   "id": "2d30d6ab",
   "metadata": {},
   "outputs": [
    {
     "data": {
      "application/vnd.plotly.v1+json": {
       "config": {
        "plotlyServerURL": "https://plot.ly"
       },
       "data": [
        {
         "hoverinfo": "text",
         "hovertext": [
          "15 18 25 33 47",
          "04 28 39 41 44",
          "02 04 32 44 52",
          "06 21 22 29 32",
          "12 28 45 46 52",
          "03 25 29 30 48",
          "14 22 27 28 42",
          "05 06 09 33 44",
          "04 08 32 37 43",
          "06 13 18 27 45",
          "13 18 32 39 49",
          "04 18 21 27 41",
          "18 31 49 50 51",
          "14 22 32 35 44",
          "11 20 26 29 41",
          "26 29 31 44 48",
          "13 19 23 38 47",
          "10 24 35 49 52",
          "07 15 24 37 46",
          "10 12 29 32 38",
          "20 27 28 37 49",
          "02 06 22 27 44",
          "10 16 23 28 31",
          "02 06 38 40 50",
          "07 17 23 43 44",
          "03 10 15 18 25",
          "22 31 33 44 52",
          "02 13 20 23 43",
          "05 19 20 45 48",
          "02 05 11 18 45",
          "06 31 32 42 51",
          "08 23 36 49 51",
          "31 39 42 49 51",
          "04 06 10 21 25",
          "24 32 37 40 51",
          "07 10 19 26 44",
          "01 02 04 05 46",
          "08 32 34 42 50",
          "23 27 30 33 36",
          "07 21 30 32 37",
          "10 42 43 45 51",
          "18 34 43 47 50",
          "09 11 17 26 41",
          "06 20 27 34 51",
          "10 31 40 48 51",
          "16 20 26 36 48",
          "08 15 34 39 47",
          "09 10 14 41 49",
          "05 10 22 23 43",
          "02 07 16 28 36",
          "17 19 37 47 48",
          "03 28 45 48 50",
          "06 17 44 49 51",
          "07 16 20 40 52",
          "11 16 19 22 46",
          "03 21 27 31 43",
          "08 25 33 42 49",
          "01 15 19 40 51",
          "04 08 30 36 52",
          "03 05 09 16 31",
          "02 13 14 24 46",
          "03 07 21 29 49",
          "10 14 41 46 49",
          "08 24 39 43 52",
          "11 14 26 30 39",
          "08 21 29 42 51",
          "06 14 28 37 46",
          "15 16 28 34 51",
          "07 17 18 34 50",
          "30 39 41 47 52",
          "25 26 38 42 46",
          "04 41 48 50 51",
          "16 31 37 40 41",
          "13 24 26 32 47",
          "01 08 09 19 22",
          "05 12 16 22 24",
          "03 09 20 26 27",
          "18 20 23 48 49",
          "11 13 19 32 47",
          "12 22 29 42 50",
          "21 28 29 40 51",
          "02 04 06 37 47",
          "11 16 26 48 49",
          "02 26 36 37 41",
          "07 10 32 36 41",
          "10 15 26 28 39",
          "03 06 14 31 33",
          "13 14 16 29 49",
          "06 17 18 40 50",
          "15 21 37 40 42",
          "08 12 21 27 29",
          "07 12 26 45 47",
          "06 22 28 31 40",
          "08 10 24 38 45",
          "15 26 27 38 39",
          "16 29 31 39 52",
          "05 15 24 50 52",
          "03 09 15 28 52",
          "01 12 32 48 51",
          "06 08 09 33 35",
          "02 05 19 32 34",
          "05 14 32 44 52",
          "01 10 20 22 28",
          "17 20 47 49 50",
          "05 10 16 26 39",
          "02 16 36 44 49",
          "12 20 31 33 50",
          "10 11 17 20 26",
          "01 21 28 33 51",
          "04 20 25 29 32",
          "10 14 28 39 40",
          "14 15 23 32 52",
          "12 15 16 20 51",
          "27 31 34 40 52",
          "01 02 03 12 37",
          "02 26 43 44 47",
          "01 14 20 31 40",
          "28 32 39 45 48",
          "06 07 22 37 46",
          "02 09 27 29 35",
          "01 04 10 16 18",
          "01 26 33 43 48",
          "29 30 34 38 44",
          "01 05 31 38 47",
          "33 46 47 50 51",
          "01 17 19 32 42",
          "02 11 27 30 33",
          "07 32 34 38 44",
          "06 09 35 40 43",
          "08 11 18 35 51",
          "01 16 20 41 52",
          "07 11 24 28 52",
          "04 19 31 32 51",
          "09 28 42 44 49",
          "08 11 17 42 52",
          "22 26 27 32 39",
          "07 09 28 41 42",
          "14 15 30 39 46",
          "16 22 23 38 46",
          "15 20 24 30 46",
          "13 14 24 34 47",
          "05 16 24 49 51",
          "05 29 32 45 52",
          "02 26 37 40 46",
          "19 21 30 31 52",
          "01 02 22 40 41",
          "04 19 36 42 48",
          "18 19 21 33 40",
          "14 20 31 46 48",
          "18 34 46 51 52",
          "08 09 16 30 31",
          "06 09 20 40 47",
          "06 12 13 36 46",
          "16 24 43 44 45",
          "06 18 23 26 30",
          "02 05 17 21 22",
          "03 13 31 41 42",
          "04 11 25 30 52",
          "14 26 28 36 42",
          "22 32 37 40 41",
          "19 26 31 44 50",
          "10 13 24 34 49",
          "01 12 15 18 44",
          "04 14 15 24 48",
          "09 16 32 45 46",
          "16 24 31 46 47",
          "05 10 17 35 39",
          "02 13 21 22 49",
          "01 10 17 20 29",
          "12 18 21 32 46",
          "07 08 36 44 48",
          "07 13 15 25 32",
          "24 32 38 47 49",
          "03 17 18 21 45",
          "12 26 41 44 49",
          "05 07 14 21 45",
          "10 18 33 46 51",
          "06 10 20 38 50",
          "17 28 30 40 51",
          "09 21 26 35 41",
          "01 06 16 30 49",
          "03 07 10 22 32",
          "14 30 42 43 45",
          "02 08 34 36 52",
          "01 13 20 21 30",
          "06 11 43 49 52",
          "02 09 24 36 52",
          "25 30 35 40 50",
          "30 40 47 49 52",
          "16 23 29 36 51",
          "04 29 32 35 36",
          "03 28 45 49 51",
          "06 09 14 32 50",
          "12 22 35 39 46",
          "08 10 17 37 49",
          "03 27 31 41 45",
          "08 17 25 46 47",
          "08 17 29 32 39",
          "02 08 10 11 23",
          "13 36 39 50 51",
          "06 24 29 42 51",
          "12 22 37 46 48",
          "08 22 25 47 48",
          "01 10 17 23 35",
          "15 21 32 39 50",
          "03 15 29 37 39",
          "14 17 19 44 50",
          "09 25 30 34 37",
          "10 19 32 36 46",
          "02 36 44 46 51",
          "04 20 27 38 49",
          "05 18 34 36 39",
          "13 27 36 39 51",
          "07 16 17 26 48",
          "04 16 18 41 47",
          "17 24 29 37 45",
          "12 28 36 39 52",
          "18 23 27 29 44",
          "07 10 11 15 51",
          "09 10 17 41 52",
          "18 19 29 32 42",
          "10 13 19 28 38",
          "10 25 38 39 50",
          "06 07 08 31 48",
          "11 23 25 29 45",
          "13 31 37 39 52",
          "03 21 22 35 44",
          "06 15 21 32 44",
          "05 12 25 35 37",
          "08 10 11 13 24",
          "16 19 21 34 35",
          "01 02 13 16 22",
          "04 23 33 38 49",
          "18 25 29 31 44",
          "14 31 41 45 48",
          "22 23 26 28 36",
          "12 17 34 37 39",
          "02 05 21 47 50",
          "05 25 38 46 47",
          "14 15 25 42 44",
          "04 14 34 38 44",
          "13 30 36 38 51",
          "11 17 27 45 52",
          "12 35 37 38 50",
          "03 16 25 38 49",
          "01 03 15 19 29",
          "11 26 30 49 50",
          "01 18 39 42 50",
          "08 10 17 24 39",
          "08 34 39 48 49",
          "16 17 21 33 41",
          "04 18 19 39 51",
          "04 08 24 30 36",
          "06 13 19 34 50",
          "03 07 20 24 43",
          "14 25 39 43 49",
          "10 18 26 31 41",
          "24 32 42 49 50",
          "03 29 30 41 43",
          "11 20 26 28 52",
          "05 31 33 35 51",
          "09 10 27 28 30",
          "01 12 24 36 51",
          "08 30 32 35 51",
          "07 09 18 37 43",
          "10 20 22 28 52",
          "12 32 37 41 52",
          "01 19 22 32 49",
          "22 23 37 42 47",
          "14 27 32 34 40",
          "16 34 38 42 47",
          "07 22 27 31 38",
          "09 20 22 41 42",
          "18 29 32 38 43",
          "10 14 45 47 51",
          "03 06 07 12 32",
          "02 08 14 15 51",
          "02 23 24 35 45",
          "15 19 24 40 47",
          "10 23 28 39 51",
          "17 27 39 40 41",
          "02 10 21 25 45",
          "25 31 39 47 52",
          "03 17 21 42 44",
          "03 12 14 30 52",
          "08 11 14 23 25",
          "06 14 21 24 50",
          "03 16 20 21 38",
          "01 19 31 35 42",
          "15 18 28 41 45",
          "04 13 37 38 50",
          "01 08 18 39 48",
          "07 10 13 35 39",
          "08 14 15 22 31",
          "18 19 31 35 36",
          "14 26 27 34 44",
          "02 09 28 29 48",
          "06 11 27 37 43",
          "11 18 19 45 49",
          "07 17 18 30 42",
          "11 19 28 32 45",
          "04 19 45 51 52",
          "05 13 17 33 35",
          "15 20 43 47 50",
          "25 26 37 39 49",
          "05 06 14 42 47",
          "23 25 43 46 49",
          "18 22 33 34 42",
          "02 05 07 28 46",
          "07 17 42 46 52",
          "07 12 25 50 51",
          "11 25 38 40 42",
          "21 23 27 33 39",
          "07 09 10 29 44",
          "03 06 27 40 44",
          "09 28 39 40 45",
          "07 17 22 34 50",
          "05 13 22 37 38",
          "04 06 14 28 47",
          "07 14 28 46 47",
          "14 29 31 37 50",
          "01 10 29 48 49",
          "16 35 40 49 50",
          "09 13 40 46 50",
          "14 43 44 50 56",
          "02 20 37 43 46",
          "14 25 41 42 50",
          "22 38 48 50 55",
          "09 23 45 48 50",
          "05 17 32 39 53",
          "09 13 25 36 48",
          "07 13 48 51 54",
          "07 18 27 35 54",
          "01 10 18 29 55",
          "04 16 23 25 40",
          "17 22 39 50 52",
          "03 05 48 50 53",
          "13 35 36 43 52",
          "08 37 38 45 54",
          "09 15 20 24 55",
          "02 13 18 36 46",
          "06 07 08 13 40",
          "05 20 38 47 54",
          "19 32 42 49 56",
          "01 04 14 45 53",
          "01 08 27 31 50",
          "15 28 43 51 52",
          "13 24 44 48 52",
          "05 16 41 46 50",
          "35 36 40 42 52",
          "06 07 20 41 51",
          "14 17 26 27 28",
          "01 03 14 30 52",
          "12 24 28 29 36",
          "02 04 23 27 36",
          "24 30 42 53 54",
          "06 20 24 25 34",
          "03 12 16 32 33",
          "11 17 28 29 36",
          "07 12 18 31 55",
          "08 17 25 28 53",
          "05 18 21 28 36",
          "07 09 41 53 54",
          "08 16 21 25 27",
          "09 14 34 50 51",
          "02 04 05 40 48",
          "08 18 21 42 46",
          "09 22 37 41 43",
          "05 25 31 33 34",
          "07 08 47 51 52",
          "03 12 21 38 44",
          "06 10 26 30 33",
          "14 15 31 32 43",
          "09 10 12 22 41",
          "14 25 26 31 56",
          "06 20 23 40 56",
          "10 37 39 49 54",
          "11 24 27 49 55",
          "14 20 25 40 44",
          "15 19 20 32 38",
          "08 11 28 37 53",
          "07 27 32 37 38",
          "05 21 27 44 53",
          "24 32 37 39 40",
          "18 22 28 44 53",
          "31 34 36 51 55",
          "02 07 08 18 29",
          "01 35 53 54 56",
          "29 31 32 41 52",
          "02 16 25 30 48",
          "24 39 40 43 46",
          "27 36 43 49 54",
          "16 25 31 43 46",
          "14 23 27 36 45",
          "03 05 12 16 34",
          "02 04 35 36 48",
          "25 29 38 39 46",
          "15 27 36 38 42",
          "04 17 18 51 54",
          "27 28 30 42 50",
          "08 11 23 48 52",
          "04 16 17 28 31",
          "01 02 17 47 49",
          "14 18 35 39 49",
          "04 07 19 50 52",
          "09 25 48 51 56",
          "01 18 31 46 52",
          "02 12 45 46 56",
          "08 10 18 29 33",
          "13 14 25 34 50",
          "02 04 07 27 41",
          "01 20 32 37 39",
          "16 29 32 36 55",
          "07 11 22 27 31",
          "08 20 39 53 55",
          "07 15 24 43 44",
          "06 36 39 45 52",
          "07 24 40 48 50",
          "05 12 31 51 56",
          "17 21 28 48 54",
          "12 14 20 47 48",
          "02 13 28 34 45",
          "03 10 18 36 38",
          "05 29 35 52 53",
          "08 17 18 26 47",
          "01 20 23 24 33",
          "27 30 36 38 45",
          "11 21 37 53 54",
          "13 17 24 34 56",
          "02 14 20 29 44",
          "20 40 46 48 54",
          "09 15 31 42 45",
          "07 15 27 46 56",
          "05 14 34 36 52",
          "13 25 26 28 56",
          "12 13 29 49 52",
          "18 26 35 36 43",
          "07 21 24 41 51",
          "02 13 23 32 35",
          "14 29 32 43 49",
          "02 24 31 50 55",
          "01 05 13 18 33",
          "14 16 38 40 49",
          "10 12 22 44 48",
          "05 12 13 46 50",
          "03 04 05 07 36",
          "17 24 35 46 54",
          "15 25 37 38 52",
          "05 06 51 53 55",
          "01 32 36 42 53",
          "09 17 34 52 53",
          "03 16 25 30 44",
          "06 26 33 39 55",
          "02 19 44 45 56",
          "07 12 17 22 43",
          "03 06 38 42 45",
          "03 25 43 45 55",
          "06 19 32 33 40",
          "01 11 20 21 46",
          "14 30 35 40 43",
          "24 27 42 47 50",
          "06 18 20 28 38",
          "09 13 23 29 54",
          "05 25 41 48 51",
          "15 22 26 30 32",
          "05 34 40 45 46",
          "08 10 22 25 55",
          "13 22 33 51 52",
          "11 42 52 53 55",
          "09 20 24 25 36",
          "05 19 25 30 50",
          "07 13 20 42 47",
          "14 35 40 47 48",
          "07 14 24 41 56",
          "16 22 23 37 53",
          "06 09 13 43 46",
          "01 15 29 32 45",
          "20 30 31 35 49",
          "06 07 17 28 40",
          "09 32 37 42 48",
          "05 12 15 25 34",
          "07 12 25 44 53",
          "03 04 10 39 50",
          "09 10 38 51 53",
          "02 12 44 46 51",
          "07 11 26 38 54",
          "12 14 26 40 42",
          "04 08 15 33 52",
          "04 28 30 31 35",
          "03 05 15 26 53",
          "16 17 36 49 54",
          "14 18 44 52 56",
          "22 33 35 40 53",
          "16 21 35 36 46",
          "32 39 46 48 49",
          "03 09 24 29 41",
          "17 35 40 46 48",
          "01 09 26 46 51",
          "03 18 21 38 50",
          "18 31 44 45 48",
          "14 21 33 35 51",
          "16 22 29 39 42",
          "10 13 25 42 43",
          "07 11 16 38 49",
          "17 25 36 40 43",
          "07 21 46 49 55",
          "18 21 35 51 53",
          "18 25 34 35 42",
          "15 23 37 48 53",
          "16 26 33 34 46",
          "24 32 34 36 39",
          "07 15 16 19 28",
          "11 14 21 25 26",
          "01 04 11 31 47",
          "01 09 10 23 53",
          "08 10 35 36 43",
          "05 07 26 38 56",
          "11 16 31 52 53",
          "04 09 20 45 55",
          "16 24 41 43 54",
          "28 30 33 48 54",
          "06 13 42 46 56",
          "13 23 24 30 44",
          "02 07 11 22 36",
          "10 14 22 42 43",
          "02 24 44 51 54",
          "12 19 29 32 48",
          "27 35 38 49 56",
          "06 26 29 31 39",
          "03 13 19 31 50",
          "01 05 16 26 30",
          "05 16 31 49 54",
          "11 14 21 24 31",
          "04 10 20 29 45",
          "01 17 40 51 52",
          "21 35 37 39 40",
          "03 09 12 25 47",
          "19 24 30 34 56",
          "07 39 41 48 53",
          "16 30 38 46 51",
          "06 13 30 41 52",
          "08 17 20 23 50",
          "07 12 35 54 55",
          "05 18 37 39 43",
          "16 29 42 46 51",
          "36 41 50 55 56",
          "10 20 32 33 54",
          "05 08 09 24 34",
          "02 08 33 38 53",
          "08 38 54 55 56",
          "04 21 46 51 53",
          "37 40 48 53 56",
          "08 18 22 40 44",
          "03 06 11 42 46",
          "14 19 27 34 48",
          "09 10 17 21 35",
          "05 09 12 33 40",
          "20 24 31 34 49",
          "05 21 23 33 45",
          "02 19 23 47 54",
          "04 13 20 25 33",
          "28 37 40 43 44",
          "10 19 37 40 48",
          "01 10 17 32 51",
          "21 26 34 44 54",
          "01 02 05 41 44",
          "05 15 18 23 46",
          "02 07 45 52 53",
          "12 20 24 38 51",
          "02 08 44 46 51",
          "01 03 34 49 52",
          "03 17 43 46 47",
          "11 33 41 42 46",
          "15 26 36 39 40",
          "12 13 30 31 39",
          "14 20 23 42 43",
          "18 21 33 42 56",
          "09 10 26 29 39",
          "05 06 12 26 51",
          "16 27 30 45 53",
          "12 18 26 28 51",
          "06 25 27 30 45",
          "04 07 12 17 30",
          "03 23 46 48 49",
          "14 19 20 43 53",
          "02 19 22 28 54",
          "13 16 25 30 54",
          "24 31 39 40 56",
          "10 29 45 52 54",
          "22 36 42 45 55",
          "21 30 42 44 50",
          "12 22 33 43 44",
          "12 15 22 25 33",
          "05 12 22 38 56",
          "08 23 39 40 42",
          "03 14 30 44 56",
          "04 05 17 40 51",
          "21 30 43 46 50",
          "14 27 39 47 50",
          "07 11 26 30 53",
          "01 38 42 55 56",
          "07 12 13 19 22",
          "09 12 30 36 55",
          "05 17 22 26 55",
          "07 15 30 33 56",
          "19 32 33 41 48",
          "04 13 35 41 47",
          "03 12 18 25 52",
          "13 15 20 25 44",
          "05 08 17 19 41",
          "38 42 43 48 53",
          "07 26 27 40 43",
          "04 17 26 46 56",
          "03 05 40 45 49",
          "08 09 31 37 44",
          "14 18 27 31 42",
          "12 13 27 48 50",
          "24 28 36 50 53",
          "03 22 31 48 54",
          "19 32 37 45 52",
          "19 24 35 44 51",
          "08 28 37 53 55",
          "04 21 46 53 54",
          "16 31 43 46 56",
          "20 24 27 31 47",
          "06 11 39 46 47",
          "02 14 26 32 41",
          "04 08 11 22 30",
          "14 24 32 45 49",
          "39 40 47 53 55",
          "04 19 24 32 54",
          "08 09 43 44 54",
          "03 05 15 43 51",
          "08 09 14 38 44",
          "05 14 25 47 49",
          "11 17 25 36 42",
          "10 22 36 50 53",
          "08 14 22 39 50",
          "01 22 33 43 52",
          "01 03 12 19 20",
          "01 20 22 29 41",
          "05 14 16 39 51",
          "19 24 34 45 51",
          "17 29 36 53 55",
          "02 16 23 29 32",
          "02 16 19 35 52",
          "11 13 20 30 42",
          "09 13 17 18 56",
          "09 21 36 38 55",
          "11 17 28 32 50",
          "02 07 23 38 40",
          "08 23 29 30 53",
          "09 18 19 26 40",
          "12 13 15 41 42",
          "06 16 24 34 36",
          "21 25 26 50 51",
          "14 23 43 44 54",
          "01 06 15 27 46",
          "22 23 28 49 52",
          "01 12 14 25 35",
          "13 24 39 51 52",
          "02 09 41 48 51",
          "09 32 34 43 52",
          "06 13 14 31 36",
          "09 30 35 39 49",
          "13 28 32 41 52",
          "02 25 35 38 42",
          "14 15 43 46 48",
          "14 35 41 42 51",
          "07 15 27 28 31",
          "16 19 39 42 44",
          "05 33 34 47 52",
          "06 39 45 46 48",
          "02 07 17 29 47",
          "10 21 23 41 55",
          "14 24 32 43 44",
          "05 27 38 42 55",
          "03 18 19 30 34",
          "10 15 22 52 53",
          "01 22 52 53 56",
          "02 11 22 51 52",
          "10 30 44 46 48",
          "02 17 22 32 51",
          "21 27 46 52 55",
          "11 12 26 31 33",
          "10 16 19 27 48",
          "10 14 16 29 40",
          "03 13 16 39 54",
          "01 08 13 27 41",
          "06 19 29 33 37",
          "01 22 29 44 52",
          "02 11 19 21 34",
          "03 11 12 19 33",
          "23 25 30 45 50",
          "22 25 33 36 48",
          "02 04 21 39 51",
          "01 09 10 35 46",
          "02 17 20 27 28",
          "03 11 12 14 21",
          "13 16 19 53 55",
          "04 15 29 43 56",
          "02 12 18 28 31",
          "18 29 38 43 47",
          "25 36 37 40 51",
          "01 09 23 27 33",
          "21 28 41 45 55",
          "01 27 28 35 40",
          "24 37 44 50 56",
          "26 32 35 43 52",
          "11 18 37 46 55",
          "02 27 31 39 40",
          "10 12 26 46 50",
          "09 15 24 28 31",
          "15 16 20 39 40",
          "04 25 34 43 44",
          "10 15 24 38 50",
          "14 39 47 48 53",
          "16 22 38 39 48",
          "02 04 13 17 36",
          "18 25 36 42 51",
          "04 11 22 48 50",
          "05 13 26 35 45",
          "05 24 37 47 52",
          "09 20 21 48 49",
          "15 20 24 36 44",
          "09 16 24 40 43",
          "05 23 38 39 54",
          "12 27 29 32 34",
          "04 08 10 14 51",
          "07 12 24 36 48",
          "02 04 09 15 42",
          "03 29 34 42 49",
          "09 18 21 37 55",
          "23 30 36 39 48",
          "09 13 26 30 35",
          "05 20 38 41 52",
          "05 17 31 36 56",
          "06 11 20 32 44",
          "09 15 21 26 45",
          "04 09 12 16 46",
          "12 14 16 31 50",
          "11 15 17 29 46",
          "07 34 49 54 55",
          "05 06 07 11 25",
          "25 27 35 38 39",
          "05 10 26 27 28",
          "20 29 35 45 53",
          "08 17 40 47 50",
          "03 08 21 50 52",
          "03 06 43 51 52",
          "04 17 24 25 48",
          "17 35 44 52 56",
          "01 28 34 42 50",
          "07 18 35 45 56",
          "06 12 15 32 42",
          "08 22 25 33 35",
          "04 05 26 37 56",
          "09 38 44 48 49",
          "03 12 19 22 40",
          "01 17 31 37 54",
          "02 09 28 51 53",
          "02 04 06 21 44",
          "04 10 18 28 50",
          "16 27 48 49 54",
          "29 30 32 35 41",
          "18 27 31 36 52",
          "26 29 33 39 46",
          "07 27 42 49 52",
          "02 21 25 45 50",
          "15 24 51 53 55",
          "09 33 51 53 56",
          "03 14 21 24 51",
          "17 31 34 45 51",
          "10 13 18 33 51",
          "13 17 25 45 55",
          "27 45 48 54 56",
          "07 13 37 46 51",
          "04 15 17 29 38",
          "05 18 23 31 38",
          "07 11 27 40 46",
          "08 21 29 34 37",
          "27 43 45 49 54",
          "08 22 27 49 50",
          "03 04 07 16 56",
          "10 11 35 37 50",
          "12 25 37 39 45",
          "17 30 39 52 53",
          "04 33 41 51 56",
          "20 23 28 30 46",
          "02 21 27 34 44",
          "27 31 32 36 47",
          "10 20 30 44 49",
          "03 33 35 39 45",
          "02 05 29 35 51",
          "06 08 27 40 41",
          "13 28 39 50 55",
          "18 20 31 36 43",
          "05 09 31 37 56",
          "04 07 19 21 38",
          "04 05 34 38 41",
          "08 13 27 28 52",
          "07 08 38 39 48",
          "01 10 22 23 38",
          "06 07 26 27 49",
          "10 20 45 51 53",
          "02 17 20 26 48",
          "14 16 17 33 47",
          "11 12 21 29 45",
          "01 22 39 42 46",
          "04 16 36 40 53",
          "04 14 29 54 56",
          "09 12 47 48 56",
          "11 31 34 44 52",
          "14 16 18 19 29",
          "02 15 25 48 53",
          "03 22 48 52 56",
          "10 31 45 50 54",
          "03 25 28 29 40",
          "23 41 46 47 52",
          "01 11 24 38 44",
          "02 17 22 30 31",
          "16 43 44 52 56",
          "15 18 39 48 53",
          "03 12 27 39 47",
          "10 16 31 48 50",
          "05 08 10 34 42",
          "19 26 28 37 52",
          "23 37 41 50 55",
          "14 20 41 47 53",
          "09 21 31 36 43",
          "02 07 20 34 50",
          "26 33 43 46 54",
          "20 21 40 47 56",
          "11 13 19 37 40",
          "15 20 23 26 30",
          "05 14 17 19 24",
          "03 11 20 29 39",
          "12 27 44 45 51",
          "12 13 15 17 50",
          "12 18 28 48 54",
          "06 13 33 34 42",
          "04 12 13 21 27",
          "11 36 37 41 55",
          "12 17 21 23 30",
          "01 02 13 19 27",
          "03 04 15 27 37",
          "01 10 12 32 36",
          "08 18 45 47 50",
          "01 31 33 34 50",
          "07 11 14 15 34",
          "02 15 18 20 39",
          "12 18 28 36 43",
          "16 19 39 44 49",
          "02 07 10 16 29",
          "11 30 40 48 52",
          "04 13 20 22 56",
          "07 13 30 33 54",
          "02 14 26 50 56",
          "06 17 24 43 55",
          "11 19 40 43 44",
          "04 13 20 29 48",
          "04 23 24 28 32",
          "04 10 26 32 41",
          "10 20 29 47 48",
          "10 13 20 28 36",
          "08 18 22 24 38",
          "11 12 17 21 23",
          "06 14 50 55 56",
          "03 04 14 18 27",
          "03 20 43 47 52",
          "02 28 38 42 55",
          "02 10 13 36 38",
          "03 08 21 28 52",
          "10 19 24 37 44",
          "24 29 37 48 50",
          "10 31 36 37 43",
          "09 10 13 31 50",
          "02 09 14 37 42",
          "02 07 18 32 53",
          "15 21 30 31 32",
          "04 19 26 28 39",
          "01 03 12 16 54",
          "19 25 34 46 53",
          "08 26 28 33 53",
          "09 26 28 35 38",
          "01 26 27 39 46",
          "07 14 31 51 54",
          "02 06 12 34 35",
          "05 09 34 43 47",
          "11 16 19 47 53",
          "06 11 12 18 56",
          "04 38 45 53 54",
          "23 27 33 44 46",
          "18 22 25 31 38",
          "11 20 26 46 53",
          "08 11 12 31 32",
          "15 16 27 40 52",
          "06 18 36 40 49",
          "10 12 13 35 56",
          "04 08 15 25 47",
          "04 22 42 46 53",
          "01 04 11 16 45",
          "02 15 17 33 35",
          "04 27 29 38 45",
          "05 09 21 35 38",
          "05 08 31 46 50",
          "14 33 48 49 50",
          "16 22 23 26 35",
          "06 20 29 48 55",
          "25 35 36 47 48",
          "08 09 17 32 34",
          "17 18 24 35 39",
          "05 06 07 30 45",
          "15 22 23 48 55",
          "04 05 17 19 50",
          "01 12 19 20 47",
          "08 10 15 23 41",
          "03 17 19 41 55",
          "14 19 21 42 45",
          "10 11 12 28 43",
          "14 33 34 54 56",
          "01 14 35 50 53",
          "22 24 31 52 54",
          "06 15 23 34 38",
          "13 14 35 36 53",
          "01 19 20 31 36",
          "06 40 45 50 56",
          "10 23 39 41 45",
          "22 23 33 39 48",
          "20 24 32 45 51",
          "03 18 46 51 53",
          "19 29 32 38 55",
          "09 10 11 33 51",
          "01 16 29 36 50",
          "06 18 26 37 41",
          "11 16 34 40 51",
          "03 33 39 47 53",
          "01 02 17 25 48",
          "10 17 19 45 48",
          "09 12 21 42 43",
          "05 07 14 28 56",
          "28 30 31 37 55",
          "20 23 41 49 53",
          "29 32 35 47 52",
          "18 21 27 37 38",
          "09 10 20 51 53",
          "12 29 46 47 51",
          "11 24 25 31 46",
          "10 14 40 49 51",
          "12 17 27 47 48",
          "12 17 30 35 47",
          "01 10 13 18 46",
          "01 02 22 37 50",
          "03 09 11 44 49",
          "16 29 30 46 56",
          "02 09 10 16 35",
          "23 31 32 39 56",
          "20 25 35 52 55",
          "08 10 22 47 48",
          "14 17 19 20 32",
          "06 24 28 33 42",
          "11 19 39 45 54",
          "09 43 51 54 55",
          "04 38 41 42 43",
          "05 15 53 54 56",
          "11 21 44 48 49",
          "02 03 27 30 47",
          "02 22 25 28 50",
          "25 44 48 49 55",
          "01 36 38 42 49",
          "07 12 19 23 31",
          "22 31 43 48 56",
          "06 23 41 45 56",
          "06 29 38 50 51",
          "27 31 32 40 52",
          "02 20 28 36 45",
          "03 19 21 44 45",
          "03 26 40 45 52",
          "05 15 19 23 38",
          "25 34 38 44 56",
          "13 35 42 45 54",
          "24 25 45 47 53",
          "06 21 35 37 38",
          "13 33 40 44 46",
          "13 31 49 52 56",
          "27 31 39 40 46",
          "26 30 32 33 44",
          "05 31 45 47 54",
          "02 16 22 29 50",
          "03 06 24 30 33",
          "04 13 33 39 55",
          "04 16 23 33 48",
          "22 28 42 49 54",
          "17 29 43 48 52",
          "24 30 48 51 56",
          "07 21 29 35 49",
          "04 12 29 49 51",
          "05 06 22 26 41",
          "02 04 26 36 39",
          "20 24 27 45 51",
          "03 05 08 18 29",
          "23 32 33 39 43",
          "04 24 45 46 52",
          "02 03 15 22 36",
          "09 17 28 34 48",
          "04 10 16 38 48",
          "10 27 28 37 51",
          "03 15 31 36 53",
          "01 09 28 38 47",
          "10 22 24 36 49",
          "03 05 30 36 48",
          "09 17 18 28 43",
          "07 19 21 49 53",
          "17 23 30 37 45",
          "03 04 18 29 50",
          "03 05 10 26 27",
          "16 25 28 32 40",
          "09 30 39 42 47",
          "01 16 18 25 27",
          "06 15 29 39 51",
          "16 29 48 52 54",
          "20 24 31 33 36",
          "09 10 27 36 42",
          "02 08 30 36 48",
          "28 29 43 51 53",
          "01 04 06 11 14",
          "06 17 19 20 21",
          "09 19 34 44 51",
          "02 04 23 38 46",
          "11 35 38 41 52",
          "02 19 20 24 33",
          "02 06 12 31 48",
          "09 14 17 36 42",
          "01 16 24 32 48",
          "14 23 26 33 35",
          "03 09 15 37 38",
          "02 05 45 46 47",
          "24 27 31 45 52",
          "04 11 21 42 53",
          "02 06 08 18 51",
          "03 15 29 35 54",
          "10 11 12 14 24",
          "03 11 22 34 49",
          "10 14 35 43 52",
          "09 15 21 40 54",
          "02 14 29 53 55",
          "02 27 38 46 52",
          "37 39 42 53 55",
          "04 09 34 40 48",
          "02 09 17 34 50",
          "08 12 18 30 40",
          "11 21 27 30 53",
          "10 16 19 32 36",
          "03 16 23 35 36",
          "28 34 39 45 53",
          "03 04 24 36 52",
          "20 23 28 35 39",
          "03 11 19 23 36",
          "06 07 13 24 46",
          "01 13 21 49 55",
          "02 44 48 50 52",
          "05 09 38 46 51",
          "02 03 04 08 43",
          "05 18 21 29 41",
          "02 10 13 38 46",
          "30 32 33 42 48",
          "10 18 36 38 44",
          "15 23 34 39 55",
          "08 20 24 35 56",
          "05 13 20 23 33",
          "25 34 45 46 49",
          "04 09 40 45 50",
          "31 40 41 47 48",
          "16 32 39 41 53",
          "15 32 38 42 46",
          "05 11 20 33 36",
          "16 17 21 40 51",
          "05 09 22 36 49",
          "03 13 14 46 55",
          "07 08 23 50 51",
          "06 08 14 43 56",
          "10 11 20 42 55",
          "08 09 16 32 39",
          "06 15 16 22 37",
          "06 10 24 26 42",
          "13 37 40 46 52",
          "14 34 36 48 53",
          "01 17 42 46 55",
          "04 15 24 36 40",
          "05 12 18 29 56",
          "04 18 22 38 44",
          "03 05 13 32 35",
          "18 22 33 35 40",
          "06 12 31 46 56",
          "05 24 26 29 53",
          "09 13 22 38 52",
          "08 37 44 47 48",
          "05 12 26 42 49",
          "11 22 24 28 31",
          "03 19 24 32 43",
          "07 43 44 51 56",
          "39 44 51 52 54",
          "11 28 33 41 43",
          "01 06 07 18 29",
          "03 18 32 41 56",
          "02 03 18 34 48",
          "10 13 32 40 41",
          "04 11 21 25 44",
          "01 02 23 25 55",
          "03 20 21 38 42",
          "24 29 30 34 56",
          "01 06 12 19 41",
          "08 18 25 42 49",
          "07 11 16 39 54",
          "11 12 17 31 48",
          "08 12 27 46 47",
          "01 30 32 40 41",
          "02 05 10 26 44",
          "06 15 20 39 50",
          "09 22 32 38 55",
          "11 35 41 42 44",
          "01 15 19 30 56",
          "09 13 24 38 49",
          "06 07 13 15 43",
          "17 30 38 43 51",
          "06 20 39 41 46",
          "04 11 25 34 35",
          "09 12 19 20 30",
          "04 08 17 22 32",
          "03 06 14 21 37",
          "14 27 34 37 41",
          "20 33 46 49 51",
          "25 31 36 46 53",
          "07 10 14 40 47",
          "08 15 23 36 41",
          "17 30 41 48 54",
          "01 10 13 19 21",
          "02 05 15 18 39",
          "06 08 12 22 43",
          "09 21 22 32 50",
          "17 42 49 54 55",
          "21 30 34 39 49",
          "02 20 34 42 54",
          "01 06 13 20 51",
          "01 19 20 39 49",
          "06 10 12 28 32",
          "11 15 35 43 49",
          "02 15 17 48 55",
          "04 05 16 18 53",
          "04 12 25 32 54",
          "02 20 26 44 46",
          "10 11 12 20 55",
          "01 10 37 48 55",
          "15 40 45 50 53",
          "02 05 31 33 34",
          "06 17 34 40 48",
          "03 14 17 40 50",
          "03 05 28 33 51",
          "08 15 35 46 52",
          "36 42 51 52 53",
          "02 23 41 47 54",
          "03 21 43 45 48",
          "04 05 25 27 51",
          "10 14 21 40 53",
          "16 20 24 39 42",
          "25 32 35 50 51",
          "04 22 23 27 38",
          "25 27 36 42 44",
          "08 21 23 25 39",
          "01 11 16 51 55",
          "11 20 30 34 38",
          "02 31 32 37 41",
          "07 13 26 36 46",
          "13 28 35 38 41",
          "01 09 17 20 53",
          "04 07 30 36 38",
          "06 19 24 43 44",
          "04 13 14 28 41",
          "02 16 17 22 41",
          "02 12 18 54 56",
          "09 22 28 48 54",
          "06 15 27 31 39",
          "01 15 20 21 47",
          "04 11 32 39 40",
          "09 23 27 49 51",
          "07 10 30 37 53",
          "04 16 24 25 44",
          "06 15 19 23 40",
          "03 27 37 45 48",
          "04 23 30 43 50",
          "02 03 19 52 71",
          "06 16 45 54 60",
          "20 33 50 53 54",
          "32 35 49 62 67",
          "02 11 42 64 74",
          "41 42 51 57 65",
          "20 30 32 42 71",
          "25 44 49 54 63",
          "14 15 29 49 63",
          "17 23 35 36 44",
          "27 44 59 74 75",
          "09 41 43 47 57",
          "07 12 41 44 59",
          "11 29 44 63 64",
          "05 12 22 41 65",
          "19 24 26 27 70",
          "08 14 17 20 39",
          "03 04 31 49 57",
          "23 34 53 58 73",
          "04 15 35 48 49",
          "08 12 34 52 58",
          "22 24 25 40 70",
          "13 34 56 62 64",
          "08 28 36 37 57",
          "04 23 26 62 69",
          "01 10 26 31 51",
          "08 23 33 45 52",
          "22 45 46 47 65",
          "07 16 28 53 60",
          "03 09 13 47 52",
          "25 44 49 60 73",
          "11 21 23 35 64",
          "43 64 67 71 73",
          "20 28 35 71 72",
          "23 29 31 37 70",
          "23 29 32 45 46",
          "12 18 25 35 66",
          "03 31 50 58 59",
          "10 29 31 35 45",
          "11 13 51 57 69",
          "09 14 56 57 69",
          "07 20 40 54 69",
          "11 19 24 33 51",
          "02 23 30 35 53",
          "19 26 51 57 73",
          "02 03 09 50 73",
          "10 23 68 74 75",
          "01 10 15 41 54",
          "35 36 41 60 71",
          "03 42 44 47 57",
          "04 39 46 47 70",
          "18 25 38 45 63",
          "02 18 19 49 50",
          "03 11 18 20 66",
          "07 43 59 61 66",
          "01 18 26 35 40",
          "18 20 27 48 51",
          "10 28 39 51 59",
          "37 46 48 70 74",
          "13 14 16 50 56",
          "10 40 63 64 69",
          "12 14 21 38 70",
          "01 06 10 46 58",
          "10 13 42 43 62",
          "19 28 62 66 74",
          "12 29 37 49 72",
          "02 10 24 26 74",
          "07 38 46 49 56",
          "10 14 24 47 60",
          "01 22 25 29 56",
          "13 17 24 47 65",
          "15 29 31 46 64",
          "09 22 38 47 49",
          "16 33 39 58 69",
          "14 25 27 48 49",
          "09 13 30 35 69",
          "02 04 17 36 40",
          "05 08 59 65 72",
          "14 18 22 31 47",
          "22 29 33 41 68",
          "02 08 16 43 74",
          "13 29 34 37 72",
          "25 28 36 45 53",
          "09 16 61 70 75",
          "32 53 60 63 68",
          "16 19 28 29 68",
          "22 39 56 67 71",
          "05 31 34 41 74",
          "29 31 51 60 64",
          "03 26 45 58 73",
          "01 08 54 69 72",
          "07 12 20 24 59",
          "25 34 55 70 71",
          "18 28 33 36 42",
          "25 45 51 53 73",
          "16 25 27 29 34",
          "21 24 25 40 43",
          "17 26 35 46 62",
          "03 16 52 54 61",
          "03 20 34 58 67",
          "16 29 46 48 55",
          "02 32 35 50 59",
          "11 37 46 64 68",
          "21 31 43 56 60",
          "05 35 37 41 66",
          "02 14 21 28 55",
          "03 50 57 58 60",
          "11 29 36 58 67",
          "09 15 24 39 41",
          "31 35 41 65 66",
          "23 25 28 30 75",
          "03 49 61 62 68",
          "37 39 53 68 75",
          "03 12 35 37 63",
          "10 11 29 47 56",
          "08 26 29 36 47",
          "13 18 22 49 62",
          "04 05 11 51 59",
          "27 45 49 51 52",
          "02 31 46 58 65",
          "41 58 68 72 73",
          "14 18 58 59 68",
          "04 10 31 56 66",
          "02 05 10 20 38",
          "03 07 44 63 67",
          "13 15 35 62 74",
          "12 20 27 38 75",
          "37 49 50 56 57",
          "12 20 25 50 51",
          "26 32 44 45 58",
          "31 35 56 59 63",
          "14 15 32 68 72",
          "05 26 27 44 57",
          "18 31 39 45 55",
          "11 22 25 58 69",
          "05 06 17 33 68",
          "07 42 53 58 71",
          "04 20 44 65 74",
          "06 45 50 65 66",
          "02 06 08 52 66",
          "15 23 26 45 66",
          "07 49 53 60 64",
          "09 11 42 44 50",
          "30 48 55 68 73",
          "10 14 19 30 73",
          "08 22 30 42 45",
          "11 27 44 45 58",
          "07 50 54 61 75",
          "02 23 32 45 55",
          "17 21 36 58 70",
          "08 26 41 61 73",
          "10 36 47 63 74",
          "05 15 22 26 64",
          "06 11 32 46 68",
          "03 07 25 68 71",
          "15 18 29 41 50",
          "31 33 35 41 69",
          "24 25 29 47 67",
          "22 27 55 58 63",
          "17 18 61 66 74",
          "11 21 42 62 71",
          "09 21 25 66 72",
          "14 30 33 36 44",
          "11 17 21 36 74",
          "10 12 21 29 65",
          "03 14 15 25 48",
          "01 39 52 69 72",
          "20 27 38 49 66",
          "02 09 11 22 23",
          "07 22 27 41 49",
          "06 16 17 25 36",
          "01 40 42 56 62",
          "08 19 26 56 67",
          "04 35 36 52 68",
          "06 13 38 56 70",
          "12 23 33 47 50",
          "11 17 34 43 50",
          "33 50 64 71 72",
          "06 15 16 28 49",
          "24 27 45 51 54",
          "19 24 30 35 72",
          "06 17 30 31 41",
          "20 30 62 65 74",
          "10 12 26 60 62",
          "08 35 61 68 75",
          "28 32 33 40 46",
          "02 19 44 51 57",
          "01 38 53 63 66",
          "03 08 29 57 68",
          "12 15 20 52 71",
          "02 07 33 39 53",
          "13 15 21 41 72",
          "05 44 54 59 63",
          "13 35 40 60 68",
          "02 05 35 40 54",
          "17 21 39 52 57",
          "19 20 36 41 46",
          "05 11 31 50 67",
          "07 20 35 49 56",
          "17 34 35 51 65",
          "28 30 38 45 51",
          "03 08 38 51 64",
          "08 21 30 61 62",
          "04 14 29 31 47",
          "17 58 63 64 66",
          "08 09 21 63 75",
          "07 09 24 38 52",
          "02 38 48 61 68",
          "06 25 35 38 52",
          "25 32 37 45 70",
          "09 26 27 29 74",
          "17 41 51 53 56",
          "16 29 44 69 74",
          "10 31 35 50 72",
          "08 17 20 45 71",
          "17 18 31 35 59",
          "12 14 18 24 61",
          "09 12 29 37 67",
          "02 19 30 38 70",
          "16 20 39 56 59",
          "05 07 25 50 59",
          "26 42 47 61 73",
          "07 17 37 49 73",
          "14 20 43 54 69",
          "18 25 47 51 61",
          "06 23 24 28 62",
          "11 21 40 50 70",
          "15 25 29 44 51",
          "20 25 55 62 74",
          "07 18 37 38 39",
          "01 04 36 48 57",
          "11 39 51 57 75",
          "15 27 29 31 48",
          "29 41 53 54 70",
          "02 17 31 39 47",
          "21 25 40 46 56",
          "14 27 39 50 69",
          "20 28 49 51 52",
          "07 13 25 51 70",
          "04 06 23 55 75",
          "03 42 46 56 71",
          "01 07 44 68 73",
          "09 31 33 46 64",
          "02 27 41 50 75",
          "16 32 39 53 57",
          "03 15 19 62 74",
          "01 29 33 34 55",
          "21 26 33 48 73",
          "27 37 54 66 69",
          "14 18 48 54 71",
          "18 26 30 44 68",
          "05 08 57 59 73",
          "06 19 34 38 70",
          "04 11 12 35 46",
          "33 38 40 46 49",
          "25 28 33 41 69",
          "13 45 52 53 57",
          "31 38 52 65 71",
          "07 11 59 62 63",
          "09 10 34 37 73",
          "09 28 40 57 65",
          "02 19 21 42 60",
          "14 16 17 28 48",
          "05 06 37 55 74",
          "28 29 33 36 45",
          "14 26 27 32 36",
          "12 22 46 56 74",
          "20 21 38 54 66",
          "17 24 27 48 75",
          "19 24 26 40 68",
          "11 50 51 70 75",
          "18 41 50 68 70",
          "09 31 34 41 49",
          "32 54 65 66 71",
          "25 48 51 65 72",
          "34 61 66 67 68",
          "36 37 38 52 62",
          "20 23 30 44 59",
          "06 13 21 49 50",
          "11 14 54 57 63",
          "15 17 20 35 55",
          "20 41 42 45 49",
          "29 46 53 64 73",
          "08 19 20 55 73",
          "06 08 22 46 68",
          "16 51 52 56 58",
          "03 34 54 65 66",
          "08 24 25 26 30",
          "01 04 31 36 54",
          "11 16 19 31 48",
          "03 12 36 54 70",
          "05 18 28 54 74",
          "12 19 20 44 66",
          "04 41 44 56 69",
          "02 43 52 62 63",
          "22 37 45 65 73",
          "02 07 46 61 66",
          "10 11 31 41 44",
          "28 32 41 51 71",
          "22 28 41 46 60",
          "25 37 58 69 75",
          "01 34 43 44 63",
          "06 15 17 39 56",
          "13 21 28 34 40",
          "02 22 34 62 72",
          "01 05 08 25 62",
          "14 16 26 53 72",
          "21 30 47 50 57",
          "18 29 30 54 66",
          "24 37 42 50 65",
          "36 39 42 45 48",
          "07 27 60 64 74",
          "07 24 28 65 74",
          "12 43 44 48 66",
          "08 09 24 49 67",
          "07 38 46 57 66",
          "19 24 31 39 45",
          "10 29 32 44 46",
          "46 48 53 61 74",
          "16 40 47 53 59",
          "09 17 23 57 71",
          "31 32 49 55 58",
          "01 43 45 66 69",
          "44 47 49 69 75",
          "22 33 49 51 59",
          "03 33 35 49 51",
          "13 34 48 53 63",
          "19 27 47 67 68",
          "02 15 26 34 41",
          "01 08 15 36 43",
          "01 12 14 48 65",
          "21 30 39 60 69",
          "02 28 30 38 39",
          "06 21 33 39 43",
          "14 16 23 49 53",
          "06 10 44 47 54",
          "11 20 40 41 59",
          "10 44 58 74 75",
          "20 31 54 56 59",
          "07 09 24 41 53",
          "08 42 54 63 67",
          "17 37 53 54 61",
          "03 14 27 62 72",
          "03 06 29 30 64",
          "23 28 37 56 71",
          "32 39 51 62 75",
          "07 11 33 60 68",
          "04 56 58 67 75",
          "09 21 30 32 75",
          "12 29 33 42 68",
          "20 33 45 58 69",
          "14 26 39 48 51",
          "03 30 45 53 68",
          "26 38 42 58 70",
          "16 23 28 33 59",
          "11 27 31 58 60",
          "04 45 53 73 75",
          "05 28 37 61 69",
          "30 33 35 37 46",
          "17 24 27 32 58",
          "13 24 34 35 55",
          "30 33 43 47 69",
          "19 34 35 38 49",
          "05 10 55 60 73",
          "08 29 30 43 64",
          "01 12 13 32 34",
          "03 13 33 40 50",
          "06 13 18 20 31",
          "05 14 42 43 58",
          "04 23 33 47 53",
          "06 29 45 69 73",
          "28 34 41 42 47",
          "04 35 39 56 72",
          "01 04 05 24 30",
          "06 13 17 33 60",
          "25 26 28 37 56",
          "05 20 32 37 67",
          "07 42 57 69 72",
          "03 05 16 49 75",
          "03 16 28 33 37",
          "27 51 62 68 75",
          "18 22 26 30 44",
          "02 15 41 49 63",
          "12 20 53 66 74",
          "04 21 45 52 57",
          "10 38 51 55 64",
          "16 39 47 53 71",
          "02 09 11 28 60",
          "07 18 24 55 74",
          "11 12 24 32 73",
          "08 12 23 51 73",
          "18 31 36 50 74",
          "02 05 26 58 60",
          "04 06 31 49 52",
          "20 22 52 57 73",
          "09 17 25 63 71",
          "11 17 50 52 74",
          "23 33 53 56 58",
          "07 16 20 66 73",
          "01 31 34 40 75",
          "24 35 46 50 51",
          "17 38 42 51 65",
          "02 13 17 35 73",
          "04 13 31 50 64",
          "11 17 59 70 72",
          "04 05 14 26 73",
          "26 37 41 54 65",
          "18 24 34 38 58",
          "09 28 31 50 61",
          "05 39 54 63 66",
          "01 10 57 66 75",
          "25 51 62 73 74",
          "12 18 19 25 67",
          "21 33 36 45 56",
          "07 16 24 61 62",
          "02 07 18 26 31",
          "31 45 49 56 70",
          "06 23 63 66 73",
          "20 24 34 56 64",
          "17 27 41 51 52",
          "06 28 31 52 53",
          "10 22 42 61 69",
          "01 54 60 68 69",
          "06 23 38 42 58",
          "01 14 21 22 28",
          "03 26 55 58 70",
          "03 07 22 27 50",
          "16 36 54 61 64",
          "10 17 47 51 61",
          "16 22 40 41 59",
          "14 15 37 42 67",
          "06 37 46 60 70",
          "08 23 24 25 27",
          "04 12 36 44 57",
          "28 37 39 42 58",
          "01 20 30 33 42",
          "10 12 20 38 41",
          "04 10 18 28 62",
          "01 42 47 64 70",
          "28 30 39 59 70",
          "16 29 31 65 67",
          "17 18 33 46 60",
          "03 11 23 29 59",
          "03 17 23 49 66",
          "02 06 30 31 55",
          "10 16 27 38 43",
          "29 41 42 49 57",
          "01 04 14 17 40",
          "14 17 25 48 58",
          "28 34 41 46 47",
          "05 12 15 46 49",
          "14 38 48 53 58",
          "17 19 23 24 43",
          "07 11 13 19 58",
          "10 17 21 38 43",
          "24 28 42 60 64",
          "01 04 26 35 39",
          "07 17 18 46 66",
          "06 30 58 60 61",
          "01 13 26 33 52",
          "14 38 51 64 70",
          "04 08 23 53 59",
          "07 25 43 56 59",
          "11 28 31 46 59",
          "04 29 39 42 62",
          "16 33 51 54 67",
          "05 13 31 43 53",
          "08 09 32 42 59",
          "12 34 44 47 65",
          "01 15 18 32 45",
          "03 19 31 32 48",
          "02 29 38 63 66",
          "02 07 20 55 70",
          "04 05 10 12 18",
          "08 15 39 64 67",
          "14 38 40 53 70",
          "21 34 44 49 61",
          "09 26 53 64 66",
          "16 17 21 36 48",
          "11 14 51 64 68",
          "02 11 55 58 67",
          "05 24 52 62 66",
          "22 33 41 48 52",
          "14 30 33 44 56",
          "01 03 05 08 70",
          "01 11 37 47 51",
          "11 13 28 65 70",
          "02 06 11 27 44",
          "17 25 29 39 60",
          "02 32 47 49 68",
          "13 35 45 49 68",
          "02 10 46 50 56",
          "01 17 28 56 70",
          "21 22 39 59 68",
          "40 41 61 66 67",
          "01 14 30 44 62",
          "01 02 04 19 29",
          "01 32 40 49 63",
          "12 15 35 64 69",
          "09 28 30 54 60",
          "02 13 15 21 62",
          "01 03 12 22 42",
          "11 26 44 45 46",
          "01 31 32 47 56",
          "14 16 19 38 57",
          "01 06 13 18 49",
          "03 20 33 34 41",
          "07 18 29 32 45",
          "02 07 25 35 44",
          "08 10 41 54 68",
          "15 30 51 62 67",
          "23 30 40 43 66",
          "31 32 43 63 68",
          "01 02 11 52 64",
          "08 16 32 48 61",
          "39 45 52 56 59",
          "02 22 29 31 34",
          "27 28 32 41 69",
          "20 22 39 54 60",
          "04 24 46 61 70",
          "03 45 49 61 69",
          "15 23 53 65 70",
          "05 28 62 65 70",
          "01 28 61 62 63",
          "20 31 39 46 49",
          "03 23 28 46 62",
          "28 34 37 56 69",
          "08 14 27 57 67",
          "34 46 57 65 69",
          "33 36 63 68 69",
          "10 16 31 42 66",
          "07 10 30 33 59",
          "12 24 37 42 57",
          "25 28 40 43 63",
          "28 31 41 42 50",
          "04 10 20 33 57",
          "04 38 39 54 59",
          "05 22 26 43 49",
          "13 22 32 60 69",
          "10 13 61 62 70",
          "02 08 42 43 50",
          "09 10 25 37 38",
          "34 44 57 62 70",
          "21 29 35 54 60",
          "13 26 29 38 64",
          "04 05 31 62 69",
          "29 52 58 60 62",
          "02 43 48 62 64",
          "04 15 37 59 64",
          "08 16 30 38 61",
          "10 33 53 54 62",
          "02 37 48 66 68",
          "03 34 36 59 66",
          "14 24 31 42 48",
          "15 32 39 50 65",
          "10 38 40 43 65",
          "17 24 34 56 65",
          "18 24 31 34 55",
          "10 12 14 24 60",
          "29 33 39 60 66",
          "15 20 32 37 52",
          "04 09 42 62 68",
          "10 12 16 49 57",
          "03 29 56 62 64",
          "10 42 53 67 68",
          "07 36 58 60 62",
          "04 14 22 43 58",
          "05 14 15 62 66",
          "33 47 58 59 64",
          "08 22 24 38 64",
          "11 22 34 44 58",
          "01 24 25 40 70",
          "11 29 34 48 54",
          "18 25 43 44 57",
          "07 24 30 48 67",
          "09 17 23 30 46",
          "24 37 41 61 70",
          "08 16 22 66 68",
          "03 06 34 54 63",
          "03 16 21 61 62",
          "11 59 66 67 68",
          "05 17 28 32 63",
          "10 50 55 56 58",
          "14 41 44 56 62",
          "09 21 34 42 50",
          "07 08 26 65 67",
          "25 37 46 48 68",
          "17 19 27 40 68",
          "20 34 39 43 57",
          "19 40 47 57 65",
          "12 14 22 24 48",
          "13 30 36 48 62",
          "24 33 45 47 61",
          "02 35 49 53 63",
          "03 25 37 40 55",
          "06 38 47 57 63",
          "12 26 40 48 64",
          "08 25 38 56 59",
          "08 16 31 48 52",
          "16 18 28 33 67",
          "01 04 23 40 45",
          "04 06 11 43 48",
          "10 24 28 33 38",
          "11 20 26 48 70",
          "11 17 31 43 55",
          "15 53 56 59 63",
          "07 27 31 34 51",
          "04 14 24 26 46",
          "08 14 25 51 63",
          "11 15 37 54 68",
          "08 12 23 39 43",
          "03 09 11 34 39",
          "13 20 27 61 62",
          "04 11 13 19 31",
          "34 47 48 50 55",
          "06 16 37 59 62",
          "12 15 30 50 65",
          "23 24 42 48 53",
          "06 14 24 42 46",
          "12 20 31 43 45",
          "10 17 39 42 59",
          "11 38 44 48 70",
          "05 08 10 17 48",
          "14 22 30 37 60",
          "04 12 14 35 70",
          "18 58 60 65 67",
          "05 11 14 23 25",
          "16 24 25 52 60",
          "04 09 17 27 39",
          "09 20 36 41 54",
          "02 09 24 49 54",
          "03 04 10 39 58",
          "19 30 44 56 65",
          "12 19 34 35 68",
          "22 43 44 47 66",
          "07 12 17 49 53",
          "08 27 29 38 43",
          "06 08 31 50 65",
          "23 43 60 63 69",
          "20 31 40 46 61",
          "18 31 46 54 61",
          "17 21 29 39 56",
          "22 30 53 55 56",
          "03 20 23 35 60",
          "27 37 48 63 66",
          "17 34 40 63 64",
          "30 44 49 53 56",
          "37 41 42 53 63",
          "25 40 41 52 56",
          "17 27 49 51 66",
          "09 11 13 31 47",
          "03 25 30 54 70",
          "16 18 29 31 37",
          "03 04 18 23 38",
          "17 36 47 51 62",
          "28 31 33 57 62",
          "32 48 50 51 64",
          "09 14 27 36 52",
          "04 06 32 52 64",
          "10 32 48 54 55",
          "06 12 39 61 70",
          "04 07 13 16 60",
          "02 09 43 49 63",
          "02 03 14 41 64",
          "08 12 33 56 64",
          "15 48 56 58 70",
          "06 17 48 54 69",
          "07 22 37 43 44",
          "20 27 28 58 59",
          "34 35 41 45 54",
          "02 08 16 18 31",
          "03 25 28 50 60",
          "08 17 51 57 70",
          "24 38 44 57 58",
          "25 33 43 51 68",
          "02 11 21 57 60",
          "29 47 65 69 70",
          "13 35 39 46 55",
          "13 15 24 67 70",
          "01 27 32 60 67",
          "13 19 53 54 63",
          "28 30 31 35 66",
          "07 13 17 21 45",
          "05 20 22 61 70",
          "07 16 27 44 52",
          "11 17 32 33 46",
          "08 19 25 36 66",
          "08 10 20 44 46",
          "34 52 58 59 62",
          "10 13 32 41 51",
          "09 20 23 26 29",
          "32 35 37 47 55",
          "01 05 09 10 23",
          "09 14 57 67 70",
          "21 23 33 35 42",
          "11 34 36 52 66",
          "06 20 37 40 48",
          "19 33 37 56 57",
          "09 16 29 37 53",
          "20 40 44 45 50",
          "16 20 25 30 43",
          "10 15 20 49 53",
          "06 26 55 56 64",
          "12 13 21 46 57",
          "14 25 26 41 43",
          "08 33 39 54 58",
          "17 20 27 31 34",
          "12 35 46 48 69",
          "02 22 30 42 62",
          "04 44 53 64 70",
          "08 22 29 43 56",
          "03 24 29 42 47",
          "04 18 26 27 58",
          "11 15 31 42 63",
          "08 10 15 17 57",
          "03 09 50 53 64",
          "15 25 26 38 47",
          "19 22 24 28 53",
          "07 10 15 31 57",
          "03 15 42 48 56",
          "25 28 38 59 62",
          "26 29 41 52 64",
          "36 43 44 55 68",
          "20 36 37 48 67",
          "14 39 43 44 67",
          "09 38 47 49 68",
          "15 16 18 39 59",
          "05 11 25 27 64",
          "11 44 45 46 70",
          "27 32 50 52 57",
          "46 54 57 58 66",
          "18 34 44 60 69",
          "06 13 34 46 62",
          "14 19 34 39 59",
          "07 31 44 45 55",
          "18 24 27 34 60",
          "23 45 53 58 62",
          "06 07 14 28 59",
          "08 13 35 46 68",
          "26 33 45 61 68",
          "09 15 34 61 64",
          "04 10 27 35 58",
          "07 33 53 61 65",
          "03 19 24 44 50",
          "15 19 33 39 68",
          "19 31 37 55 67",
          "01 10 18 20 46",
          "07 15 25 51 60",
          "29 53 56 59 67",
          "17 23 36 69 70",
          "01 31 35 48 62",
          "08 24 53 68 69",
          "20 43 51 55 57",
          "03 06 16 18 58",
          "12 14 26 28 33",
          "03 11 12 38 43",
          "10 19 26 28 50",
          "04 26 42 50 60",
          "29 49 56 66 67",
          "04 44 58 59 70",
          "13 37 38 40 67",
          "14 17 28 29 44",
          "07 18 21 31 40",
          "05 14 24 25 27",
          "01 36 44 54 66",
          "27 32 47 50 53",
          "05 07 09 20 57",
          "11 15 37 62 64",
          "04 08 13 34 64",
          "10 11 17 27 54",
          "04 33 46 58 65",
          "02 24 25 31 65",
          "10 41 46 52 69",
          "09 14 40 58 69",
          "12 23 35 38 55",
          "04 25 37 46 67",
          "11 37 47 53 56",
          "10 42 48 53 62",
          "01 19 20 32 42",
          "22 26 27 58 66",
          "10 15 19 45 68",
          "17 27 28 50 55",
          "06 23 43 49 52",
          "04 28 29 30 60",
          "15 22 30 41 42",
          "08 19 26 48 49",
          "04 27 32 57 63",
          "05 10 19 21 50",
          "07 08 20 36 39",
          "03 18 41 44 68",
          "03 05 56 61 66",
          "06 09 17 18 48",
          "14 21 31 34 54",
          "10 14 20 47 70",
          "07 11 33 58 63",
          "04 30 34 41 64",
          "09 22 39 41 54",
          "04 43 56 63 68",
          "18 22 27 38 52",
          "14 36 44 46 53",
          "01 26 48 51 59",
          "17 20 42 45 65",
          "07 38 50 52 69",
          "08 31 32 34 45",
          "18 47 63 68 69",
          "06 37 39 41 46",
          "03 10 17 26 55",
          "24 25 47 52 57",
          "10 26 30 52 57",
          "13 17 19 40 69",
          "02 35 36 54 64",
          "19 26 31 52 68",
          "01 09 17 27 34",
          "09 18 40 46 69",
          "29 45 50 59 62",
          "17 21 35 40 53",
          "03 06 16 38 56",
          "41 43 51 57 70",
          "17 18 26 52 67",
          "01 10 44 47 56",
          "08 14 31 58 68",
          "07 10 12 61 65",
          "15 17 25 32 53",
          "20 32 35 47 64",
          "04 13 19 63 64",
          "17 32 40 59 61",
          "36 41 45 51 56",
          "17 21 27 43 56",
          "18 30 43 68 69",
          "21 25 36 62 63",
          "07 11 18 30 36",
          "21 24 36 40 70",
          "21 26 56 61 65",
          "03 20 31 34 65",
          "03 12 13 19 52",
          "09 14 26 29 66",
          "06 14 19 56 62",
          "15 26 28 35 45",
          "05 10 26 58 65",
          "10 15 20 66 68",
          "09 14 16 26 49",
          "30 32 42 46 48",
          "06 22 44 53 65",
          "05 23 52 53 59",
          "07 24 54 57 58",
          "07 27 37 42 59",
          "07 08 26 30 39",
          "22 45 48 58 61",
          "01 07 40 43 68",
          "23 25 40 42 60",
          "33 35 44 55 69",
          "21 32 38 48 62",
          "25 31 58 64 67",
          "16 17 25 36 37",
          "03 05 08 31 38",
          "02 05 30 46 61",
          "04 06 16 21 22",
          "07 29 43 56 57",
          "02 03 19 52 58",
          "05 08 13 22 48",
          "04 19 39 42 52",
          "38 45 46 55 67",
          "03 12 38 53 58",
          "03 16 25 44 55",
          "11 24 38 62 66",
          "07 16 34 44 61",
          "01 17 20 52 54",
          "11 16 23 24 30",
          "02 04 15 21 63",
          "06 11 50 63 68",
          "06 17 22 57 62",
          "15 31 40 56 66",
          "18 22 38 39 50",
          "11 19 28 46 47",
          "07 18 38 58 64",
          "24 28 39 44 66",
          "09 14 28 59 60",
          "02 06 25 40 45",
          "08 15 21 27 61",
          "03 13 42 51 58",
          "07 22 36 45 47",
          "26 42 47 48 63",
          "22 43 60 63 64",
          "08 11 29 32 40",
          "02 08 14 20 31",
          "04 17 20 46 64",
          "02 09 33 47 53",
          "07 28 29 58 59",
          "05 07 19 46 69",
          "09 11 34 49 66",
          "15 19 27 35 57",
          "16 21 33 52 70",
          "15 19 20 61 70",
          "11 41 43 44 65",
          "07 21 24 41 65",
          "33 40 59 60 69",
          "03 05 06 63 68",
          "03 14 40 53 54",
          "06 15 41 63 64",
          "11 16 22 48 59",
          "04 34 40 41 53",
          "03 12 14 18 32",
          "30 37 38 42 58",
          "20 36 53 56 69",
          "08 13 18 32 42",
          "01 07 11 25 56",
          "07 12 21 43 55",
          "01 27 29 38 62",
          "27 31 50 51 61",
          "20 36 61 62 69",
          "04 07 10 45 64",
          "08 20 26 53 64",
          "02 31 32 37 70",
          "14 40 60 64 66",
          "07 29 60 63 66",
          "13 36 45 57 67",
          "10 14 25 37 63",
          "02 05 29 64 69",
          "01 08 10 25 32",
          "23 24 50 54 64",
          "33 35 41 45 51",
          "12 18 24 46 65",
          "03 05 47 48 67",
          "06 27 30 38 64",
          "02 38 55 57 65",
          "39 40 52 60 67",
          "06 17 46 59 68",
          "16 21 54 55 69",
          "14 25 38 59 64",
          "15 30 35 38 66",
          "09 21 28 30 52",
          "05 50 53 58 64",
          "08 14 24 43 51",
          "16 26 37 40 51",
          "15 18 25 33 38",
          "06 11 29 36 55",
          "03 07 11 13 38",
          "09 22 26 41 44",
          "01 15 20 44 67",
          "34 36 43 45 68",
          "21 30 35 45 66",
          "04 18 31 53 69",
          "05 09 15 16 17",
          "02 20 47 55 59",
          "05 13 29 38 59",
          "01 05 17 37 70",
          "06 19 28 46 61",
          "02 14 16 38 66",
          "13 23 24 25 43",
          "29 31 46 54 67",
          "20 23 37 46 52",
          "01 21 36 46 52",
          "15 16 19 28 47",
          "08 19 53 61 69",
          "14 22 48 58 68",
          "08 35 40 53 56",
          "03 04 33 36 52",
          "15 21 32 38 62",
          "09 13 36 59 61",
          "01 03 06 44 51",
          "25 29 33 41 44",
          "03 20 46 59 63",
          "07 13 14 15 18",
          "30 43 45 46 61",
          "02 12 18 24 39",
          "20 29 31 64 66",
          "33 41 47 50 62",
          "04 43 46 47 61",
          "07 09 18 29 39",
          "01 04 50 54 59",
          "09 15 46 55 57",
          "20 29 30 52 58",
          "23 24 35 40 43",
          "02 33 38 57 70",
          "02 15 30 36 63",
          "02 22 49 65 67",
          "14 16 40 52 59",
          "08 25 36 39 67",
          "15 22 25 28 69",
          "09 20 59 60 63",
          "01 07 23 38 55",
          "26 28 29 39 49",
          "01 21 25 27 40",
          "14 17 33 42 66",
          "02 03 18 32 68",
          "16 26 27 42 61",
          "01 37 45 62 64",
          "12 32 49 51 66",
          "31 35 53 54 55",
          "23 27 41 48 51",
          "07 09 15 19 25",
          "03 21 29 46 63",
          "08 29 46 47 48",
          "18 38 53 62 64",
          "03 15 16 32 41",
          "16 18 28 42 43",
          "04 37 46 48 51",
          "01 02 23 40 45",
          "15 34 36 69 70",
          "05 11 41 44 55",
          "03 10 22 65 66",
          "12 20 37 41 64",
          "13 16 40 64 68",
          "03 16 19 36 60",
          "06 12 23 29 57",
          "03 19 53 60 68",
          "08 10 19 44 47",
          "04 24 34 45 57",
          "06 37 39 45 46",
          "13 62 65 67 69",
          "08 34 35 41 52",
          "13 22 47 51 55",
          "21 33 54 61 67",
          "08 10 17 55 66",
          "10 17 33 51 64",
          "10 24 48 51 66",
          "19 22 31 37 54",
          "29 40 47 50 57",
          "03 05 06 44 61",
          "05 10 28 52 63",
          "08 24 30 45 61",
          "11 30 45 52 56",
          "13 19 20 32 33",
          "08 09 18 35 41",
          "18 39 42 57 63",
          "10 20 29 44 66",
          "01 12 26 36 50",
          "12 23 26 31 38",
          "09 39 52 61 63",
          "10 31 42 43 55",
          "03 43 50 51 65",
          "03 12 17 51 62",
          "02 14 21 42 67",
          "05 13 29 50 53",
          "06 09 13 29 66",
          "10 13 14 57 66",
          "15 30 35 42 60",
          "18 40 47 55 64",
          "03 19 32 39 59",
          "12 24 46 57 66",
          "03 08 17 46 63",
          "06 18 44 46 68",
          "05 06 29 32 61",
          "07 29 36 49 61",
          "16 20 30 54 59",
          "11 32 43 57 70",
          "14 35 37 55 70",
          "15 32 38 47 65",
          "03 11 33 42 52",
          "13 33 59 68 70",
          "29 35 59 61 69",
          "06 12 31 33 69",
          "17 22 25 30 38",
          "06 15 45 59 68",
          "27 37 42 59 61",
          "12 47 49 52 65",
          "18 35 40 64 67",
          "21 26 53 66 70",
          "08 23 44 45 53",
          "10 20 28 40 54",
          "17 26 50 58 61",
          "10 26 36 54 69",
          "08 10 22 58 64",
          "11 27 30 62 70",
          "03 18 27 29 64",
          "05 23 26 38 44",
          "12 15 32 33 53",
          "19 34 35 45 67",
          "02 10 42 49 54",
          "01 09 16 17 30",
          "21 28 58 69 70",
          "14 31 34 50 61",
          "03 05 16 58 59",
          "11 22 42 64 69",
          "02 10 31 44 57",
          "17 22 29 46 69",
          "01 03 19 25 58",
          "19 23 39 42 67",
          "05 45 55 58 68",
          "04 06 40 41 60",
          "06 18 26 27 49",
          "15 33 37 55 61",
          "02 49 50 61 70",
          "19 20 22 47 58",
          "02 16 31 57 64",
          "13 25 50 51 66",
          "24 46 49 62 66",
          "03 08 31 35 44",
          "07 11 22 29 38",
          "11 30 33 38 60",
          "10 50 56 60 66",
          "20 30 54 63 65",
          "34 43 51 52 69",
          "01 12 14 18 66",
          "21 26 36 44 59",
          "19 30 34 46 58",
          "11 17 33 39 43",
          "15 23 53 57 61",
          "10 18 27 37 61",
          "06 13 15 53 56",
          "26 28 36 63 66",
          "13 22 26 32 65",
          "13 19 43 62 64",
          "08 17 40 60 70",
          "02 05 08 28 69",
          "46 54 56 67 70",
          "12 18 48 57 62",
          "04 11 23 33 49",
          "19 37 40 63 69",
          "03 05 12 22 66",
          "01 05 07 22 24",
          "01 25 26 31 65",
          "21 22 50 55 67",
          "03 18 27 40 44",
          "03 16 27 47 62",
          "28 31 33 42 66",
          "04 08 19 31 45",
          "06 15 32 54 67",
          "21 26 54 60 64",
          "15 35 48 53 68",
          "05 35 42 58 66",
          "10 17 23 50 67",
          "03 09 14 26 51",
          "02 14 33 58 65",
          "19 23 30 33 50",
          "06 07 24 44 54",
          "23 29 36 61 70",
          "12 32 38 40 57",
          "34 55 59 65 70",
          "22 38 48 51 61",
          "05 20 26 49 51",
          "28 30 44 66 69",
          "16 18 21 54 65",
          "10 17 20 24 54",
          "12 41 43 52 55",
          "06 23 41 59 63",
          "01 02 16 24 66",
          "21 55 56 57 66",
          "14 31 48 57 64",
          "20 21 40 49 55",
          "01 06 10 23 27",
          "29 46 53 69 70",
          "27 35 47 50 66",
          "21 39 42 43 45",
          "03 19 20 22 66",
          "03 10 29 52 57",
          "22 34 44 54 62",
          "04 09 26 39 58",
          "08 43 48 58 60",
          "23 26 35 41 43",
          "16 22 26 36 56",
          "11 22 42 46 51",
          "02 24 25 52 58",
          "25 28 42 64 69",
          "18 31 33 64 68",
          "05 17 35 55 69",
          "05 35 50 51 59",
          "13 20 26 32 65",
          "05 22 24 39 42",
          "03 29 34 37 38",
          "52 60 61 66 67",
          "16 21 33 39 45",
          "12 14 26 48 52",
          "36 43 52 58 65",
          "56 66 67 68 69",
          "02 20 51 56 67",
          "11 14 38 45 46",
          "03 07 37 49 55",
          "13 22 27 29 35",
          "20 42 46 59 69",
          "20 24 33 39 48",
          "09 23 39 65 66",
          "04 14 35 49 62",
          "08 10 37 54 69",
          "27 30 56 64 65",
          "08 12 43 52 62",
          "10 19 31 47 56",
          "09 28 48 56 63",
          "14 24 31 53 54",
          "04 24 32 41 55",
          "07 30 39 41 70",
          "11 19 31 49 56",
          "01 20 25 58 61",
          "01 13 28 37 46",
          "04 08 11 32 52",
          "09 19 30 35 66",
          "14 19 47 52 70",
          "08 20 48 58 60",
          "01 19 26 38 69",
          "03 17 39 42 70",
          "27 28 31 32 33",
          "15 22 31 52 57",
          "01 05 17 39 62",
          "02 09 31 60 63",
          "11 12 21 29 49",
          "11 28 35 37 69",
          "10 16 50 60 61",
          "15 37 38 56 58",
          "06 10 13 24 63",
          "05 13 15 17 28",
          "25 39 49 52 65",
          "38 40 60 62 70",
          "16 33 40 51 57",
          "14 37 40 41 68",
          "16 17 43 46 58",
          "09 10 12 48 60",
          "06 29 33 47 68",
          "02 22 42 62 66",
          "18 30 33 55 64",
          "07 18 40 55 68",
          "06 28 34 48 62",
          "02 28 37 38 58"
         ],
         "marker": {
          "color": {
           "bdata": "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",
           "dtype": "i1"
          },
          "colorscale": [
           [
            0,
            "rgb(0,0,0)"
           ],
           [
            0.2,
            "rgb(30,0,100)"
           ],
           [
            0.4,
            "rgb(120,0,100)"
           ],
           [
            0.6,
            "rgb(160,90,0)"
           ],
           [
            0.8,
            "rgb(230,200,0)"
           ],
           [
            1,
            "rgb(255,250,220)"
           ]
          ],
          "opacity": 0.8,
          "size": 5
         },
         "mode": "markers+text",
         "type": "scatter3d",
         "x": {
          "bdata": "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",
          "dtype": "i1"
         },
         "y": {
          "bdata": "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",
          "dtype": "i1"
         },
         "z": {
          "bdata": "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",
          "dtype": "i1"
         }
        }
       ],
       "layout": {
        "margin": {
         "b": 0,
         "l": 0,
         "r": 0,
         "t": 30
        },
        "scene": {
         "xaxis": {
          "title": {
           "text": "3rd Winning Number"
          }
         },
         "yaxis": {
          "title": {
           "text": "4th Winning Number"
          }
         },
         "zaxis": {
          "title": {
           "text": "5th Winning Number"
          }
         }
        },
        "template": {
         "data": {
          "bar": [
           {
            "error_x": {
             "color": "#2a3f5f"
            },
            "error_y": {
             "color": "#2a3f5f"
            },
            "marker": {
             "line": {
              "color": "#E5ECF6",
              "width": 0.5
             },
             "pattern": {
              "fillmode": "overlay",
              "size": 10,
              "solidity": 0.2
             }
            },
            "type": "bar"
           }
          ],
          "barpolar": [
           {
            "marker": {
             "line": {
              "color": "#E5ECF6",
              "width": 0.5
             },
             "pattern": {
              "fillmode": "overlay",
              "size": 10,
              "solidity": 0.2
             }
            },
            "type": "barpolar"
           }
          ],
          "carpet": [
           {
            "aaxis": {
             "endlinecolor": "#2a3f5f",
             "gridcolor": "white",
             "linecolor": "white",
             "minorgridcolor": "white",
             "startlinecolor": "#2a3f5f"
            },
            "baxis": {
             "endlinecolor": "#2a3f5f",
             "gridcolor": "white",
             "linecolor": "white",
             "minorgridcolor": "white",
             "startlinecolor": "#2a3f5f"
            },
            "type": "carpet"
           }
          ],
          "choropleth": [
           {
            "colorbar": {
             "outlinewidth": 0,
             "ticks": ""
            },
            "type": "choropleth"
           }
          ],
          "contour": [
           {
            "colorbar": {
             "outlinewidth": 0,
             "ticks": ""
            },
            "colorscale": [
             [
              0,
              "#0d0887"
             ],
             [
              0.1111111111111111,
              "#46039f"
             ],
             [
              0.2222222222222222,
              "#7201a8"
             ],
             [
              0.3333333333333333,
              "#9c179e"
             ],
             [
              0.4444444444444444,
              "#bd3786"
             ],
             [
              0.5555555555555556,
              "#d8576b"
             ],
             [
              0.6666666666666666,
              "#ed7953"
             ],
             [
              0.7777777777777778,
              "#fb9f3a"
             ],
             [
              0.8888888888888888,
              "#fdca26"
             ],
             [
              1,
              "#f0f921"
             ]
            ],
            "type": "contour"
           }
          ],
          "contourcarpet": [
           {
            "colorbar": {
             "outlinewidth": 0,
             "ticks": ""
            },
            "type": "contourcarpet"
           }
          ],
          "heatmap": [
           {
            "colorbar": {
             "outlinewidth": 0,
             "ticks": ""
            },
            "colorscale": [
             [
              0,
              "#0d0887"
             ],
             [
              0.1111111111111111,
              "#46039f"
             ],
             [
              0.2222222222222222,
              "#7201a8"
             ],
             [
              0.3333333333333333,
              "#9c179e"
             ],
             [
              0.4444444444444444,
              "#bd3786"
             ],
             [
              0.5555555555555556,
              "#d8576b"
             ],
             [
              0.6666666666666666,
              "#ed7953"
             ],
             [
              0.7777777777777778,
              "#fb9f3a"
             ],
             [
              0.8888888888888888,
              "#fdca26"
             ],
             [
              1,
              "#f0f921"
             ]
            ],
            "type": "heatmap"
           }
          ],
          "histogram": [
           {
            "marker": {
             "pattern": {
              "fillmode": "overlay",
              "size": 10,
              "solidity": 0.2
             }
            },
            "type": "histogram"
           }
          ],
          "histogram2d": [
           {
            "colorbar": {
             "outlinewidth": 0,
             "ticks": ""
            },
            "colorscale": [
             [
              0,
              "#0d0887"
             ],
             [
              0.1111111111111111,
              "#46039f"
             ],
             [
              0.2222222222222222,
              "#7201a8"
             ],
             [
              0.3333333333333333,
              "#9c179e"
             ],
             [
              0.4444444444444444,
              "#bd3786"
             ],
             [
              0.5555555555555556,
              "#d8576b"
             ],
             [
              0.6666666666666666,
              "#ed7953"
             ],
             [
              0.7777777777777778,
              "#fb9f3a"
             ],
             [
              0.8888888888888888,
              "#fdca26"
             ],
             [
              1,
              "#f0f921"
             ]
            ],
            "type": "histogram2d"
           }
          ],
          "histogram2dcontour": [
           {
            "colorbar": {
             "outlinewidth": 0,
             "ticks": ""
            },
            "colorscale": [
             [
              0,
              "#0d0887"
             ],
             [
              0.1111111111111111,
              "#46039f"
             ],
             [
              0.2222222222222222,
              "#7201a8"
             ],
             [
              0.3333333333333333,
              "#9c179e"
             ],
             [
              0.4444444444444444,
              "#bd3786"
             ],
             [
              0.5555555555555556,
              "#d8576b"
             ],
             [
              0.6666666666666666,
              "#ed7953"
             ],
             [
              0.7777777777777778,
              "#fb9f3a"
             ],
             [
              0.8888888888888888,
              "#fdca26"
             ],
             [
              1,
              "#f0f921"
             ]
            ],
            "type": "histogram2dcontour"
           }
          ],
          "mesh3d": [
           {
            "colorbar": {
             "outlinewidth": 0,
             "ticks": ""
            },
            "type": "mesh3d"
           }
          ],
          "parcoords": [
           {
            "line": {
             "colorbar": {
              "outlinewidth": 0,
              "ticks": ""
             }
            },
            "type": "parcoords"
           }
          ],
          "pie": [
           {
            "automargin": true,
            "type": "pie"
           }
          ],
          "scatter": [
           {
            "fillpattern": {
             "fillmode": "overlay",
             "size": 10,
             "solidity": 0.2
            },
            "type": "scatter"
           }
          ],
          "scatter3d": [
           {
            "line": {
             "colorbar": {
              "outlinewidth": 0,
              "ticks": ""
             }
            },
            "marker": {
             "colorbar": {
              "outlinewidth": 0,
              "ticks": ""
             }
            },
            "type": "scatter3d"
           }
          ],
          "scattercarpet": [
           {
            "marker": {
             "colorbar": {
              "outlinewidth": 0,
              "ticks": ""
             }
            },
            "type": "scattercarpet"
           }
          ],
          "scattergeo": [
           {
            "marker": {
             "colorbar": {
              "outlinewidth": 0,
              "ticks": ""
             }
            },
            "type": "scattergeo"
           }
          ],
          "scattergl": [
           {
            "marker": {
             "colorbar": {
              "outlinewidth": 0,
              "ticks": ""
             }
            },
            "type": "scattergl"
           }
          ],
          "scattermap": [
           {
            "marker": {
             "colorbar": {
              "outlinewidth": 0,
              "ticks": ""
             }
            },
            "type": "scattermap"
           }
          ],
          "scattermapbox": [
           {
            "marker": {
             "colorbar": {
              "outlinewidth": 0,
              "ticks": ""
             }
            },
            "type": "scattermapbox"
           }
          ],
          "scatterpolar": [
           {
            "marker": {
             "colorbar": {
              "outlinewidth": 0,
              "ticks": ""
             }
            },
            "type": "scatterpolar"
           }
          ],
          "scatterpolargl": [
           {
            "marker": {
             "colorbar": {
              "outlinewidth": 0,
              "ticks": ""
             }
            },
            "type": "scatterpolargl"
           }
          ],
          "scatterternary": [
           {
            "marker": {
             "colorbar": {
              "outlinewidth": 0,
              "ticks": ""
             }
            },
            "type": "scatterternary"
           }
          ],
          "surface": [
           {
            "colorbar": {
             "outlinewidth": 0,
             "ticks": ""
            },
            "colorscale": [
             [
              0,
              "#0d0887"
             ],
             [
              0.1111111111111111,
              "#46039f"
             ],
             [
              0.2222222222222222,
              "#7201a8"
             ],
             [
              0.3333333333333333,
              "#9c179e"
             ],
             [
              0.4444444444444444,
              "#bd3786"
             ],
             [
              0.5555555555555556,
              "#d8576b"
             ],
             [
              0.6666666666666666,
              "#ed7953"
             ],
             [
              0.7777777777777778,
              "#fb9f3a"
             ],
             [
              0.8888888888888888,
              "#fdca26"
             ],
             [
              1,
              "#f0f921"
             ]
            ],
            "type": "surface"
           }
          ],
          "table": [
           {
            "cells": {
             "fill": {
              "color": "#EBF0F8"
             },
             "line": {
              "color": "white"
             }
            },
            "header": {
             "fill": {
              "color": "#C8D4E3"
             },
             "line": {
              "color": "white"
             }
            },
            "type": "table"
           }
          ]
         },
         "layout": {
          "annotationdefaults": {
           "arrowcolor": "#2a3f5f",
           "arrowhead": 0,
           "arrowwidth": 1
          },
          "autotypenumbers": "strict",
          "coloraxis": {
           "colorbar": {
            "outlinewidth": 0,
            "ticks": ""
           }
          },
          "colorscale": {
           "diverging": [
            [
             0,
             "#8e0152"
            ],
            [
             0.1,
             "#c51b7d"
            ],
            [
             0.2,
             "#de77ae"
            ],
            [
             0.3,
             "#f1b6da"
            ],
            [
             0.4,
             "#fde0ef"
            ],
            [
             0.5,
             "#f7f7f7"
            ],
            [
             0.6,
             "#e6f5d0"
            ],
            [
             0.7,
             "#b8e186"
            ],
            [
             0.8,
             "#7fbc41"
            ],
            [
             0.9,
             "#4d9221"
            ],
            [
             1,
             "#276419"
            ]
           ],
           "sequential": [
            [
             0,
             "#0d0887"
            ],
            [
             0.1111111111111111,
             "#46039f"
            ],
            [
             0.2222222222222222,
             "#7201a8"
            ],
            [
             0.3333333333333333,
             "#9c179e"
            ],
            [
             0.4444444444444444,
             "#bd3786"
            ],
            [
             0.5555555555555556,
             "#d8576b"
            ],
            [
             0.6666666666666666,
             "#ed7953"
            ],
            [
             0.7777777777777778,
             "#fb9f3a"
            ],
            [
             0.8888888888888888,
             "#fdca26"
            ],
            [
             1,
             "#f0f921"
            ]
           ],
           "sequentialminus": [
            [
             0,
             "#0d0887"
            ],
            [
             0.1111111111111111,
             "#46039f"
            ],
            [
             0.2222222222222222,
             "#7201a8"
            ],
            [
             0.3333333333333333,
             "#9c179e"
            ],
            [
             0.4444444444444444,
             "#bd3786"
            ],
            [
             0.5555555555555556,
             "#d8576b"
            ],
            [
             0.6666666666666666,
             "#ed7953"
            ],
            [
             0.7777777777777778,
             "#fb9f3a"
            ],
            [
             0.8888888888888888,
             "#fdca26"
            ],
            [
             1,
             "#f0f921"
            ]
           ]
          },
          "colorway": [
           "#636efa",
           "#EF553B",
           "#00cc96",
           "#ab63fa",
           "#FFA15A",
           "#19d3f3",
           "#FF6692",
           "#B6E880",
           "#FF97FF",
           "#FECB52"
          ],
          "font": {
           "color": "#2a3f5f"
          },
          "geo": {
           "bgcolor": "white",
           "lakecolor": "white",
           "landcolor": "#E5ECF6",
           "showlakes": true,
           "showland": true,
           "subunitcolor": "white"
          },
          "hoverlabel": {
           "align": "left"
          },
          "hovermode": "closest",
          "mapbox": {
           "style": "light"
          },
          "paper_bgcolor": "white",
          "plot_bgcolor": "#E5ECF6",
          "polar": {
           "angularaxis": {
            "gridcolor": "white",
            "linecolor": "white",
            "ticks": ""
           },
           "bgcolor": "#E5ECF6",
           "radialaxis": {
            "gridcolor": "white",
            "linecolor": "white",
            "ticks": ""
           }
          },
          "scene": {
           "xaxis": {
            "backgroundcolor": "#E5ECF6",
            "gridcolor": "white",
            "gridwidth": 2,
            "linecolor": "white",
            "showbackground": true,
            "ticks": "",
            "zerolinecolor": "white"
           },
           "yaxis": {
            "backgroundcolor": "#E5ECF6",
            "gridcolor": "white",
            "gridwidth": 2,
            "linecolor": "white",
            "showbackground": true,
            "ticks": "",
            "zerolinecolor": "white"
           },
           "zaxis": {
            "backgroundcolor": "#E5ECF6",
            "gridcolor": "white",
            "gridwidth": 2,
            "linecolor": "white",
            "showbackground": true,
            "ticks": "",
            "zerolinecolor": "white"
           }
          },
          "shapedefaults": {
           "line": {
            "color": "#2a3f5f"
           }
          },
          "ternary": {
           "aaxis": {
            "gridcolor": "white",
            "linecolor": "white",
            "ticks": ""
           },
           "baxis": {
            "gridcolor": "white",
            "linecolor": "white",
            "ticks": ""
           },
           "bgcolor": "#E5ECF6",
           "caxis": {
            "gridcolor": "white",
            "linecolor": "white",
            "ticks": ""
           }
          },
          "title": {
           "x": 0.05
          },
          "xaxis": {
           "automargin": true,
           "gridcolor": "white",
           "linecolor": "white",
           "ticks": "",
           "title": {
            "standoff": 15
           },
           "zerolinecolor": "white",
           "zerolinewidth": 2
          },
          "yaxis": {
           "automargin": true,
           "gridcolor": "white",
           "linecolor": "white",
           "ticks": "",
           "title": {
            "standoff": 15
           },
           "zerolinecolor": "white",
           "zerolinewidth": 2
          }
         }
        },
        "title": {
         "text": "3D Scatter Plot of the Last 3 Winning Numbers"
        }
       }
      }
     },
     "metadata": {},
     "output_type": "display_data"
    }
   ],
   "source": [
    "#create 3d plot with last 3 winning numbers\n",
    "x=df['win_num_3']\n",
    "y=df['win_num_4']\n",
    "z=df['win_num_5']\n",
    "fig = go.Figure(data=[go.Scatter3d(\n",
    "    x=x,\n",
    "    y=y,\n",
    "    z=z,\n",
    "    mode='markers+text',\n",
    "    hoverinfo='text', \n",
    "    hovertext=df['Winning Numbers'],\n",
    "    marker=dict(\n",
    "        size=5,\n",
    "        color=y,\n",
    "        colorscale='electric', \n",
    "        opacity=0.8\n",
    "    )\n",
    ")]).update_layout(title=dict(text=\"3D Scatter Plot of the Last 3 Winning Numbers\"),\n",
    "                    margin=dict(l=0, r=0, t=30, b=0),\n",
    "                    scene = dict(\n",
    "                    xaxis = dict(title='3rd Winning Number'),\n",
    "                    yaxis = dict(title='4th Winning Number'),\n",
    "                    zaxis = dict(title='5th Winning Number')\n",
    "                    ))\n",
    "fig.show()"
   ]
  },
  {
   "cell_type": "code",
   "execution_count": 111,
   "id": "781f6e99",
   "metadata": {},
   "outputs": [
    {
     "data": {
      "application/vnd.plotly.v1+json": {
       "config": {
        "plotlyServerURL": "https://plot.ly"
       },
       "data": [
        {
         "hoverinfo": "text",
         "hovertext": [
          "15 18 25 33 47",
          "04 28 39 41 44",
          "02 04 32 44 52",
          "06 21 22 29 32",
          "12 28 45 46 52",
          "03 25 29 30 48",
          "14 22 27 28 42",
          "05 06 09 33 44",
          "04 08 32 37 43",
          "06 13 18 27 45",
          "13 18 32 39 49",
          "04 18 21 27 41",
          "18 31 49 50 51",
          "14 22 32 35 44",
          "11 20 26 29 41",
          "26 29 31 44 48",
          "13 19 23 38 47",
          "10 24 35 49 52",
          "07 15 24 37 46",
          "10 12 29 32 38",
          "20 27 28 37 49",
          "02 06 22 27 44",
          "10 16 23 28 31",
          "02 06 38 40 50",
          "07 17 23 43 44",
          "03 10 15 18 25",
          "22 31 33 44 52",
          "02 13 20 23 43",
          "05 19 20 45 48",
          "02 05 11 18 45",
          "06 31 32 42 51",
          "08 23 36 49 51",
          "31 39 42 49 51",
          "04 06 10 21 25",
          "24 32 37 40 51",
          "07 10 19 26 44",
          "01 02 04 05 46",
          "08 32 34 42 50",
          "23 27 30 33 36",
          "07 21 30 32 37",
          "10 42 43 45 51",
          "18 34 43 47 50",
          "09 11 17 26 41",
          "06 20 27 34 51",
          "10 31 40 48 51",
          "16 20 26 36 48",
          "08 15 34 39 47",
          "09 10 14 41 49",
          "05 10 22 23 43",
          "02 07 16 28 36",
          "17 19 37 47 48",
          "03 28 45 48 50",
          "06 17 44 49 51",
          "07 16 20 40 52",
          "11 16 19 22 46",
          "03 21 27 31 43",
          "08 25 33 42 49",
          "01 15 19 40 51",
          "04 08 30 36 52",
          "03 05 09 16 31",
          "02 13 14 24 46",
          "03 07 21 29 49",
          "10 14 41 46 49",
          "08 24 39 43 52",
          "11 14 26 30 39",
          "08 21 29 42 51",
          "06 14 28 37 46",
          "15 16 28 34 51",
          "07 17 18 34 50",
          "30 39 41 47 52",
          "25 26 38 42 46",
          "04 41 48 50 51",
          "16 31 37 40 41",
          "13 24 26 32 47",
          "01 08 09 19 22",
          "05 12 16 22 24",
          "03 09 20 26 27",
          "18 20 23 48 49",
          "11 13 19 32 47",
          "12 22 29 42 50",
          "21 28 29 40 51",
          "02 04 06 37 47",
          "11 16 26 48 49",
          "02 26 36 37 41",
          "07 10 32 36 41",
          "10 15 26 28 39",
          "03 06 14 31 33",
          "13 14 16 29 49",
          "06 17 18 40 50",
          "15 21 37 40 42",
          "08 12 21 27 29",
          "07 12 26 45 47",
          "06 22 28 31 40",
          "08 10 24 38 45",
          "15 26 27 38 39",
          "16 29 31 39 52",
          "05 15 24 50 52",
          "03 09 15 28 52",
          "01 12 32 48 51",
          "06 08 09 33 35",
          "02 05 19 32 34",
          "05 14 32 44 52",
          "01 10 20 22 28",
          "17 20 47 49 50",
          "05 10 16 26 39",
          "02 16 36 44 49",
          "12 20 31 33 50",
          "10 11 17 20 26",
          "01 21 28 33 51",
          "04 20 25 29 32",
          "10 14 28 39 40",
          "14 15 23 32 52",
          "12 15 16 20 51",
          "27 31 34 40 52",
          "01 02 03 12 37",
          "02 26 43 44 47",
          "01 14 20 31 40",
          "28 32 39 45 48",
          "06 07 22 37 46",
          "02 09 27 29 35",
          "01 04 10 16 18",
          "01 26 33 43 48",
          "29 30 34 38 44",
          "01 05 31 38 47",
          "33 46 47 50 51",
          "01 17 19 32 42",
          "02 11 27 30 33",
          "07 32 34 38 44",
          "06 09 35 40 43",
          "08 11 18 35 51",
          "01 16 20 41 52",
          "07 11 24 28 52",
          "04 19 31 32 51",
          "09 28 42 44 49",
          "08 11 17 42 52",
          "22 26 27 32 39",
          "07 09 28 41 42",
          "14 15 30 39 46",
          "16 22 23 38 46",
          "15 20 24 30 46",
          "13 14 24 34 47",
          "05 16 24 49 51",
          "05 29 32 45 52",
          "02 26 37 40 46",
          "19 21 30 31 52",
          "01 02 22 40 41",
          "04 19 36 42 48",
          "18 19 21 33 40",
          "14 20 31 46 48",
          "18 34 46 51 52",
          "08 09 16 30 31",
          "06 09 20 40 47",
          "06 12 13 36 46",
          "16 24 43 44 45",
          "06 18 23 26 30",
          "02 05 17 21 22",
          "03 13 31 41 42",
          "04 11 25 30 52",
          "14 26 28 36 42",
          "22 32 37 40 41",
          "19 26 31 44 50",
          "10 13 24 34 49",
          "01 12 15 18 44",
          "04 14 15 24 48",
          "09 16 32 45 46",
          "16 24 31 46 47",
          "05 10 17 35 39",
          "02 13 21 22 49",
          "01 10 17 20 29",
          "12 18 21 32 46",
          "07 08 36 44 48",
          "07 13 15 25 32",
          "24 32 38 47 49",
          "03 17 18 21 45",
          "12 26 41 44 49",
          "05 07 14 21 45",
          "10 18 33 46 51",
          "06 10 20 38 50",
          "17 28 30 40 51",
          "09 21 26 35 41",
          "01 06 16 30 49",
          "03 07 10 22 32",
          "14 30 42 43 45",
          "02 08 34 36 52",
          "01 13 20 21 30",
          "06 11 43 49 52",
          "02 09 24 36 52",
          "25 30 35 40 50",
          "30 40 47 49 52",
          "16 23 29 36 51",
          "04 29 32 35 36",
          "03 28 45 49 51",
          "06 09 14 32 50",
          "12 22 35 39 46",
          "08 10 17 37 49",
          "03 27 31 41 45",
          "08 17 25 46 47",
          "08 17 29 32 39",
          "02 08 10 11 23",
          "13 36 39 50 51",
          "06 24 29 42 51",
          "12 22 37 46 48",
          "08 22 25 47 48",
          "01 10 17 23 35",
          "15 21 32 39 50",
          "03 15 29 37 39",
          "14 17 19 44 50",
          "09 25 30 34 37",
          "10 19 32 36 46",
          "02 36 44 46 51",
          "04 20 27 38 49",
          "05 18 34 36 39",
          "13 27 36 39 51",
          "07 16 17 26 48",
          "04 16 18 41 47",
          "17 24 29 37 45",
          "12 28 36 39 52",
          "18 23 27 29 44",
          "07 10 11 15 51",
          "09 10 17 41 52",
          "18 19 29 32 42",
          "10 13 19 28 38",
          "10 25 38 39 50",
          "06 07 08 31 48",
          "11 23 25 29 45",
          "13 31 37 39 52",
          "03 21 22 35 44",
          "06 15 21 32 44",
          "05 12 25 35 37",
          "08 10 11 13 24",
          "16 19 21 34 35",
          "01 02 13 16 22",
          "04 23 33 38 49",
          "18 25 29 31 44",
          "14 31 41 45 48",
          "22 23 26 28 36",
          "12 17 34 37 39",
          "02 05 21 47 50",
          "05 25 38 46 47",
          "14 15 25 42 44",
          "04 14 34 38 44",
          "13 30 36 38 51",
          "11 17 27 45 52",
          "12 35 37 38 50",
          "03 16 25 38 49",
          "01 03 15 19 29",
          "11 26 30 49 50",
          "01 18 39 42 50",
          "08 10 17 24 39",
          "08 34 39 48 49",
          "16 17 21 33 41",
          "04 18 19 39 51",
          "04 08 24 30 36",
          "06 13 19 34 50",
          "03 07 20 24 43",
          "14 25 39 43 49",
          "10 18 26 31 41",
          "24 32 42 49 50",
          "03 29 30 41 43",
          "11 20 26 28 52",
          "05 31 33 35 51",
          "09 10 27 28 30",
          "01 12 24 36 51",
          "08 30 32 35 51",
          "07 09 18 37 43",
          "10 20 22 28 52",
          "12 32 37 41 52",
          "01 19 22 32 49",
          "22 23 37 42 47",
          "14 27 32 34 40",
          "16 34 38 42 47",
          "07 22 27 31 38",
          "09 20 22 41 42",
          "18 29 32 38 43",
          "10 14 45 47 51",
          "03 06 07 12 32",
          "02 08 14 15 51",
          "02 23 24 35 45",
          "15 19 24 40 47",
          "10 23 28 39 51",
          "17 27 39 40 41",
          "02 10 21 25 45",
          "25 31 39 47 52",
          "03 17 21 42 44",
          "03 12 14 30 52",
          "08 11 14 23 25",
          "06 14 21 24 50",
          "03 16 20 21 38",
          "01 19 31 35 42",
          "15 18 28 41 45",
          "04 13 37 38 50",
          "01 08 18 39 48",
          "07 10 13 35 39",
          "08 14 15 22 31",
          "18 19 31 35 36",
          "14 26 27 34 44",
          "02 09 28 29 48",
          "06 11 27 37 43",
          "11 18 19 45 49",
          "07 17 18 30 42",
          "11 19 28 32 45",
          "04 19 45 51 52",
          "05 13 17 33 35",
          "15 20 43 47 50",
          "25 26 37 39 49",
          "05 06 14 42 47",
          "23 25 43 46 49",
          "18 22 33 34 42",
          "02 05 07 28 46",
          "07 17 42 46 52",
          "07 12 25 50 51",
          "11 25 38 40 42",
          "21 23 27 33 39",
          "07 09 10 29 44",
          "03 06 27 40 44",
          "09 28 39 40 45",
          "07 17 22 34 50",
          "05 13 22 37 38",
          "04 06 14 28 47",
          "07 14 28 46 47",
          "14 29 31 37 50",
          "01 10 29 48 49",
          "16 35 40 49 50",
          "09 13 40 46 50",
          "14 43 44 50 56",
          "02 20 37 43 46",
          "14 25 41 42 50",
          "22 38 48 50 55",
          "09 23 45 48 50",
          "05 17 32 39 53",
          "09 13 25 36 48",
          "07 13 48 51 54",
          "07 18 27 35 54",
          "01 10 18 29 55",
          "04 16 23 25 40",
          "17 22 39 50 52",
          "03 05 48 50 53",
          "13 35 36 43 52",
          "08 37 38 45 54",
          "09 15 20 24 55",
          "02 13 18 36 46",
          "06 07 08 13 40",
          "05 20 38 47 54",
          "19 32 42 49 56",
          "01 04 14 45 53",
          "01 08 27 31 50",
          "15 28 43 51 52",
          "13 24 44 48 52",
          "05 16 41 46 50",
          "35 36 40 42 52",
          "06 07 20 41 51",
          "14 17 26 27 28",
          "01 03 14 30 52",
          "12 24 28 29 36",
          "02 04 23 27 36",
          "24 30 42 53 54",
          "06 20 24 25 34",
          "03 12 16 32 33",
          "11 17 28 29 36",
          "07 12 18 31 55",
          "08 17 25 28 53",
          "05 18 21 28 36",
          "07 09 41 53 54",
          "08 16 21 25 27",
          "09 14 34 50 51",
          "02 04 05 40 48",
          "08 18 21 42 46",
          "09 22 37 41 43",
          "05 25 31 33 34",
          "07 08 47 51 52",
          "03 12 21 38 44",
          "06 10 26 30 33",
          "14 15 31 32 43",
          "09 10 12 22 41",
          "14 25 26 31 56",
          "06 20 23 40 56",
          "10 37 39 49 54",
          "11 24 27 49 55",
          "14 20 25 40 44",
          "15 19 20 32 38",
          "08 11 28 37 53",
          "07 27 32 37 38",
          "05 21 27 44 53",
          "24 32 37 39 40",
          "18 22 28 44 53",
          "31 34 36 51 55",
          "02 07 08 18 29",
          "01 35 53 54 56",
          "29 31 32 41 52",
          "02 16 25 30 48",
          "24 39 40 43 46",
          "27 36 43 49 54",
          "16 25 31 43 46",
          "14 23 27 36 45",
          "03 05 12 16 34",
          "02 04 35 36 48",
          "25 29 38 39 46",
          "15 27 36 38 42",
          "04 17 18 51 54",
          "27 28 30 42 50",
          "08 11 23 48 52",
          "04 16 17 28 31",
          "01 02 17 47 49",
          "14 18 35 39 49",
          "04 07 19 50 52",
          "09 25 48 51 56",
          "01 18 31 46 52",
          "02 12 45 46 56",
          "08 10 18 29 33",
          "13 14 25 34 50",
          "02 04 07 27 41",
          "01 20 32 37 39",
          "16 29 32 36 55",
          "07 11 22 27 31",
          "08 20 39 53 55",
          "07 15 24 43 44",
          "06 36 39 45 52",
          "07 24 40 48 50",
          "05 12 31 51 56",
          "17 21 28 48 54",
          "12 14 20 47 48",
          "02 13 28 34 45",
          "03 10 18 36 38",
          "05 29 35 52 53",
          "08 17 18 26 47",
          "01 20 23 24 33",
          "27 30 36 38 45",
          "11 21 37 53 54",
          "13 17 24 34 56",
          "02 14 20 29 44",
          "20 40 46 48 54",
          "09 15 31 42 45",
          "07 15 27 46 56",
          "05 14 34 36 52",
          "13 25 26 28 56",
          "12 13 29 49 52",
          "18 26 35 36 43",
          "07 21 24 41 51",
          "02 13 23 32 35",
          "14 29 32 43 49",
          "02 24 31 50 55",
          "01 05 13 18 33",
          "14 16 38 40 49",
          "10 12 22 44 48",
          "05 12 13 46 50",
          "03 04 05 07 36",
          "17 24 35 46 54",
          "15 25 37 38 52",
          "05 06 51 53 55",
          "01 32 36 42 53",
          "09 17 34 52 53",
          "03 16 25 30 44",
          "06 26 33 39 55",
          "02 19 44 45 56",
          "07 12 17 22 43",
          "03 06 38 42 45",
          "03 25 43 45 55",
          "06 19 32 33 40",
          "01 11 20 21 46",
          "14 30 35 40 43",
          "24 27 42 47 50",
          "06 18 20 28 38",
          "09 13 23 29 54",
          "05 25 41 48 51",
          "15 22 26 30 32",
          "05 34 40 45 46",
          "08 10 22 25 55",
          "13 22 33 51 52",
          "11 42 52 53 55",
          "09 20 24 25 36",
          "05 19 25 30 50",
          "07 13 20 42 47",
          "14 35 40 47 48",
          "07 14 24 41 56",
          "16 22 23 37 53",
          "06 09 13 43 46",
          "01 15 29 32 45",
          "20 30 31 35 49",
          "06 07 17 28 40",
          "09 32 37 42 48",
          "05 12 15 25 34",
          "07 12 25 44 53",
          "03 04 10 39 50",
          "09 10 38 51 53",
          "02 12 44 46 51",
          "07 11 26 38 54",
          "12 14 26 40 42",
          "04 08 15 33 52",
          "04 28 30 31 35",
          "03 05 15 26 53",
          "16 17 36 49 54",
          "14 18 44 52 56",
          "22 33 35 40 53",
          "16 21 35 36 46",
          "32 39 46 48 49",
          "03 09 24 29 41",
          "17 35 40 46 48",
          "01 09 26 46 51",
          "03 18 21 38 50",
          "18 31 44 45 48",
          "14 21 33 35 51",
          "16 22 29 39 42",
          "10 13 25 42 43",
          "07 11 16 38 49",
          "17 25 36 40 43",
          "07 21 46 49 55",
          "18 21 35 51 53",
          "18 25 34 35 42",
          "15 23 37 48 53",
          "16 26 33 34 46",
          "24 32 34 36 39",
          "07 15 16 19 28",
          "11 14 21 25 26",
          "01 04 11 31 47",
          "01 09 10 23 53",
          "08 10 35 36 43",
          "05 07 26 38 56",
          "11 16 31 52 53",
          "04 09 20 45 55",
          "16 24 41 43 54",
          "28 30 33 48 54",
          "06 13 42 46 56",
          "13 23 24 30 44",
          "02 07 11 22 36",
          "10 14 22 42 43",
          "02 24 44 51 54",
          "12 19 29 32 48",
          "27 35 38 49 56",
          "06 26 29 31 39",
          "03 13 19 31 50",
          "01 05 16 26 30",
          "05 16 31 49 54",
          "11 14 21 24 31",
          "04 10 20 29 45",
          "01 17 40 51 52",
          "21 35 37 39 40",
          "03 09 12 25 47",
          "19 24 30 34 56",
          "07 39 41 48 53",
          "16 30 38 46 51",
          "06 13 30 41 52",
          "08 17 20 23 50",
          "07 12 35 54 55",
          "05 18 37 39 43",
          "16 29 42 46 51",
          "36 41 50 55 56",
          "10 20 32 33 54",
          "05 08 09 24 34",
          "02 08 33 38 53",
          "08 38 54 55 56",
          "04 21 46 51 53",
          "37 40 48 53 56",
          "08 18 22 40 44",
          "03 06 11 42 46",
          "14 19 27 34 48",
          "09 10 17 21 35",
          "05 09 12 33 40",
          "20 24 31 34 49",
          "05 21 23 33 45",
          "02 19 23 47 54",
          "04 13 20 25 33",
          "28 37 40 43 44",
          "10 19 37 40 48",
          "01 10 17 32 51",
          "21 26 34 44 54",
          "01 02 05 41 44",
          "05 15 18 23 46",
          "02 07 45 52 53",
          "12 20 24 38 51",
          "02 08 44 46 51",
          "01 03 34 49 52",
          "03 17 43 46 47",
          "11 33 41 42 46",
          "15 26 36 39 40",
          "12 13 30 31 39",
          "14 20 23 42 43",
          "18 21 33 42 56",
          "09 10 26 29 39",
          "05 06 12 26 51",
          "16 27 30 45 53",
          "12 18 26 28 51",
          "06 25 27 30 45",
          "04 07 12 17 30",
          "03 23 46 48 49",
          "14 19 20 43 53",
          "02 19 22 28 54",
          "13 16 25 30 54",
          "24 31 39 40 56",
          "10 29 45 52 54",
          "22 36 42 45 55",
          "21 30 42 44 50",
          "12 22 33 43 44",
          "12 15 22 25 33",
          "05 12 22 38 56",
          "08 23 39 40 42",
          "03 14 30 44 56",
          "04 05 17 40 51",
          "21 30 43 46 50",
          "14 27 39 47 50",
          "07 11 26 30 53",
          "01 38 42 55 56",
          "07 12 13 19 22",
          "09 12 30 36 55",
          "05 17 22 26 55",
          "07 15 30 33 56",
          "19 32 33 41 48",
          "04 13 35 41 47",
          "03 12 18 25 52",
          "13 15 20 25 44",
          "05 08 17 19 41",
          "38 42 43 48 53",
          "07 26 27 40 43",
          "04 17 26 46 56",
          "03 05 40 45 49",
          "08 09 31 37 44",
          "14 18 27 31 42",
          "12 13 27 48 50",
          "24 28 36 50 53",
          "03 22 31 48 54",
          "19 32 37 45 52",
          "19 24 35 44 51",
          "08 28 37 53 55",
          "04 21 46 53 54",
          "16 31 43 46 56",
          "20 24 27 31 47",
          "06 11 39 46 47",
          "02 14 26 32 41",
          "04 08 11 22 30",
          "14 24 32 45 49",
          "39 40 47 53 55",
          "04 19 24 32 54",
          "08 09 43 44 54",
          "03 05 15 43 51",
          "08 09 14 38 44",
          "05 14 25 47 49",
          "11 17 25 36 42",
          "10 22 36 50 53",
          "08 14 22 39 50",
          "01 22 33 43 52",
          "01 03 12 19 20",
          "01 20 22 29 41",
          "05 14 16 39 51",
          "19 24 34 45 51",
          "17 29 36 53 55",
          "02 16 23 29 32",
          "02 16 19 35 52",
          "11 13 20 30 42",
          "09 13 17 18 56",
          "09 21 36 38 55",
          "11 17 28 32 50",
          "02 07 23 38 40",
          "08 23 29 30 53",
          "09 18 19 26 40",
          "12 13 15 41 42",
          "06 16 24 34 36",
          "21 25 26 50 51",
          "14 23 43 44 54",
          "01 06 15 27 46",
          "22 23 28 49 52",
          "01 12 14 25 35",
          "13 24 39 51 52",
          "02 09 41 48 51",
          "09 32 34 43 52",
          "06 13 14 31 36",
          "09 30 35 39 49",
          "13 28 32 41 52",
          "02 25 35 38 42",
          "14 15 43 46 48",
          "14 35 41 42 51",
          "07 15 27 28 31",
          "16 19 39 42 44",
          "05 33 34 47 52",
          "06 39 45 46 48",
          "02 07 17 29 47",
          "10 21 23 41 55",
          "14 24 32 43 44",
          "05 27 38 42 55",
          "03 18 19 30 34",
          "10 15 22 52 53",
          "01 22 52 53 56",
          "02 11 22 51 52",
          "10 30 44 46 48",
          "02 17 22 32 51",
          "21 27 46 52 55",
          "11 12 26 31 33",
          "10 16 19 27 48",
          "10 14 16 29 40",
          "03 13 16 39 54",
          "01 08 13 27 41",
          "06 19 29 33 37",
          "01 22 29 44 52",
          "02 11 19 21 34",
          "03 11 12 19 33",
          "23 25 30 45 50",
          "22 25 33 36 48",
          "02 04 21 39 51",
          "01 09 10 35 46",
          "02 17 20 27 28",
          "03 11 12 14 21",
          "13 16 19 53 55",
          "04 15 29 43 56",
          "02 12 18 28 31",
          "18 29 38 43 47",
          "25 36 37 40 51",
          "01 09 23 27 33",
          "21 28 41 45 55",
          "01 27 28 35 40",
          "24 37 44 50 56",
          "26 32 35 43 52",
          "11 18 37 46 55",
          "02 27 31 39 40",
          "10 12 26 46 50",
          "09 15 24 28 31",
          "15 16 20 39 40",
          "04 25 34 43 44",
          "10 15 24 38 50",
          "14 39 47 48 53",
          "16 22 38 39 48",
          "02 04 13 17 36",
          "18 25 36 42 51",
          "04 11 22 48 50",
          "05 13 26 35 45",
          "05 24 37 47 52",
          "09 20 21 48 49",
          "15 20 24 36 44",
          "09 16 24 40 43",
          "05 23 38 39 54",
          "12 27 29 32 34",
          "04 08 10 14 51",
          "07 12 24 36 48",
          "02 04 09 15 42",
          "03 29 34 42 49",
          "09 18 21 37 55",
          "23 30 36 39 48",
          "09 13 26 30 35",
          "05 20 38 41 52",
          "05 17 31 36 56",
          "06 11 20 32 44",
          "09 15 21 26 45",
          "04 09 12 16 46",
          "12 14 16 31 50",
          "11 15 17 29 46",
          "07 34 49 54 55",
          "05 06 07 11 25",
          "25 27 35 38 39",
          "05 10 26 27 28",
          "20 29 35 45 53",
          "08 17 40 47 50",
          "03 08 21 50 52",
          "03 06 43 51 52",
          "04 17 24 25 48",
          "17 35 44 52 56",
          "01 28 34 42 50",
          "07 18 35 45 56",
          "06 12 15 32 42",
          "08 22 25 33 35",
          "04 05 26 37 56",
          "09 38 44 48 49",
          "03 12 19 22 40",
          "01 17 31 37 54",
          "02 09 28 51 53",
          "02 04 06 21 44",
          "04 10 18 28 50",
          "16 27 48 49 54",
          "29 30 32 35 41",
          "18 27 31 36 52",
          "26 29 33 39 46",
          "07 27 42 49 52",
          "02 21 25 45 50",
          "15 24 51 53 55",
          "09 33 51 53 56",
          "03 14 21 24 51",
          "17 31 34 45 51",
          "10 13 18 33 51",
          "13 17 25 45 55",
          "27 45 48 54 56",
          "07 13 37 46 51",
          "04 15 17 29 38",
          "05 18 23 31 38",
          "07 11 27 40 46",
          "08 21 29 34 37",
          "27 43 45 49 54",
          "08 22 27 49 50",
          "03 04 07 16 56",
          "10 11 35 37 50",
          "12 25 37 39 45",
          "17 30 39 52 53",
          "04 33 41 51 56",
          "20 23 28 30 46",
          "02 21 27 34 44",
          "27 31 32 36 47",
          "10 20 30 44 49",
          "03 33 35 39 45",
          "02 05 29 35 51",
          "06 08 27 40 41",
          "13 28 39 50 55",
          "18 20 31 36 43",
          "05 09 31 37 56",
          "04 07 19 21 38",
          "04 05 34 38 41",
          "08 13 27 28 52",
          "07 08 38 39 48",
          "01 10 22 23 38",
          "06 07 26 27 49",
          "10 20 45 51 53",
          "02 17 20 26 48",
          "14 16 17 33 47",
          "11 12 21 29 45",
          "01 22 39 42 46",
          "04 16 36 40 53",
          "04 14 29 54 56",
          "09 12 47 48 56",
          "11 31 34 44 52",
          "14 16 18 19 29",
          "02 15 25 48 53",
          "03 22 48 52 56",
          "10 31 45 50 54",
          "03 25 28 29 40",
          "23 41 46 47 52",
          "01 11 24 38 44",
          "02 17 22 30 31",
          "16 43 44 52 56",
          "15 18 39 48 53",
          "03 12 27 39 47",
          "10 16 31 48 50",
          "05 08 10 34 42",
          "19 26 28 37 52",
          "23 37 41 50 55",
          "14 20 41 47 53",
          "09 21 31 36 43",
          "02 07 20 34 50",
          "26 33 43 46 54",
          "20 21 40 47 56",
          "11 13 19 37 40",
          "15 20 23 26 30",
          "05 14 17 19 24",
          "03 11 20 29 39",
          "12 27 44 45 51",
          "12 13 15 17 50",
          "12 18 28 48 54",
          "06 13 33 34 42",
          "04 12 13 21 27",
          "11 36 37 41 55",
          "12 17 21 23 30",
          "01 02 13 19 27",
          "03 04 15 27 37",
          "01 10 12 32 36",
          "08 18 45 47 50",
          "01 31 33 34 50",
          "07 11 14 15 34",
          "02 15 18 20 39",
          "12 18 28 36 43",
          "16 19 39 44 49",
          "02 07 10 16 29",
          "11 30 40 48 52",
          "04 13 20 22 56",
          "07 13 30 33 54",
          "02 14 26 50 56",
          "06 17 24 43 55",
          "11 19 40 43 44",
          "04 13 20 29 48",
          "04 23 24 28 32",
          "04 10 26 32 41",
          "10 20 29 47 48",
          "10 13 20 28 36",
          "08 18 22 24 38",
          "11 12 17 21 23",
          "06 14 50 55 56",
          "03 04 14 18 27",
          "03 20 43 47 52",
          "02 28 38 42 55",
          "02 10 13 36 38",
          "03 08 21 28 52",
          "10 19 24 37 44",
          "24 29 37 48 50",
          "10 31 36 37 43",
          "09 10 13 31 50",
          "02 09 14 37 42",
          "02 07 18 32 53",
          "15 21 30 31 32",
          "04 19 26 28 39",
          "01 03 12 16 54",
          "19 25 34 46 53",
          "08 26 28 33 53",
          "09 26 28 35 38",
          "01 26 27 39 46",
          "07 14 31 51 54",
          "02 06 12 34 35",
          "05 09 34 43 47",
          "11 16 19 47 53",
          "06 11 12 18 56",
          "04 38 45 53 54",
          "23 27 33 44 46",
          "18 22 25 31 38",
          "11 20 26 46 53",
          "08 11 12 31 32",
          "15 16 27 40 52",
          "06 18 36 40 49",
          "10 12 13 35 56",
          "04 08 15 25 47",
          "04 22 42 46 53",
          "01 04 11 16 45",
          "02 15 17 33 35",
          "04 27 29 38 45",
          "05 09 21 35 38",
          "05 08 31 46 50",
          "14 33 48 49 50",
          "16 22 23 26 35",
          "06 20 29 48 55",
          "25 35 36 47 48",
          "08 09 17 32 34",
          "17 18 24 35 39",
          "05 06 07 30 45",
          "15 22 23 48 55",
          "04 05 17 19 50",
          "01 12 19 20 47",
          "08 10 15 23 41",
          "03 17 19 41 55",
          "14 19 21 42 45",
          "10 11 12 28 43",
          "14 33 34 54 56",
          "01 14 35 50 53",
          "22 24 31 52 54",
          "06 15 23 34 38",
          "13 14 35 36 53",
          "01 19 20 31 36",
          "06 40 45 50 56",
          "10 23 39 41 45",
          "22 23 33 39 48",
          "20 24 32 45 51",
          "03 18 46 51 53",
          "19 29 32 38 55",
          "09 10 11 33 51",
          "01 16 29 36 50",
          "06 18 26 37 41",
          "11 16 34 40 51",
          "03 33 39 47 53",
          "01 02 17 25 48",
          "10 17 19 45 48",
          "09 12 21 42 43",
          "05 07 14 28 56",
          "28 30 31 37 55",
          "20 23 41 49 53",
          "29 32 35 47 52",
          "18 21 27 37 38",
          "09 10 20 51 53",
          "12 29 46 47 51",
          "11 24 25 31 46",
          "10 14 40 49 51",
          "12 17 27 47 48",
          "12 17 30 35 47",
          "01 10 13 18 46",
          "01 02 22 37 50",
          "03 09 11 44 49",
          "16 29 30 46 56",
          "02 09 10 16 35",
          "23 31 32 39 56",
          "20 25 35 52 55",
          "08 10 22 47 48",
          "14 17 19 20 32",
          "06 24 28 33 42",
          "11 19 39 45 54",
          "09 43 51 54 55",
          "04 38 41 42 43",
          "05 15 53 54 56",
          "11 21 44 48 49",
          "02 03 27 30 47",
          "02 22 25 28 50",
          "25 44 48 49 55",
          "01 36 38 42 49",
          "07 12 19 23 31",
          "22 31 43 48 56",
          "06 23 41 45 56",
          "06 29 38 50 51",
          "27 31 32 40 52",
          "02 20 28 36 45",
          "03 19 21 44 45",
          "03 26 40 45 52",
          "05 15 19 23 38",
          "25 34 38 44 56",
          "13 35 42 45 54",
          "24 25 45 47 53",
          "06 21 35 37 38",
          "13 33 40 44 46",
          "13 31 49 52 56",
          "27 31 39 40 46",
          "26 30 32 33 44",
          "05 31 45 47 54",
          "02 16 22 29 50",
          "03 06 24 30 33",
          "04 13 33 39 55",
          "04 16 23 33 48",
          "22 28 42 49 54",
          "17 29 43 48 52",
          "24 30 48 51 56",
          "07 21 29 35 49",
          "04 12 29 49 51",
          "05 06 22 26 41",
          "02 04 26 36 39",
          "20 24 27 45 51",
          "03 05 08 18 29",
          "23 32 33 39 43",
          "04 24 45 46 52",
          "02 03 15 22 36",
          "09 17 28 34 48",
          "04 10 16 38 48",
          "10 27 28 37 51",
          "03 15 31 36 53",
          "01 09 28 38 47",
          "10 22 24 36 49",
          "03 05 30 36 48",
          "09 17 18 28 43",
          "07 19 21 49 53",
          "17 23 30 37 45",
          "03 04 18 29 50",
          "03 05 10 26 27",
          "16 25 28 32 40",
          "09 30 39 42 47",
          "01 16 18 25 27",
          "06 15 29 39 51",
          "16 29 48 52 54",
          "20 24 31 33 36",
          "09 10 27 36 42",
          "02 08 30 36 48",
          "28 29 43 51 53",
          "01 04 06 11 14",
          "06 17 19 20 21",
          "09 19 34 44 51",
          "02 04 23 38 46",
          "11 35 38 41 52",
          "02 19 20 24 33",
          "02 06 12 31 48",
          "09 14 17 36 42",
          "01 16 24 32 48",
          "14 23 26 33 35",
          "03 09 15 37 38",
          "02 05 45 46 47",
          "24 27 31 45 52",
          "04 11 21 42 53",
          "02 06 08 18 51",
          "03 15 29 35 54",
          "10 11 12 14 24",
          "03 11 22 34 49",
          "10 14 35 43 52",
          "09 15 21 40 54",
          "02 14 29 53 55",
          "02 27 38 46 52",
          "37 39 42 53 55",
          "04 09 34 40 48",
          "02 09 17 34 50",
          "08 12 18 30 40",
          "11 21 27 30 53",
          "10 16 19 32 36",
          "03 16 23 35 36",
          "28 34 39 45 53",
          "03 04 24 36 52",
          "20 23 28 35 39",
          "03 11 19 23 36",
          "06 07 13 24 46",
          "01 13 21 49 55",
          "02 44 48 50 52",
          "05 09 38 46 51",
          "02 03 04 08 43",
          "05 18 21 29 41",
          "02 10 13 38 46",
          "30 32 33 42 48",
          "10 18 36 38 44",
          "15 23 34 39 55",
          "08 20 24 35 56",
          "05 13 20 23 33",
          "25 34 45 46 49",
          "04 09 40 45 50",
          "31 40 41 47 48",
          "16 32 39 41 53",
          "15 32 38 42 46",
          "05 11 20 33 36",
          "16 17 21 40 51",
          "05 09 22 36 49",
          "03 13 14 46 55",
          "07 08 23 50 51",
          "06 08 14 43 56",
          "10 11 20 42 55",
          "08 09 16 32 39",
          "06 15 16 22 37",
          "06 10 24 26 42",
          "13 37 40 46 52",
          "14 34 36 48 53",
          "01 17 42 46 55",
          "04 15 24 36 40",
          "05 12 18 29 56",
          "04 18 22 38 44",
          "03 05 13 32 35",
          "18 22 33 35 40",
          "06 12 31 46 56",
          "05 24 26 29 53",
          "09 13 22 38 52",
          "08 37 44 47 48",
          "05 12 26 42 49",
          "11 22 24 28 31",
          "03 19 24 32 43",
          "07 43 44 51 56",
          "39 44 51 52 54",
          "11 28 33 41 43",
          "01 06 07 18 29",
          "03 18 32 41 56",
          "02 03 18 34 48",
          "10 13 32 40 41",
          "04 11 21 25 44",
          "01 02 23 25 55",
          "03 20 21 38 42",
          "24 29 30 34 56",
          "01 06 12 19 41",
          "08 18 25 42 49",
          "07 11 16 39 54",
          "11 12 17 31 48",
          "08 12 27 46 47",
          "01 30 32 40 41",
          "02 05 10 26 44",
          "06 15 20 39 50",
          "09 22 32 38 55",
          "11 35 41 42 44",
          "01 15 19 30 56",
          "09 13 24 38 49",
          "06 07 13 15 43",
          "17 30 38 43 51",
          "06 20 39 41 46",
          "04 11 25 34 35",
          "09 12 19 20 30",
          "04 08 17 22 32",
          "03 06 14 21 37",
          "14 27 34 37 41",
          "20 33 46 49 51",
          "25 31 36 46 53",
          "07 10 14 40 47",
          "08 15 23 36 41",
          "17 30 41 48 54",
          "01 10 13 19 21",
          "02 05 15 18 39",
          "06 08 12 22 43",
          "09 21 22 32 50",
          "17 42 49 54 55",
          "21 30 34 39 49",
          "02 20 34 42 54",
          "01 06 13 20 51",
          "01 19 20 39 49",
          "06 10 12 28 32",
          "11 15 35 43 49",
          "02 15 17 48 55",
          "04 05 16 18 53",
          "04 12 25 32 54",
          "02 20 26 44 46",
          "10 11 12 20 55",
          "01 10 37 48 55",
          "15 40 45 50 53",
          "02 05 31 33 34",
          "06 17 34 40 48",
          "03 14 17 40 50",
          "03 05 28 33 51",
          "08 15 35 46 52",
          "36 42 51 52 53",
          "02 23 41 47 54",
          "03 21 43 45 48",
          "04 05 25 27 51",
          "10 14 21 40 53",
          "16 20 24 39 42",
          "25 32 35 50 51",
          "04 22 23 27 38",
          "25 27 36 42 44",
          "08 21 23 25 39",
          "01 11 16 51 55",
          "11 20 30 34 38",
          "02 31 32 37 41",
          "07 13 26 36 46",
          "13 28 35 38 41",
          "01 09 17 20 53",
          "04 07 30 36 38",
          "06 19 24 43 44",
          "04 13 14 28 41",
          "02 16 17 22 41",
          "02 12 18 54 56",
          "09 22 28 48 54",
          "06 15 27 31 39",
          "01 15 20 21 47",
          "04 11 32 39 40",
          "09 23 27 49 51",
          "07 10 30 37 53",
          "04 16 24 25 44",
          "06 15 19 23 40",
          "03 27 37 45 48",
          "04 23 30 43 50",
          "02 03 19 52 71",
          "06 16 45 54 60",
          "20 33 50 53 54",
          "32 35 49 62 67",
          "02 11 42 64 74",
          "41 42 51 57 65",
          "20 30 32 42 71",
          "25 44 49 54 63",
          "14 15 29 49 63",
          "17 23 35 36 44",
          "27 44 59 74 75",
          "09 41 43 47 57",
          "07 12 41 44 59",
          "11 29 44 63 64",
          "05 12 22 41 65",
          "19 24 26 27 70",
          "08 14 17 20 39",
          "03 04 31 49 57",
          "23 34 53 58 73",
          "04 15 35 48 49",
          "08 12 34 52 58",
          "22 24 25 40 70",
          "13 34 56 62 64",
          "08 28 36 37 57",
          "04 23 26 62 69",
          "01 10 26 31 51",
          "08 23 33 45 52",
          "22 45 46 47 65",
          "07 16 28 53 60",
          "03 09 13 47 52",
          "25 44 49 60 73",
          "11 21 23 35 64",
          "43 64 67 71 73",
          "20 28 35 71 72",
          "23 29 31 37 70",
          "23 29 32 45 46",
          "12 18 25 35 66",
          "03 31 50 58 59",
          "10 29 31 35 45",
          "11 13 51 57 69",
          "09 14 56 57 69",
          "07 20 40 54 69",
          "11 19 24 33 51",
          "02 23 30 35 53",
          "19 26 51 57 73",
          "02 03 09 50 73",
          "10 23 68 74 75",
          "01 10 15 41 54",
          "35 36 41 60 71",
          "03 42 44 47 57",
          "04 39 46 47 70",
          "18 25 38 45 63",
          "02 18 19 49 50",
          "03 11 18 20 66",
          "07 43 59 61 66",
          "01 18 26 35 40",
          "18 20 27 48 51",
          "10 28 39 51 59",
          "37 46 48 70 74",
          "13 14 16 50 56",
          "10 40 63 64 69",
          "12 14 21 38 70",
          "01 06 10 46 58",
          "10 13 42 43 62",
          "19 28 62 66 74",
          "12 29 37 49 72",
          "02 10 24 26 74",
          "07 38 46 49 56",
          "10 14 24 47 60",
          "01 22 25 29 56",
          "13 17 24 47 65",
          "15 29 31 46 64",
          "09 22 38 47 49",
          "16 33 39 58 69",
          "14 25 27 48 49",
          "09 13 30 35 69",
          "02 04 17 36 40",
          "05 08 59 65 72",
          "14 18 22 31 47",
          "22 29 33 41 68",
          "02 08 16 43 74",
          "13 29 34 37 72",
          "25 28 36 45 53",
          "09 16 61 70 75",
          "32 53 60 63 68",
          "16 19 28 29 68",
          "22 39 56 67 71",
          "05 31 34 41 74",
          "29 31 51 60 64",
          "03 26 45 58 73",
          "01 08 54 69 72",
          "07 12 20 24 59",
          "25 34 55 70 71",
          "18 28 33 36 42",
          "25 45 51 53 73",
          "16 25 27 29 34",
          "21 24 25 40 43",
          "17 26 35 46 62",
          "03 16 52 54 61",
          "03 20 34 58 67",
          "16 29 46 48 55",
          "02 32 35 50 59",
          "11 37 46 64 68",
          "21 31 43 56 60",
          "05 35 37 41 66",
          "02 14 21 28 55",
          "03 50 57 58 60",
          "11 29 36 58 67",
          "09 15 24 39 41",
          "31 35 41 65 66",
          "23 25 28 30 75",
          "03 49 61 62 68",
          "37 39 53 68 75",
          "03 12 35 37 63",
          "10 11 29 47 56",
          "08 26 29 36 47",
          "13 18 22 49 62",
          "04 05 11 51 59",
          "27 45 49 51 52",
          "02 31 46 58 65",
          "41 58 68 72 73",
          "14 18 58 59 68",
          "04 10 31 56 66",
          "02 05 10 20 38",
          "03 07 44 63 67",
          "13 15 35 62 74",
          "12 20 27 38 75",
          "37 49 50 56 57",
          "12 20 25 50 51",
          "26 32 44 45 58",
          "31 35 56 59 63",
          "14 15 32 68 72",
          "05 26 27 44 57",
          "18 31 39 45 55",
          "11 22 25 58 69",
          "05 06 17 33 68",
          "07 42 53 58 71",
          "04 20 44 65 74",
          "06 45 50 65 66",
          "02 06 08 52 66",
          "15 23 26 45 66",
          "07 49 53 60 64",
          "09 11 42 44 50",
          "30 48 55 68 73",
          "10 14 19 30 73",
          "08 22 30 42 45",
          "11 27 44 45 58",
          "07 50 54 61 75",
          "02 23 32 45 55",
          "17 21 36 58 70",
          "08 26 41 61 73",
          "10 36 47 63 74",
          "05 15 22 26 64",
          "06 11 32 46 68",
          "03 07 25 68 71",
          "15 18 29 41 50",
          "31 33 35 41 69",
          "24 25 29 47 67",
          "22 27 55 58 63",
          "17 18 61 66 74",
          "11 21 42 62 71",
          "09 21 25 66 72",
          "14 30 33 36 44",
          "11 17 21 36 74",
          "10 12 21 29 65",
          "03 14 15 25 48",
          "01 39 52 69 72",
          "20 27 38 49 66",
          "02 09 11 22 23",
          "07 22 27 41 49",
          "06 16 17 25 36",
          "01 40 42 56 62",
          "08 19 26 56 67",
          "04 35 36 52 68",
          "06 13 38 56 70",
          "12 23 33 47 50",
          "11 17 34 43 50",
          "33 50 64 71 72",
          "06 15 16 28 49",
          "24 27 45 51 54",
          "19 24 30 35 72",
          "06 17 30 31 41",
          "20 30 62 65 74",
          "10 12 26 60 62",
          "08 35 61 68 75",
          "28 32 33 40 46",
          "02 19 44 51 57",
          "01 38 53 63 66",
          "03 08 29 57 68",
          "12 15 20 52 71",
          "02 07 33 39 53",
          "13 15 21 41 72",
          "05 44 54 59 63",
          "13 35 40 60 68",
          "02 05 35 40 54",
          "17 21 39 52 57",
          "19 20 36 41 46",
          "05 11 31 50 67",
          "07 20 35 49 56",
          "17 34 35 51 65",
          "28 30 38 45 51",
          "03 08 38 51 64",
          "08 21 30 61 62",
          "04 14 29 31 47",
          "17 58 63 64 66",
          "08 09 21 63 75",
          "07 09 24 38 52",
          "02 38 48 61 68",
          "06 25 35 38 52",
          "25 32 37 45 70",
          "09 26 27 29 74",
          "17 41 51 53 56",
          "16 29 44 69 74",
          "10 31 35 50 72",
          "08 17 20 45 71",
          "17 18 31 35 59",
          "12 14 18 24 61",
          "09 12 29 37 67",
          "02 19 30 38 70",
          "16 20 39 56 59",
          "05 07 25 50 59",
          "26 42 47 61 73",
          "07 17 37 49 73",
          "14 20 43 54 69",
          "18 25 47 51 61",
          "06 23 24 28 62",
          "11 21 40 50 70",
          "15 25 29 44 51",
          "20 25 55 62 74",
          "07 18 37 38 39",
          "01 04 36 48 57",
          "11 39 51 57 75",
          "15 27 29 31 48",
          "29 41 53 54 70",
          "02 17 31 39 47",
          "21 25 40 46 56",
          "14 27 39 50 69",
          "20 28 49 51 52",
          "07 13 25 51 70",
          "04 06 23 55 75",
          "03 42 46 56 71",
          "01 07 44 68 73",
          "09 31 33 46 64",
          "02 27 41 50 75",
          "16 32 39 53 57",
          "03 15 19 62 74",
          "01 29 33 34 55",
          "21 26 33 48 73",
          "27 37 54 66 69",
          "14 18 48 54 71",
          "18 26 30 44 68",
          "05 08 57 59 73",
          "06 19 34 38 70",
          "04 11 12 35 46",
          "33 38 40 46 49",
          "25 28 33 41 69",
          "13 45 52 53 57",
          "31 38 52 65 71",
          "07 11 59 62 63",
          "09 10 34 37 73",
          "09 28 40 57 65",
          "02 19 21 42 60",
          "14 16 17 28 48",
          "05 06 37 55 74",
          "28 29 33 36 45",
          "14 26 27 32 36",
          "12 22 46 56 74",
          "20 21 38 54 66",
          "17 24 27 48 75",
          "19 24 26 40 68",
          "11 50 51 70 75",
          "18 41 50 68 70",
          "09 31 34 41 49",
          "32 54 65 66 71",
          "25 48 51 65 72",
          "34 61 66 67 68",
          "36 37 38 52 62",
          "20 23 30 44 59",
          "06 13 21 49 50",
          "11 14 54 57 63",
          "15 17 20 35 55",
          "20 41 42 45 49",
          "29 46 53 64 73",
          "08 19 20 55 73",
          "06 08 22 46 68",
          "16 51 52 56 58",
          "03 34 54 65 66",
          "08 24 25 26 30",
          "01 04 31 36 54",
          "11 16 19 31 48",
          "03 12 36 54 70",
          "05 18 28 54 74",
          "12 19 20 44 66",
          "04 41 44 56 69",
          "02 43 52 62 63",
          "22 37 45 65 73",
          "02 07 46 61 66",
          "10 11 31 41 44",
          "28 32 41 51 71",
          "22 28 41 46 60",
          "25 37 58 69 75",
          "01 34 43 44 63",
          "06 15 17 39 56",
          "13 21 28 34 40",
          "02 22 34 62 72",
          "01 05 08 25 62",
          "14 16 26 53 72",
          "21 30 47 50 57",
          "18 29 30 54 66",
          "24 37 42 50 65",
          "36 39 42 45 48",
          "07 27 60 64 74",
          "07 24 28 65 74",
          "12 43 44 48 66",
          "08 09 24 49 67",
          "07 38 46 57 66",
          "19 24 31 39 45",
          "10 29 32 44 46",
          "46 48 53 61 74",
          "16 40 47 53 59",
          "09 17 23 57 71",
          "31 32 49 55 58",
          "01 43 45 66 69",
          "44 47 49 69 75",
          "22 33 49 51 59",
          "03 33 35 49 51",
          "13 34 48 53 63",
          "19 27 47 67 68",
          "02 15 26 34 41",
          "01 08 15 36 43",
          "01 12 14 48 65",
          "21 30 39 60 69",
          "02 28 30 38 39",
          "06 21 33 39 43",
          "14 16 23 49 53",
          "06 10 44 47 54",
          "11 20 40 41 59",
          "10 44 58 74 75",
          "20 31 54 56 59",
          "07 09 24 41 53",
          "08 42 54 63 67",
          "17 37 53 54 61",
          "03 14 27 62 72",
          "03 06 29 30 64",
          "23 28 37 56 71",
          "32 39 51 62 75",
          "07 11 33 60 68",
          "04 56 58 67 75",
          "09 21 30 32 75",
          "12 29 33 42 68",
          "20 33 45 58 69",
          "14 26 39 48 51",
          "03 30 45 53 68",
          "26 38 42 58 70",
          "16 23 28 33 59",
          "11 27 31 58 60",
          "04 45 53 73 75",
          "05 28 37 61 69",
          "30 33 35 37 46",
          "17 24 27 32 58",
          "13 24 34 35 55",
          "30 33 43 47 69",
          "19 34 35 38 49",
          "05 10 55 60 73",
          "08 29 30 43 64",
          "01 12 13 32 34",
          "03 13 33 40 50",
          "06 13 18 20 31",
          "05 14 42 43 58",
          "04 23 33 47 53",
          "06 29 45 69 73",
          "28 34 41 42 47",
          "04 35 39 56 72",
          "01 04 05 24 30",
          "06 13 17 33 60",
          "25 26 28 37 56",
          "05 20 32 37 67",
          "07 42 57 69 72",
          "03 05 16 49 75",
          "03 16 28 33 37",
          "27 51 62 68 75",
          "18 22 26 30 44",
          "02 15 41 49 63",
          "12 20 53 66 74",
          "04 21 45 52 57",
          "10 38 51 55 64",
          "16 39 47 53 71",
          "02 09 11 28 60",
          "07 18 24 55 74",
          "11 12 24 32 73",
          "08 12 23 51 73",
          "18 31 36 50 74",
          "02 05 26 58 60",
          "04 06 31 49 52",
          "20 22 52 57 73",
          "09 17 25 63 71",
          "11 17 50 52 74",
          "23 33 53 56 58",
          "07 16 20 66 73",
          "01 31 34 40 75",
          "24 35 46 50 51",
          "17 38 42 51 65",
          "02 13 17 35 73",
          "04 13 31 50 64",
          "11 17 59 70 72",
          "04 05 14 26 73",
          "26 37 41 54 65",
          "18 24 34 38 58",
          "09 28 31 50 61",
          "05 39 54 63 66",
          "01 10 57 66 75",
          "25 51 62 73 74",
          "12 18 19 25 67",
          "21 33 36 45 56",
          "07 16 24 61 62",
          "02 07 18 26 31",
          "31 45 49 56 70",
          "06 23 63 66 73",
          "20 24 34 56 64",
          "17 27 41 51 52",
          "06 28 31 52 53",
          "10 22 42 61 69",
          "01 54 60 68 69",
          "06 23 38 42 58",
          "01 14 21 22 28",
          "03 26 55 58 70",
          "03 07 22 27 50",
          "16 36 54 61 64",
          "10 17 47 51 61",
          "16 22 40 41 59",
          "14 15 37 42 67",
          "06 37 46 60 70",
          "08 23 24 25 27",
          "04 12 36 44 57",
          "28 37 39 42 58",
          "01 20 30 33 42",
          "10 12 20 38 41",
          "04 10 18 28 62",
          "01 42 47 64 70",
          "28 30 39 59 70",
          "16 29 31 65 67",
          "17 18 33 46 60",
          "03 11 23 29 59",
          "03 17 23 49 66",
          "02 06 30 31 55",
          "10 16 27 38 43",
          "29 41 42 49 57",
          "01 04 14 17 40",
          "14 17 25 48 58",
          "28 34 41 46 47",
          "05 12 15 46 49",
          "14 38 48 53 58",
          "17 19 23 24 43",
          "07 11 13 19 58",
          "10 17 21 38 43",
          "24 28 42 60 64",
          "01 04 26 35 39",
          "07 17 18 46 66",
          "06 30 58 60 61",
          "01 13 26 33 52",
          "14 38 51 64 70",
          "04 08 23 53 59",
          "07 25 43 56 59",
          "11 28 31 46 59",
          "04 29 39 42 62",
          "16 33 51 54 67",
          "05 13 31 43 53",
          "08 09 32 42 59",
          "12 34 44 47 65",
          "01 15 18 32 45",
          "03 19 31 32 48",
          "02 29 38 63 66",
          "02 07 20 55 70",
          "04 05 10 12 18",
          "08 15 39 64 67",
          "14 38 40 53 70",
          "21 34 44 49 61",
          "09 26 53 64 66",
          "16 17 21 36 48",
          "11 14 51 64 68",
          "02 11 55 58 67",
          "05 24 52 62 66",
          "22 33 41 48 52",
          "14 30 33 44 56",
          "01 03 05 08 70",
          "01 11 37 47 51",
          "11 13 28 65 70",
          "02 06 11 27 44",
          "17 25 29 39 60",
          "02 32 47 49 68",
          "13 35 45 49 68",
          "02 10 46 50 56",
          "01 17 28 56 70",
          "21 22 39 59 68",
          "40 41 61 66 67",
          "01 14 30 44 62",
          "01 02 04 19 29",
          "01 32 40 49 63",
          "12 15 35 64 69",
          "09 28 30 54 60",
          "02 13 15 21 62",
          "01 03 12 22 42",
          "11 26 44 45 46",
          "01 31 32 47 56",
          "14 16 19 38 57",
          "01 06 13 18 49",
          "03 20 33 34 41",
          "07 18 29 32 45",
          "02 07 25 35 44",
          "08 10 41 54 68",
          "15 30 51 62 67",
          "23 30 40 43 66",
          "31 32 43 63 68",
          "01 02 11 52 64",
          "08 16 32 48 61",
          "39 45 52 56 59",
          "02 22 29 31 34",
          "27 28 32 41 69",
          "20 22 39 54 60",
          "04 24 46 61 70",
          "03 45 49 61 69",
          "15 23 53 65 70",
          "05 28 62 65 70",
          "01 28 61 62 63",
          "20 31 39 46 49",
          "03 23 28 46 62",
          "28 34 37 56 69",
          "08 14 27 57 67",
          "34 46 57 65 69",
          "33 36 63 68 69",
          "10 16 31 42 66",
          "07 10 30 33 59",
          "12 24 37 42 57",
          "25 28 40 43 63",
          "28 31 41 42 50",
          "04 10 20 33 57",
          "04 38 39 54 59",
          "05 22 26 43 49",
          "13 22 32 60 69",
          "10 13 61 62 70",
          "02 08 42 43 50",
          "09 10 25 37 38",
          "34 44 57 62 70",
          "21 29 35 54 60",
          "13 26 29 38 64",
          "04 05 31 62 69",
          "29 52 58 60 62",
          "02 43 48 62 64",
          "04 15 37 59 64",
          "08 16 30 38 61",
          "10 33 53 54 62",
          "02 37 48 66 68",
          "03 34 36 59 66",
          "14 24 31 42 48",
          "15 32 39 50 65",
          "10 38 40 43 65",
          "17 24 34 56 65",
          "18 24 31 34 55",
          "10 12 14 24 60",
          "29 33 39 60 66",
          "15 20 32 37 52",
          "04 09 42 62 68",
          "10 12 16 49 57",
          "03 29 56 62 64",
          "10 42 53 67 68",
          "07 36 58 60 62",
          "04 14 22 43 58",
          "05 14 15 62 66",
          "33 47 58 59 64",
          "08 22 24 38 64",
          "11 22 34 44 58",
          "01 24 25 40 70",
          "11 29 34 48 54",
          "18 25 43 44 57",
          "07 24 30 48 67",
          "09 17 23 30 46",
          "24 37 41 61 70",
          "08 16 22 66 68",
          "03 06 34 54 63",
          "03 16 21 61 62",
          "11 59 66 67 68",
          "05 17 28 32 63",
          "10 50 55 56 58",
          "14 41 44 56 62",
          "09 21 34 42 50",
          "07 08 26 65 67",
          "25 37 46 48 68",
          "17 19 27 40 68",
          "20 34 39 43 57",
          "19 40 47 57 65",
          "12 14 22 24 48",
          "13 30 36 48 62",
          "24 33 45 47 61",
          "02 35 49 53 63",
          "03 25 37 40 55",
          "06 38 47 57 63",
          "12 26 40 48 64",
          "08 25 38 56 59",
          "08 16 31 48 52",
          "16 18 28 33 67",
          "01 04 23 40 45",
          "04 06 11 43 48",
          "10 24 28 33 38",
          "11 20 26 48 70",
          "11 17 31 43 55",
          "15 53 56 59 63",
          "07 27 31 34 51",
          "04 14 24 26 46",
          "08 14 25 51 63",
          "11 15 37 54 68",
          "08 12 23 39 43",
          "03 09 11 34 39",
          "13 20 27 61 62",
          "04 11 13 19 31",
          "34 47 48 50 55",
          "06 16 37 59 62",
          "12 15 30 50 65",
          "23 24 42 48 53",
          "06 14 24 42 46",
          "12 20 31 43 45",
          "10 17 39 42 59",
          "11 38 44 48 70",
          "05 08 10 17 48",
          "14 22 30 37 60",
          "04 12 14 35 70",
          "18 58 60 65 67",
          "05 11 14 23 25",
          "16 24 25 52 60",
          "04 09 17 27 39",
          "09 20 36 41 54",
          "02 09 24 49 54",
          "03 04 10 39 58",
          "19 30 44 56 65",
          "12 19 34 35 68",
          "22 43 44 47 66",
          "07 12 17 49 53",
          "08 27 29 38 43",
          "06 08 31 50 65",
          "23 43 60 63 69",
          "20 31 40 46 61",
          "18 31 46 54 61",
          "17 21 29 39 56",
          "22 30 53 55 56",
          "03 20 23 35 60",
          "27 37 48 63 66",
          "17 34 40 63 64",
          "30 44 49 53 56",
          "37 41 42 53 63",
          "25 40 41 52 56",
          "17 27 49 51 66",
          "09 11 13 31 47",
          "03 25 30 54 70",
          "16 18 29 31 37",
          "03 04 18 23 38",
          "17 36 47 51 62",
          "28 31 33 57 62",
          "32 48 50 51 64",
          "09 14 27 36 52",
          "04 06 32 52 64",
          "10 32 48 54 55",
          "06 12 39 61 70",
          "04 07 13 16 60",
          "02 09 43 49 63",
          "02 03 14 41 64",
          "08 12 33 56 64",
          "15 48 56 58 70",
          "06 17 48 54 69",
          "07 22 37 43 44",
          "20 27 28 58 59",
          "34 35 41 45 54",
          "02 08 16 18 31",
          "03 25 28 50 60",
          "08 17 51 57 70",
          "24 38 44 57 58",
          "25 33 43 51 68",
          "02 11 21 57 60",
          "29 47 65 69 70",
          "13 35 39 46 55",
          "13 15 24 67 70",
          "01 27 32 60 67",
          "13 19 53 54 63",
          "28 30 31 35 66",
          "07 13 17 21 45",
          "05 20 22 61 70",
          "07 16 27 44 52",
          "11 17 32 33 46",
          "08 19 25 36 66",
          "08 10 20 44 46",
          "34 52 58 59 62",
          "10 13 32 41 51",
          "09 20 23 26 29",
          "32 35 37 47 55",
          "01 05 09 10 23",
          "09 14 57 67 70",
          "21 23 33 35 42",
          "11 34 36 52 66",
          "06 20 37 40 48",
          "19 33 37 56 57",
          "09 16 29 37 53",
          "20 40 44 45 50",
          "16 20 25 30 43",
          "10 15 20 49 53",
          "06 26 55 56 64",
          "12 13 21 46 57",
          "14 25 26 41 43",
          "08 33 39 54 58",
          "17 20 27 31 34",
          "12 35 46 48 69",
          "02 22 30 42 62",
          "04 44 53 64 70",
          "08 22 29 43 56",
          "03 24 29 42 47",
          "04 18 26 27 58",
          "11 15 31 42 63",
          "08 10 15 17 57",
          "03 09 50 53 64",
          "15 25 26 38 47",
          "19 22 24 28 53",
          "07 10 15 31 57",
          "03 15 42 48 56",
          "25 28 38 59 62",
          "26 29 41 52 64",
          "36 43 44 55 68",
          "20 36 37 48 67",
          "14 39 43 44 67",
          "09 38 47 49 68",
          "15 16 18 39 59",
          "05 11 25 27 64",
          "11 44 45 46 70",
          "27 32 50 52 57",
          "46 54 57 58 66",
          "18 34 44 60 69",
          "06 13 34 46 62",
          "14 19 34 39 59",
          "07 31 44 45 55",
          "18 24 27 34 60",
          "23 45 53 58 62",
          "06 07 14 28 59",
          "08 13 35 46 68",
          "26 33 45 61 68",
          "09 15 34 61 64",
          "04 10 27 35 58",
          "07 33 53 61 65",
          "03 19 24 44 50",
          "15 19 33 39 68",
          "19 31 37 55 67",
          "01 10 18 20 46",
          "07 15 25 51 60",
          "29 53 56 59 67",
          "17 23 36 69 70",
          "01 31 35 48 62",
          "08 24 53 68 69",
          "20 43 51 55 57",
          "03 06 16 18 58",
          "12 14 26 28 33",
          "03 11 12 38 43",
          "10 19 26 28 50",
          "04 26 42 50 60",
          "29 49 56 66 67",
          "04 44 58 59 70",
          "13 37 38 40 67",
          "14 17 28 29 44",
          "07 18 21 31 40",
          "05 14 24 25 27",
          "01 36 44 54 66",
          "27 32 47 50 53",
          "05 07 09 20 57",
          "11 15 37 62 64",
          "04 08 13 34 64",
          "10 11 17 27 54",
          "04 33 46 58 65",
          "02 24 25 31 65",
          "10 41 46 52 69",
          "09 14 40 58 69",
          "12 23 35 38 55",
          "04 25 37 46 67",
          "11 37 47 53 56",
          "10 42 48 53 62",
          "01 19 20 32 42",
          "22 26 27 58 66",
          "10 15 19 45 68",
          "17 27 28 50 55",
          "06 23 43 49 52",
          "04 28 29 30 60",
          "15 22 30 41 42",
          "08 19 26 48 49",
          "04 27 32 57 63",
          "05 10 19 21 50",
          "07 08 20 36 39",
          "03 18 41 44 68",
          "03 05 56 61 66",
          "06 09 17 18 48",
          "14 21 31 34 54",
          "10 14 20 47 70",
          "07 11 33 58 63",
          "04 30 34 41 64",
          "09 22 39 41 54",
          "04 43 56 63 68",
          "18 22 27 38 52",
          "14 36 44 46 53",
          "01 26 48 51 59",
          "17 20 42 45 65",
          "07 38 50 52 69",
          "08 31 32 34 45",
          "18 47 63 68 69",
          "06 37 39 41 46",
          "03 10 17 26 55",
          "24 25 47 52 57",
          "10 26 30 52 57",
          "13 17 19 40 69",
          "02 35 36 54 64",
          "19 26 31 52 68",
          "01 09 17 27 34",
          "09 18 40 46 69",
          "29 45 50 59 62",
          "17 21 35 40 53",
          "03 06 16 38 56",
          "41 43 51 57 70",
          "17 18 26 52 67",
          "01 10 44 47 56",
          "08 14 31 58 68",
          "07 10 12 61 65",
          "15 17 25 32 53",
          "20 32 35 47 64",
          "04 13 19 63 64",
          "17 32 40 59 61",
          "36 41 45 51 56",
          "17 21 27 43 56",
          "18 30 43 68 69",
          "21 25 36 62 63",
          "07 11 18 30 36",
          "21 24 36 40 70",
          "21 26 56 61 65",
          "03 20 31 34 65",
          "03 12 13 19 52",
          "09 14 26 29 66",
          "06 14 19 56 62",
          "15 26 28 35 45",
          "05 10 26 58 65",
          "10 15 20 66 68",
          "09 14 16 26 49",
          "30 32 42 46 48",
          "06 22 44 53 65",
          "05 23 52 53 59",
          "07 24 54 57 58",
          "07 27 37 42 59",
          "07 08 26 30 39",
          "22 45 48 58 61",
          "01 07 40 43 68",
          "23 25 40 42 60",
          "33 35 44 55 69",
          "21 32 38 48 62",
          "25 31 58 64 67",
          "16 17 25 36 37",
          "03 05 08 31 38",
          "02 05 30 46 61",
          "04 06 16 21 22",
          "07 29 43 56 57",
          "02 03 19 52 58",
          "05 08 13 22 48",
          "04 19 39 42 52",
          "38 45 46 55 67",
          "03 12 38 53 58",
          "03 16 25 44 55",
          "11 24 38 62 66",
          "07 16 34 44 61",
          "01 17 20 52 54",
          "11 16 23 24 30",
          "02 04 15 21 63",
          "06 11 50 63 68",
          "06 17 22 57 62",
          "15 31 40 56 66",
          "18 22 38 39 50",
          "11 19 28 46 47",
          "07 18 38 58 64",
          "24 28 39 44 66",
          "09 14 28 59 60",
          "02 06 25 40 45",
          "08 15 21 27 61",
          "03 13 42 51 58",
          "07 22 36 45 47",
          "26 42 47 48 63",
          "22 43 60 63 64",
          "08 11 29 32 40",
          "02 08 14 20 31",
          "04 17 20 46 64",
          "02 09 33 47 53",
          "07 28 29 58 59",
          "05 07 19 46 69",
          "09 11 34 49 66",
          "15 19 27 35 57",
          "16 21 33 52 70",
          "15 19 20 61 70",
          "11 41 43 44 65",
          "07 21 24 41 65",
          "33 40 59 60 69",
          "03 05 06 63 68",
          "03 14 40 53 54",
          "06 15 41 63 64",
          "11 16 22 48 59",
          "04 34 40 41 53",
          "03 12 14 18 32",
          "30 37 38 42 58",
          "20 36 53 56 69",
          "08 13 18 32 42",
          "01 07 11 25 56",
          "07 12 21 43 55",
          "01 27 29 38 62",
          "27 31 50 51 61",
          "20 36 61 62 69",
          "04 07 10 45 64",
          "08 20 26 53 64",
          "02 31 32 37 70",
          "14 40 60 64 66",
          "07 29 60 63 66",
          "13 36 45 57 67",
          "10 14 25 37 63",
          "02 05 29 64 69",
          "01 08 10 25 32",
          "23 24 50 54 64",
          "33 35 41 45 51",
          "12 18 24 46 65",
          "03 05 47 48 67",
          "06 27 30 38 64",
          "02 38 55 57 65",
          "39 40 52 60 67",
          "06 17 46 59 68",
          "16 21 54 55 69",
          "14 25 38 59 64",
          "15 30 35 38 66",
          "09 21 28 30 52",
          "05 50 53 58 64",
          "08 14 24 43 51",
          "16 26 37 40 51",
          "15 18 25 33 38",
          "06 11 29 36 55",
          "03 07 11 13 38",
          "09 22 26 41 44",
          "01 15 20 44 67",
          "34 36 43 45 68",
          "21 30 35 45 66",
          "04 18 31 53 69",
          "05 09 15 16 17",
          "02 20 47 55 59",
          "05 13 29 38 59",
          "01 05 17 37 70",
          "06 19 28 46 61",
          "02 14 16 38 66",
          "13 23 24 25 43",
          "29 31 46 54 67",
          "20 23 37 46 52",
          "01 21 36 46 52",
          "15 16 19 28 47",
          "08 19 53 61 69",
          "14 22 48 58 68",
          "08 35 40 53 56",
          "03 04 33 36 52",
          "15 21 32 38 62",
          "09 13 36 59 61",
          "01 03 06 44 51",
          "25 29 33 41 44",
          "03 20 46 59 63",
          "07 13 14 15 18",
          "30 43 45 46 61",
          "02 12 18 24 39",
          "20 29 31 64 66",
          "33 41 47 50 62",
          "04 43 46 47 61",
          "07 09 18 29 39",
          "01 04 50 54 59",
          "09 15 46 55 57",
          "20 29 30 52 58",
          "23 24 35 40 43",
          "02 33 38 57 70",
          "02 15 30 36 63",
          "02 22 49 65 67",
          "14 16 40 52 59",
          "08 25 36 39 67",
          "15 22 25 28 69",
          "09 20 59 60 63",
          "01 07 23 38 55",
          "26 28 29 39 49",
          "01 21 25 27 40",
          "14 17 33 42 66",
          "02 03 18 32 68",
          "16 26 27 42 61",
          "01 37 45 62 64",
          "12 32 49 51 66",
          "31 35 53 54 55",
          "23 27 41 48 51",
          "07 09 15 19 25",
          "03 21 29 46 63",
          "08 29 46 47 48",
          "18 38 53 62 64",
          "03 15 16 32 41",
          "16 18 28 42 43",
          "04 37 46 48 51",
          "01 02 23 40 45",
          "15 34 36 69 70",
          "05 11 41 44 55",
          "03 10 22 65 66",
          "12 20 37 41 64",
          "13 16 40 64 68",
          "03 16 19 36 60",
          "06 12 23 29 57",
          "03 19 53 60 68",
          "08 10 19 44 47",
          "04 24 34 45 57",
          "06 37 39 45 46",
          "13 62 65 67 69",
          "08 34 35 41 52",
          "13 22 47 51 55",
          "21 33 54 61 67",
          "08 10 17 55 66",
          "10 17 33 51 64",
          "10 24 48 51 66",
          "19 22 31 37 54",
          "29 40 47 50 57",
          "03 05 06 44 61",
          "05 10 28 52 63",
          "08 24 30 45 61",
          "11 30 45 52 56",
          "13 19 20 32 33",
          "08 09 18 35 41",
          "18 39 42 57 63",
          "10 20 29 44 66",
          "01 12 26 36 50",
          "12 23 26 31 38",
          "09 39 52 61 63",
          "10 31 42 43 55",
          "03 43 50 51 65",
          "03 12 17 51 62",
          "02 14 21 42 67",
          "05 13 29 50 53",
          "06 09 13 29 66",
          "10 13 14 57 66",
          "15 30 35 42 60",
          "18 40 47 55 64",
          "03 19 32 39 59",
          "12 24 46 57 66",
          "03 08 17 46 63",
          "06 18 44 46 68",
          "05 06 29 32 61",
          "07 29 36 49 61",
          "16 20 30 54 59",
          "11 32 43 57 70",
          "14 35 37 55 70",
          "15 32 38 47 65",
          "03 11 33 42 52",
          "13 33 59 68 70",
          "29 35 59 61 69",
          "06 12 31 33 69",
          "17 22 25 30 38",
          "06 15 45 59 68",
          "27 37 42 59 61",
          "12 47 49 52 65",
          "18 35 40 64 67",
          "21 26 53 66 70",
          "08 23 44 45 53",
          "10 20 28 40 54",
          "17 26 50 58 61",
          "10 26 36 54 69",
          "08 10 22 58 64",
          "11 27 30 62 70",
          "03 18 27 29 64",
          "05 23 26 38 44",
          "12 15 32 33 53",
          "19 34 35 45 67",
          "02 10 42 49 54",
          "01 09 16 17 30",
          "21 28 58 69 70",
          "14 31 34 50 61",
          "03 05 16 58 59",
          "11 22 42 64 69",
          "02 10 31 44 57",
          "17 22 29 46 69",
          "01 03 19 25 58",
          "19 23 39 42 67",
          "05 45 55 58 68",
          "04 06 40 41 60",
          "06 18 26 27 49",
          "15 33 37 55 61",
          "02 49 50 61 70",
          "19 20 22 47 58",
          "02 16 31 57 64",
          "13 25 50 51 66",
          "24 46 49 62 66",
          "03 08 31 35 44",
          "07 11 22 29 38",
          "11 30 33 38 60",
          "10 50 56 60 66",
          "20 30 54 63 65",
          "34 43 51 52 69",
          "01 12 14 18 66",
          "21 26 36 44 59",
          "19 30 34 46 58",
          "11 17 33 39 43",
          "15 23 53 57 61",
          "10 18 27 37 61",
          "06 13 15 53 56",
          "26 28 36 63 66",
          "13 22 26 32 65",
          "13 19 43 62 64",
          "08 17 40 60 70",
          "02 05 08 28 69",
          "46 54 56 67 70",
          "12 18 48 57 62",
          "04 11 23 33 49",
          "19 37 40 63 69",
          "03 05 12 22 66",
          "01 05 07 22 24",
          "01 25 26 31 65",
          "21 22 50 55 67",
          "03 18 27 40 44",
          "03 16 27 47 62",
          "28 31 33 42 66",
          "04 08 19 31 45",
          "06 15 32 54 67",
          "21 26 54 60 64",
          "15 35 48 53 68",
          "05 35 42 58 66",
          "10 17 23 50 67",
          "03 09 14 26 51",
          "02 14 33 58 65",
          "19 23 30 33 50",
          "06 07 24 44 54",
          "23 29 36 61 70",
          "12 32 38 40 57",
          "34 55 59 65 70",
          "22 38 48 51 61",
          "05 20 26 49 51",
          "28 30 44 66 69",
          "16 18 21 54 65",
          "10 17 20 24 54",
          "12 41 43 52 55",
          "06 23 41 59 63",
          "01 02 16 24 66",
          "21 55 56 57 66",
          "14 31 48 57 64",
          "20 21 40 49 55",
          "01 06 10 23 27",
          "29 46 53 69 70",
          "27 35 47 50 66",
          "21 39 42 43 45",
          "03 19 20 22 66",
          "03 10 29 52 57",
          "22 34 44 54 62",
          "04 09 26 39 58",
          "08 43 48 58 60",
          "23 26 35 41 43",
          "16 22 26 36 56",
          "11 22 42 46 51",
          "02 24 25 52 58",
          "25 28 42 64 69",
          "18 31 33 64 68",
          "05 17 35 55 69",
          "05 35 50 51 59",
          "13 20 26 32 65",
          "05 22 24 39 42",
          "03 29 34 37 38",
          "52 60 61 66 67",
          "16 21 33 39 45",
          "12 14 26 48 52",
          "36 43 52 58 65",
          "56 66 67 68 69",
          "02 20 51 56 67",
          "11 14 38 45 46",
          "03 07 37 49 55",
          "13 22 27 29 35",
          "20 42 46 59 69",
          "20 24 33 39 48",
          "09 23 39 65 66",
          "04 14 35 49 62",
          "08 10 37 54 69",
          "27 30 56 64 65",
          "08 12 43 52 62",
          "10 19 31 47 56",
          "09 28 48 56 63",
          "14 24 31 53 54",
          "04 24 32 41 55",
          "07 30 39 41 70",
          "11 19 31 49 56",
          "01 20 25 58 61",
          "01 13 28 37 46",
          "04 08 11 32 52",
          "09 19 30 35 66",
          "14 19 47 52 70",
          "08 20 48 58 60",
          "01 19 26 38 69",
          "03 17 39 42 70",
          "27 28 31 32 33",
          "15 22 31 52 57",
          "01 05 17 39 62",
          "02 09 31 60 63",
          "11 12 21 29 49",
          "11 28 35 37 69",
          "10 16 50 60 61",
          "15 37 38 56 58",
          "06 10 13 24 63",
          "05 13 15 17 28",
          "25 39 49 52 65",
          "38 40 60 62 70",
          "16 33 40 51 57",
          "14 37 40 41 68",
          "16 17 43 46 58",
          "09 10 12 48 60",
          "06 29 33 47 68",
          "02 22 42 62 66",
          "18 30 33 55 64",
          "07 18 40 55 68",
          "06 28 34 48 62",
          "02 28 37 38 58"
         ],
         "marker": {
          "color": {
           "bdata": "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",
           "dtype": "i1"
          },
          "colorscale": [
           [
            0,
            "rgb(243, 231, 155)"
           ],
           [
            0.16666666666666666,
            "rgb(250, 196, 132)"
           ],
           [
            0.3333333333333333,
            "rgb(248, 160, 126)"
           ],
           [
            0.5,
            "rgb(235, 127, 134)"
           ],
           [
            0.6666666666666666,
            "rgb(206, 102, 147)"
           ],
           [
            0.8333333333333334,
            "rgb(160, 89, 160)"
           ],
           [
            1,
            "rgb(92, 83, 165)"
           ]
          ],
          "opacity": 0.8,
          "size": 5
         },
         "mode": "markers+text",
         "type": "scatter3d",
         "x": {
          "bdata": "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",
          "dtype": "i1"
         },
         "y": {
          "bdata": "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",
          "dtype": "i1"
         },
         "z": {
          "bdata": "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",
          "dtype": "i1"
         }
        }
       ],
       "layout": {
        "margin": {
         "b": 0,
         "l": 0,
         "r": 0,
         "t": 30
        },
        "scene": {
         "xaxis": {
          "title": {
           "text": "1st Winning Number"
          }
         },
         "yaxis": {
          "title": {
           "text": "3rd Winning Number"
          }
         },
         "zaxis": {
          "title": {
           "text": "5th Winning Number"
          }
         }
        },
        "template": {
         "data": {
          "bar": [
           {
            "error_x": {
             "color": "#2a3f5f"
            },
            "error_y": {
             "color": "#2a3f5f"
            },
            "marker": {
             "line": {
              "color": "#E5ECF6",
              "width": 0.5
             },
             "pattern": {
              "fillmode": "overlay",
              "size": 10,
              "solidity": 0.2
             }
            },
            "type": "bar"
           }
          ],
          "barpolar": [
           {
            "marker": {
             "line": {
              "color": "#E5ECF6",
              "width": 0.5
             },
             "pattern": {
              "fillmode": "overlay",
              "size": 10,
              "solidity": 0.2
             }
            },
            "type": "barpolar"
           }
          ],
          "carpet": [
           {
            "aaxis": {
             "endlinecolor": "#2a3f5f",
             "gridcolor": "white",
             "linecolor": "white",
             "minorgridcolor": "white",
             "startlinecolor": "#2a3f5f"
            },
            "baxis": {
             "endlinecolor": "#2a3f5f",
             "gridcolor": "white",
             "linecolor": "white",
             "minorgridcolor": "white",
             "startlinecolor": "#2a3f5f"
            },
            "type": "carpet"
           }
          ],
          "choropleth": [
           {
            "colorbar": {
             "outlinewidth": 0,
             "ticks": ""
            },
            "type": "choropleth"
           }
          ],
          "contour": [
           {
            "colorbar": {
             "outlinewidth": 0,
             "ticks": ""
            },
            "colorscale": [
             [
              0,
              "#0d0887"
             ],
             [
              0.1111111111111111,
              "#46039f"
             ],
             [
              0.2222222222222222,
              "#7201a8"
             ],
             [
              0.3333333333333333,
              "#9c179e"
             ],
             [
              0.4444444444444444,
              "#bd3786"
             ],
             [
              0.5555555555555556,
              "#d8576b"
             ],
             [
              0.6666666666666666,
              "#ed7953"
             ],
             [
              0.7777777777777778,
              "#fb9f3a"
             ],
             [
              0.8888888888888888,
              "#fdca26"
             ],
             [
              1,
              "#f0f921"
             ]
            ],
            "type": "contour"
           }
          ],
          "contourcarpet": [
           {
            "colorbar": {
             "outlinewidth": 0,
             "ticks": ""
            },
            "type": "contourcarpet"
           }
          ],
          "heatmap": [
           {
            "colorbar": {
             "outlinewidth": 0,
             "ticks": ""
            },
            "colorscale": [
             [
              0,
              "#0d0887"
             ],
             [
              0.1111111111111111,
              "#46039f"
             ],
             [
              0.2222222222222222,
              "#7201a8"
             ],
             [
              0.3333333333333333,
              "#9c179e"
             ],
             [
              0.4444444444444444,
              "#bd3786"
             ],
             [
              0.5555555555555556,
              "#d8576b"
             ],
             [
              0.6666666666666666,
              "#ed7953"
             ],
             [
              0.7777777777777778,
              "#fb9f3a"
             ],
             [
              0.8888888888888888,
              "#fdca26"
             ],
             [
              1,
              "#f0f921"
             ]
            ],
            "type": "heatmap"
           }
          ],
          "histogram": [
           {
            "marker": {
             "pattern": {
              "fillmode": "overlay",
              "size": 10,
              "solidity": 0.2
             }
            },
            "type": "histogram"
           }
          ],
          "histogram2d": [
           {
            "colorbar": {
             "outlinewidth": 0,
             "ticks": ""
            },
            "colorscale": [
             [
              0,
              "#0d0887"
             ],
             [
              0.1111111111111111,
              "#46039f"
             ],
             [
              0.2222222222222222,
              "#7201a8"
             ],
             [
              0.3333333333333333,
              "#9c179e"
             ],
             [
              0.4444444444444444,
              "#bd3786"
             ],
             [
              0.5555555555555556,
              "#d8576b"
             ],
             [
              0.6666666666666666,
              "#ed7953"
             ],
             [
              0.7777777777777778,
              "#fb9f3a"
             ],
             [
              0.8888888888888888,
              "#fdca26"
             ],
             [
              1,
              "#f0f921"
             ]
            ],
            "type": "histogram2d"
           }
          ],
          "histogram2dcontour": [
           {
            "colorbar": {
             "outlinewidth": 0,
             "ticks": ""
            },
            "colorscale": [
             [
              0,
              "#0d0887"
             ],
             [
              0.1111111111111111,
              "#46039f"
             ],
             [
              0.2222222222222222,
              "#7201a8"
             ],
             [
              0.3333333333333333,
              "#9c179e"
             ],
             [
              0.4444444444444444,
              "#bd3786"
             ],
             [
              0.5555555555555556,
              "#d8576b"
             ],
             [
              0.6666666666666666,
              "#ed7953"
             ],
             [
              0.7777777777777778,
              "#fb9f3a"
             ],
             [
              0.8888888888888888,
              "#fdca26"
             ],
             [
              1,
              "#f0f921"
             ]
            ],
            "type": "histogram2dcontour"
           }
          ],
          "mesh3d": [
           {
            "colorbar": {
             "outlinewidth": 0,
             "ticks": ""
            },
            "type": "mesh3d"
           }
          ],
          "parcoords": [
           {
            "line": {
             "colorbar": {
              "outlinewidth": 0,
              "ticks": ""
             }
            },
            "type": "parcoords"
           }
          ],
          "pie": [
           {
            "automargin": true,
            "type": "pie"
           }
          ],
          "scatter": [
           {
            "fillpattern": {
             "fillmode": "overlay",
             "size": 10,
             "solidity": 0.2
            },
            "type": "scatter"
           }
          ],
          "scatter3d": [
           {
            "line": {
             "colorbar": {
              "outlinewidth": 0,
              "ticks": ""
             }
            },
            "marker": {
             "colorbar": {
              "outlinewidth": 0,
              "ticks": ""
             }
            },
            "type": "scatter3d"
           }
          ],
          "scattercarpet": [
           {
            "marker": {
             "colorbar": {
              "outlinewidth": 0,
              "ticks": ""
             }
            },
            "type": "scattercarpet"
           }
          ],
          "scattergeo": [
           {
            "marker": {
             "colorbar": {
              "outlinewidth": 0,
              "ticks": ""
             }
            },
            "type": "scattergeo"
           }
          ],
          "scattergl": [
           {
            "marker": {
             "colorbar": {
              "outlinewidth": 0,
              "ticks": ""
             }
            },
            "type": "scattergl"
           }
          ],
          "scattermap": [
           {
            "marker": {
             "colorbar": {
              "outlinewidth": 0,
              "ticks": ""
             }
            },
            "type": "scattermap"
           }
          ],
          "scattermapbox": [
           {
            "marker": {
             "colorbar": {
              "outlinewidth": 0,
              "ticks": ""
             }
            },
            "type": "scattermapbox"
           }
          ],
          "scatterpolar": [
           {
            "marker": {
             "colorbar": {
              "outlinewidth": 0,
              "ticks": ""
             }
            },
            "type": "scatterpolar"
           }
          ],
          "scatterpolargl": [
           {
            "marker": {
             "colorbar": {
              "outlinewidth": 0,
              "ticks": ""
             }
            },
            "type": "scatterpolargl"
           }
          ],
          "scatterternary": [
           {
            "marker": {
             "colorbar": {
              "outlinewidth": 0,
              "ticks": ""
             }
            },
            "type": "scatterternary"
           }
          ],
          "surface": [
           {
            "colorbar": {
             "outlinewidth": 0,
             "ticks": ""
            },
            "colorscale": [
             [
              0,
              "#0d0887"
             ],
             [
              0.1111111111111111,
              "#46039f"
             ],
             [
              0.2222222222222222,
              "#7201a8"
             ],
             [
              0.3333333333333333,
              "#9c179e"
             ],
             [
              0.4444444444444444,
              "#bd3786"
             ],
             [
              0.5555555555555556,
              "#d8576b"
             ],
             [
              0.6666666666666666,
              "#ed7953"
             ],
             [
              0.7777777777777778,
              "#fb9f3a"
             ],
             [
              0.8888888888888888,
              "#fdca26"
             ],
             [
              1,
              "#f0f921"
             ]
            ],
            "type": "surface"
           }
          ],
          "table": [
           {
            "cells": {
             "fill": {
              "color": "#EBF0F8"
             },
             "line": {
              "color": "white"
             }
            },
            "header": {
             "fill": {
              "color": "#C8D4E3"
             },
             "line": {
              "color": "white"
             }
            },
            "type": "table"
           }
          ]
         },
         "layout": {
          "annotationdefaults": {
           "arrowcolor": "#2a3f5f",
           "arrowhead": 0,
           "arrowwidth": 1
          },
          "autotypenumbers": "strict",
          "coloraxis": {
           "colorbar": {
            "outlinewidth": 0,
            "ticks": ""
           }
          },
          "colorscale": {
           "diverging": [
            [
             0,
             "#8e0152"
            ],
            [
             0.1,
             "#c51b7d"
            ],
            [
             0.2,
             "#de77ae"
            ],
            [
             0.3,
             "#f1b6da"
            ],
            [
             0.4,
             "#fde0ef"
            ],
            [
             0.5,
             "#f7f7f7"
            ],
            [
             0.6,
             "#e6f5d0"
            ],
            [
             0.7,
             "#b8e186"
            ],
            [
             0.8,
             "#7fbc41"
            ],
            [
             0.9,
             "#4d9221"
            ],
            [
             1,
             "#276419"
            ]
           ],
           "sequential": [
            [
             0,
             "#0d0887"
            ],
            [
             0.1111111111111111,
             "#46039f"
            ],
            [
             0.2222222222222222,
             "#7201a8"
            ],
            [
             0.3333333333333333,
             "#9c179e"
            ],
            [
             0.4444444444444444,
             "#bd3786"
            ],
            [
             0.5555555555555556,
             "#d8576b"
            ],
            [
             0.6666666666666666,
             "#ed7953"
            ],
            [
             0.7777777777777778,
             "#fb9f3a"
            ],
            [
             0.8888888888888888,
             "#fdca26"
            ],
            [
             1,
             "#f0f921"
            ]
           ],
           "sequentialminus": [
            [
             0,
             "#0d0887"
            ],
            [
             0.1111111111111111,
             "#46039f"
            ],
            [
             0.2222222222222222,
             "#7201a8"
            ],
            [
             0.3333333333333333,
             "#9c179e"
            ],
            [
             0.4444444444444444,
             "#bd3786"
            ],
            [
             0.5555555555555556,
             "#d8576b"
            ],
            [
             0.6666666666666666,
             "#ed7953"
            ],
            [
             0.7777777777777778,
             "#fb9f3a"
            ],
            [
             0.8888888888888888,
             "#fdca26"
            ],
            [
             1,
             "#f0f921"
            ]
           ]
          },
          "colorway": [
           "#636efa",
           "#EF553B",
           "#00cc96",
           "#ab63fa",
           "#FFA15A",
           "#19d3f3",
           "#FF6692",
           "#B6E880",
           "#FF97FF",
           "#FECB52"
          ],
          "font": {
           "color": "#2a3f5f"
          },
          "geo": {
           "bgcolor": "white",
           "lakecolor": "white",
           "landcolor": "#E5ECF6",
           "showlakes": true,
           "showland": true,
           "subunitcolor": "white"
          },
          "hoverlabel": {
           "align": "left"
          },
          "hovermode": "closest",
          "mapbox": {
           "style": "light"
          },
          "paper_bgcolor": "white",
          "plot_bgcolor": "#E5ECF6",
          "polar": {
           "angularaxis": {
            "gridcolor": "white",
            "linecolor": "white",
            "ticks": ""
           },
           "bgcolor": "#E5ECF6",
           "radialaxis": {
            "gridcolor": "white",
            "linecolor": "white",
            "ticks": ""
           }
          },
          "scene": {
           "xaxis": {
            "backgroundcolor": "#E5ECF6",
            "gridcolor": "white",
            "gridwidth": 2,
            "linecolor": "white",
            "showbackground": true,
            "ticks": "",
            "zerolinecolor": "white"
           },
           "yaxis": {
            "backgroundcolor": "#E5ECF6",
            "gridcolor": "white",
            "gridwidth": 2,
            "linecolor": "white",
            "showbackground": true,
            "ticks": "",
            "zerolinecolor": "white"
           },
           "zaxis": {
            "backgroundcolor": "#E5ECF6",
            "gridcolor": "white",
            "gridwidth": 2,
            "linecolor": "white",
            "showbackground": true,
            "ticks": "",
            "zerolinecolor": "white"
           }
          },
          "shapedefaults": {
           "line": {
            "color": "#2a3f5f"
           }
          },
          "ternary": {
           "aaxis": {
            "gridcolor": "white",
            "linecolor": "white",
            "ticks": ""
           },
           "baxis": {
            "gridcolor": "white",
            "linecolor": "white",
            "ticks": ""
           },
           "bgcolor": "#E5ECF6",
           "caxis": {
            "gridcolor": "white",
            "linecolor": "white",
            "ticks": ""
           }
          },
          "title": {
           "x": 0.05
          },
          "xaxis": {
           "automargin": true,
           "gridcolor": "white",
           "linecolor": "white",
           "ticks": "",
           "title": {
            "standoff": 15
           },
           "zerolinecolor": "white",
           "zerolinewidth": 2
          },
          "yaxis": {
           "automargin": true,
           "gridcolor": "white",
           "linecolor": "white",
           "ticks": "",
           "title": {
            "standoff": 15
           },
           "zerolinecolor": "white",
           "zerolinewidth": 2
          }
         }
        },
        "title": {
         "text": "3D Scatter Plot of the Odd Winning Numbers"
        }
       }
      }
     },
     "metadata": {},
     "output_type": "display_data"
    }
   ],
   "source": [
    "#create 3d plot with odd winning numbers\n",
    "x=df['win_num_1']\n",
    "y=df['win_num_3']\n",
    "z=df['win_num_5']\n",
    "fig = go.Figure(data=[go.Scatter3d(\n",
    "    x=x,\n",
    "    y=y,\n",
    "    z=z,\n",
    "    mode='markers+text',\n",
    "    hoverinfo='text', \n",
    "    hovertext=df['Winning Numbers'],\n",
    "    marker=dict(\n",
    "        size=5,\n",
    "        color=y,\n",
    "        colorscale='sunset', \n",
    "        opacity=0.8\n",
    "    )\n",
    ")]).update_layout(title=dict(text=\"3D Scatter Plot of the Odd Winning Numbers\"),\n",
    "                    margin=dict(l=0, r=0, t=30, b=0),\n",
    "                    scene = dict(\n",
    "                    xaxis = dict(title='1st Winning Number'),\n",
    "                    yaxis = dict(title='3rd Winning Number'),\n",
    "                    zaxis = dict(title='5th Winning Number')\n",
    "                    ))\n",
    "fig.show()"
   ]
  },
  {
   "cell_type": "code",
   "execution_count": 114,
   "id": "e22f7555",
   "metadata": {},
   "outputs": [
    {
     "data": {
      "application/vnd.plotly.v1+json": {
       "config": {
        "plotlyServerURL": "https://plot.ly"
       },
       "data": [
        {
         "hoverinfo": "text",
         "hovertext": [
          "15 18 25 33 47",
          "04 28 39 41 44",
          "02 04 32 44 52",
          "06 21 22 29 32",
          "12 28 45 46 52",
          "03 25 29 30 48",
          "14 22 27 28 42",
          "05 06 09 33 44",
          "04 08 32 37 43",
          "06 13 18 27 45",
          "13 18 32 39 49",
          "04 18 21 27 41",
          "18 31 49 50 51",
          "14 22 32 35 44",
          "11 20 26 29 41",
          "26 29 31 44 48",
          "13 19 23 38 47",
          "10 24 35 49 52",
          "07 15 24 37 46",
          "10 12 29 32 38",
          "20 27 28 37 49",
          "02 06 22 27 44",
          "10 16 23 28 31",
          "02 06 38 40 50",
          "07 17 23 43 44",
          "03 10 15 18 25",
          "22 31 33 44 52",
          "02 13 20 23 43",
          "05 19 20 45 48",
          "02 05 11 18 45",
          "06 31 32 42 51",
          "08 23 36 49 51",
          "31 39 42 49 51",
          "04 06 10 21 25",
          "24 32 37 40 51",
          "07 10 19 26 44",
          "01 02 04 05 46",
          "08 32 34 42 50",
          "23 27 30 33 36",
          "07 21 30 32 37",
          "10 42 43 45 51",
          "18 34 43 47 50",
          "09 11 17 26 41",
          "06 20 27 34 51",
          "10 31 40 48 51",
          "16 20 26 36 48",
          "08 15 34 39 47",
          "09 10 14 41 49",
          "05 10 22 23 43",
          "02 07 16 28 36",
          "17 19 37 47 48",
          "03 28 45 48 50",
          "06 17 44 49 51",
          "07 16 20 40 52",
          "11 16 19 22 46",
          "03 21 27 31 43",
          "08 25 33 42 49",
          "01 15 19 40 51",
          "04 08 30 36 52",
          "03 05 09 16 31",
          "02 13 14 24 46",
          "03 07 21 29 49",
          "10 14 41 46 49",
          "08 24 39 43 52",
          "11 14 26 30 39",
          "08 21 29 42 51",
          "06 14 28 37 46",
          "15 16 28 34 51",
          "07 17 18 34 50",
          "30 39 41 47 52",
          "25 26 38 42 46",
          "04 41 48 50 51",
          "16 31 37 40 41",
          "13 24 26 32 47",
          "01 08 09 19 22",
          "05 12 16 22 24",
          "03 09 20 26 27",
          "18 20 23 48 49",
          "11 13 19 32 47",
          "12 22 29 42 50",
          "21 28 29 40 51",
          "02 04 06 37 47",
          "11 16 26 48 49",
          "02 26 36 37 41",
          "07 10 32 36 41",
          "10 15 26 28 39",
          "03 06 14 31 33",
          "13 14 16 29 49",
          "06 17 18 40 50",
          "15 21 37 40 42",
          "08 12 21 27 29",
          "07 12 26 45 47",
          "06 22 28 31 40",
          "08 10 24 38 45",
          "15 26 27 38 39",
          "16 29 31 39 52",
          "05 15 24 50 52",
          "03 09 15 28 52",
          "01 12 32 48 51",
          "06 08 09 33 35",
          "02 05 19 32 34",
          "05 14 32 44 52",
          "01 10 20 22 28",
          "17 20 47 49 50",
          "05 10 16 26 39",
          "02 16 36 44 49",
          "12 20 31 33 50",
          "10 11 17 20 26",
          "01 21 28 33 51",
          "04 20 25 29 32",
          "10 14 28 39 40",
          "14 15 23 32 52",
          "12 15 16 20 51",
          "27 31 34 40 52",
          "01 02 03 12 37",
          "02 26 43 44 47",
          "01 14 20 31 40",
          "28 32 39 45 48",
          "06 07 22 37 46",
          "02 09 27 29 35",
          "01 04 10 16 18",
          "01 26 33 43 48",
          "29 30 34 38 44",
          "01 05 31 38 47",
          "33 46 47 50 51",
          "01 17 19 32 42",
          "02 11 27 30 33",
          "07 32 34 38 44",
          "06 09 35 40 43",
          "08 11 18 35 51",
          "01 16 20 41 52",
          "07 11 24 28 52",
          "04 19 31 32 51",
          "09 28 42 44 49",
          "08 11 17 42 52",
          "22 26 27 32 39",
          "07 09 28 41 42",
          "14 15 30 39 46",
          "16 22 23 38 46",
          "15 20 24 30 46",
          "13 14 24 34 47",
          "05 16 24 49 51",
          "05 29 32 45 52",
          "02 26 37 40 46",
          "19 21 30 31 52",
          "01 02 22 40 41",
          "04 19 36 42 48",
          "18 19 21 33 40",
          "14 20 31 46 48",
          "18 34 46 51 52",
          "08 09 16 30 31",
          "06 09 20 40 47",
          "06 12 13 36 46",
          "16 24 43 44 45",
          "06 18 23 26 30",
          "02 05 17 21 22",
          "03 13 31 41 42",
          "04 11 25 30 52",
          "14 26 28 36 42",
          "22 32 37 40 41",
          "19 26 31 44 50",
          "10 13 24 34 49",
          "01 12 15 18 44",
          "04 14 15 24 48",
          "09 16 32 45 46",
          "16 24 31 46 47",
          "05 10 17 35 39",
          "02 13 21 22 49",
          "01 10 17 20 29",
          "12 18 21 32 46",
          "07 08 36 44 48",
          "07 13 15 25 32",
          "24 32 38 47 49",
          "03 17 18 21 45",
          "12 26 41 44 49",
          "05 07 14 21 45",
          "10 18 33 46 51",
          "06 10 20 38 50",
          "17 28 30 40 51",
          "09 21 26 35 41",
          "01 06 16 30 49",
          "03 07 10 22 32",
          "14 30 42 43 45",
          "02 08 34 36 52",
          "01 13 20 21 30",
          "06 11 43 49 52",
          "02 09 24 36 52",
          "25 30 35 40 50",
          "30 40 47 49 52",
          "16 23 29 36 51",
          "04 29 32 35 36",
          "03 28 45 49 51",
          "06 09 14 32 50",
          "12 22 35 39 46",
          "08 10 17 37 49",
          "03 27 31 41 45",
          "08 17 25 46 47",
          "08 17 29 32 39",
          "02 08 10 11 23",
          "13 36 39 50 51",
          "06 24 29 42 51",
          "12 22 37 46 48",
          "08 22 25 47 48",
          "01 10 17 23 35",
          "15 21 32 39 50",
          "03 15 29 37 39",
          "14 17 19 44 50",
          "09 25 30 34 37",
          "10 19 32 36 46",
          "02 36 44 46 51",
          "04 20 27 38 49",
          "05 18 34 36 39",
          "13 27 36 39 51",
          "07 16 17 26 48",
          "04 16 18 41 47",
          "17 24 29 37 45",
          "12 28 36 39 52",
          "18 23 27 29 44",
          "07 10 11 15 51",
          "09 10 17 41 52",
          "18 19 29 32 42",
          "10 13 19 28 38",
          "10 25 38 39 50",
          "06 07 08 31 48",
          "11 23 25 29 45",
          "13 31 37 39 52",
          "03 21 22 35 44",
          "06 15 21 32 44",
          "05 12 25 35 37",
          "08 10 11 13 24",
          "16 19 21 34 35",
          "01 02 13 16 22",
          "04 23 33 38 49",
          "18 25 29 31 44",
          "14 31 41 45 48",
          "22 23 26 28 36",
          "12 17 34 37 39",
          "02 05 21 47 50",
          "05 25 38 46 47",
          "14 15 25 42 44",
          "04 14 34 38 44",
          "13 30 36 38 51",
          "11 17 27 45 52",
          "12 35 37 38 50",
          "03 16 25 38 49",
          "01 03 15 19 29",
          "11 26 30 49 50",
          "01 18 39 42 50",
          "08 10 17 24 39",
          "08 34 39 48 49",
          "16 17 21 33 41",
          "04 18 19 39 51",
          "04 08 24 30 36",
          "06 13 19 34 50",
          "03 07 20 24 43",
          "14 25 39 43 49",
          "10 18 26 31 41",
          "24 32 42 49 50",
          "03 29 30 41 43",
          "11 20 26 28 52",
          "05 31 33 35 51",
          "09 10 27 28 30",
          "01 12 24 36 51",
          "08 30 32 35 51",
          "07 09 18 37 43",
          "10 20 22 28 52",
          "12 32 37 41 52",
          "01 19 22 32 49",
          "22 23 37 42 47",
          "14 27 32 34 40",
          "16 34 38 42 47",
          "07 22 27 31 38",
          "09 20 22 41 42",
          "18 29 32 38 43",
          "10 14 45 47 51",
          "03 06 07 12 32",
          "02 08 14 15 51",
          "02 23 24 35 45",
          "15 19 24 40 47",
          "10 23 28 39 51",
          "17 27 39 40 41",
          "02 10 21 25 45",
          "25 31 39 47 52",
          "03 17 21 42 44",
          "03 12 14 30 52",
          "08 11 14 23 25",
          "06 14 21 24 50",
          "03 16 20 21 38",
          "01 19 31 35 42",
          "15 18 28 41 45",
          "04 13 37 38 50",
          "01 08 18 39 48",
          "07 10 13 35 39",
          "08 14 15 22 31",
          "18 19 31 35 36",
          "14 26 27 34 44",
          "02 09 28 29 48",
          "06 11 27 37 43",
          "11 18 19 45 49",
          "07 17 18 30 42",
          "11 19 28 32 45",
          "04 19 45 51 52",
          "05 13 17 33 35",
          "15 20 43 47 50",
          "25 26 37 39 49",
          "05 06 14 42 47",
          "23 25 43 46 49",
          "18 22 33 34 42",
          "02 05 07 28 46",
          "07 17 42 46 52",
          "07 12 25 50 51",
          "11 25 38 40 42",
          "21 23 27 33 39",
          "07 09 10 29 44",
          "03 06 27 40 44",
          "09 28 39 40 45",
          "07 17 22 34 50",
          "05 13 22 37 38",
          "04 06 14 28 47",
          "07 14 28 46 47",
          "14 29 31 37 50",
          "01 10 29 48 49",
          "16 35 40 49 50",
          "09 13 40 46 50",
          "14 43 44 50 56",
          "02 20 37 43 46",
          "14 25 41 42 50",
          "22 38 48 50 55",
          "09 23 45 48 50",
          "05 17 32 39 53",
          "09 13 25 36 48",
          "07 13 48 51 54",
          "07 18 27 35 54",
          "01 10 18 29 55",
          "04 16 23 25 40",
          "17 22 39 50 52",
          "03 05 48 50 53",
          "13 35 36 43 52",
          "08 37 38 45 54",
          "09 15 20 24 55",
          "02 13 18 36 46",
          "06 07 08 13 40",
          "05 20 38 47 54",
          "19 32 42 49 56",
          "01 04 14 45 53",
          "01 08 27 31 50",
          "15 28 43 51 52",
          "13 24 44 48 52",
          "05 16 41 46 50",
          "35 36 40 42 52",
          "06 07 20 41 51",
          "14 17 26 27 28",
          "01 03 14 30 52",
          "12 24 28 29 36",
          "02 04 23 27 36",
          "24 30 42 53 54",
          "06 20 24 25 34",
          "03 12 16 32 33",
          "11 17 28 29 36",
          "07 12 18 31 55",
          "08 17 25 28 53",
          "05 18 21 28 36",
          "07 09 41 53 54",
          "08 16 21 25 27",
          "09 14 34 50 51",
          "02 04 05 40 48",
          "08 18 21 42 46",
          "09 22 37 41 43",
          "05 25 31 33 34",
          "07 08 47 51 52",
          "03 12 21 38 44",
          "06 10 26 30 33",
          "14 15 31 32 43",
          "09 10 12 22 41",
          "14 25 26 31 56",
          "06 20 23 40 56",
          "10 37 39 49 54",
          "11 24 27 49 55",
          "14 20 25 40 44",
          "15 19 20 32 38",
          "08 11 28 37 53",
          "07 27 32 37 38",
          "05 21 27 44 53",
          "24 32 37 39 40",
          "18 22 28 44 53",
          "31 34 36 51 55",
          "02 07 08 18 29",
          "01 35 53 54 56",
          "29 31 32 41 52",
          "02 16 25 30 48",
          "24 39 40 43 46",
          "27 36 43 49 54",
          "16 25 31 43 46",
          "14 23 27 36 45",
          "03 05 12 16 34",
          "02 04 35 36 48",
          "25 29 38 39 46",
          "15 27 36 38 42",
          "04 17 18 51 54",
          "27 28 30 42 50",
          "08 11 23 48 52",
          "04 16 17 28 31",
          "01 02 17 47 49",
          "14 18 35 39 49",
          "04 07 19 50 52",
          "09 25 48 51 56",
          "01 18 31 46 52",
          "02 12 45 46 56",
          "08 10 18 29 33",
          "13 14 25 34 50",
          "02 04 07 27 41",
          "01 20 32 37 39",
          "16 29 32 36 55",
          "07 11 22 27 31",
          "08 20 39 53 55",
          "07 15 24 43 44",
          "06 36 39 45 52",
          "07 24 40 48 50",
          "05 12 31 51 56",
          "17 21 28 48 54",
          "12 14 20 47 48",
          "02 13 28 34 45",
          "03 10 18 36 38",
          "05 29 35 52 53",
          "08 17 18 26 47",
          "01 20 23 24 33",
          "27 30 36 38 45",
          "11 21 37 53 54",
          "13 17 24 34 56",
          "02 14 20 29 44",
          "20 40 46 48 54",
          "09 15 31 42 45",
          "07 15 27 46 56",
          "05 14 34 36 52",
          "13 25 26 28 56",
          "12 13 29 49 52",
          "18 26 35 36 43",
          "07 21 24 41 51",
          "02 13 23 32 35",
          "14 29 32 43 49",
          "02 24 31 50 55",
          "01 05 13 18 33",
          "14 16 38 40 49",
          "10 12 22 44 48",
          "05 12 13 46 50",
          "03 04 05 07 36",
          "17 24 35 46 54",
          "15 25 37 38 52",
          "05 06 51 53 55",
          "01 32 36 42 53",
          "09 17 34 52 53",
          "03 16 25 30 44",
          "06 26 33 39 55",
          "02 19 44 45 56",
          "07 12 17 22 43",
          "03 06 38 42 45",
          "03 25 43 45 55",
          "06 19 32 33 40",
          "01 11 20 21 46",
          "14 30 35 40 43",
          "24 27 42 47 50",
          "06 18 20 28 38",
          "09 13 23 29 54",
          "05 25 41 48 51",
          "15 22 26 30 32",
          "05 34 40 45 46",
          "08 10 22 25 55",
          "13 22 33 51 52",
          "11 42 52 53 55",
          "09 20 24 25 36",
          "05 19 25 30 50",
          "07 13 20 42 47",
          "14 35 40 47 48",
          "07 14 24 41 56",
          "16 22 23 37 53",
          "06 09 13 43 46",
          "01 15 29 32 45",
          "20 30 31 35 49",
          "06 07 17 28 40",
          "09 32 37 42 48",
          "05 12 15 25 34",
          "07 12 25 44 53",
          "03 04 10 39 50",
          "09 10 38 51 53",
          "02 12 44 46 51",
          "07 11 26 38 54",
          "12 14 26 40 42",
          "04 08 15 33 52",
          "04 28 30 31 35",
          "03 05 15 26 53",
          "16 17 36 49 54",
          "14 18 44 52 56",
          "22 33 35 40 53",
          "16 21 35 36 46",
          "32 39 46 48 49",
          "03 09 24 29 41",
          "17 35 40 46 48",
          "01 09 26 46 51",
          "03 18 21 38 50",
          "18 31 44 45 48",
          "14 21 33 35 51",
          "16 22 29 39 42",
          "10 13 25 42 43",
          "07 11 16 38 49",
          "17 25 36 40 43",
          "07 21 46 49 55",
          "18 21 35 51 53",
          "18 25 34 35 42",
          "15 23 37 48 53",
          "16 26 33 34 46",
          "24 32 34 36 39",
          "07 15 16 19 28",
          "11 14 21 25 26",
          "01 04 11 31 47",
          "01 09 10 23 53",
          "08 10 35 36 43",
          "05 07 26 38 56",
          "11 16 31 52 53",
          "04 09 20 45 55",
          "16 24 41 43 54",
          "28 30 33 48 54",
          "06 13 42 46 56",
          "13 23 24 30 44",
          "02 07 11 22 36",
          "10 14 22 42 43",
          "02 24 44 51 54",
          "12 19 29 32 48",
          "27 35 38 49 56",
          "06 26 29 31 39",
          "03 13 19 31 50",
          "01 05 16 26 30",
          "05 16 31 49 54",
          "11 14 21 24 31",
          "04 10 20 29 45",
          "01 17 40 51 52",
          "21 35 37 39 40",
          "03 09 12 25 47",
          "19 24 30 34 56",
          "07 39 41 48 53",
          "16 30 38 46 51",
          "06 13 30 41 52",
          "08 17 20 23 50",
          "07 12 35 54 55",
          "05 18 37 39 43",
          "16 29 42 46 51",
          "36 41 50 55 56",
          "10 20 32 33 54",
          "05 08 09 24 34",
          "02 08 33 38 53",
          "08 38 54 55 56",
          "04 21 46 51 53",
          "37 40 48 53 56",
          "08 18 22 40 44",
          "03 06 11 42 46",
          "14 19 27 34 48",
          "09 10 17 21 35",
          "05 09 12 33 40",
          "20 24 31 34 49",
          "05 21 23 33 45",
          "02 19 23 47 54",
          "04 13 20 25 33",
          "28 37 40 43 44",
          "10 19 37 40 48",
          "01 10 17 32 51",
          "21 26 34 44 54",
          "01 02 05 41 44",
          "05 15 18 23 46",
          "02 07 45 52 53",
          "12 20 24 38 51",
          "02 08 44 46 51",
          "01 03 34 49 52",
          "03 17 43 46 47",
          "11 33 41 42 46",
          "15 26 36 39 40",
          "12 13 30 31 39",
          "14 20 23 42 43",
          "18 21 33 42 56",
          "09 10 26 29 39",
          "05 06 12 26 51",
          "16 27 30 45 53",
          "12 18 26 28 51",
          "06 25 27 30 45",
          "04 07 12 17 30",
          "03 23 46 48 49",
          "14 19 20 43 53",
          "02 19 22 28 54",
          "13 16 25 30 54",
          "24 31 39 40 56",
          "10 29 45 52 54",
          "22 36 42 45 55",
          "21 30 42 44 50",
          "12 22 33 43 44",
          "12 15 22 25 33",
          "05 12 22 38 56",
          "08 23 39 40 42",
          "03 14 30 44 56",
          "04 05 17 40 51",
          "21 30 43 46 50",
          "14 27 39 47 50",
          "07 11 26 30 53",
          "01 38 42 55 56",
          "07 12 13 19 22",
          "09 12 30 36 55",
          "05 17 22 26 55",
          "07 15 30 33 56",
          "19 32 33 41 48",
          "04 13 35 41 47",
          "03 12 18 25 52",
          "13 15 20 25 44",
          "05 08 17 19 41",
          "38 42 43 48 53",
          "07 26 27 40 43",
          "04 17 26 46 56",
          "03 05 40 45 49",
          "08 09 31 37 44",
          "14 18 27 31 42",
          "12 13 27 48 50",
          "24 28 36 50 53",
          "03 22 31 48 54",
          "19 32 37 45 52",
          "19 24 35 44 51",
          "08 28 37 53 55",
          "04 21 46 53 54",
          "16 31 43 46 56",
          "20 24 27 31 47",
          "06 11 39 46 47",
          "02 14 26 32 41",
          "04 08 11 22 30",
          "14 24 32 45 49",
          "39 40 47 53 55",
          "04 19 24 32 54",
          "08 09 43 44 54",
          "03 05 15 43 51",
          "08 09 14 38 44",
          "05 14 25 47 49",
          "11 17 25 36 42",
          "10 22 36 50 53",
          "08 14 22 39 50",
          "01 22 33 43 52",
          "01 03 12 19 20",
          "01 20 22 29 41",
          "05 14 16 39 51",
          "19 24 34 45 51",
          "17 29 36 53 55",
          "02 16 23 29 32",
          "02 16 19 35 52",
          "11 13 20 30 42",
          "09 13 17 18 56",
          "09 21 36 38 55",
          "11 17 28 32 50",
          "02 07 23 38 40",
          "08 23 29 30 53",
          "09 18 19 26 40",
          "12 13 15 41 42",
          "06 16 24 34 36",
          "21 25 26 50 51",
          "14 23 43 44 54",
          "01 06 15 27 46",
          "22 23 28 49 52",
          "01 12 14 25 35",
          "13 24 39 51 52",
          "02 09 41 48 51",
          "09 32 34 43 52",
          "06 13 14 31 36",
          "09 30 35 39 49",
          "13 28 32 41 52",
          "02 25 35 38 42",
          "14 15 43 46 48",
          "14 35 41 42 51",
          "07 15 27 28 31",
          "16 19 39 42 44",
          "05 33 34 47 52",
          "06 39 45 46 48",
          "02 07 17 29 47",
          "10 21 23 41 55",
          "14 24 32 43 44",
          "05 27 38 42 55",
          "03 18 19 30 34",
          "10 15 22 52 53",
          "01 22 52 53 56",
          "02 11 22 51 52",
          "10 30 44 46 48",
          "02 17 22 32 51",
          "21 27 46 52 55",
          "11 12 26 31 33",
          "10 16 19 27 48",
          "10 14 16 29 40",
          "03 13 16 39 54",
          "01 08 13 27 41",
          "06 19 29 33 37",
          "01 22 29 44 52",
          "02 11 19 21 34",
          "03 11 12 19 33",
          "23 25 30 45 50",
          "22 25 33 36 48",
          "02 04 21 39 51",
          "01 09 10 35 46",
          "02 17 20 27 28",
          "03 11 12 14 21",
          "13 16 19 53 55",
          "04 15 29 43 56",
          "02 12 18 28 31",
          "18 29 38 43 47",
          "25 36 37 40 51",
          "01 09 23 27 33",
          "21 28 41 45 55",
          "01 27 28 35 40",
          "24 37 44 50 56",
          "26 32 35 43 52",
          "11 18 37 46 55",
          "02 27 31 39 40",
          "10 12 26 46 50",
          "09 15 24 28 31",
          "15 16 20 39 40",
          "04 25 34 43 44",
          "10 15 24 38 50",
          "14 39 47 48 53",
          "16 22 38 39 48",
          "02 04 13 17 36",
          "18 25 36 42 51",
          "04 11 22 48 50",
          "05 13 26 35 45",
          "05 24 37 47 52",
          "09 20 21 48 49",
          "15 20 24 36 44",
          "09 16 24 40 43",
          "05 23 38 39 54",
          "12 27 29 32 34",
          "04 08 10 14 51",
          "07 12 24 36 48",
          "02 04 09 15 42",
          "03 29 34 42 49",
          "09 18 21 37 55",
          "23 30 36 39 48",
          "09 13 26 30 35",
          "05 20 38 41 52",
          "05 17 31 36 56",
          "06 11 20 32 44",
          "09 15 21 26 45",
          "04 09 12 16 46",
          "12 14 16 31 50",
          "11 15 17 29 46",
          "07 34 49 54 55",
          "05 06 07 11 25",
          "25 27 35 38 39",
          "05 10 26 27 28",
          "20 29 35 45 53",
          "08 17 40 47 50",
          "03 08 21 50 52",
          "03 06 43 51 52",
          "04 17 24 25 48",
          "17 35 44 52 56",
          "01 28 34 42 50",
          "07 18 35 45 56",
          "06 12 15 32 42",
          "08 22 25 33 35",
          "04 05 26 37 56",
          "09 38 44 48 49",
          "03 12 19 22 40",
          "01 17 31 37 54",
          "02 09 28 51 53",
          "02 04 06 21 44",
          "04 10 18 28 50",
          "16 27 48 49 54",
          "29 30 32 35 41",
          "18 27 31 36 52",
          "26 29 33 39 46",
          "07 27 42 49 52",
          "02 21 25 45 50",
          "15 24 51 53 55",
          "09 33 51 53 56",
          "03 14 21 24 51",
          "17 31 34 45 51",
          "10 13 18 33 51",
          "13 17 25 45 55",
          "27 45 48 54 56",
          "07 13 37 46 51",
          "04 15 17 29 38",
          "05 18 23 31 38",
          "07 11 27 40 46",
          "08 21 29 34 37",
          "27 43 45 49 54",
          "08 22 27 49 50",
          "03 04 07 16 56",
          "10 11 35 37 50",
          "12 25 37 39 45",
          "17 30 39 52 53",
          "04 33 41 51 56",
          "20 23 28 30 46",
          "02 21 27 34 44",
          "27 31 32 36 47",
          "10 20 30 44 49",
          "03 33 35 39 45",
          "02 05 29 35 51",
          "06 08 27 40 41",
          "13 28 39 50 55",
          "18 20 31 36 43",
          "05 09 31 37 56",
          "04 07 19 21 38",
          "04 05 34 38 41",
          "08 13 27 28 52",
          "07 08 38 39 48",
          "01 10 22 23 38",
          "06 07 26 27 49",
          "10 20 45 51 53",
          "02 17 20 26 48",
          "14 16 17 33 47",
          "11 12 21 29 45",
          "01 22 39 42 46",
          "04 16 36 40 53",
          "04 14 29 54 56",
          "09 12 47 48 56",
          "11 31 34 44 52",
          "14 16 18 19 29",
          "02 15 25 48 53",
          "03 22 48 52 56",
          "10 31 45 50 54",
          "03 25 28 29 40",
          "23 41 46 47 52",
          "01 11 24 38 44",
          "02 17 22 30 31",
          "16 43 44 52 56",
          "15 18 39 48 53",
          "03 12 27 39 47",
          "10 16 31 48 50",
          "05 08 10 34 42",
          "19 26 28 37 52",
          "23 37 41 50 55",
          "14 20 41 47 53",
          "09 21 31 36 43",
          "02 07 20 34 50",
          "26 33 43 46 54",
          "20 21 40 47 56",
          "11 13 19 37 40",
          "15 20 23 26 30",
          "05 14 17 19 24",
          "03 11 20 29 39",
          "12 27 44 45 51",
          "12 13 15 17 50",
          "12 18 28 48 54",
          "06 13 33 34 42",
          "04 12 13 21 27",
          "11 36 37 41 55",
          "12 17 21 23 30",
          "01 02 13 19 27",
          "03 04 15 27 37",
          "01 10 12 32 36",
          "08 18 45 47 50",
          "01 31 33 34 50",
          "07 11 14 15 34",
          "02 15 18 20 39",
          "12 18 28 36 43",
          "16 19 39 44 49",
          "02 07 10 16 29",
          "11 30 40 48 52",
          "04 13 20 22 56",
          "07 13 30 33 54",
          "02 14 26 50 56",
          "06 17 24 43 55",
          "11 19 40 43 44",
          "04 13 20 29 48",
          "04 23 24 28 32",
          "04 10 26 32 41",
          "10 20 29 47 48",
          "10 13 20 28 36",
          "08 18 22 24 38",
          "11 12 17 21 23",
          "06 14 50 55 56",
          "03 04 14 18 27",
          "03 20 43 47 52",
          "02 28 38 42 55",
          "02 10 13 36 38",
          "03 08 21 28 52",
          "10 19 24 37 44",
          "24 29 37 48 50",
          "10 31 36 37 43",
          "09 10 13 31 50",
          "02 09 14 37 42",
          "02 07 18 32 53",
          "15 21 30 31 32",
          "04 19 26 28 39",
          "01 03 12 16 54",
          "19 25 34 46 53",
          "08 26 28 33 53",
          "09 26 28 35 38",
          "01 26 27 39 46",
          "07 14 31 51 54",
          "02 06 12 34 35",
          "05 09 34 43 47",
          "11 16 19 47 53",
          "06 11 12 18 56",
          "04 38 45 53 54",
          "23 27 33 44 46",
          "18 22 25 31 38",
          "11 20 26 46 53",
          "08 11 12 31 32",
          "15 16 27 40 52",
          "06 18 36 40 49",
          "10 12 13 35 56",
          "04 08 15 25 47",
          "04 22 42 46 53",
          "01 04 11 16 45",
          "02 15 17 33 35",
          "04 27 29 38 45",
          "05 09 21 35 38",
          "05 08 31 46 50",
          "14 33 48 49 50",
          "16 22 23 26 35",
          "06 20 29 48 55",
          "25 35 36 47 48",
          "08 09 17 32 34",
          "17 18 24 35 39",
          "05 06 07 30 45",
          "15 22 23 48 55",
          "04 05 17 19 50",
          "01 12 19 20 47",
          "08 10 15 23 41",
          "03 17 19 41 55",
          "14 19 21 42 45",
          "10 11 12 28 43",
          "14 33 34 54 56",
          "01 14 35 50 53",
          "22 24 31 52 54",
          "06 15 23 34 38",
          "13 14 35 36 53",
          "01 19 20 31 36",
          "06 40 45 50 56",
          "10 23 39 41 45",
          "22 23 33 39 48",
          "20 24 32 45 51",
          "03 18 46 51 53",
          "19 29 32 38 55",
          "09 10 11 33 51",
          "01 16 29 36 50",
          "06 18 26 37 41",
          "11 16 34 40 51",
          "03 33 39 47 53",
          "01 02 17 25 48",
          "10 17 19 45 48",
          "09 12 21 42 43",
          "05 07 14 28 56",
          "28 30 31 37 55",
          "20 23 41 49 53",
          "29 32 35 47 52",
          "18 21 27 37 38",
          "09 10 20 51 53",
          "12 29 46 47 51",
          "11 24 25 31 46",
          "10 14 40 49 51",
          "12 17 27 47 48",
          "12 17 30 35 47",
          "01 10 13 18 46",
          "01 02 22 37 50",
          "03 09 11 44 49",
          "16 29 30 46 56",
          "02 09 10 16 35",
          "23 31 32 39 56",
          "20 25 35 52 55",
          "08 10 22 47 48",
          "14 17 19 20 32",
          "06 24 28 33 42",
          "11 19 39 45 54",
          "09 43 51 54 55",
          "04 38 41 42 43",
          "05 15 53 54 56",
          "11 21 44 48 49",
          "02 03 27 30 47",
          "02 22 25 28 50",
          "25 44 48 49 55",
          "01 36 38 42 49",
          "07 12 19 23 31",
          "22 31 43 48 56",
          "06 23 41 45 56",
          "06 29 38 50 51",
          "27 31 32 40 52",
          "02 20 28 36 45",
          "03 19 21 44 45",
          "03 26 40 45 52",
          "05 15 19 23 38",
          "25 34 38 44 56",
          "13 35 42 45 54",
          "24 25 45 47 53",
          "06 21 35 37 38",
          "13 33 40 44 46",
          "13 31 49 52 56",
          "27 31 39 40 46",
          "26 30 32 33 44",
          "05 31 45 47 54",
          "02 16 22 29 50",
          "03 06 24 30 33",
          "04 13 33 39 55",
          "04 16 23 33 48",
          "22 28 42 49 54",
          "17 29 43 48 52",
          "24 30 48 51 56",
          "07 21 29 35 49",
          "04 12 29 49 51",
          "05 06 22 26 41",
          "02 04 26 36 39",
          "20 24 27 45 51",
          "03 05 08 18 29",
          "23 32 33 39 43",
          "04 24 45 46 52",
          "02 03 15 22 36",
          "09 17 28 34 48",
          "04 10 16 38 48",
          "10 27 28 37 51",
          "03 15 31 36 53",
          "01 09 28 38 47",
          "10 22 24 36 49",
          "03 05 30 36 48",
          "09 17 18 28 43",
          "07 19 21 49 53",
          "17 23 30 37 45",
          "03 04 18 29 50",
          "03 05 10 26 27",
          "16 25 28 32 40",
          "09 30 39 42 47",
          "01 16 18 25 27",
          "06 15 29 39 51",
          "16 29 48 52 54",
          "20 24 31 33 36",
          "09 10 27 36 42",
          "02 08 30 36 48",
          "28 29 43 51 53",
          "01 04 06 11 14",
          "06 17 19 20 21",
          "09 19 34 44 51",
          "02 04 23 38 46",
          "11 35 38 41 52",
          "02 19 20 24 33",
          "02 06 12 31 48",
          "09 14 17 36 42",
          "01 16 24 32 48",
          "14 23 26 33 35",
          "03 09 15 37 38",
          "02 05 45 46 47",
          "24 27 31 45 52",
          "04 11 21 42 53",
          "02 06 08 18 51",
          "03 15 29 35 54",
          "10 11 12 14 24",
          "03 11 22 34 49",
          "10 14 35 43 52",
          "09 15 21 40 54",
          "02 14 29 53 55",
          "02 27 38 46 52",
          "37 39 42 53 55",
          "04 09 34 40 48",
          "02 09 17 34 50",
          "08 12 18 30 40",
          "11 21 27 30 53",
          "10 16 19 32 36",
          "03 16 23 35 36",
          "28 34 39 45 53",
          "03 04 24 36 52",
          "20 23 28 35 39",
          "03 11 19 23 36",
          "06 07 13 24 46",
          "01 13 21 49 55",
          "02 44 48 50 52",
          "05 09 38 46 51",
          "02 03 04 08 43",
          "05 18 21 29 41",
          "02 10 13 38 46",
          "30 32 33 42 48",
          "10 18 36 38 44",
          "15 23 34 39 55",
          "08 20 24 35 56",
          "05 13 20 23 33",
          "25 34 45 46 49",
          "04 09 40 45 50",
          "31 40 41 47 48",
          "16 32 39 41 53",
          "15 32 38 42 46",
          "05 11 20 33 36",
          "16 17 21 40 51",
          "05 09 22 36 49",
          "03 13 14 46 55",
          "07 08 23 50 51",
          "06 08 14 43 56",
          "10 11 20 42 55",
          "08 09 16 32 39",
          "06 15 16 22 37",
          "06 10 24 26 42",
          "13 37 40 46 52",
          "14 34 36 48 53",
          "01 17 42 46 55",
          "04 15 24 36 40",
          "05 12 18 29 56",
          "04 18 22 38 44",
          "03 05 13 32 35",
          "18 22 33 35 40",
          "06 12 31 46 56",
          "05 24 26 29 53",
          "09 13 22 38 52",
          "08 37 44 47 48",
          "05 12 26 42 49",
          "11 22 24 28 31",
          "03 19 24 32 43",
          "07 43 44 51 56",
          "39 44 51 52 54",
          "11 28 33 41 43",
          "01 06 07 18 29",
          "03 18 32 41 56",
          "02 03 18 34 48",
          "10 13 32 40 41",
          "04 11 21 25 44",
          "01 02 23 25 55",
          "03 20 21 38 42",
          "24 29 30 34 56",
          "01 06 12 19 41",
          "08 18 25 42 49",
          "07 11 16 39 54",
          "11 12 17 31 48",
          "08 12 27 46 47",
          "01 30 32 40 41",
          "02 05 10 26 44",
          "06 15 20 39 50",
          "09 22 32 38 55",
          "11 35 41 42 44",
          "01 15 19 30 56",
          "09 13 24 38 49",
          "06 07 13 15 43",
          "17 30 38 43 51",
          "06 20 39 41 46",
          "04 11 25 34 35",
          "09 12 19 20 30",
          "04 08 17 22 32",
          "03 06 14 21 37",
          "14 27 34 37 41",
          "20 33 46 49 51",
          "25 31 36 46 53",
          "07 10 14 40 47",
          "08 15 23 36 41",
          "17 30 41 48 54",
          "01 10 13 19 21",
          "02 05 15 18 39",
          "06 08 12 22 43",
          "09 21 22 32 50",
          "17 42 49 54 55",
          "21 30 34 39 49",
          "02 20 34 42 54",
          "01 06 13 20 51",
          "01 19 20 39 49",
          "06 10 12 28 32",
          "11 15 35 43 49",
          "02 15 17 48 55",
          "04 05 16 18 53",
          "04 12 25 32 54",
          "02 20 26 44 46",
          "10 11 12 20 55",
          "01 10 37 48 55",
          "15 40 45 50 53",
          "02 05 31 33 34",
          "06 17 34 40 48",
          "03 14 17 40 50",
          "03 05 28 33 51",
          "08 15 35 46 52",
          "36 42 51 52 53",
          "02 23 41 47 54",
          "03 21 43 45 48",
          "04 05 25 27 51",
          "10 14 21 40 53",
          "16 20 24 39 42",
          "25 32 35 50 51",
          "04 22 23 27 38",
          "25 27 36 42 44",
          "08 21 23 25 39",
          "01 11 16 51 55",
          "11 20 30 34 38",
          "02 31 32 37 41",
          "07 13 26 36 46",
          "13 28 35 38 41",
          "01 09 17 20 53",
          "04 07 30 36 38",
          "06 19 24 43 44",
          "04 13 14 28 41",
          "02 16 17 22 41",
          "02 12 18 54 56",
          "09 22 28 48 54",
          "06 15 27 31 39",
          "01 15 20 21 47",
          "04 11 32 39 40",
          "09 23 27 49 51",
          "07 10 30 37 53",
          "04 16 24 25 44",
          "06 15 19 23 40",
          "03 27 37 45 48",
          "04 23 30 43 50",
          "02 03 19 52 71",
          "06 16 45 54 60",
          "20 33 50 53 54",
          "32 35 49 62 67",
          "02 11 42 64 74",
          "41 42 51 57 65",
          "20 30 32 42 71",
          "25 44 49 54 63",
          "14 15 29 49 63",
          "17 23 35 36 44",
          "27 44 59 74 75",
          "09 41 43 47 57",
          "07 12 41 44 59",
          "11 29 44 63 64",
          "05 12 22 41 65",
          "19 24 26 27 70",
          "08 14 17 20 39",
          "03 04 31 49 57",
          "23 34 53 58 73",
          "04 15 35 48 49",
          "08 12 34 52 58",
          "22 24 25 40 70",
          "13 34 56 62 64",
          "08 28 36 37 57",
          "04 23 26 62 69",
          "01 10 26 31 51",
          "08 23 33 45 52",
          "22 45 46 47 65",
          "07 16 28 53 60",
          "03 09 13 47 52",
          "25 44 49 60 73",
          "11 21 23 35 64",
          "43 64 67 71 73",
          "20 28 35 71 72",
          "23 29 31 37 70",
          "23 29 32 45 46",
          "12 18 25 35 66",
          "03 31 50 58 59",
          "10 29 31 35 45",
          "11 13 51 57 69",
          "09 14 56 57 69",
          "07 20 40 54 69",
          "11 19 24 33 51",
          "02 23 30 35 53",
          "19 26 51 57 73",
          "02 03 09 50 73",
          "10 23 68 74 75",
          "01 10 15 41 54",
          "35 36 41 60 71",
          "03 42 44 47 57",
          "04 39 46 47 70",
          "18 25 38 45 63",
          "02 18 19 49 50",
          "03 11 18 20 66",
          "07 43 59 61 66",
          "01 18 26 35 40",
          "18 20 27 48 51",
          "10 28 39 51 59",
          "37 46 48 70 74",
          "13 14 16 50 56",
          "10 40 63 64 69",
          "12 14 21 38 70",
          "01 06 10 46 58",
          "10 13 42 43 62",
          "19 28 62 66 74",
          "12 29 37 49 72",
          "02 10 24 26 74",
          "07 38 46 49 56",
          "10 14 24 47 60",
          "01 22 25 29 56",
          "13 17 24 47 65",
          "15 29 31 46 64",
          "09 22 38 47 49",
          "16 33 39 58 69",
          "14 25 27 48 49",
          "09 13 30 35 69",
          "02 04 17 36 40",
          "05 08 59 65 72",
          "14 18 22 31 47",
          "22 29 33 41 68",
          "02 08 16 43 74",
          "13 29 34 37 72",
          "25 28 36 45 53",
          "09 16 61 70 75",
          "32 53 60 63 68",
          "16 19 28 29 68",
          "22 39 56 67 71",
          "05 31 34 41 74",
          "29 31 51 60 64",
          "03 26 45 58 73",
          "01 08 54 69 72",
          "07 12 20 24 59",
          "25 34 55 70 71",
          "18 28 33 36 42",
          "25 45 51 53 73",
          "16 25 27 29 34",
          "21 24 25 40 43",
          "17 26 35 46 62",
          "03 16 52 54 61",
          "03 20 34 58 67",
          "16 29 46 48 55",
          "02 32 35 50 59",
          "11 37 46 64 68",
          "21 31 43 56 60",
          "05 35 37 41 66",
          "02 14 21 28 55",
          "03 50 57 58 60",
          "11 29 36 58 67",
          "09 15 24 39 41",
          "31 35 41 65 66",
          "23 25 28 30 75",
          "03 49 61 62 68",
          "37 39 53 68 75",
          "03 12 35 37 63",
          "10 11 29 47 56",
          "08 26 29 36 47",
          "13 18 22 49 62",
          "04 05 11 51 59",
          "27 45 49 51 52",
          "02 31 46 58 65",
          "41 58 68 72 73",
          "14 18 58 59 68",
          "04 10 31 56 66",
          "02 05 10 20 38",
          "03 07 44 63 67",
          "13 15 35 62 74",
          "12 20 27 38 75",
          "37 49 50 56 57",
          "12 20 25 50 51",
          "26 32 44 45 58",
          "31 35 56 59 63",
          "14 15 32 68 72",
          "05 26 27 44 57",
          "18 31 39 45 55",
          "11 22 25 58 69",
          "05 06 17 33 68",
          "07 42 53 58 71",
          "04 20 44 65 74",
          "06 45 50 65 66",
          "02 06 08 52 66",
          "15 23 26 45 66",
          "07 49 53 60 64",
          "09 11 42 44 50",
          "30 48 55 68 73",
          "10 14 19 30 73",
          "08 22 30 42 45",
          "11 27 44 45 58",
          "07 50 54 61 75",
          "02 23 32 45 55",
          "17 21 36 58 70",
          "08 26 41 61 73",
          "10 36 47 63 74",
          "05 15 22 26 64",
          "06 11 32 46 68",
          "03 07 25 68 71",
          "15 18 29 41 50",
          "31 33 35 41 69",
          "24 25 29 47 67",
          "22 27 55 58 63",
          "17 18 61 66 74",
          "11 21 42 62 71",
          "09 21 25 66 72",
          "14 30 33 36 44",
          "11 17 21 36 74",
          "10 12 21 29 65",
          "03 14 15 25 48",
          "01 39 52 69 72",
          "20 27 38 49 66",
          "02 09 11 22 23",
          "07 22 27 41 49",
          "06 16 17 25 36",
          "01 40 42 56 62",
          "08 19 26 56 67",
          "04 35 36 52 68",
          "06 13 38 56 70",
          "12 23 33 47 50",
          "11 17 34 43 50",
          "33 50 64 71 72",
          "06 15 16 28 49",
          "24 27 45 51 54",
          "19 24 30 35 72",
          "06 17 30 31 41",
          "20 30 62 65 74",
          "10 12 26 60 62",
          "08 35 61 68 75",
          "28 32 33 40 46",
          "02 19 44 51 57",
          "01 38 53 63 66",
          "03 08 29 57 68",
          "12 15 20 52 71",
          "02 07 33 39 53",
          "13 15 21 41 72",
          "05 44 54 59 63",
          "13 35 40 60 68",
          "02 05 35 40 54",
          "17 21 39 52 57",
          "19 20 36 41 46",
          "05 11 31 50 67",
          "07 20 35 49 56",
          "17 34 35 51 65",
          "28 30 38 45 51",
          "03 08 38 51 64",
          "08 21 30 61 62",
          "04 14 29 31 47",
          "17 58 63 64 66",
          "08 09 21 63 75",
          "07 09 24 38 52",
          "02 38 48 61 68",
          "06 25 35 38 52",
          "25 32 37 45 70",
          "09 26 27 29 74",
          "17 41 51 53 56",
          "16 29 44 69 74",
          "10 31 35 50 72",
          "08 17 20 45 71",
          "17 18 31 35 59",
          "12 14 18 24 61",
          "09 12 29 37 67",
          "02 19 30 38 70",
          "16 20 39 56 59",
          "05 07 25 50 59",
          "26 42 47 61 73",
          "07 17 37 49 73",
          "14 20 43 54 69",
          "18 25 47 51 61",
          "06 23 24 28 62",
          "11 21 40 50 70",
          "15 25 29 44 51",
          "20 25 55 62 74",
          "07 18 37 38 39",
          "01 04 36 48 57",
          "11 39 51 57 75",
          "15 27 29 31 48",
          "29 41 53 54 70",
          "02 17 31 39 47",
          "21 25 40 46 56",
          "14 27 39 50 69",
          "20 28 49 51 52",
          "07 13 25 51 70",
          "04 06 23 55 75",
          "03 42 46 56 71",
          "01 07 44 68 73",
          "09 31 33 46 64",
          "02 27 41 50 75",
          "16 32 39 53 57",
          "03 15 19 62 74",
          "01 29 33 34 55",
          "21 26 33 48 73",
          "27 37 54 66 69",
          "14 18 48 54 71",
          "18 26 30 44 68",
          "05 08 57 59 73",
          "06 19 34 38 70",
          "04 11 12 35 46",
          "33 38 40 46 49",
          "25 28 33 41 69",
          "13 45 52 53 57",
          "31 38 52 65 71",
          "07 11 59 62 63",
          "09 10 34 37 73",
          "09 28 40 57 65",
          "02 19 21 42 60",
          "14 16 17 28 48",
          "05 06 37 55 74",
          "28 29 33 36 45",
          "14 26 27 32 36",
          "12 22 46 56 74",
          "20 21 38 54 66",
          "17 24 27 48 75",
          "19 24 26 40 68",
          "11 50 51 70 75",
          "18 41 50 68 70",
          "09 31 34 41 49",
          "32 54 65 66 71",
          "25 48 51 65 72",
          "34 61 66 67 68",
          "36 37 38 52 62",
          "20 23 30 44 59",
          "06 13 21 49 50",
          "11 14 54 57 63",
          "15 17 20 35 55",
          "20 41 42 45 49",
          "29 46 53 64 73",
          "08 19 20 55 73",
          "06 08 22 46 68",
          "16 51 52 56 58",
          "03 34 54 65 66",
          "08 24 25 26 30",
          "01 04 31 36 54",
          "11 16 19 31 48",
          "03 12 36 54 70",
          "05 18 28 54 74",
          "12 19 20 44 66",
          "04 41 44 56 69",
          "02 43 52 62 63",
          "22 37 45 65 73",
          "02 07 46 61 66",
          "10 11 31 41 44",
          "28 32 41 51 71",
          "22 28 41 46 60",
          "25 37 58 69 75",
          "01 34 43 44 63",
          "06 15 17 39 56",
          "13 21 28 34 40",
          "02 22 34 62 72",
          "01 05 08 25 62",
          "14 16 26 53 72",
          "21 30 47 50 57",
          "18 29 30 54 66",
          "24 37 42 50 65",
          "36 39 42 45 48",
          "07 27 60 64 74",
          "07 24 28 65 74",
          "12 43 44 48 66",
          "08 09 24 49 67",
          "07 38 46 57 66",
          "19 24 31 39 45",
          "10 29 32 44 46",
          "46 48 53 61 74",
          "16 40 47 53 59",
          "09 17 23 57 71",
          "31 32 49 55 58",
          "01 43 45 66 69",
          "44 47 49 69 75",
          "22 33 49 51 59",
          "03 33 35 49 51",
          "13 34 48 53 63",
          "19 27 47 67 68",
          "02 15 26 34 41",
          "01 08 15 36 43",
          "01 12 14 48 65",
          "21 30 39 60 69",
          "02 28 30 38 39",
          "06 21 33 39 43",
          "14 16 23 49 53",
          "06 10 44 47 54",
          "11 20 40 41 59",
          "10 44 58 74 75",
          "20 31 54 56 59",
          "07 09 24 41 53",
          "08 42 54 63 67",
          "17 37 53 54 61",
          "03 14 27 62 72",
          "03 06 29 30 64",
          "23 28 37 56 71",
          "32 39 51 62 75",
          "07 11 33 60 68",
          "04 56 58 67 75",
          "09 21 30 32 75",
          "12 29 33 42 68",
          "20 33 45 58 69",
          "14 26 39 48 51",
          "03 30 45 53 68",
          "26 38 42 58 70",
          "16 23 28 33 59",
          "11 27 31 58 60",
          "04 45 53 73 75",
          "05 28 37 61 69",
          "30 33 35 37 46",
          "17 24 27 32 58",
          "13 24 34 35 55",
          "30 33 43 47 69",
          "19 34 35 38 49",
          "05 10 55 60 73",
          "08 29 30 43 64",
          "01 12 13 32 34",
          "03 13 33 40 50",
          "06 13 18 20 31",
          "05 14 42 43 58",
          "04 23 33 47 53",
          "06 29 45 69 73",
          "28 34 41 42 47",
          "04 35 39 56 72",
          "01 04 05 24 30",
          "06 13 17 33 60",
          "25 26 28 37 56",
          "05 20 32 37 67",
          "07 42 57 69 72",
          "03 05 16 49 75",
          "03 16 28 33 37",
          "27 51 62 68 75",
          "18 22 26 30 44",
          "02 15 41 49 63",
          "12 20 53 66 74",
          "04 21 45 52 57",
          "10 38 51 55 64",
          "16 39 47 53 71",
          "02 09 11 28 60",
          "07 18 24 55 74",
          "11 12 24 32 73",
          "08 12 23 51 73",
          "18 31 36 50 74",
          "02 05 26 58 60",
          "04 06 31 49 52",
          "20 22 52 57 73",
          "09 17 25 63 71",
          "11 17 50 52 74",
          "23 33 53 56 58",
          "07 16 20 66 73",
          "01 31 34 40 75",
          "24 35 46 50 51",
          "17 38 42 51 65",
          "02 13 17 35 73",
          "04 13 31 50 64",
          "11 17 59 70 72",
          "04 05 14 26 73",
          "26 37 41 54 65",
          "18 24 34 38 58",
          "09 28 31 50 61",
          "05 39 54 63 66",
          "01 10 57 66 75",
          "25 51 62 73 74",
          "12 18 19 25 67",
          "21 33 36 45 56",
          "07 16 24 61 62",
          "02 07 18 26 31",
          "31 45 49 56 70",
          "06 23 63 66 73",
          "20 24 34 56 64",
          "17 27 41 51 52",
          "06 28 31 52 53",
          "10 22 42 61 69",
          "01 54 60 68 69",
          "06 23 38 42 58",
          "01 14 21 22 28",
          "03 26 55 58 70",
          "03 07 22 27 50",
          "16 36 54 61 64",
          "10 17 47 51 61",
          "16 22 40 41 59",
          "14 15 37 42 67",
          "06 37 46 60 70",
          "08 23 24 25 27",
          "04 12 36 44 57",
          "28 37 39 42 58",
          "01 20 30 33 42",
          "10 12 20 38 41",
          "04 10 18 28 62",
          "01 42 47 64 70",
          "28 30 39 59 70",
          "16 29 31 65 67",
          "17 18 33 46 60",
          "03 11 23 29 59",
          "03 17 23 49 66",
          "02 06 30 31 55",
          "10 16 27 38 43",
          "29 41 42 49 57",
          "01 04 14 17 40",
          "14 17 25 48 58",
          "28 34 41 46 47",
          "05 12 15 46 49",
          "14 38 48 53 58",
          "17 19 23 24 43",
          "07 11 13 19 58",
          "10 17 21 38 43",
          "24 28 42 60 64",
          "01 04 26 35 39",
          "07 17 18 46 66",
          "06 30 58 60 61",
          "01 13 26 33 52",
          "14 38 51 64 70",
          "04 08 23 53 59",
          "07 25 43 56 59",
          "11 28 31 46 59",
          "04 29 39 42 62",
          "16 33 51 54 67",
          "05 13 31 43 53",
          "08 09 32 42 59",
          "12 34 44 47 65",
          "01 15 18 32 45",
          "03 19 31 32 48",
          "02 29 38 63 66",
          "02 07 20 55 70",
          "04 05 10 12 18",
          "08 15 39 64 67",
          "14 38 40 53 70",
          "21 34 44 49 61",
          "09 26 53 64 66",
          "16 17 21 36 48",
          "11 14 51 64 68",
          "02 11 55 58 67",
          "05 24 52 62 66",
          "22 33 41 48 52",
          "14 30 33 44 56",
          "01 03 05 08 70",
          "01 11 37 47 51",
          "11 13 28 65 70",
          "02 06 11 27 44",
          "17 25 29 39 60",
          "02 32 47 49 68",
          "13 35 45 49 68",
          "02 10 46 50 56",
          "01 17 28 56 70",
          "21 22 39 59 68",
          "40 41 61 66 67",
          "01 14 30 44 62",
          "01 02 04 19 29",
          "01 32 40 49 63",
          "12 15 35 64 69",
          "09 28 30 54 60",
          "02 13 15 21 62",
          "01 03 12 22 42",
          "11 26 44 45 46",
          "01 31 32 47 56",
          "14 16 19 38 57",
          "01 06 13 18 49",
          "03 20 33 34 41",
          "07 18 29 32 45",
          "02 07 25 35 44",
          "08 10 41 54 68",
          "15 30 51 62 67",
          "23 30 40 43 66",
          "31 32 43 63 68",
          "01 02 11 52 64",
          "08 16 32 48 61",
          "39 45 52 56 59",
          "02 22 29 31 34",
          "27 28 32 41 69",
          "20 22 39 54 60",
          "04 24 46 61 70",
          "03 45 49 61 69",
          "15 23 53 65 70",
          "05 28 62 65 70",
          "01 28 61 62 63",
          "20 31 39 46 49",
          "03 23 28 46 62",
          "28 34 37 56 69",
          "08 14 27 57 67",
          "34 46 57 65 69",
          "33 36 63 68 69",
          "10 16 31 42 66",
          "07 10 30 33 59",
          "12 24 37 42 57",
          "25 28 40 43 63",
          "28 31 41 42 50",
          "04 10 20 33 57",
          "04 38 39 54 59",
          "05 22 26 43 49",
          "13 22 32 60 69",
          "10 13 61 62 70",
          "02 08 42 43 50",
          "09 10 25 37 38",
          "34 44 57 62 70",
          "21 29 35 54 60",
          "13 26 29 38 64",
          "04 05 31 62 69",
          "29 52 58 60 62",
          "02 43 48 62 64",
          "04 15 37 59 64",
          "08 16 30 38 61",
          "10 33 53 54 62",
          "02 37 48 66 68",
          "03 34 36 59 66",
          "14 24 31 42 48",
          "15 32 39 50 65",
          "10 38 40 43 65",
          "17 24 34 56 65",
          "18 24 31 34 55",
          "10 12 14 24 60",
          "29 33 39 60 66",
          "15 20 32 37 52",
          "04 09 42 62 68",
          "10 12 16 49 57",
          "03 29 56 62 64",
          "10 42 53 67 68",
          "07 36 58 60 62",
          "04 14 22 43 58",
          "05 14 15 62 66",
          "33 47 58 59 64",
          "08 22 24 38 64",
          "11 22 34 44 58",
          "01 24 25 40 70",
          "11 29 34 48 54",
          "18 25 43 44 57",
          "07 24 30 48 67",
          "09 17 23 30 46",
          "24 37 41 61 70",
          "08 16 22 66 68",
          "03 06 34 54 63",
          "03 16 21 61 62",
          "11 59 66 67 68",
          "05 17 28 32 63",
          "10 50 55 56 58",
          "14 41 44 56 62",
          "09 21 34 42 50",
          "07 08 26 65 67",
          "25 37 46 48 68",
          "17 19 27 40 68",
          "20 34 39 43 57",
          "19 40 47 57 65",
          "12 14 22 24 48",
          "13 30 36 48 62",
          "24 33 45 47 61",
          "02 35 49 53 63",
          "03 25 37 40 55",
          "06 38 47 57 63",
          "12 26 40 48 64",
          "08 25 38 56 59",
          "08 16 31 48 52",
          "16 18 28 33 67",
          "01 04 23 40 45",
          "04 06 11 43 48",
          "10 24 28 33 38",
          "11 20 26 48 70",
          "11 17 31 43 55",
          "15 53 56 59 63",
          "07 27 31 34 51",
          "04 14 24 26 46",
          "08 14 25 51 63",
          "11 15 37 54 68",
          "08 12 23 39 43",
          "03 09 11 34 39",
          "13 20 27 61 62",
          "04 11 13 19 31",
          "34 47 48 50 55",
          "06 16 37 59 62",
          "12 15 30 50 65",
          "23 24 42 48 53",
          "06 14 24 42 46",
          "12 20 31 43 45",
          "10 17 39 42 59",
          "11 38 44 48 70",
          "05 08 10 17 48",
          "14 22 30 37 60",
          "04 12 14 35 70",
          "18 58 60 65 67",
          "05 11 14 23 25",
          "16 24 25 52 60",
          "04 09 17 27 39",
          "09 20 36 41 54",
          "02 09 24 49 54",
          "03 04 10 39 58",
          "19 30 44 56 65",
          "12 19 34 35 68",
          "22 43 44 47 66",
          "07 12 17 49 53",
          "08 27 29 38 43",
          "06 08 31 50 65",
          "23 43 60 63 69",
          "20 31 40 46 61",
          "18 31 46 54 61",
          "17 21 29 39 56",
          "22 30 53 55 56",
          "03 20 23 35 60",
          "27 37 48 63 66",
          "17 34 40 63 64",
          "30 44 49 53 56",
          "37 41 42 53 63",
          "25 40 41 52 56",
          "17 27 49 51 66",
          "09 11 13 31 47",
          "03 25 30 54 70",
          "16 18 29 31 37",
          "03 04 18 23 38",
          "17 36 47 51 62",
          "28 31 33 57 62",
          "32 48 50 51 64",
          "09 14 27 36 52",
          "04 06 32 52 64",
          "10 32 48 54 55",
          "06 12 39 61 70",
          "04 07 13 16 60",
          "02 09 43 49 63",
          "02 03 14 41 64",
          "08 12 33 56 64",
          "15 48 56 58 70",
          "06 17 48 54 69",
          "07 22 37 43 44",
          "20 27 28 58 59",
          "34 35 41 45 54",
          "02 08 16 18 31",
          "03 25 28 50 60",
          "08 17 51 57 70",
          "24 38 44 57 58",
          "25 33 43 51 68",
          "02 11 21 57 60",
          "29 47 65 69 70",
          "13 35 39 46 55",
          "13 15 24 67 70",
          "01 27 32 60 67",
          "13 19 53 54 63",
          "28 30 31 35 66",
          "07 13 17 21 45",
          "05 20 22 61 70",
          "07 16 27 44 52",
          "11 17 32 33 46",
          "08 19 25 36 66",
          "08 10 20 44 46",
          "34 52 58 59 62",
          "10 13 32 41 51",
          "09 20 23 26 29",
          "32 35 37 47 55",
          "01 05 09 10 23",
          "09 14 57 67 70",
          "21 23 33 35 42",
          "11 34 36 52 66",
          "06 20 37 40 48",
          "19 33 37 56 57",
          "09 16 29 37 53",
          "20 40 44 45 50",
          "16 20 25 30 43",
          "10 15 20 49 53",
          "06 26 55 56 64",
          "12 13 21 46 57",
          "14 25 26 41 43",
          "08 33 39 54 58",
          "17 20 27 31 34",
          "12 35 46 48 69",
          "02 22 30 42 62",
          "04 44 53 64 70",
          "08 22 29 43 56",
          "03 24 29 42 47",
          "04 18 26 27 58",
          "11 15 31 42 63",
          "08 10 15 17 57",
          "03 09 50 53 64",
          "15 25 26 38 47",
          "19 22 24 28 53",
          "07 10 15 31 57",
          "03 15 42 48 56",
          "25 28 38 59 62",
          "26 29 41 52 64",
          "36 43 44 55 68",
          "20 36 37 48 67",
          "14 39 43 44 67",
          "09 38 47 49 68",
          "15 16 18 39 59",
          "05 11 25 27 64",
          "11 44 45 46 70",
          "27 32 50 52 57",
          "46 54 57 58 66",
          "18 34 44 60 69",
          "06 13 34 46 62",
          "14 19 34 39 59",
          "07 31 44 45 55",
          "18 24 27 34 60",
          "23 45 53 58 62",
          "06 07 14 28 59",
          "08 13 35 46 68",
          "26 33 45 61 68",
          "09 15 34 61 64",
          "04 10 27 35 58",
          "07 33 53 61 65",
          "03 19 24 44 50",
          "15 19 33 39 68",
          "19 31 37 55 67",
          "01 10 18 20 46",
          "07 15 25 51 60",
          "29 53 56 59 67",
          "17 23 36 69 70",
          "01 31 35 48 62",
          "08 24 53 68 69",
          "20 43 51 55 57",
          "03 06 16 18 58",
          "12 14 26 28 33",
          "03 11 12 38 43",
          "10 19 26 28 50",
          "04 26 42 50 60",
          "29 49 56 66 67",
          "04 44 58 59 70",
          "13 37 38 40 67",
          "14 17 28 29 44",
          "07 18 21 31 40",
          "05 14 24 25 27",
          "01 36 44 54 66",
          "27 32 47 50 53",
          "05 07 09 20 57",
          "11 15 37 62 64",
          "04 08 13 34 64",
          "10 11 17 27 54",
          "04 33 46 58 65",
          "02 24 25 31 65",
          "10 41 46 52 69",
          "09 14 40 58 69",
          "12 23 35 38 55",
          "04 25 37 46 67",
          "11 37 47 53 56",
          "10 42 48 53 62",
          "01 19 20 32 42",
          "22 26 27 58 66",
          "10 15 19 45 68",
          "17 27 28 50 55",
          "06 23 43 49 52",
          "04 28 29 30 60",
          "15 22 30 41 42",
          "08 19 26 48 49",
          "04 27 32 57 63",
          "05 10 19 21 50",
          "07 08 20 36 39",
          "03 18 41 44 68",
          "03 05 56 61 66",
          "06 09 17 18 48",
          "14 21 31 34 54",
          "10 14 20 47 70",
          "07 11 33 58 63",
          "04 30 34 41 64",
          "09 22 39 41 54",
          "04 43 56 63 68",
          "18 22 27 38 52",
          "14 36 44 46 53",
          "01 26 48 51 59",
          "17 20 42 45 65",
          "07 38 50 52 69",
          "08 31 32 34 45",
          "18 47 63 68 69",
          "06 37 39 41 46",
          "03 10 17 26 55",
          "24 25 47 52 57",
          "10 26 30 52 57",
          "13 17 19 40 69",
          "02 35 36 54 64",
          "19 26 31 52 68",
          "01 09 17 27 34",
          "09 18 40 46 69",
          "29 45 50 59 62",
          "17 21 35 40 53",
          "03 06 16 38 56",
          "41 43 51 57 70",
          "17 18 26 52 67",
          "01 10 44 47 56",
          "08 14 31 58 68",
          "07 10 12 61 65",
          "15 17 25 32 53",
          "20 32 35 47 64",
          "04 13 19 63 64",
          "17 32 40 59 61",
          "36 41 45 51 56",
          "17 21 27 43 56",
          "18 30 43 68 69",
          "21 25 36 62 63",
          "07 11 18 30 36",
          "21 24 36 40 70",
          "21 26 56 61 65",
          "03 20 31 34 65",
          "03 12 13 19 52",
          "09 14 26 29 66",
          "06 14 19 56 62",
          "15 26 28 35 45",
          "05 10 26 58 65",
          "10 15 20 66 68",
          "09 14 16 26 49",
          "30 32 42 46 48",
          "06 22 44 53 65",
          "05 23 52 53 59",
          "07 24 54 57 58",
          "07 27 37 42 59",
          "07 08 26 30 39",
          "22 45 48 58 61",
          "01 07 40 43 68",
          "23 25 40 42 60",
          "33 35 44 55 69",
          "21 32 38 48 62",
          "25 31 58 64 67",
          "16 17 25 36 37",
          "03 05 08 31 38",
          "02 05 30 46 61",
          "04 06 16 21 22",
          "07 29 43 56 57",
          "02 03 19 52 58",
          "05 08 13 22 48",
          "04 19 39 42 52",
          "38 45 46 55 67",
          "03 12 38 53 58",
          "03 16 25 44 55",
          "11 24 38 62 66",
          "07 16 34 44 61",
          "01 17 20 52 54",
          "11 16 23 24 30",
          "02 04 15 21 63",
          "06 11 50 63 68",
          "06 17 22 57 62",
          "15 31 40 56 66",
          "18 22 38 39 50",
          "11 19 28 46 47",
          "07 18 38 58 64",
          "24 28 39 44 66",
          "09 14 28 59 60",
          "02 06 25 40 45",
          "08 15 21 27 61",
          "03 13 42 51 58",
          "07 22 36 45 47",
          "26 42 47 48 63",
          "22 43 60 63 64",
          "08 11 29 32 40",
          "02 08 14 20 31",
          "04 17 20 46 64",
          "02 09 33 47 53",
          "07 28 29 58 59",
          "05 07 19 46 69",
          "09 11 34 49 66",
          "15 19 27 35 57",
          "16 21 33 52 70",
          "15 19 20 61 70",
          "11 41 43 44 65",
          "07 21 24 41 65",
          "33 40 59 60 69",
          "03 05 06 63 68",
          "03 14 40 53 54",
          "06 15 41 63 64",
          "11 16 22 48 59",
          "04 34 40 41 53",
          "03 12 14 18 32",
          "30 37 38 42 58",
          "20 36 53 56 69",
          "08 13 18 32 42",
          "01 07 11 25 56",
          "07 12 21 43 55",
          "01 27 29 38 62",
          "27 31 50 51 61",
          "20 36 61 62 69",
          "04 07 10 45 64",
          "08 20 26 53 64",
          "02 31 32 37 70",
          "14 40 60 64 66",
          "07 29 60 63 66",
          "13 36 45 57 67",
          "10 14 25 37 63",
          "02 05 29 64 69",
          "01 08 10 25 32",
          "23 24 50 54 64",
          "33 35 41 45 51",
          "12 18 24 46 65",
          "03 05 47 48 67",
          "06 27 30 38 64",
          "02 38 55 57 65",
          "39 40 52 60 67",
          "06 17 46 59 68",
          "16 21 54 55 69",
          "14 25 38 59 64",
          "15 30 35 38 66",
          "09 21 28 30 52",
          "05 50 53 58 64",
          "08 14 24 43 51",
          "16 26 37 40 51",
          "15 18 25 33 38",
          "06 11 29 36 55",
          "03 07 11 13 38",
          "09 22 26 41 44",
          "01 15 20 44 67",
          "34 36 43 45 68",
          "21 30 35 45 66",
          "04 18 31 53 69",
          "05 09 15 16 17",
          "02 20 47 55 59",
          "05 13 29 38 59",
          "01 05 17 37 70",
          "06 19 28 46 61",
          "02 14 16 38 66",
          "13 23 24 25 43",
          "29 31 46 54 67",
          "20 23 37 46 52",
          "01 21 36 46 52",
          "15 16 19 28 47",
          "08 19 53 61 69",
          "14 22 48 58 68",
          "08 35 40 53 56",
          "03 04 33 36 52",
          "15 21 32 38 62",
          "09 13 36 59 61",
          "01 03 06 44 51",
          "25 29 33 41 44",
          "03 20 46 59 63",
          "07 13 14 15 18",
          "30 43 45 46 61",
          "02 12 18 24 39",
          "20 29 31 64 66",
          "33 41 47 50 62",
          "04 43 46 47 61",
          "07 09 18 29 39",
          "01 04 50 54 59",
          "09 15 46 55 57",
          "20 29 30 52 58",
          "23 24 35 40 43",
          "02 33 38 57 70",
          "02 15 30 36 63",
          "02 22 49 65 67",
          "14 16 40 52 59",
          "08 25 36 39 67",
          "15 22 25 28 69",
          "09 20 59 60 63",
          "01 07 23 38 55",
          "26 28 29 39 49",
          "01 21 25 27 40",
          "14 17 33 42 66",
          "02 03 18 32 68",
          "16 26 27 42 61",
          "01 37 45 62 64",
          "12 32 49 51 66",
          "31 35 53 54 55",
          "23 27 41 48 51",
          "07 09 15 19 25",
          "03 21 29 46 63",
          "08 29 46 47 48",
          "18 38 53 62 64",
          "03 15 16 32 41",
          "16 18 28 42 43",
          "04 37 46 48 51",
          "01 02 23 40 45",
          "15 34 36 69 70",
          "05 11 41 44 55",
          "03 10 22 65 66",
          "12 20 37 41 64",
          "13 16 40 64 68",
          "03 16 19 36 60",
          "06 12 23 29 57",
          "03 19 53 60 68",
          "08 10 19 44 47",
          "04 24 34 45 57",
          "06 37 39 45 46",
          "13 62 65 67 69",
          "08 34 35 41 52",
          "13 22 47 51 55",
          "21 33 54 61 67",
          "08 10 17 55 66",
          "10 17 33 51 64",
          "10 24 48 51 66",
          "19 22 31 37 54",
          "29 40 47 50 57",
          "03 05 06 44 61",
          "05 10 28 52 63",
          "08 24 30 45 61",
          "11 30 45 52 56",
          "13 19 20 32 33",
          "08 09 18 35 41",
          "18 39 42 57 63",
          "10 20 29 44 66",
          "01 12 26 36 50",
          "12 23 26 31 38",
          "09 39 52 61 63",
          "10 31 42 43 55",
          "03 43 50 51 65",
          "03 12 17 51 62",
          "02 14 21 42 67",
          "05 13 29 50 53",
          "06 09 13 29 66",
          "10 13 14 57 66",
          "15 30 35 42 60",
          "18 40 47 55 64",
          "03 19 32 39 59",
          "12 24 46 57 66",
          "03 08 17 46 63",
          "06 18 44 46 68",
          "05 06 29 32 61",
          "07 29 36 49 61",
          "16 20 30 54 59",
          "11 32 43 57 70",
          "14 35 37 55 70",
          "15 32 38 47 65",
          "03 11 33 42 52",
          "13 33 59 68 70",
          "29 35 59 61 69",
          "06 12 31 33 69",
          "17 22 25 30 38",
          "06 15 45 59 68",
          "27 37 42 59 61",
          "12 47 49 52 65",
          "18 35 40 64 67",
          "21 26 53 66 70",
          "08 23 44 45 53",
          "10 20 28 40 54",
          "17 26 50 58 61",
          "10 26 36 54 69",
          "08 10 22 58 64",
          "11 27 30 62 70",
          "03 18 27 29 64",
          "05 23 26 38 44",
          "12 15 32 33 53",
          "19 34 35 45 67",
          "02 10 42 49 54",
          "01 09 16 17 30",
          "21 28 58 69 70",
          "14 31 34 50 61",
          "03 05 16 58 59",
          "11 22 42 64 69",
          "02 10 31 44 57",
          "17 22 29 46 69",
          "01 03 19 25 58",
          "19 23 39 42 67",
          "05 45 55 58 68",
          "04 06 40 41 60",
          "06 18 26 27 49",
          "15 33 37 55 61",
          "02 49 50 61 70",
          "19 20 22 47 58",
          "02 16 31 57 64",
          "13 25 50 51 66",
          "24 46 49 62 66",
          "03 08 31 35 44",
          "07 11 22 29 38",
          "11 30 33 38 60",
          "10 50 56 60 66",
          "20 30 54 63 65",
          "34 43 51 52 69",
          "01 12 14 18 66",
          "21 26 36 44 59",
          "19 30 34 46 58",
          "11 17 33 39 43",
          "15 23 53 57 61",
          "10 18 27 37 61",
          "06 13 15 53 56",
          "26 28 36 63 66",
          "13 22 26 32 65",
          "13 19 43 62 64",
          "08 17 40 60 70",
          "02 05 08 28 69",
          "46 54 56 67 70",
          "12 18 48 57 62",
          "04 11 23 33 49",
          "19 37 40 63 69",
          "03 05 12 22 66",
          "01 05 07 22 24",
          "01 25 26 31 65",
          "21 22 50 55 67",
          "03 18 27 40 44",
          "03 16 27 47 62",
          "28 31 33 42 66",
          "04 08 19 31 45",
          "06 15 32 54 67",
          "21 26 54 60 64",
          "15 35 48 53 68",
          "05 35 42 58 66",
          "10 17 23 50 67",
          "03 09 14 26 51",
          "02 14 33 58 65",
          "19 23 30 33 50",
          "06 07 24 44 54",
          "23 29 36 61 70",
          "12 32 38 40 57",
          "34 55 59 65 70",
          "22 38 48 51 61",
          "05 20 26 49 51",
          "28 30 44 66 69",
          "16 18 21 54 65",
          "10 17 20 24 54",
          "12 41 43 52 55",
          "06 23 41 59 63",
          "01 02 16 24 66",
          "21 55 56 57 66",
          "14 31 48 57 64",
          "20 21 40 49 55",
          "01 06 10 23 27",
          "29 46 53 69 70",
          "27 35 47 50 66",
          "21 39 42 43 45",
          "03 19 20 22 66",
          "03 10 29 52 57",
          "22 34 44 54 62",
          "04 09 26 39 58",
          "08 43 48 58 60",
          "23 26 35 41 43",
          "16 22 26 36 56",
          "11 22 42 46 51",
          "02 24 25 52 58",
          "25 28 42 64 69",
          "18 31 33 64 68",
          "05 17 35 55 69",
          "05 35 50 51 59",
          "13 20 26 32 65",
          "05 22 24 39 42",
          "03 29 34 37 38",
          "52 60 61 66 67",
          "16 21 33 39 45",
          "12 14 26 48 52",
          "36 43 52 58 65",
          "56 66 67 68 69",
          "02 20 51 56 67",
          "11 14 38 45 46",
          "03 07 37 49 55",
          "13 22 27 29 35",
          "20 42 46 59 69",
          "20 24 33 39 48",
          "09 23 39 65 66",
          "04 14 35 49 62",
          "08 10 37 54 69",
          "27 30 56 64 65",
          "08 12 43 52 62",
          "10 19 31 47 56",
          "09 28 48 56 63",
          "14 24 31 53 54",
          "04 24 32 41 55",
          "07 30 39 41 70",
          "11 19 31 49 56",
          "01 20 25 58 61",
          "01 13 28 37 46",
          "04 08 11 32 52",
          "09 19 30 35 66",
          "14 19 47 52 70",
          "08 20 48 58 60",
          "01 19 26 38 69",
          "03 17 39 42 70",
          "27 28 31 32 33",
          "15 22 31 52 57",
          "01 05 17 39 62",
          "02 09 31 60 63",
          "11 12 21 29 49",
          "11 28 35 37 69",
          "10 16 50 60 61",
          "15 37 38 56 58",
          "06 10 13 24 63",
          "05 13 15 17 28",
          "25 39 49 52 65",
          "38 40 60 62 70",
          "16 33 40 51 57",
          "14 37 40 41 68",
          "16 17 43 46 58",
          "09 10 12 48 60",
          "06 29 33 47 68",
          "02 22 42 62 66",
          "18 30 33 55 64",
          "07 18 40 55 68",
          "06 28 34 48 62",
          "02 28 37 38 58"
         ],
         "marker": {
          "color": {
           "bdata": "ISksHS4eHCElGycbMiMdLCYxJSAlGxwoKxIsFy0SKjExFSgaBSohIC0vGiIwJCcpFxwvMDEoFh8qKCQQGB0uKx4qJSIiLyoyKCATFhowICooJTAlJBwfHSgoGy0fJiYnMhwwISAsFjEaLCEUIR0nIBQoDCwfLSUdECsmJjIgHiYoIykcICwqICknJh4iMS0oHygqIS4zHigkLBoVKR4kKCwiEhgtLiMWFCAsGS8VLBUuJigjHhYrJBUxJCgxJCMxICclKS4gCzIqLi8XJyUsIiQuJiQnGiklJx0PKSAcJx8dJyMgIw0iECYfLRwlLy4qJiYtJiYTMSoYMCEnHiIYKx8xKRwjHCQjJRwpICoiKh8pJi8MDyMoJygZLyoeFxgVIykmJyMWIyIdJS0eIDMhLycqLiIcLjIoIR0oKCIlHC4lMDEuMisqMjAnJDMjHRkyMistGCQNLzEtHzMwLiopGx4dGzUZIB0fHBw1GTIoKikhMyYeIBYfKDExKCAlJSwnLDMSNikeKzErJBAkJyYzKjAcLycyMy4uHSIbJSQbNSstMDMwLyIkNBoYJjUiHTAqLiQcMSQpICsyEigsLgcuJjUqNB4nLRYqLSEVKC8cHTAeLRkzNRkeKi8pJSsgIxwqGSwnMy4mKCEfGjE0KCQwHS4uJi0jJyomKDEzIzAiJBMZHxckJjQtKzAuHhYqMyAxHx8aMRgdMycZIjAuKRc2Jy43IRgmNzM1KCoiFSEiIS8ZKyggLCkXNCYuMS4qJx8qKh0aLRweETArHB4oNC0sKxkmKCwoLi8eNxMkGiEpKRkZEzAoLi0lHzAyMC0sNTUuHy4gFi01ICwrJi8kMicrEx0nLTUdIx4SJiAmHhopIjIsGzEZMzArHycpJi4qHCovLh0pKyoeNDUzLiA0HxsdJxshLBUTLSQnIxsONSscKygbLSMyKy4nLhwnKyYwJxEqMCMvMCQoJyAOJA8qJSceKSQgGhAfHTYLJhstLzIzGTQqLSAhJTAWJTMVHDEjJCcxLTU1GC0hLTYuHR8oIjExECUnNDMeIiQsJyMoMiQlFSYcJxcbMxohHSooNjAsEzA0Mh0vJh40MCcwIiUyLyQiLi8lGhMdLREwIhUpFxMbIC8iDxQkLBAwFiEyKysdHCAvHBgVNxIvKiQcJTAlHyUgHxwQLiEjJzMiKy8SNSwfLh8oKCMZLhAhJiMuMRowLyAjHjATFBcpKhw2MjQiJB8yKSctMyYhJCUoLxktKhwlMS8lMy8fMS8jEiUsLhAnNC8UIS02KjYwHhwxKhcwLTIoJCwtFywtLyUsNCghLx0eJyExMDMjMRokLRInLhYiJiUkJiQkHDElHRogKhknNCEkJDMLFCwmKRgfJCAhJS4tKhIjDiIrKDUuNSgiHh4gIy0kIxcYMTIuCB0mKiYnIxcuLS8pKiEoJC4yKyogFhouMC4kHSYgIy4dJi8qHCAzNCkSKSIoGRkmIhMqJx8uKBonJioeJg8rKSIUFhUlMS4oJDATEhYgNicqFCccKzASICwUMDIhKCghLjQvLRsoJzIbKhkzIiUkJhQkKxwWNjAfFScxJRkXLSs0NjU+QDkqNjEkSi8sPykbFDE6MDQoPiU+Hy0vNS88I0dHJS0jOiM5OTYhIzkySik8Ly8tMRQ9IzAzRjJAJi4rQjEaMS8dLy4vOjAjJEEfKSslLUY/HUMpPDpFGEYkNR0oLjY6MDJAOCkcOjonQR4+RCUvJDEzMzpIOzgUPz4mODItO0QsLTohOkFBNC08LEQeKi09LTo9PxouRCkpLzpCPkIkJB0ZRTEWKRk4ODQ4LytHHDMjH0E8RCgzPzk0Jyk7PCg0KTIxMy0zPR9APyY9Ji0dNUUyLSMYJSY4Mj0xNjMcMiw+JjA5HzYnLjIzMzc4RC4yNT4iMEI2LDsmIy4pNUE+JTkqHDckIDg2MChGRClCQUM0LDE5Iy1ANy44QRokHzY2LDg+QT0pMy5FLCciPhk1MjYyLUBBMDE5Jyw9NTk3QkUzMTVDIiQwPCYnMS8pSjgpPzY+Hjg+PEMgKjowNTohOkk9JSAjLyY8KyAoFCsvRSo4GCElJUUxIUQeMUI0NzUcNyAzMjoxOT80OEIoMjMjMkYaNiYyP0JJGS09GjhCODM0PUQqFjobPTMpKjwZLCohJhxAO0EuHTEfJjERMC4uNRgTJjwjLjwhQDU4Lio2KyovICA/NwxANTFAJEA6PjAsCC9BGycxMTI4O0IsEzFANhUWLS8mEiIgIzY+Kz80MDgfKTY9PUFBPi4uODlBRCohKisqITYrPD4rJT42Jj48PjsmNkI7KjIrOCIYPCU+MT5DPCs+OyYsKDAsMB49QjY9QyA4OCpBMCgrORgwLzUoOTA4MCEoKyEwKzsiGjM2JyI9EzI7MjAqKyowESUjQRc0GykxJzgjLzEmMj8uNic3Iz8/NTU0Mx82HxczOTMkNDY9EDEpODo2KzotEjI5OTM5RS5DPDYjFT0sISQsOykaLwpDIzQoOCUtHjE4Lik2HzAqQCsqGyoRNSYcHzA7NDcwLDEnGy40OjwuJy0iOhwuPT0jPSwnNxQzO0UwRDcSHCYcMkI7KB0fGTYyFD4iGzofNDomLjU1IDotMjEeKTA5FSQsPRIiLzopKT8mLjMtNCJEKRo0NCg2NBsuOygmOTQvOj0gLz87MytEPh4oPSITHTgjOkIaLjU1OSoeOisqNzBAJB8uFTg0Fio3NSw+LDQYFT85OCcuOiw7KBszLTA/IBQuLzouMSM0PSwpPD81PzApEio4IBkrJjM+LTUlQD85JUAZNi0uMCY5PDs3OyYeOisoISQNKSwtLTUQNyYlLiYZNi4uHD06NSQmOywpOw8uGEAyLx02NzQoOSRBNCccPCYnGyogKj4zNjATLi8+ICowKEUsQSlAJB08LC0tQykzPTczMyUyLDQtNCAjOSwkHz0rMzMqMh05KjcnOS4uIDE2OTcvKkQ9IR47OzRAQi0oOjY6Ph0mIS0xEUUyOkAsLhkqOikbNz0vOTM+Ix0mPD80EiwuJzklNT8gPjwcQzkhPxYWHzcoLyofNjw1OjIaOiEsPShBMzFCNhg0Oxg5OTEXRTIrFjQ2JzopJC40QEA3MyAnJUInMDpEOC0xHTsnQTE2QDQvODUpKTE6JSAjNDomKiA0JzwdJTw4GBE0PjMpLjAvPjc3MCY=",
           "dtype": "i1"
          },
          "colorscale": [
           [
            0,
            "rgb(243, 231, 155)"
           ],
           [
            0.16666666666666666,
            "rgb(250, 196, 132)"
           ],
           [
            0.3333333333333333,
            "rgb(248, 160, 126)"
           ],
           [
            0.5,
            "rgb(235, 127, 134)"
           ],
           [
            0.6666666666666666,
            "rgb(206, 102, 147)"
           ],
           [
            0.8333333333333334,
            "rgb(160, 89, 160)"
           ],
           [
            1,
            "rgb(92, 83, 165)"
           ]
          ],
          "opacity": 0.8,
          "size": 5
         },
         "mode": "markers+text",
         "type": "scatter",
         "x": {
          "bdata": "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",
          "dtype": "i1"
         },
         "y": {
          "bdata": "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",
          "dtype": "i1"
         }
        }
       ],
       "layout": {
        "template": {
         "data": {
          "bar": [
           {
            "error_x": {
             "color": "#2a3f5f"
            },
            "error_y": {
             "color": "#2a3f5f"
            },
            "marker": {
             "line": {
              "color": "#E5ECF6",
              "width": 0.5
             },
             "pattern": {
              "fillmode": "overlay",
              "size": 10,
              "solidity": 0.2
             }
            },
            "type": "bar"
           }
          ],
          "barpolar": [
           {
            "marker": {
             "line": {
              "color": "#E5ECF6",
              "width": 0.5
             },
             "pattern": {
              "fillmode": "overlay",
              "size": 10,
              "solidity": 0.2
             }
            },
            "type": "barpolar"
           }
          ],
          "carpet": [
           {
            "aaxis": {
             "endlinecolor": "#2a3f5f",
             "gridcolor": "white",
             "linecolor": "white",
             "minorgridcolor": "white",
             "startlinecolor": "#2a3f5f"
            },
            "baxis": {
             "endlinecolor": "#2a3f5f",
             "gridcolor": "white",
             "linecolor": "white",
             "minorgridcolor": "white",
             "startlinecolor": "#2a3f5f"
            },
            "type": "carpet"
           }
          ],
          "choropleth": [
           {
            "colorbar": {
             "outlinewidth": 0,
             "ticks": ""
            },
            "type": "choropleth"
           }
          ],
          "contour": [
           {
            "colorbar": {
             "outlinewidth": 0,
             "ticks": ""
            },
            "colorscale": [
             [
              0,
              "#0d0887"
             ],
             [
              0.1111111111111111,
              "#46039f"
             ],
             [
              0.2222222222222222,
              "#7201a8"
             ],
             [
              0.3333333333333333,
              "#9c179e"
             ],
             [
              0.4444444444444444,
              "#bd3786"
             ],
             [
              0.5555555555555556,
              "#d8576b"
             ],
             [
              0.6666666666666666,
              "#ed7953"
             ],
             [
              0.7777777777777778,
              "#fb9f3a"
             ],
             [
              0.8888888888888888,
              "#fdca26"
             ],
             [
              1,
              "#f0f921"
             ]
            ],
            "type": "contour"
           }
          ],
          "contourcarpet": [
           {
            "colorbar": {
             "outlinewidth": 0,
             "ticks": ""
            },
            "type": "contourcarpet"
           }
          ],
          "heatmap": [
           {
            "colorbar": {
             "outlinewidth": 0,
             "ticks": ""
            },
            "colorscale": [
             [
              0,
              "#0d0887"
             ],
             [
              0.1111111111111111,
              "#46039f"
             ],
             [
              0.2222222222222222,
              "#7201a8"
             ],
             [
              0.3333333333333333,
              "#9c179e"
             ],
             [
              0.4444444444444444,
              "#bd3786"
             ],
             [
              0.5555555555555556,
              "#d8576b"
             ],
             [
              0.6666666666666666,
              "#ed7953"
             ],
             [
              0.7777777777777778,
              "#fb9f3a"
             ],
             [
              0.8888888888888888,
              "#fdca26"
             ],
             [
              1,
              "#f0f921"
             ]
            ],
            "type": "heatmap"
           }
          ],
          "histogram": [
           {
            "marker": {
             "pattern": {
              "fillmode": "overlay",
              "size": 10,
              "solidity": 0.2
             }
            },
            "type": "histogram"
           }
          ],
          "histogram2d": [
           {
            "colorbar": {
             "outlinewidth": 0,
             "ticks": ""
            },
            "colorscale": [
             [
              0,
              "#0d0887"
             ],
             [
              0.1111111111111111,
              "#46039f"
             ],
             [
              0.2222222222222222,
              "#7201a8"
             ],
             [
              0.3333333333333333,
              "#9c179e"
             ],
             [
              0.4444444444444444,
              "#bd3786"
             ],
             [
              0.5555555555555556,
              "#d8576b"
             ],
             [
              0.6666666666666666,
              "#ed7953"
             ],
             [
              0.7777777777777778,
              "#fb9f3a"
             ],
             [
              0.8888888888888888,
              "#fdca26"
             ],
             [
              1,
              "#f0f921"
             ]
            ],
            "type": "histogram2d"
           }
          ],
          "histogram2dcontour": [
           {
            "colorbar": {
             "outlinewidth": 0,
             "ticks": ""
            },
            "colorscale": [
             [
              0,
              "#0d0887"
             ],
             [
              0.1111111111111111,
              "#46039f"
             ],
             [
              0.2222222222222222,
              "#7201a8"
             ],
             [
              0.3333333333333333,
              "#9c179e"
             ],
             [
              0.4444444444444444,
              "#bd3786"
             ],
             [
              0.5555555555555556,
              "#d8576b"
             ],
             [
              0.6666666666666666,
              "#ed7953"
             ],
             [
              0.7777777777777778,
              "#fb9f3a"
             ],
             [
              0.8888888888888888,
              "#fdca26"
             ],
             [
              1,
              "#f0f921"
             ]
            ],
            "type": "histogram2dcontour"
           }
          ],
          "mesh3d": [
           {
            "colorbar": {
             "outlinewidth": 0,
             "ticks": ""
            },
            "type": "mesh3d"
           }
          ],
          "parcoords": [
           {
            "line": {
             "colorbar": {
              "outlinewidth": 0,
              "ticks": ""
             }
            },
            "type": "parcoords"
           }
          ],
          "pie": [
           {
            "automargin": true,
            "type": "pie"
           }
          ],
          "scatter": [
           {
            "fillpattern": {
             "fillmode": "overlay",
             "size": 10,
             "solidity": 0.2
            },
            "type": "scatter"
           }
          ],
          "scatter3d": [
           {
            "line": {
             "colorbar": {
              "outlinewidth": 0,
              "ticks": ""
             }
            },
            "marker": {
             "colorbar": {
              "outlinewidth": 0,
              "ticks": ""
             }
            },
            "type": "scatter3d"
           }
          ],
          "scattercarpet": [
           {
            "marker": {
             "colorbar": {
              "outlinewidth": 0,
              "ticks": ""
             }
            },
            "type": "scattercarpet"
           }
          ],
          "scattergeo": [
           {
            "marker": {
             "colorbar": {
              "outlinewidth": 0,
              "ticks": ""
             }
            },
            "type": "scattergeo"
           }
          ],
          "scattergl": [
           {
            "marker": {
             "colorbar": {
              "outlinewidth": 0,
              "ticks": ""
             }
            },
            "type": "scattergl"
           }
          ],
          "scattermap": [
           {
            "marker": {
             "colorbar": {
              "outlinewidth": 0,
              "ticks": ""
             }
            },
            "type": "scattermap"
           }
          ],
          "scattermapbox": [
           {
            "marker": {
             "colorbar": {
              "outlinewidth": 0,
              "ticks": ""
             }
            },
            "type": "scattermapbox"
           }
          ],
          "scatterpolar": [
           {
            "marker": {
             "colorbar": {
              "outlinewidth": 0,
              "ticks": ""
             }
            },
            "type": "scatterpolar"
           }
          ],
          "scatterpolargl": [
           {
            "marker": {
             "colorbar": {
              "outlinewidth": 0,
              "ticks": ""
             }
            },
            "type": "scatterpolargl"
           }
          ],
          "scatterternary": [
           {
            "marker": {
             "colorbar": {
              "outlinewidth": 0,
              "ticks": ""
             }
            },
            "type": "scatterternary"
           }
          ],
          "surface": [
           {
            "colorbar": {
             "outlinewidth": 0,
             "ticks": ""
            },
            "colorscale": [
             [
              0,
              "#0d0887"
             ],
             [
              0.1111111111111111,
              "#46039f"
             ],
             [
              0.2222222222222222,
              "#7201a8"
             ],
             [
              0.3333333333333333,
              "#9c179e"
             ],
             [
              0.4444444444444444,
              "#bd3786"
             ],
             [
              0.5555555555555556,
              "#d8576b"
             ],
             [
              0.6666666666666666,
              "#ed7953"
             ],
             [
              0.7777777777777778,
              "#fb9f3a"
             ],
             [
              0.8888888888888888,
              "#fdca26"
             ],
             [
              1,
              "#f0f921"
             ]
            ],
            "type": "surface"
           }
          ],
          "table": [
           {
            "cells": {
             "fill": {
              "color": "#EBF0F8"
             },
             "line": {
              "color": "white"
             }
            },
            "header": {
             "fill": {
              "color": "#C8D4E3"
             },
             "line": {
              "color": "white"
             }
            },
            "type": "table"
           }
          ]
         },
         "layout": {
          "annotationdefaults": {
           "arrowcolor": "#2a3f5f",
           "arrowhead": 0,
           "arrowwidth": 1
          },
          "autotypenumbers": "strict",
          "coloraxis": {
           "colorbar": {
            "outlinewidth": 0,
            "ticks": ""
           }
          },
          "colorscale": {
           "diverging": [
            [
             0,
             "#8e0152"
            ],
            [
             0.1,
             "#c51b7d"
            ],
            [
             0.2,
             "#de77ae"
            ],
            [
             0.3,
             "#f1b6da"
            ],
            [
             0.4,
             "#fde0ef"
            ],
            [
             0.5,
             "#f7f7f7"
            ],
            [
             0.6,
             "#e6f5d0"
            ],
            [
             0.7,
             "#b8e186"
            ],
            [
             0.8,
             "#7fbc41"
            ],
            [
             0.9,
             "#4d9221"
            ],
            [
             1,
             "#276419"
            ]
           ],
           "sequential": [
            [
             0,
             "#0d0887"
            ],
            [
             0.1111111111111111,
             "#46039f"
            ],
            [
             0.2222222222222222,
             "#7201a8"
            ],
            [
             0.3333333333333333,
             "#9c179e"
            ],
            [
             0.4444444444444444,
             "#bd3786"
            ],
            [
             0.5555555555555556,
             "#d8576b"
            ],
            [
             0.6666666666666666,
             "#ed7953"
            ],
            [
             0.7777777777777778,
             "#fb9f3a"
            ],
            [
             0.8888888888888888,
             "#fdca26"
            ],
            [
             1,
             "#f0f921"
            ]
           ],
           "sequentialminus": [
            [
             0,
             "#0d0887"
            ],
            [
             0.1111111111111111,
             "#46039f"
            ],
            [
             0.2222222222222222,
             "#7201a8"
            ],
            [
             0.3333333333333333,
             "#9c179e"
            ],
            [
             0.4444444444444444,
             "#bd3786"
            ],
            [
             0.5555555555555556,
             "#d8576b"
            ],
            [
             0.6666666666666666,
             "#ed7953"
            ],
            [
             0.7777777777777778,
             "#fb9f3a"
            ],
            [
             0.8888888888888888,
             "#fdca26"
            ],
            [
             1,
             "#f0f921"
            ]
           ]
          },
          "colorway": [
           "#636efa",
           "#EF553B",
           "#00cc96",
           "#ab63fa",
           "#FFA15A",
           "#19d3f3",
           "#FF6692",
           "#B6E880",
           "#FF97FF",
           "#FECB52"
          ],
          "font": {
           "color": "#2a3f5f"
          },
          "geo": {
           "bgcolor": "white",
           "lakecolor": "white",
           "landcolor": "#E5ECF6",
           "showlakes": true,
           "showland": true,
           "subunitcolor": "white"
          },
          "hoverlabel": {
           "align": "left"
          },
          "hovermode": "closest",
          "mapbox": {
           "style": "light"
          },
          "paper_bgcolor": "white",
          "plot_bgcolor": "#E5ECF6",
          "polar": {
           "angularaxis": {
            "gridcolor": "white",
            "linecolor": "white",
            "ticks": ""
           },
           "bgcolor": "#E5ECF6",
           "radialaxis": {
            "gridcolor": "white",
            "linecolor": "white",
            "ticks": ""
           }
          },
          "scene": {
           "xaxis": {
            "backgroundcolor": "#E5ECF6",
            "gridcolor": "white",
            "gridwidth": 2,
            "linecolor": "white",
            "showbackground": true,
            "ticks": "",
            "zerolinecolor": "white"
           },
           "yaxis": {
            "backgroundcolor": "#E5ECF6",
            "gridcolor": "white",
            "gridwidth": 2,
            "linecolor": "white",
            "showbackground": true,
            "ticks": "",
            "zerolinecolor": "white"
           },
           "zaxis": {
            "backgroundcolor": "#E5ECF6",
            "gridcolor": "white",
            "gridwidth": 2,
            "linecolor": "white",
            "showbackground": true,
            "ticks": "",
            "zerolinecolor": "white"
           }
          },
          "shapedefaults": {
           "line": {
            "color": "#2a3f5f"
           }
          },
          "ternary": {
           "aaxis": {
            "gridcolor": "white",
            "linecolor": "white",
            "ticks": ""
           },
           "baxis": {
            "gridcolor": "white",
            "linecolor": "white",
            "ticks": ""
           },
           "bgcolor": "#E5ECF6",
           "caxis": {
            "gridcolor": "white",
            "linecolor": "white",
            "ticks": ""
           }
          },
          "title": {
           "x": 0.05
          },
          "xaxis": {
           "automargin": true,
           "gridcolor": "white",
           "linecolor": "white",
           "ticks": "",
           "title": {
            "standoff": 15
           },
           "zerolinecolor": "white",
           "zerolinewidth": 2
          },
          "yaxis": {
           "automargin": true,
           "gridcolor": "white",
           "linecolor": "white",
           "ticks": "",
           "title": {
            "standoff": 15
           },
           "zerolinecolor": "white",
           "zerolinewidth": 2
          }
         }
        },
        "title": {
         "text": "Scatter Plot of the Even Winning Numbers"
        },
        "xaxis": {
         "title": {
          "text": "2nd winning Number"
         }
        },
        "yaxis": {
         "title": {
          "text": "4th Winning Number"
         }
        }
       }
      }
     },
     "metadata": {},
     "output_type": "display_data"
    }
   ],
   "source": [
    "#scatter plot of the even winning numbers\n",
    "x=df['win_num_2']\n",
    "y=df['win_num_4']\n",
    "fig = go.Figure(data=[go.Scatter(\n",
    "    x=x,\n",
    "    y=y,\n",
    "    mode='markers+text',\n",
    "    hoverinfo='text', \n",
    "    hovertext=df['Winning Numbers'],\n",
    "    marker=dict(\n",
    "        size=5,\n",
    "        color=y,\n",
    "        colorscale='sunset', \n",
    "        opacity=0.8\n",
    "    )\n",
    ")]).update_layout(title=dict(text=\"Scatter Plot of the Even Winning Numbers\"),                    \n",
    "                   xaxis_title=\"2nd winning Number\" ,\n",
    "                   yaxis_title=\"4th Winning Number\"                  \n",
    "                    )\n",
    "fig.show()"
   ]
  },
  {
   "cell_type": "code",
   "execution_count": null,
   "id": "2a2ec27e",
   "metadata": {},
   "outputs": [],
   "source": []
  }
 ],
 "metadata": {
  "kernelspec": {
   "display_name": "Python 3",
   "language": "python",
   "name": "python3"
  },
  "language_info": {
   "codemirror_mode": {
    "name": "ipython",
    "version": 3
   },
   "file_extension": ".py",
   "mimetype": "text/x-python",
   "name": "python",
   "nbconvert_exporter": "python",
   "pygments_lexer": "ipython3",
   "version": "3.13.3"
  }
 },
 "nbformat": 4,
 "nbformat_minor": 5
}
