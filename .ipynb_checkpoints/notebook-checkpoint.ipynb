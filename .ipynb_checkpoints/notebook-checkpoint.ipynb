{
 "cells": [
  {
   "cell_type": "code",
   "execution_count": 1,
   "id": "bfcec8d4-7eb1-459f-8c01-18926f08e3ef",
   "metadata": {},
   "outputs": [],
   "source": [
    "import pandas as pd\n",
    "import numpy as np\n",
    "import matplotlib.pyplot as plt\n",
    "import statistics\n",
    "from IPython.core.interactiveshell import InteractiveShell\n",
    "InteractiveShell.ast_node_interactivity = \"all\""
   ]
  },
  {
   "cell_type": "code",
   "execution_count": 2,
   "id": "d536ec74-8914-4fa9-b28d-35218274faa5",
   "metadata": {},
   "outputs": [],
   "source": [
    "#read in data\n",
    "df = pd.read_csv('nylottery.csv')"
   ]
  },
  {
   "cell_type": "code",
   "execution_count": 3,
   "id": "b41d835c-c851-4451-8ed2-1af1ba2e584d",
   "metadata": {},
   "outputs": [
    {
     "data": {
      "text/html": [
       "<div>\n",
       "<style scoped>\n",
       "    .dataframe tbody tr th:only-of-type {\n",
       "        vertical-align: middle;\n",
       "    }\n",
       "\n",
       "    .dataframe tbody tr th {\n",
       "        vertical-align: top;\n",
       "    }\n",
       "\n",
       "    .dataframe thead th {\n",
       "        text-align: right;\n",
       "    }\n",
       "</style>\n",
       "<table border=\"1\" class=\"dataframe\">\n",
       "  <thead>\n",
       "    <tr style=\"text-align: right;\">\n",
       "      <th></th>\n",
       "      <th>Draw Date</th>\n",
       "      <th>Winning Numbers</th>\n",
       "      <th>Multiplier</th>\n",
       "    </tr>\n",
       "  </thead>\n",
       "  <tbody>\n",
       "    <tr>\n",
       "      <th>0</th>\n",
       "      <td>09/26/2020</td>\n",
       "      <td>11 21 27 36 62 24</td>\n",
       "      <td>3.0</td>\n",
       "    </tr>\n",
       "    <tr>\n",
       "      <th>1</th>\n",
       "      <td>09/30/2020</td>\n",
       "      <td>14 18 36 49 67 18</td>\n",
       "      <td>2.0</td>\n",
       "    </tr>\n",
       "    <tr>\n",
       "      <th>2</th>\n",
       "      <td>10/03/2020</td>\n",
       "      <td>18 31 36 43 47 20</td>\n",
       "      <td>2.0</td>\n",
       "    </tr>\n",
       "    <tr>\n",
       "      <th>3</th>\n",
       "      <td>10/07/2020</td>\n",
       "      <td>06 24 30 53 56 19</td>\n",
       "      <td>2.0</td>\n",
       "    </tr>\n",
       "    <tr>\n",
       "      <th>4</th>\n",
       "      <td>10/10/2020</td>\n",
       "      <td>05 18 23 40 50 18</td>\n",
       "      <td>3.0</td>\n",
       "    </tr>\n",
       "  </tbody>\n",
       "</table>\n",
       "</div>"
      ],
      "text/plain": [
       "    Draw Date    Winning Numbers  Multiplier\n",
       "0  09/26/2020  11 21 27 36 62 24         3.0\n",
       "1  09/30/2020  14 18 36 49 67 18         2.0\n",
       "2  10/03/2020  18 31 36 43 47 20         2.0\n",
       "3  10/07/2020  06 24 30 53 56 19         2.0\n",
       "4  10/10/2020  05 18 23 40 50 18         3.0"
      ]
     },
     "execution_count": 3,
     "metadata": {},
     "output_type": "execute_result"
    }
   ],
   "source": [
    "df.head()"
   ]
  },
  {
   "cell_type": "code",
   "execution_count": 4,
   "id": "34eac859-5cf9-4478-a039-1005a52f0efa",
   "metadata": {},
   "outputs": [
    {
     "name": "stdout",
     "output_type": "stream",
     "text": [
      "<class 'pandas.core.frame.DataFrame'>\n",
      "RangeIndex: 1748 entries, 0 to 1747\n",
      "Data columns (total 3 columns):\n",
      " #   Column           Non-Null Count  Dtype  \n",
      "---  ------           --------------  -----  \n",
      " 0   Draw Date        1748 non-null   object \n",
      " 1   Winning Numbers  1748 non-null   object \n",
      " 2   Multiplier       1538 non-null   float64\n",
      "dtypes: float64(1), object(2)\n",
      "memory usage: 41.1+ KB\n"
     ]
    }
   ],
   "source": [
    "df.info()"
   ]
  },
  {
   "cell_type": "code",
   "execution_count": 5,
   "id": "a4343f42-cc12-4945-a2c1-8c80e50b3df8",
   "metadata": {},
   "outputs": [],
   "source": [
    "#format draw date variable\n",
    "df['Date']=pd.to_datetime(df['Draw Date'])"
   ]
  },
  {
   "cell_type": "code",
   "execution_count": 6,
   "id": "2af442a6-30a8-4c5c-962f-d4a5d9991837",
   "metadata": {},
   "outputs": [
    {
     "data": {
      "text/html": [
       "<div>\n",
       "<style scoped>\n",
       "    .dataframe tbody tr th:only-of-type {\n",
       "        vertical-align: middle;\n",
       "    }\n",
       "\n",
       "    .dataframe tbody tr th {\n",
       "        vertical-align: top;\n",
       "    }\n",
       "\n",
       "    .dataframe thead th {\n",
       "        text-align: right;\n",
       "    }\n",
       "</style>\n",
       "<table border=\"1\" class=\"dataframe\">\n",
       "  <thead>\n",
       "    <tr style=\"text-align: right;\">\n",
       "      <th></th>\n",
       "      <th>Draw Date</th>\n",
       "      <th>Winning Numbers</th>\n",
       "      <th>Multiplier</th>\n",
       "      <th>Date</th>\n",
       "    </tr>\n",
       "  </thead>\n",
       "  <tbody>\n",
       "    <tr>\n",
       "      <th>0</th>\n",
       "      <td>09/26/2020</td>\n",
       "      <td>11 21 27 36 62 24</td>\n",
       "      <td>3.0</td>\n",
       "      <td>2020-09-26</td>\n",
       "    </tr>\n",
       "    <tr>\n",
       "      <th>1</th>\n",
       "      <td>09/30/2020</td>\n",
       "      <td>14 18 36 49 67 18</td>\n",
       "      <td>2.0</td>\n",
       "      <td>2020-09-30</td>\n",
       "    </tr>\n",
       "    <tr>\n",
       "      <th>2</th>\n",
       "      <td>10/03/2020</td>\n",
       "      <td>18 31 36 43 47 20</td>\n",
       "      <td>2.0</td>\n",
       "      <td>2020-10-03</td>\n",
       "    </tr>\n",
       "    <tr>\n",
       "      <th>3</th>\n",
       "      <td>10/07/2020</td>\n",
       "      <td>06 24 30 53 56 19</td>\n",
       "      <td>2.0</td>\n",
       "      <td>2020-10-07</td>\n",
       "    </tr>\n",
       "    <tr>\n",
       "      <th>4</th>\n",
       "      <td>10/10/2020</td>\n",
       "      <td>05 18 23 40 50 18</td>\n",
       "      <td>3.0</td>\n",
       "      <td>2020-10-10</td>\n",
       "    </tr>\n",
       "  </tbody>\n",
       "</table>\n",
       "</div>"
      ],
      "text/plain": [
       "    Draw Date    Winning Numbers  Multiplier       Date\n",
       "0  09/26/2020  11 21 27 36 62 24         3.0 2020-09-26\n",
       "1  09/30/2020  14 18 36 49 67 18         2.0 2020-09-30\n",
       "2  10/03/2020  18 31 36 43 47 20         2.0 2020-10-03\n",
       "3  10/07/2020  06 24 30 53 56 19         2.0 2020-10-07\n",
       "4  10/10/2020  05 18 23 40 50 18         3.0 2020-10-10"
      ]
     },
     "execution_count": 6,
     "metadata": {},
     "output_type": "execute_result"
    }
   ],
   "source": [
    "df.head()"
   ]
  },
  {
   "cell_type": "code",
   "execution_count": 7,
   "id": "d32856b1-6b00-45d3-a65d-13c95ac28afa",
   "metadata": {},
   "outputs": [],
   "source": [
    "#creaing separate variables for each winning number\n",
    "df[['win_num_1', 'win_num_2', 'win_num_3','win_num_4', 'win_num_5', 'win_num_6']] = df['Winning Numbers'].str.split(expand=True)"
   ]
  },
  {
   "cell_type": "code",
   "execution_count": 8,
   "id": "60d2b53a-44ce-49ee-9dcf-2f0a63666dba",
   "metadata": {},
   "outputs": [
    {
     "data": {
      "text/html": [
       "<div>\n",
       "<style scoped>\n",
       "    .dataframe tbody tr th:only-of-type {\n",
       "        vertical-align: middle;\n",
       "    }\n",
       "\n",
       "    .dataframe tbody tr th {\n",
       "        vertical-align: top;\n",
       "    }\n",
       "\n",
       "    .dataframe thead th {\n",
       "        text-align: right;\n",
       "    }\n",
       "</style>\n",
       "<table border=\"1\" class=\"dataframe\">\n",
       "  <thead>\n",
       "    <tr style=\"text-align: right;\">\n",
       "      <th></th>\n",
       "      <th>Draw Date</th>\n",
       "      <th>Winning Numbers</th>\n",
       "      <th>Multiplier</th>\n",
       "      <th>Date</th>\n",
       "      <th>win_num_1</th>\n",
       "      <th>win_num_2</th>\n",
       "      <th>win_num_3</th>\n",
       "      <th>win_num_4</th>\n",
       "      <th>win_num_5</th>\n",
       "      <th>win_num_6</th>\n",
       "    </tr>\n",
       "  </thead>\n",
       "  <tbody>\n",
       "    <tr>\n",
       "      <th>0</th>\n",
       "      <td>09/26/2020</td>\n",
       "      <td>11 21 27 36 62 24</td>\n",
       "      <td>3.0</td>\n",
       "      <td>2020-09-26</td>\n",
       "      <td>11</td>\n",
       "      <td>21</td>\n",
       "      <td>27</td>\n",
       "      <td>36</td>\n",
       "      <td>62</td>\n",
       "      <td>24</td>\n",
       "    </tr>\n",
       "    <tr>\n",
       "      <th>1</th>\n",
       "      <td>09/30/2020</td>\n",
       "      <td>14 18 36 49 67 18</td>\n",
       "      <td>2.0</td>\n",
       "      <td>2020-09-30</td>\n",
       "      <td>14</td>\n",
       "      <td>18</td>\n",
       "      <td>36</td>\n",
       "      <td>49</td>\n",
       "      <td>67</td>\n",
       "      <td>18</td>\n",
       "    </tr>\n",
       "    <tr>\n",
       "      <th>2</th>\n",
       "      <td>10/03/2020</td>\n",
       "      <td>18 31 36 43 47 20</td>\n",
       "      <td>2.0</td>\n",
       "      <td>2020-10-03</td>\n",
       "      <td>18</td>\n",
       "      <td>31</td>\n",
       "      <td>36</td>\n",
       "      <td>43</td>\n",
       "      <td>47</td>\n",
       "      <td>20</td>\n",
       "    </tr>\n",
       "    <tr>\n",
       "      <th>3</th>\n",
       "      <td>10/07/2020</td>\n",
       "      <td>06 24 30 53 56 19</td>\n",
       "      <td>2.0</td>\n",
       "      <td>2020-10-07</td>\n",
       "      <td>06</td>\n",
       "      <td>24</td>\n",
       "      <td>30</td>\n",
       "      <td>53</td>\n",
       "      <td>56</td>\n",
       "      <td>19</td>\n",
       "    </tr>\n",
       "    <tr>\n",
       "      <th>4</th>\n",
       "      <td>10/10/2020</td>\n",
       "      <td>05 18 23 40 50 18</td>\n",
       "      <td>3.0</td>\n",
       "      <td>2020-10-10</td>\n",
       "      <td>05</td>\n",
       "      <td>18</td>\n",
       "      <td>23</td>\n",
       "      <td>40</td>\n",
       "      <td>50</td>\n",
       "      <td>18</td>\n",
       "    </tr>\n",
       "  </tbody>\n",
       "</table>\n",
       "</div>"
      ],
      "text/plain": [
       "    Draw Date    Winning Numbers  Multiplier       Date win_num_1 win_num_2  \\\n",
       "0  09/26/2020  11 21 27 36 62 24         3.0 2020-09-26        11        21   \n",
       "1  09/30/2020  14 18 36 49 67 18         2.0 2020-09-30        14        18   \n",
       "2  10/03/2020  18 31 36 43 47 20         2.0 2020-10-03        18        31   \n",
       "3  10/07/2020  06 24 30 53 56 19         2.0 2020-10-07        06        24   \n",
       "4  10/10/2020  05 18 23 40 50 18         3.0 2020-10-10        05        18   \n",
       "\n",
       "  win_num_3 win_num_4 win_num_5 win_num_6  \n",
       "0        27        36        62        24  \n",
       "1        36        49        67        18  \n",
       "2        36        43        47        20  \n",
       "3        30        53        56        19  \n",
       "4        23        40        50        18  "
      ]
     },
     "execution_count": 8,
     "metadata": {},
     "output_type": "execute_result"
    }
   ],
   "source": [
    "df.head()"
   ]
  },
  {
   "cell_type": "code",
   "execution_count": 9,
   "id": "8ad3b4ff-bf50-4255-9637-f04ecd8471d8",
   "metadata": {},
   "outputs": [
    {
     "data": {
      "text/plain": [
       "array([ 3.,  2., 10.,  4.,  5., nan])"
      ]
     },
     "execution_count": 9,
     "metadata": {},
     "output_type": "execute_result"
    }
   ],
   "source": [
    "#All the values of the Multiplier variable\n",
    "df['Multiplier'].unique()"
   ]
  },
  {
   "cell_type": "code",
   "execution_count": 10,
   "id": "f3c8573e-62dd-49bc-a44a-54ebb0f01bf3",
   "metadata": {},
   "outputs": [],
   "source": [
    "#get the day of the week from the Date variable\n",
    "df['Day of the week']=df['Date'].dt.day_name()"
   ]
  },
  {
   "cell_type": "code",
   "execution_count": 11,
   "id": "335da984-24cf-4d3d-98ce-9750baec697d",
   "metadata": {},
   "outputs": [
    {
     "data": {
      "text/html": [
       "<div>\n",
       "<style scoped>\n",
       "    .dataframe tbody tr th:only-of-type {\n",
       "        vertical-align: middle;\n",
       "    }\n",
       "\n",
       "    .dataframe tbody tr th {\n",
       "        vertical-align: top;\n",
       "    }\n",
       "\n",
       "    .dataframe thead th {\n",
       "        text-align: right;\n",
       "    }\n",
       "</style>\n",
       "<table border=\"1\" class=\"dataframe\">\n",
       "  <thead>\n",
       "    <tr style=\"text-align: right;\">\n",
       "      <th></th>\n",
       "      <th>Draw Date</th>\n",
       "      <th>Winning Numbers</th>\n",
       "      <th>Multiplier</th>\n",
       "      <th>Date</th>\n",
       "      <th>win_num_1</th>\n",
       "      <th>win_num_2</th>\n",
       "      <th>win_num_3</th>\n",
       "      <th>win_num_4</th>\n",
       "      <th>win_num_5</th>\n",
       "      <th>win_num_6</th>\n",
       "      <th>Day of the week</th>\n",
       "    </tr>\n",
       "  </thead>\n",
       "  <tbody>\n",
       "    <tr>\n",
       "      <th>0</th>\n",
       "      <td>09/26/2020</td>\n",
       "      <td>11 21 27 36 62 24</td>\n",
       "      <td>3.0</td>\n",
       "      <td>2020-09-26</td>\n",
       "      <td>11</td>\n",
       "      <td>21</td>\n",
       "      <td>27</td>\n",
       "      <td>36</td>\n",
       "      <td>62</td>\n",
       "      <td>24</td>\n",
       "      <td>Saturday</td>\n",
       "    </tr>\n",
       "    <tr>\n",
       "      <th>1</th>\n",
       "      <td>09/30/2020</td>\n",
       "      <td>14 18 36 49 67 18</td>\n",
       "      <td>2.0</td>\n",
       "      <td>2020-09-30</td>\n",
       "      <td>14</td>\n",
       "      <td>18</td>\n",
       "      <td>36</td>\n",
       "      <td>49</td>\n",
       "      <td>67</td>\n",
       "      <td>18</td>\n",
       "      <td>Wednesday</td>\n",
       "    </tr>\n",
       "    <tr>\n",
       "      <th>2</th>\n",
       "      <td>10/03/2020</td>\n",
       "      <td>18 31 36 43 47 20</td>\n",
       "      <td>2.0</td>\n",
       "      <td>2020-10-03</td>\n",
       "      <td>18</td>\n",
       "      <td>31</td>\n",
       "      <td>36</td>\n",
       "      <td>43</td>\n",
       "      <td>47</td>\n",
       "      <td>20</td>\n",
       "      <td>Saturday</td>\n",
       "    </tr>\n",
       "    <tr>\n",
       "      <th>3</th>\n",
       "      <td>10/07/2020</td>\n",
       "      <td>06 24 30 53 56 19</td>\n",
       "      <td>2.0</td>\n",
       "      <td>2020-10-07</td>\n",
       "      <td>06</td>\n",
       "      <td>24</td>\n",
       "      <td>30</td>\n",
       "      <td>53</td>\n",
       "      <td>56</td>\n",
       "      <td>19</td>\n",
       "      <td>Wednesday</td>\n",
       "    </tr>\n",
       "    <tr>\n",
       "      <th>4</th>\n",
       "      <td>10/10/2020</td>\n",
       "      <td>05 18 23 40 50 18</td>\n",
       "      <td>3.0</td>\n",
       "      <td>2020-10-10</td>\n",
       "      <td>05</td>\n",
       "      <td>18</td>\n",
       "      <td>23</td>\n",
       "      <td>40</td>\n",
       "      <td>50</td>\n",
       "      <td>18</td>\n",
       "      <td>Saturday</td>\n",
       "    </tr>\n",
       "  </tbody>\n",
       "</table>\n",
       "</div>"
      ],
      "text/plain": [
       "    Draw Date    Winning Numbers  Multiplier       Date win_num_1 win_num_2  \\\n",
       "0  09/26/2020  11 21 27 36 62 24         3.0 2020-09-26        11        21   \n",
       "1  09/30/2020  14 18 36 49 67 18         2.0 2020-09-30        14        18   \n",
       "2  10/03/2020  18 31 36 43 47 20         2.0 2020-10-03        18        31   \n",
       "3  10/07/2020  06 24 30 53 56 19         2.0 2020-10-07        06        24   \n",
       "4  10/10/2020  05 18 23 40 50 18         3.0 2020-10-10        05        18   \n",
       "\n",
       "  win_num_3 win_num_4 win_num_5 win_num_6 Day of the week  \n",
       "0        27        36        62        24        Saturday  \n",
       "1        36        49        67        18       Wednesday  \n",
       "2        36        43        47        20        Saturday  \n",
       "3        30        53        56        19       Wednesday  \n",
       "4        23        40        50        18        Saturday  "
      ]
     },
     "execution_count": 11,
     "metadata": {},
     "output_type": "execute_result"
    }
   ],
   "source": [
    "df.head()"
   ]
  },
  {
   "cell_type": "code",
   "execution_count": 12,
   "id": "d517b129-ae6a-4a97-bf93-42bc40d038ac",
   "metadata": {},
   "outputs": [
    {
     "name": "stdout",
     "output_type": "stream",
     "text": [
      "<class 'pandas.core.frame.DataFrame'>\n",
      "RangeIndex: 1748 entries, 0 to 1747\n",
      "Data columns (total 11 columns):\n",
      " #   Column           Non-Null Count  Dtype         \n",
      "---  ------           --------------  -----         \n",
      " 0   Draw Date        1748 non-null   object        \n",
      " 1   Winning Numbers  1748 non-null   object        \n",
      " 2   Multiplier       1538 non-null   float64       \n",
      " 3   Date             1748 non-null   datetime64[ns]\n",
      " 4   win_num_1        1748 non-null   object        \n",
      " 5   win_num_2        1748 non-null   object        \n",
      " 6   win_num_3        1748 non-null   object        \n",
      " 7   win_num_4        1748 non-null   object        \n",
      " 8   win_num_5        1748 non-null   object        \n",
      " 9   win_num_6        1748 non-null   object        \n",
      " 10  Day of the week  1748 non-null   object        \n",
      "dtypes: datetime64[ns](1), float64(1), object(9)\n",
      "memory usage: 150.3+ KB\n"
     ]
    }
   ],
   "source": [
    "df.info()"
   ]
  },
  {
   "cell_type": "code",
   "execution_count": 13,
   "id": "7fef32a2-660c-4d02-9712-d6bacd5aac54",
   "metadata": {},
   "outputs": [],
   "source": [
    "#make the columns with the winning number numeric\n",
    "df['win_num_1']=pd.to_numeric(df['win_num_1'])\n",
    "df['win_num_2']=pd.to_numeric(df['win_num_2'])\n",
    "df['win_num_3']=pd.to_numeric(df['win_num_3'])\n",
    "df['win_num_4']=pd.to_numeric(df['win_num_4'])\n",
    "df['win_num_5']=pd.to_numeric(df['win_num_5'])\n",
    "df['win_num_6']=pd.to_numeric(df['win_num_6'])"
   ]
  },
  {
   "cell_type": "code",
   "execution_count": 14,
   "id": "fa481540-ae03-42f4-9484-5a8b12eb6123",
   "metadata": {},
   "outputs": [
    {
     "name": "stdout",
     "output_type": "stream",
     "text": [
      "<class 'pandas.core.frame.DataFrame'>\n",
      "RangeIndex: 1748 entries, 0 to 1747\n",
      "Data columns (total 11 columns):\n",
      " #   Column           Non-Null Count  Dtype         \n",
      "---  ------           --------------  -----         \n",
      " 0   Draw Date        1748 non-null   object        \n",
      " 1   Winning Numbers  1748 non-null   object        \n",
      " 2   Multiplier       1538 non-null   float64       \n",
      " 3   Date             1748 non-null   datetime64[ns]\n",
      " 4   win_num_1        1748 non-null   int64         \n",
      " 5   win_num_2        1748 non-null   int64         \n",
      " 6   win_num_3        1748 non-null   int64         \n",
      " 7   win_num_4        1748 non-null   int64         \n",
      " 8   win_num_5        1748 non-null   int64         \n",
      " 9   win_num_6        1748 non-null   int64         \n",
      " 10  Day of the week  1748 non-null   object        \n",
      "dtypes: datetime64[ns](1), float64(1), int64(6), object(3)\n",
      "memory usage: 150.3+ KB\n"
     ]
    }
   ],
   "source": [
    "df.info()"
   ]
  },
  {
   "cell_type": "code",
   "execution_count": 15,
   "id": "25d61fd0-9f4c-4e3a-a4b8-b8c5c8f01793",
   "metadata": {},
   "outputs": [
    {
     "data": {
      "text/plain": [
       "Draw Date            0\n",
       "Winning Numbers      0\n",
       "Multiplier         210\n",
       "Date                 0\n",
       "win_num_1            0\n",
       "win_num_2            0\n",
       "win_num_3            0\n",
       "win_num_4            0\n",
       "win_num_5            0\n",
       "win_num_6            0\n",
       "Day of the week      0\n",
       "dtype: int64"
      ]
     },
     "execution_count": 15,
     "metadata": {},
     "output_type": "execute_result"
    }
   ],
   "source": [
    "#check for missing values\n",
    "df.isnull().sum()"
   ]
  },
  {
   "cell_type": "code",
   "execution_count": 16,
   "id": "8924d1ff-efd9-459b-9b53-7577b2af4d33",
   "metadata": {},
   "outputs": [],
   "source": [
    "#add year to dataframe\n",
    "#get the day of the week from the Date variable\n",
    "df['Year']=df['Date'].dt.year"
   ]
  },
  {
   "cell_type": "code",
   "execution_count": 17,
   "id": "5bab2c4d-8840-42b7-ae42-5008e3a67eab",
   "metadata": {},
   "outputs": [
    {
     "data": {
      "text/html": [
       "<div>\n",
       "<style scoped>\n",
       "    .dataframe tbody tr th:only-of-type {\n",
       "        vertical-align: middle;\n",
       "    }\n",
       "\n",
       "    .dataframe tbody tr th {\n",
       "        vertical-align: top;\n",
       "    }\n",
       "\n",
       "    .dataframe thead th {\n",
       "        text-align: right;\n",
       "    }\n",
       "</style>\n",
       "<table border=\"1\" class=\"dataframe\">\n",
       "  <thead>\n",
       "    <tr style=\"text-align: right;\">\n",
       "      <th></th>\n",
       "      <th>Draw Date</th>\n",
       "      <th>Winning Numbers</th>\n",
       "      <th>Multiplier</th>\n",
       "      <th>Date</th>\n",
       "      <th>win_num_1</th>\n",
       "      <th>win_num_2</th>\n",
       "      <th>win_num_3</th>\n",
       "      <th>win_num_4</th>\n",
       "      <th>win_num_5</th>\n",
       "      <th>win_num_6</th>\n",
       "      <th>Day of the week</th>\n",
       "      <th>Year</th>\n",
       "    </tr>\n",
       "  </thead>\n",
       "  <tbody>\n",
       "    <tr>\n",
       "      <th>0</th>\n",
       "      <td>09/26/2020</td>\n",
       "      <td>11 21 27 36 62 24</td>\n",
       "      <td>3.0</td>\n",
       "      <td>2020-09-26</td>\n",
       "      <td>11</td>\n",
       "      <td>21</td>\n",
       "      <td>27</td>\n",
       "      <td>36</td>\n",
       "      <td>62</td>\n",
       "      <td>24</td>\n",
       "      <td>Saturday</td>\n",
       "      <td>2020</td>\n",
       "    </tr>\n",
       "    <tr>\n",
       "      <th>1</th>\n",
       "      <td>09/30/2020</td>\n",
       "      <td>14 18 36 49 67 18</td>\n",
       "      <td>2.0</td>\n",
       "      <td>2020-09-30</td>\n",
       "      <td>14</td>\n",
       "      <td>18</td>\n",
       "      <td>36</td>\n",
       "      <td>49</td>\n",
       "      <td>67</td>\n",
       "      <td>18</td>\n",
       "      <td>Wednesday</td>\n",
       "      <td>2020</td>\n",
       "    </tr>\n",
       "    <tr>\n",
       "      <th>2</th>\n",
       "      <td>10/03/2020</td>\n",
       "      <td>18 31 36 43 47 20</td>\n",
       "      <td>2.0</td>\n",
       "      <td>2020-10-03</td>\n",
       "      <td>18</td>\n",
       "      <td>31</td>\n",
       "      <td>36</td>\n",
       "      <td>43</td>\n",
       "      <td>47</td>\n",
       "      <td>20</td>\n",
       "      <td>Saturday</td>\n",
       "      <td>2020</td>\n",
       "    </tr>\n",
       "    <tr>\n",
       "      <th>3</th>\n",
       "      <td>10/07/2020</td>\n",
       "      <td>06 24 30 53 56 19</td>\n",
       "      <td>2.0</td>\n",
       "      <td>2020-10-07</td>\n",
       "      <td>6</td>\n",
       "      <td>24</td>\n",
       "      <td>30</td>\n",
       "      <td>53</td>\n",
       "      <td>56</td>\n",
       "      <td>19</td>\n",
       "      <td>Wednesday</td>\n",
       "      <td>2020</td>\n",
       "    </tr>\n",
       "    <tr>\n",
       "      <th>4</th>\n",
       "      <td>10/10/2020</td>\n",
       "      <td>05 18 23 40 50 18</td>\n",
       "      <td>3.0</td>\n",
       "      <td>2020-10-10</td>\n",
       "      <td>5</td>\n",
       "      <td>18</td>\n",
       "      <td>23</td>\n",
       "      <td>40</td>\n",
       "      <td>50</td>\n",
       "      <td>18</td>\n",
       "      <td>Saturday</td>\n",
       "      <td>2020</td>\n",
       "    </tr>\n",
       "  </tbody>\n",
       "</table>\n",
       "</div>"
      ],
      "text/plain": [
       "    Draw Date    Winning Numbers  Multiplier       Date  win_num_1  win_num_2  \\\n",
       "0  09/26/2020  11 21 27 36 62 24         3.0 2020-09-26         11         21   \n",
       "1  09/30/2020  14 18 36 49 67 18         2.0 2020-09-30         14         18   \n",
       "2  10/03/2020  18 31 36 43 47 20         2.0 2020-10-03         18         31   \n",
       "3  10/07/2020  06 24 30 53 56 19         2.0 2020-10-07          6         24   \n",
       "4  10/10/2020  05 18 23 40 50 18         3.0 2020-10-10          5         18   \n",
       "\n",
       "   win_num_3  win_num_4  win_num_5  win_num_6 Day of the week  Year  \n",
       "0         27         36         62         24        Saturday  2020  \n",
       "1         36         49         67         18       Wednesday  2020  \n",
       "2         36         43         47         20        Saturday  2020  \n",
       "3         30         53         56         19       Wednesday  2020  \n",
       "4         23         40         50         18        Saturday  2020  "
      ]
     },
     "execution_count": 17,
     "metadata": {},
     "output_type": "execute_result"
    }
   ],
   "source": [
    "df.head()"
   ]
  },
  {
   "cell_type": "code",
   "execution_count": 18,
   "id": "96869f0c-a94d-4aa6-af5f-449792e46193",
   "metadata": {},
   "outputs": [
    {
     "data": {
      "text/plain": [
       "array([2020, 2021, 2019, 2018, 2017, 2016, 2015, 2014, 2013, 2012, 2011,\n",
       "       2010, 2022, 2023, 2024, 2025])"
      ]
     },
     "execution_count": 18,
     "metadata": {},
     "output_type": "execute_result"
    }
   ],
   "source": [
    "#get the years covered in the dataset\n",
    "df['Year'].unique()"
   ]
  },
  {
   "cell_type": "code",
   "execution_count": 19,
   "id": "3ed2b139-d5f7-4b60-ac0f-71196e06bb57",
   "metadata": {},
   "outputs": [
    {
     "data": {
      "text/plain": [
       "array(['Saturday', 'Wednesday', 'Monday'], dtype=object)"
      ]
     },
     "execution_count": 19,
     "metadata": {},
     "output_type": "execute_result"
    }
   ],
   "source": [
    "#get the days of the week covered in the dataframe\n",
    "df['Day of the week'].unique()"
   ]
  },
  {
   "cell_type": "code",
   "execution_count": 20,
   "id": "c44a90b3-20a5-4748-b43a-edfcf0d62955",
   "metadata": {},
   "outputs": [
    {
     "name": "stdout",
     "output_type": "stream",
     "text": [
      "The most frequent 1st winning number is  1 .\n",
      "The most frequent 2nd winning number is  12 .\n",
      "The most frequent 3rd winning number is  33 .\n",
      "The most frequent 4th winning number is  53 .\n",
      "The most frequent 5th winning number is  69 .\n",
      "The most frequent 6th winning number is  24 .\n"
     ]
    }
   ],
   "source": [
    "#get mode of each winning number\n",
    "print('The most frequent 1st winning number is ', statistics.mode(df['win_num_1']), '.')\n",
    "print('The most frequent 2nd winning number is ', statistics.mode(df['win_num_2']), '.')\n",
    "print('The most frequent 3rd winning number is ', statistics.mode(df['win_num_3']), '.')\n",
    "print('The most frequent 4th winning number is ', statistics.mode(df['win_num_4']), '.')\n",
    "print('The most frequent 5th winning number is ', statistics.mode(df['win_num_5']), '.')\n",
    "print('The most frequent 6th winning number is ', statistics.mode(df['win_num_6']), '.')"
   ]
  },
  {
   "cell_type": "code",
   "execution_count": 21,
   "id": "a9b9b2f0-72d2-4c07-84fd-abb9c062d83e",
   "metadata": {},
   "outputs": [
    {
     "name": "stdout",
     "output_type": "stream",
     "text": [
      "<class 'pandas.core.frame.DataFrame'>\n",
      "RangeIndex: 1748 entries, 0 to 1747\n",
      "Data columns (total 12 columns):\n",
      " #   Column           Non-Null Count  Dtype         \n",
      "---  ------           --------------  -----         \n",
      " 0   Draw Date        1748 non-null   object        \n",
      " 1   Winning Numbers  1748 non-null   object        \n",
      " 2   Multiplier       1538 non-null   float64       \n",
      " 3   Date             1748 non-null   datetime64[ns]\n",
      " 4   win_num_1        1748 non-null   int64         \n",
      " 5   win_num_2        1748 non-null   int64         \n",
      " 6   win_num_3        1748 non-null   int64         \n",
      " 7   win_num_4        1748 non-null   int64         \n",
      " 8   win_num_5        1748 non-null   int64         \n",
      " 9   win_num_6        1748 non-null   int64         \n",
      " 10  Day of the week  1748 non-null   object        \n",
      " 11  Year             1748 non-null   int32         \n",
      "dtypes: datetime64[ns](1), float64(1), int32(1), int64(6), object(3)\n",
      "memory usage: 157.2+ KB\n"
     ]
    }
   ],
   "source": [
    "df.info()"
   ]
  },
  {
   "cell_type": "code",
   "execution_count": 27,
   "id": "f4cd0bb6-45c0-43c8-bffc-9f8d475789ad",
   "metadata": {},
   "outputs": [],
   "source": [
    "df2010=df[df['Year']==2010].reset_index(drop=True)"
   ]
  },
  {
   "cell_type": "code",
   "execution_count": 28,
   "id": "1531529c-0460-48ae-8739-3a686acfb49c",
   "metadata": {},
   "outputs": [
    {
     "name": "stdout",
     "output_type": "stream",
     "text": [
      "<class 'pandas.core.frame.DataFrame'>\n",
      "RangeIndex: 95 entries, 0 to 94\n",
      "Data columns (total 12 columns):\n",
      " #   Column           Non-Null Count  Dtype         \n",
      "---  ------           --------------  -----         \n",
      " 0   Draw Date        95 non-null     object        \n",
      " 1   Winning Numbers  95 non-null     object        \n",
      " 2   Multiplier       95 non-null     float64       \n",
      " 3   Date             95 non-null     datetime64[ns]\n",
      " 4   win_num_1        95 non-null     int64         \n",
      " 5   win_num_2        95 non-null     int64         \n",
      " 6   win_num_3        95 non-null     int64         \n",
      " 7   win_num_4        95 non-null     int64         \n",
      " 8   win_num_5        95 non-null     int64         \n",
      " 9   win_num_6        95 non-null     int64         \n",
      " 10  Day of the week  95 non-null     object        \n",
      " 11  Year             95 non-null     int32         \n",
      "dtypes: datetime64[ns](1), float64(1), int32(1), int64(6), object(3)\n",
      "memory usage: 8.7+ KB\n"
     ]
    }
   ],
   "source": [
    "df2010.info()"
   ]
  },
  {
   "cell_type": "code",
   "execution_count": 30,
   "id": "63e4a696-a2b4-41d9-9b12-2a694c947928",
   "metadata": {},
   "outputs": [],
   "source": [
    "df2024=df[df['Year']==2024].reset_index(drop=True)"
   ]
  },
  {
   "cell_type": "code",
   "execution_count": 31,
   "id": "bf390e6d-cd8c-4470-8ead-14facff9b8c2",
   "metadata": {},
   "outputs": [
    {
     "name": "stdout",
     "output_type": "stream",
     "text": [
      "<class 'pandas.core.frame.DataFrame'>\n",
      "RangeIndex: 157 entries, 0 to 156\n",
      "Data columns (total 12 columns):\n",
      " #   Column           Non-Null Count  Dtype         \n",
      "---  ------           --------------  -----         \n",
      " 0   Draw Date        157 non-null    object        \n",
      " 1   Winning Numbers  157 non-null    object        \n",
      " 2   Multiplier       157 non-null    float64       \n",
      " 3   Date             157 non-null    datetime64[ns]\n",
      " 4   win_num_1        157 non-null    int64         \n",
      " 5   win_num_2        157 non-null    int64         \n",
      " 6   win_num_3        157 non-null    int64         \n",
      " 7   win_num_4        157 non-null    int64         \n",
      " 8   win_num_5        157 non-null    int64         \n",
      " 9   win_num_6        157 non-null    int64         \n",
      " 10  Day of the week  157 non-null    object        \n",
      " 11  Year             157 non-null    int32         \n",
      "dtypes: datetime64[ns](1), float64(1), int32(1), int64(6), object(3)\n",
      "memory usage: 14.2+ KB\n"
     ]
    }
   ],
   "source": [
    "df2024.info()"
   ]
  },
  {
   "cell_type": "code",
   "execution_count": 39,
   "id": "709f46a0-28ab-4ce5-b75d-6c45cb6cedad",
   "metadata": {},
   "outputs": [
    {
     "data": {
      "text/plain": [
       "<matplotlib.collections.PathCollection at 0x1b3d1db1cd0>"
      ]
     },
     "execution_count": 39,
     "metadata": {},
     "output_type": "execute_result"
    },
    {
     "data": {
      "text/plain": [
       "Text(0.5, 1.0, 'First Winning Number for Every Draw in 2024')"
      ]
     },
     "execution_count": 39,
     "metadata": {},
     "output_type": "execute_result"
    },
    {
     "data": {
      "image/png": "[encoded data removed]",
      "text/plain": [
       "<Figure size 640x480 with 1 Axes>"
      ]
     },
     "metadata": {},
     "output_type": "display_data"
    }
   ],
   "source": [
    "plt.scatter(df2024['Date'],df2024['win_num_1'])\n",
    "plt.title('First Winning Number for Every Draw in 2024')\n",
    "plt.show()"
   ]
  },
  {
   "cell_type": "code",
   "execution_count": null,
   "id": "d14aa6dd-eefe-480b-8747-b46577381440",
   "metadata": {},
   "outputs": [],
   "source": []
  }
 ],
 "metadata": {
  "kernelspec": {
   "display_name": "Python 3 (ipykernel)",
   "language": "python",
   "name": "python3"
  },
  "language_info": {
   "codemirror_mode": {
    "name": "ipython",
    "version": 3
   },
   "file_extension": ".py",
   "mimetype": "text/x-python",
   "name": "python",
   "nbconvert_exporter": "python",
   "pygments_lexer": "ipython3",
   "version": "3.12.7"
  }
 },
 "nbformat": 4,
 "nbformat_minor": 5
}
